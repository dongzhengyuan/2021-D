{
 "cells": [
  {
   "cell_type": "markdown",
   "metadata": {},
   "source": [
    "### CNN实现手写数字识别"
   ]
  },
  {
   "cell_type": "code",
   "execution_count": 2,
   "metadata": {
    "ExecuteTime": {
     "end_time": "2022-03-12T11:29:39.724370Z",
     "start_time": "2022-03-12T11:29:38.722290Z"
    }
   },
   "outputs": [],
   "source": [
    "#数据集处理\n",
    "from keras.datasets import mnist\n",
    "from keras.utils import to_categorical\n",
    "\n",
    "(train_images, train_labels), (test_images, test_labels) = mnist.load_data()\n",
    "\n",
    "train_images = train_images.reshape((60000, 28, 28, 1))\n",
    "train_images = train_images.astype('float32') / 255\n",
    "\n",
    "test_images = test_images.reshape((10000, 28, 28, 1))\n",
    "test_images = test_images.astype('float32') / 255\n",
    "\n",
    "train_labels = to_categorical(train_labels)\n",
    "test_labels = to_categorical(test_labels)"
   ]
  },
  {
   "cell_type": "code",
   "execution_count": 4,
   "metadata": {
    "ExecuteTime": {
     "end_time": "2022-03-12T11:29:43.329462Z",
     "start_time": "2022-03-12T11:29:42.994483Z"
    }
   },
   "outputs": [],
   "source": [
    "from keras import layers\n",
    "from keras import models\n",
    "\n",
    "#搭建卷积神经网络\n",
    "model = models.Sequential()\n",
    "model.add(layers.Conv2D(32,(3,3),activation = 'relu',input_shape=(28,28,1)))\n",
    "model.add(layers.MaxPooling2D(2,2))\n",
    "model.add(layers.Conv2D(64,(3,3),activation = 'relu'))\n",
    "model.add(layers.MaxPooling2D(2,2))\n",
    "model.add(layers.Conv2D(64,(3,3),activation = 'relu'))\n",
    "\n",
    "#添加分类器\n",
    "model.add(layers.Flatten())\n",
    "model.add(layers.Dense(64,activation = 'relu'))\n",
    "model.add(layers.Dense(10,activation = 'softmax'))"
   ]
  },
  {
   "cell_type": "code",
   "execution_count": 5,
   "metadata": {
    "ExecuteTime": {
     "end_time": "2022-03-12T11:33:12.847250Z",
     "start_time": "2022-03-12T11:29:45.033096Z"
    }
   },
   "outputs": [
    {
     "name": "stdout",
     "output_type": "stream",
     "text": [
      "WARNING:tensorflow:From D:\\Anaconda3\\lib\\site-packages\\tensorflow\\python\\ops\\math_ops.py:3066: to_int32 (from tensorflow.python.ops.math_ops) is deprecated and will be removed in a future version.\n",
      "Instructions for updating:\n",
      "Use tf.cast instead.\n",
      "Epoch 1/5\n",
      "60000/60000 [==============================] - 42s 699us/step - loss: 0.1722 - accuracy: 0.9458\n",
      "Epoch 2/5\n",
      "60000/60000 [==============================] - 40s 670us/step - loss: 0.0458 - accuracy: 0.9855\n",
      "Epoch 3/5\n",
      "60000/60000 [==============================] - 41s 676us/step - loss: 0.0326 - accuracy: 0.9899\n",
      "Epoch 4/5\n",
      "60000/60000 [==============================] - 41s 684us/step - loss: 0.0246 - accuracy: 0.9924\n",
      "Epoch 5/5\n",
      "60000/60000 [==============================] - 42s 699us/step - loss: 0.0188 - accuracy: 0.9942\n"
     ]
    },
    {
     "data": {
      "text/plain": [
       "<keras.callbacks.callbacks.History at 0x279e9b89188>"
      ]
     },
     "execution_count": 5,
     "metadata": {},
     "output_type": "execute_result"
    }
   ],
   "source": [
    "model.compile(optimizer='rmsprop',loss='categorical_crossentropy',metrics=['accuracy'])\n",
    "model.fit(train_images, train_labels, epochs=5, batch_size=64)"
   ]
  },
  {
   "cell_type": "code",
   "execution_count": 6,
   "metadata": {
    "ExecuteTime": {
     "end_time": "2022-03-12T11:33:34.469496Z",
     "start_time": "2022-03-12T11:33:31.125664Z"
    }
   },
   "outputs": [
    {
     "name": "stdout",
     "output_type": "stream",
     "text": [
      "10000/10000 [==============================] - 3s 331us/step\n",
      "0.9918000102043152\n"
     ]
    }
   ],
   "source": [
    "test_loss, test_acc = model.evaluate(test_images, test_labels)\n",
    "print(test_acc)"
   ]
  },
  {
   "cell_type": "markdown",
   "metadata": {},
   "source": [
    "### 基准CNN模型和数据增强模型"
   ]
  },
  {
   "cell_type": "markdown",
   "metadata": {},
   "source": [
    "#### 基准模型"
   ]
  },
  {
   "cell_type": "code",
   "execution_count": 7,
   "metadata": {
    "ExecuteTime": {
     "end_time": "2022-03-12T11:33:37.563118Z",
     "start_time": "2022-03-12T11:33:37.552674Z"
    }
   },
   "outputs": [],
   "source": [
    "import os"
   ]
  },
  {
   "cell_type": "code",
   "execution_count": 8,
   "metadata": {
    "ExecuteTime": {
     "end_time": "2022-03-12T11:33:38.182059Z",
     "start_time": "2022-03-12T11:33:38.176815Z"
    }
   },
   "outputs": [],
   "source": [
    "base_dir = 'D:/2021-2022学年第一、二学期文件汇总/第二学期文件/深度学习与应用实践/数据集/cats_and_dogs_small'  #根目录"
   ]
  },
  {
   "cell_type": "code",
   "execution_count": 9,
   "metadata": {
    "ExecuteTime": {
     "end_time": "2022-03-12T11:33:39.063343Z",
     "start_time": "2022-03-12T11:33:39.044492Z"
    }
   },
   "outputs": [],
   "source": [
    "train_dir = os.path.join(base_dir, 'train')  #训练集根目录\n",
    "train_cats_dir = os.path.join(train_dir, 'cats')  #猫图像的训练集目录\n",
    "train_dogs_dir = os.path.join(train_dir, 'dogs')  #狗图像的训练集目录\n",
    "\n",
    "validation_dir = os.path.join(base_dir, 'validation')  #验证集根目录\n",
    "validation_cats_dir = os.path.join(validation_dir, 'cats')  #猫图像的验证集目录\n",
    "validation_dogs_dir = os.path.join(validation_dir, 'dogs')  #狗图像的验证集目录\n",
    "\n",
    "test_dir = os.path.join(base_dir, 'test')  #测试集根目录\n",
    "test_cats_dir = os.path.join(test_dir, 'cats')  #猫图像的测试集目录\n",
    "test_dogs_dir = os.path.join(test_dir, 'dogs')  #狗图像的测试集目录"
   ]
  },
  {
   "cell_type": "code",
   "execution_count": 10,
   "metadata": {
    "ExecuteTime": {
     "end_time": "2022-03-12T11:33:40.842872Z",
     "start_time": "2022-03-12T11:33:40.815108Z"
    }
   },
   "outputs": [
    {
     "name": "stdout",
     "output_type": "stream",
     "text": [
      "total training cat images: 1000\n",
      "total training dog images: 1000\n",
      "total validation cat images: 500\n",
      "total validation dog images: 500\n",
      "total test cat images: 500\n",
      "total test dog images: 500\n"
     ]
    }
   ],
   "source": [
    "print('total training cat images:', len(os.listdir(train_cats_dir)))\n",
    "print('total training dog images:', len(os.listdir(train_dogs_dir)))\n",
    "print('total validation cat images:', len(os.listdir(validation_cats_dir)))\n",
    "print('total validation dog images:', len(os.listdir(validation_dogs_dir)))\n",
    "print('total test cat images:', len(os.listdir(test_cats_dir)))\n",
    "print('total test dog images:', len(os.listdir(test_dogs_dir)))"
   ]
  },
  {
   "cell_type": "code",
   "execution_count": 11,
   "metadata": {
    "ExecuteTime": {
     "end_time": "2022-03-12T11:33:43.409930Z",
     "start_time": "2022-03-12T11:33:42.787155Z"
    }
   },
   "outputs": [
    {
     "name": "stdout",
     "output_type": "stream",
     "text": [
      "Found 2000 images belonging to 2 classes.\n",
      "Found 1000 images belonging to 2 classes.\n"
     ]
    }
   ],
   "source": [
    "#图片预处理\n",
    "from keras.preprocessing.image import ImageDataGenerator\n",
    "\n",
    "#将所有图像的像素乘以 1/255 缩放\n",
    "train_datagen = ImageDataGenerator(rescale=1./255)  #设置训练集缩放方式\n",
    "validation_datagen = ImageDataGenerator(rescale=1./255)  #设置验证集缩放方式\n",
    "\n",
    "train_generator = train_datagen.flow_from_directory(  #训练集生成器\n",
    "        train_dir,   #图片文件夹\n",
    "        target_size=(150, 150),  #图像调整为150*150\n",
    "        batch_size=20,    #每批20个图像\n",
    "        class_mode='binary')  #因为使用了binary_crossentropy损失，所以需要用二进制标签）\n",
    "\n",
    "validation_generator = validation_datagen.flow_from_directory(\n",
    "        validation_dir,\n",
    "        target_size=(150, 150),\n",
    "        batch_size=20,\n",
    "        class_mode='binary')"
   ]
  },
  {
   "cell_type": "code",
   "execution_count": 12,
   "metadata": {
    "ExecuteTime": {
     "end_time": "2022-03-12T11:33:45.828872Z",
     "start_time": "2022-03-12T11:33:45.503440Z"
    }
   },
   "outputs": [],
   "source": [
    "from keras import layers\n",
    "from keras import models\n",
    "\n",
    "#构建模型\n",
    "model = models.Sequential()\n",
    "model.add(layers.Conv2D(32,(3,3),activation='relu',input_shape=(150, 150, 3)))\n",
    "model.add(layers.MaxPooling2D((2,2)))\n",
    "model.add(layers.Conv2D(64, (3,3),activation='relu'))\n",
    "model.add(layers.MaxPooling2D((2,2)))\n",
    "model.add(layers.Conv2D(128,(3,3),activation='relu'))\n",
    "model.add(layers.MaxPooling2D((2,2)))\n",
    "model.add(layers.Conv2D(128,(3,3),activation='relu'))\n",
    "model.add(layers.MaxPooling2D((2,2)))\n",
    "\n",
    "model.add(layers.Flatten())\n",
    "model.add(layers.Dense(512, activation='relu'))\n",
    "model.add(layers.Dense(1, activation='sigmoid'))"
   ]
  },
  {
   "cell_type": "code",
   "execution_count": 13,
   "metadata": {
    "ExecuteTime": {
     "end_time": "2022-03-12T11:33:46.709562Z",
     "start_time": "2022-03-12T11:33:46.577572Z"
    }
   },
   "outputs": [],
   "source": [
    "from keras import optimizers\n",
    "\n",
    "model.compile(loss='binary_crossentropy',optimizer=optimizers.RMSprop(lr=1e-4),metrics=['acc'])"
   ]
  },
  {
   "cell_type": "code",
   "execution_count": 14,
   "metadata": {
    "ExecuteTime": {
     "end_time": "2022-03-12T12:01:13.388888Z",
     "start_time": "2022-03-12T11:33:51.358423Z"
    }
   },
   "outputs": [
    {
     "name": "stdout",
     "output_type": "stream",
     "text": [
      "Epoch 1/20\n",
      "100/100 [==============================] - 91s 912ms/step - loss: 0.6831 - acc: 0.5575 - val_loss: 0.7081 - val_acc: 0.6260\n",
      "Epoch 2/20\n",
      "100/100 [==============================] - 87s 866ms/step - loss: 0.6456 - acc: 0.6435 - val_loss: 0.7247 - val_acc: 0.6260\n",
      "Epoch 3/20\n",
      "100/100 [==============================] - 87s 871ms/step - loss: 0.5919 - acc: 0.6855 - val_loss: 0.5992 - val_acc: 0.6480\n",
      "Epoch 4/20\n",
      "100/100 [==============================] - 87s 870ms/step - loss: 0.5543 - acc: 0.7190 - val_loss: 0.5727 - val_acc: 0.6440\n",
      "Epoch 5/20\n",
      "100/100 [==============================] - 86s 863ms/step - loss: 0.5338 - acc: 0.7335 - val_loss: 0.5831 - val_acc: 0.6800\n",
      "Epoch 6/20\n",
      "100/100 [==============================] - 85s 853ms/step - loss: 0.4998 - acc: 0.7510 - val_loss: 0.5238 - val_acc: 0.7000\n",
      "Epoch 7/20\n",
      "100/100 [==============================] - 86s 857ms/step - loss: 0.4835 - acc: 0.7520 - val_loss: 0.6623 - val_acc: 0.7040\n",
      "Epoch 8/20\n",
      "100/100 [==============================] - 86s 860ms/step - loss: 0.4509 - acc: 0.7895 - val_loss: 0.5910 - val_acc: 0.6980\n",
      "Epoch 9/20\n",
      "100/100 [==============================] - 86s 863ms/step - loss: 0.4287 - acc: 0.7950 - val_loss: 0.5652 - val_acc: 0.6970\n",
      "Epoch 10/20\n",
      "100/100 [==============================] - 86s 861ms/step - loss: 0.4057 - acc: 0.8175 - val_loss: 0.6421 - val_acc: 0.7140\n",
      "Epoch 11/20\n",
      "100/100 [==============================] - 86s 855ms/step - loss: 0.3759 - acc: 0.8320 - val_loss: 0.9725 - val_acc: 0.7000\n",
      "Epoch 12/20\n",
      "100/100 [==============================] - 85s 853ms/step - loss: 0.3606 - acc: 0.8390 - val_loss: 0.3675 - val_acc: 0.7280\n",
      "Epoch 13/20\n",
      "100/100 [==============================] - 86s 855ms/step - loss: 0.3330 - acc: 0.8540 - val_loss: 0.5994 - val_acc: 0.7310\n",
      "Epoch 14/20\n",
      "100/100 [==============================] - 86s 864ms/step - loss: 0.3119 - acc: 0.8725 - val_loss: 0.4552 - val_acc: 0.7190\n",
      "Epoch 15/20\n",
      "100/100 [==============================] - 86s 863ms/step - loss: 0.2851 - acc: 0.8845 - val_loss: 0.3752 - val_acc: 0.7330\n",
      "Epoch 16/20\n",
      "100/100 [==============================] - 86s 865ms/step - loss: 0.2639 - acc: 0.8945 - val_loss: 1.1833 - val_acc: 0.7200\n",
      "Epoch 17/20\n",
      "100/100 [==============================] - 86s 858ms/step - loss: 0.2492 - acc: 0.9040 - val_loss: 0.7061 - val_acc: 0.7170\n",
      "Epoch 18/20\n",
      "100/100 [==============================] - 68s 685ms/step - loss: 0.2270 - acc: 0.9070 - val_loss: 0.5162 - val_acc: 0.7360\n",
      "Epoch 19/20\n",
      "100/100 [==============================] - 52s 519ms/step - loss: 0.2072 - acc: 0.9230 - val_loss: 0.7737 - val_acc: 0.7250\n",
      "Epoch 20/20\n",
      "100/100 [==============================] - 51s 510ms/step - loss: 0.1843 - acc: 0.9365 - val_loss: 1.1576 - val_acc: 0.7280\n"
     ]
    }
   ],
   "source": [
    "#训练模型\n",
    "history = model.fit_generator(\n",
    "      train_generator,      #训练集数据来源\n",
    "      steps_per_epoch=100,  #训练集数据抽取次数=2000/20\n",
    "      epochs=20,            #训练轮次\n",
    "      validation_data=validation_generator,  #验证集数据来源\n",
    "      validation_steps=50)  #验证集数据抽取次数=1000/20"
   ]
  },
  {
   "cell_type": "code",
   "execution_count": 15,
   "metadata": {
    "ExecuteTime": {
     "end_time": "2022-03-12T12:01:22.764562Z",
     "start_time": "2022-03-12T12:01:20.506845Z"
    }
   },
   "outputs": [
    {
     "data": {
      "image/png": "[encoded data removed]",
      "text/plain": [
       "<Figure size 432x288 with 1 Axes>"
      ]
     },
     "metadata": {
      "needs_background": "light"
     },
     "output_type": "display_data"
    },
    {
     "data": {
      "image/png": "[encoded data removed]",
      "text/plain": [
       "<Figure size 432x288 with 1 Axes>"
      ]
     },
     "metadata": {
      "needs_background": "light"
     },
     "output_type": "display_data"
    }
   ],
   "source": [
    "import matplotlib.pyplot as plt\n",
    "\n",
    "acc = history.history['acc']\n",
    "val_acc = history.history['val_acc']\n",
    "loss = history.history['loss']\n",
    "val_loss = history.history['val_loss']\n",
    "\n",
    "epochs = range(len(acc))\n",
    "\n",
    "plt.plot(epochs, acc, 'bo', label='Training acc')\n",
    "plt.plot(epochs, val_acc, 'b', label='Validation acc')\n",
    "plt.title('Training and validation accuracy')\n",
    "plt.legend()\n",
    "\n",
    "plt.figure()\n",
    "\n",
    "plt.plot(epochs, loss, 'bo', label='Training loss')\n",
    "plt.plot(epochs, val_loss, 'b', label='Validation loss')\n",
    "plt.title('Training and validation loss')\n",
    "plt.legend()\n",
    "\n",
    "plt.show()"
   ]
  },
  {
   "cell_type": "markdown",
   "metadata": {},
   "source": [
    "#### 数据增强"
   ]
  },
  {
   "cell_type": "code",
   "execution_count": null,
   "metadata": {},
   "outputs": [],
   "source": [
    "#构建模型\n",
    "model = models.Sequential()\n",
    "model.add(layers.Conv2D(32,(3,3),activation='relu',input_shape=(150, 150, 3)))\n",
    "model.add(layers.MaxPooling2D((2,2)))\n",
    "model.add(layers.Conv2D(64, (3,3),activation='relu'))\n",
    "model.add(layers.MaxPooling2D((2,2)))\n",
    "model.add(layers.Conv2D(128,(3,3),activation='relu'))\n",
    "model.add(layers.MaxPooling2D((2,2)))\n",
    "model.add(layers.Conv2D(128,(3,3),activation='relu'))\n",
    "model.add(layers.MaxPooling2D((2,2)))\n",
    "\n",
    "model.add(layers.Flatten())\n",
    "model.add(layers.Dropout(0.5))  #增加Dropout层\n",
    "model.add(layers.Dense(512, activation='relu'))\n",
    "model.add(layers.Dense(1, activation='sigmoid'))\n",
    "\n",
    "#编译模型\n",
    "model.compile(loss='binary_crossentropy',optimizer=optimizers.RMSprop(lr=1e-4),metrics=['acc'])"
   ]
  },
  {
   "cell_type": "code",
   "execution_count": null,
   "metadata": {},
   "outputs": [],
   "source": [
    "#数据增强生成器，随机变换产生增强图像，只能对训练集增强\n",
    "train_datagen = ImageDataGenerator(\n",
    "    rescale=1./255,         #数值缩放因子为 1./255\n",
    "    rotation_range=40,      #图像随机旋转的角度范围 (0-180)\n",
    "    width_shift_range=0.2,  #图像在水平方向上平移的范围(相对于总宽度的比例）\n",
    "    height_shift_range=0.2, #图像在垂直方向上平移的范围(相对于总高度的比例）\n",
    "    shear_range=0.2,        #图像随机错切变换的角度\n",
    "    zoom_range=0.2,         #图像随机缩放的范围\n",
    "    horizontal_flip=True,  #随机将一半图像水平翻转\n",
    "    fill_mode='nearest')    #用于填充新创建像素的方法\n",
    "\n",
    "validation_datagen = ImageDataGenerator(rescale=1./255)\n",
    "\n",
    "train_generator = train_datagen.flow_from_directory(\n",
    "        train_dir,\n",
    "        target_size=(150, 150),\n",
    "        batch_size=32,  #每批32个图像\n",
    "        class_mode='binary')\n",
    "\n",
    "validation_generator = validation_datagen.flow_from_directory(\n",
    "        validation_dir,\n",
    "        target_size=(150, 150),\n",
    "        batch_size=32,\n",
    "        class_mode='binary')"
   ]
  },
  {
   "cell_type": "code",
   "execution_count": null,
   "metadata": {},
   "outputs": [],
   "source": [
    "#训练模型\n",
    "history = model.fit_generator(\n",
    "      train_generator,\n",
    "      steps_per_epoch=100,\n",
    "      epochs=100,\n",
    "      validation_data=validation_generator,\n",
    "      validation_steps=50)"
   ]
  },
  {
   "cell_type": "code",
   "execution_count": null,
   "metadata": {},
   "outputs": [],
   "source": [
    "acc = history.history['acc']\n",
    "val_acc = history.history['val_acc']\n",
    "loss = history.history['loss']\n",
    "val_loss = history.history['val_loss']\n",
    "\n",
    "epochs = range(len(acc))\n",
    "\n",
    "plt.plot(epochs, acc, 'bo', label='Training acc')\n",
    "plt.plot(epochs, val_acc, 'b', label='Validation acc')\n",
    "plt.title('Training and validation accuracy')\n",
    "plt.legend()\n",
    "\n",
    "plt.figure()\n",
    "\n",
    "plt.plot(epochs, loss, 'bo', label='Training loss')\n",
    "plt.plot(epochs, val_loss, 'b', label='Validation loss')\n",
    "plt.title('Training and validation loss')\n",
    "plt.legend()\n",
    "\n",
    "plt.show()"
   ]
  },
  {
   "cell_type": "markdown",
   "metadata": {},
   "source": [
    "### 作业:  CNN模型训练 CIFAR10 图像集"
   ]
  },
  {
   "cell_type": "code",
   "execution_count": 30,
   "metadata": {
    "ExecuteTime": {
     "end_time": "2022-03-12T12:43:33.971867Z",
     "start_time": "2022-03-12T12:43:33.784274Z"
    }
   },
   "outputs": [],
   "source": [
    "from keras.datasets import cifar10\n",
    "(x_train , y_train), (x_test , y_test) = cifar10.load_data()"
   ]
  },
  {
   "cell_type": "code",
   "execution_count": 32,
   "metadata": {
    "ExecuteTime": {
     "end_time": "2022-03-12T12:43:58.293109Z",
     "start_time": "2022-03-12T12:43:57.831197Z"
    }
   },
   "outputs": [],
   "source": [
    "#数据集预处理\n",
    "from keras.utils import to_categorical\n",
    "x_train = x_train / 255\n",
    "x_test = x_test / 255\n",
    "\n",
    "y_train = to_categorical(y_train)\n",
    "y_test = to_categorical(y_test)"
   ]
  },
  {
   "cell_type": "code",
   "execution_count": 34,
   "metadata": {
    "ExecuteTime": {
     "end_time": "2022-03-12T12:44:10.660706Z",
     "start_time": "2022-03-12T12:44:10.465588Z"
    }
   },
   "outputs": [],
   "source": [
    "from keras import layers\n",
    "from keras import models\n",
    "\n",
    "#搭建卷积神经网络\n",
    "model = models.Sequential()\n",
    "model.add(layers.Conv2D(32,(3,3),activation = 'relu',input_shape=(32,32,3)))\n",
    "model.add(layers.Conv2D(64,(3,3),activation = 'relu'))\n",
    "model.add(layers.MaxPooling2D(2,2))\n",
    "model.add(layers.Dropout(0.5))\n",
    "\n",
    "model.add(layers.Conv2D(64,(3,3),activation = 'relu'))\n",
    "model.add(layers.Conv2D(128,(3,3),activation = 'relu'))\n",
    "model.add(layers.MaxPooling2D(2,2))\n",
    "model.add(layers.Dropout(0.5))\n",
    "\n",
    "#添加分类器\n",
    "model.add(layers.Flatten())\n",
    "model.add(layers.Dense(512,activation = 'relu'))\n",
    "model.add(layers.Dropout(0.5))\n",
    "model.add(layers.Dense(10,activation = 'softmax'))"
   ]
  },
  {
   "cell_type": "code",
   "execution_count": 35,
   "metadata": {
    "ExecuteTime": {
     "end_time": "2022-03-12T12:57:07.977270Z",
     "start_time": "2022-03-12T12:46:01.023451Z"
    }
   },
   "outputs": [
    {
     "name": "stdout",
     "output_type": "stream",
     "text": [
      "Epoch 1/5\n",
      "50000/50000 [==============================] - 132s 3ms/step - loss: 1.6115 - accuracy: 0.4004\n",
      "Epoch 2/5\n",
      "50000/50000 [==============================] - 131s 3ms/step - loss: 1.2219 - accuracy: 0.5614\n",
      "Epoch 3/5\n",
      "50000/50000 [==============================] - 133s 3ms/step - loss: 1.0717 - accuracy: 0.6205\n",
      "Epoch 4/5\n",
      "50000/50000 [==============================] - 136s 3ms/step - loss: 0.9705 - accuracy: 0.6578\n",
      "Epoch 5/5\n",
      "50000/50000 [==============================] - 133s 3ms/step - loss: 0.9041 - accuracy: 0.6833\n"
     ]
    },
    {
     "data": {
      "text/plain": [
       "<keras.callbacks.callbacks.History at 0x2798e44b748>"
      ]
     },
     "execution_count": 35,
     "metadata": {},
     "output_type": "execute_result"
    }
   ],
   "source": [
    "model.compile(optimizer='adam',loss='categorical_crossentropy',metrics=['accuracy'])\n",
    "model.fit(x_train, y_train, epochs=5, batch_size=64)"
   ]
  },
  {
   "cell_type": "code",
   "execution_count": 36,
   "metadata": {
    "ExecuteTime": {
     "end_time": "2022-03-12T12:57:21.342450Z",
     "start_time": "2022-03-12T12:57:13.463690Z"
    }
   },
   "outputs": [
    {
     "name": "stdout",
     "output_type": "stream",
     "text": [
      "10000/10000 [==============================] - 8s 782us/step\n",
      "0.6970000267028809\n"
     ]
    }
   ],
   "source": [
    "test_loss, test_acc = model.evaluate(x_test, y_test)\n",
    "print(test_acc)"
   ]
  }
 ],
 "metadata": {
  "kernelspec": {
   "display_name": "Python 3",
   "language": "python",
   "name": "python3"
  },
  "language_info": {
   "codemirror_mode": {
    "name": "ipython",
    "version": 3
   },
   "file_extension": ".py",
   "mimetype": "text/x-python",
   "name": "python",
   "nbconvert_exporter": "python",
   "pygments_lexer": "ipython3",
   "version": "3.7.0"
  }
 },
 "nbformat": 4,
 "nbformat_minor": 5
}
