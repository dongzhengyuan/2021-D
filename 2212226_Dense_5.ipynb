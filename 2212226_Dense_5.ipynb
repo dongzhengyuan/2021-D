{
 "cells": [
  {
   "cell_type": "code",
   "execution_count": 1,
   "metadata": {},
   "outputs": [
    {
     "name": "stderr",
     "output_type": "stream",
     "text": [
      "Using TensorFlow backend.\n"
     ]
    },
    {
     "data": {
      "text/plain": [
       "'2.3.1'"
      ]
     },
     "execution_count": 1,
     "metadata": {},
     "output_type": "execute_result"
    }
   ],
   "source": [
    "import keras\n",
    "keras.__version__"
   ]
  },
  {
   "cell_type": "markdown",
   "metadata": {},
   "source": [
    "### 一、使用词嵌入进行电影评论分类"
   ]
  },
  {
   "cell_type": "markdown",
   "metadata": {},
   "source": [
    "#### 1.利用 Embedding 层学习词嵌入"
   ]
  },
  {
   "cell_type": "code",
   "execution_count": 2,
   "metadata": {},
   "outputs": [
    {
     "name": "stdout",
     "output_type": "stream",
     "text": [
      "[1, 14, 22, 16, 43, 530, 973, 1622, 1385, 65, 458, 4468, 66, 3941, 4, 173, 36, 256, 5, 25, 100, 43, 838, 112, 50, 670, 2, 9, 35, 480, 284, 5, 150, 4, 172, 112, 167, 2, 336, 385, 39, 4, 172, 4536, 1111, 17, 546, 38, 13, 447, 4, 192, 50, 16, 6, 147, 2025, 19, 14, 22, 4, 1920, 4613, 469, 4, 22, 71, 87, 12, 16, 43, 530, 38, 76, 15, 13, 1247, 4, 22, 17, 515, 17, 12, 16, 626, 18, 2, 5, 62, 386, 12, 8, 316, 8, 106, 5, 4, 2223, 5244, 16, 480, 66, 3785, 33, 4, 130, 12, 16, 38, 619, 5, 25, 124, 51, 36, 135, 48, 25, 1415, 33, 6, 22, 12, 215, 28, 77, 52, 5, 14, 407, 16, 82, 2, 8, 4, 107, 117, 5952, 15, 256, 4, 2, 7, 3766, 5, 723, 36, 71, 43, 530, 476, 26, 400, 317, 46, 7, 4, 2, 1029, 13, 104, 88, 4, 381, 15, 297, 98, 32, 2071, 56, 26, 141, 6, 194, 7486, 18, 4, 226, 22, 21, 134, 476, 26, 480, 5, 144, 30, 5535, 18, 51, 36, 28, 224, 92, 25, 104, 4, 226, 65, 16, 38, 1334, 88, 12, 16, 283, 5, 16, 4472, 113, 103, 32, 15, 16, 5345, 19, 178, 32]\n",
      "[  65   16   38 1334   88   12   16  283    5   16 4472  113  103   32\n",
      "   15   16 5345   19  178   32]\n"
     ]
    }
   ],
   "source": [
    "from keras.datasets import imdb\n",
    "from keras.preprocessing import sequence\n",
    "\n",
    "max_features = 10000  #最大特征数,即该训练集最常见的前10000个单词\n",
    "maxlen = 20  #每条评论最大长度为20，超过将被截断\n",
    "\n",
    "#将数据加载为整数列表\n",
    "(x_train, y_train), (x_test, y_test) = imdb.load_data(num_words=max_features)\n",
    "print(x_train[0])\n",
    "\n",
    "#整数列表填充处理:即超长截断、不足则前补0，默认从尾部截取，得到等长二维整数张量(samples,maxlen)\n",
    "x_train = sequence.pad_sequences(x_train, maxlen=maxlen)\n",
    "x_test = sequence.pad_sequences(x_test, maxlen=maxlen)\n",
    "print(x_train[0])"
   ]
  },
  {
   "cell_type": "code",
   "execution_count": 3,
   "metadata": {},
   "outputs": [
    {
     "name": "stdout",
     "output_type": "stream",
     "text": [
      "WARNING:tensorflow:From D:\\Anaconda\\lib\\site-packages\\tensorflow\\python\\ops\\resource_variable_ops.py:435: colocate_with (from tensorflow.python.framework.ops) is deprecated and will be removed in a future version.\n",
      "Instructions for updating:\n",
      "Colocations handled automatically by placer.\n",
      "Model: \"sequential_1\"\n",
      "_________________________________________________________________\n",
      "Layer (type)                 Output Shape              Param #   \n",
      "=================================================================\n",
      "embedding_1 (Embedding)      (None, 20, 8)             80000     \n",
      "_________________________________________________________________\n",
      "flatten_1 (Flatten)          (None, 160)               0         \n",
      "_________________________________________________________________\n",
      "dense_1 (Dense)              (None, 1)                 161       \n",
      "=================================================================\n",
      "Total params: 80,161\n",
      "Trainable params: 80,161\n",
      "Non-trainable params: 0\n",
      "_________________________________________________________________\n",
      "WARNING:tensorflow:From D:\\Anaconda\\lib\\site-packages\\tensorflow\\python\\ops\\math_ops.py:3066: to_int32 (from tensorflow.python.ops.math_ops) is deprecated and will be removed in a future version.\n",
      "Instructions for updating:\n",
      "Use tf.cast instead.\n",
      "Train on 20000 samples, validate on 5000 samples\n",
      "Epoch 1/10\n",
      "20000/20000 [==============================] - 1s 55us/step - loss: 0.6636 - acc: 0.6331 - val_loss: 0.6070 - val_acc: 0.6960\n",
      "Epoch 2/10\n",
      "20000/20000 [==============================] - 1s 33us/step - loss: 0.5310 - acc: 0.7515 - val_loss: 0.5194 - val_acc: 0.7380\n",
      "Epoch 3/10\n",
      "20000/20000 [==============================] - 1s 31us/step - loss: 0.4568 - acc: 0.7897 - val_loss: 0.4970 - val_acc: 0.7488\n",
      "Epoch 4/10\n",
      "20000/20000 [==============================] - 1s 33us/step - loss: 0.4206 - acc: 0.8070 - val_loss: 0.4922 - val_acc: 0.7540\n",
      "Epoch 5/10\n",
      "20000/20000 [==============================] - 1s 31us/step - loss: 0.3966 - acc: 0.8221 - val_loss: 0.4952 - val_acc: 0.7574\n",
      "Epoch 6/10\n",
      "20000/20000 [==============================] - 1s 31us/step - loss: 0.3772 - acc: 0.8314 - val_loss: 0.4995 - val_acc: 0.7560\n",
      "Epoch 7/10\n",
      "20000/20000 [==============================] - 1s 31us/step - loss: 0.3603 - acc: 0.8426 - val_loss: 0.5017 - val_acc: 0.7564\n",
      "Epoch 8/10\n",
      "20000/20000 [==============================] - 1s 31us/step - loss: 0.3438 - acc: 0.8540 - val_loss: 0.5082 - val_acc: 0.7528\n",
      "Epoch 9/10\n",
      "20000/20000 [==============================] - 1s 41us/step - loss: 0.3276 - acc: 0.8638 - val_loss: 0.5143 - val_acc: 0.7502\n",
      "Epoch 10/10\n",
      "20000/20000 [==============================] - 1s 44us/step - loss: 0.3115 - acc: 0.8708 - val_loss: 0.5204 - val_acc: 0.7502\n"
     ]
    }
   ],
   "source": [
    "from keras.models import Sequential\n",
    "from keras.layers import Flatten, Dense,Embedding\n",
    "\n",
    "model = Sequential()\n",
    "#添加embedding层，将10000个单词嵌入到维度为8的向量中，输入序列长度为20\n",
    "model.add(Embedding(10000, 8, input_length=maxlen))\n",
    "#将三维的嵌入张量展平成形状为(samples,maxlen*8)的二维张量\n",
    "model.add(Flatten())\n",
    "model.add(Dense(1, activation='sigmoid'))\n",
    "model.summary()\n",
    "\n",
    "model.compile(optimizer='rmsprop', loss='binary_crossentropy', metrics=['acc'])\n",
    "history = model.fit(x_train, y_train,\n",
    "                    epochs=10,\n",
    "                    batch_size=32,\n",
    "                    validation_split=0.2)"
   ]
  },
  {
   "cell_type": "markdown",
   "metadata": {},
   "source": [
    "#### 2.使用预训练的词嵌入"
   ]
  },
  {
   "cell_type": "markdown",
   "metadata": {},
   "source": [
    "下载 IMDB 数据的原始文本"
   ]
  },
  {
   "cell_type": "code",
   "execution_count": 4,
   "metadata": {},
   "outputs": [],
   "source": [
    "import os\n",
    "\n",
    "imdb_dir = 'D:/2021-2022学年 文件汇总/深度学习与应用实践/数据集/aclImdb_v1.tar/aclImdb_v1/aclImdb'\n",
    "train_dir = os.path.join(imdb_dir, 'train')\n",
    "\n",
    "labels = []\n",
    "texts = []\n",
    "\n",
    "for label_type in ['neg', 'pos']:\n",
    "    dir_name = os.path.join(train_dir, label_type)\n",
    "    for fname in os.listdir(dir_name):\n",
    "        if fname[-4:] == '.txt':\n",
    "            f = open(os.path.join(dir_name, fname),encoding='utf8')\n",
    "            texts.append(f.read())\n",
    "            f.close()\n",
    "            if label_type == 'neg':\n",
    "                labels.append(0)\n",
    "            else:\n",
    "                labels.append(1)"
   ]
  },
  {
   "cell_type": "markdown",
   "metadata": {},
   "source": [
    "对数据进行分词"
   ]
  },
  {
   "cell_type": "code",
   "execution_count": 15,
   "metadata": {},
   "outputs": [
    {
     "name": "stdout",
     "output_type": "stream",
     "text": [
      "Found 88582 unique tokens.\n",
      "Shape of data tensor: (25000, 100)\n",
      "Shape of label tensor: (25000,)\n"
     ]
    }
   ],
   "source": [
    "from keras.preprocessing.text import Tokenizer\n",
    "from keras.preprocessing.sequence import pad_sequences\n",
    "import numpy as np\n",
    "\n",
    "maxlen = 100  #在100个单词后截断评论\n",
    "training_samples = 200  #在200个样本上训练\n",
    "validation_samples = 10000  #在10000个样本上验证\n",
    "max_words = 10000  #只考虑数据集中前10000个最常见的单词\n",
    "\n",
    "tokenizer = Tokenizer(num_words=max_words)  #建一个分词器（tokenizer），设置为只考虑前10000个最常见的单词\n",
    "tokenizer.fit_on_texts(texts)  #构建单词索引\n",
    "sequences = tokenizer.texts_to_sequences(texts)  #将字符串转换为整数索引组成的列表\n",
    "\n",
    "word_index = tokenizer.word_index  #找回单词索引\n",
    "print('Found %s unique tokens.' % len(word_index))\n",
    "\n",
    "data = pad_sequences(sequences, maxlen=maxlen)  #整数列表填充处理，即超长截断、不足则前补0，默认从尾部截取\n",
    "\n",
    "labels = np.asarray(labels)  #转换为张量数据\n",
    "print('Shape of data tensor:', data.shape)\n",
    "print('Shape of label tensor:', labels.shape)\n",
    "\n",
    "# 将数据划分为训练集和验证集，但首先要打乱数据，因为一开始数据中的样本是排好序的（所有负面评论都在前面， 然后是所有正面评论）\n",
    "indices = np.arange(data.shape[0])\n",
    "np.random.shuffle(indices)\n",
    "data = data[indices]\n",
    "labels = labels[indices]\n",
    "\n",
    "x_train = data[:training_samples]\n",
    "y_train = labels[:training_samples]\n",
    "x_val = data[training_samples: training_samples + validation_samples]\n",
    "y_val = labels[training_samples: training_samples + validation_samples]"
   ]
  },
  {
   "cell_type": "markdown",
   "metadata": {},
   "source": [
    "对嵌入进行预处理"
   ]
  },
  {
   "cell_type": "code",
   "execution_count": 16,
   "metadata": {},
   "outputs": [
    {
     "name": "stdout",
     "output_type": "stream",
     "text": [
      "Found 400000 word vectors.\n"
     ]
    }
   ],
   "source": [
    "#对txt文件解析，构建一个将单词（字符串）映射为其向量表示（数值向量）的索引\n",
    "\n",
    "glove_dir = 'D:/2021-2022学年 文件汇总/深度学习与应用实践/数据集'\n",
    "\n",
    "embeddings_index = {}  #定义字典\n",
    "f = open(os.path.join(glove_dir, 'glove.6B.100d.txt'),encoding='utf8')\n",
    "for line in f:\n",
    "    values = line.split()\n",
    "    word = values[0]\n",
    "    coefs = np.asarray(values[1:], dtype='float32')\n",
    "    embeddings_index[word] = coefs\n",
    "f.close()\n",
    "\n",
    "print('Found %s word vectors.' % len(embeddings_index))  #embeddings_index是字典形式，每个单词有100维嵌入词向量"
   ]
  },
  {
   "cell_type": "code",
   "execution_count": 23,
   "metadata": {},
   "outputs": [],
   "source": [
    "#构建一个可以加载到 Embedding 层中的嵌入矩阵，形状为(max_words, embedding_dim)\n",
    "embedding_dim = 100\n",
    "\n",
    "embedding_matrix = np.zeros((max_words, embedding_dim))\n",
    "for word, i in word_index.items():\n",
    "    embedding_vector = embeddings_index.get(word)\n",
    "    if i < max_words:\n",
    "        if embedding_vector is not None:\n",
    "            # Words not found in embedding index will be all-zeros.\n",
    "            # 嵌入索引（embeddings_index） 中找不到的词，其嵌入向量全为 0\n",
    "            embedding_matrix[i] = embedding_vector"
   ]
  },
  {
   "cell_type": "markdown",
   "metadata": {},
   "source": [
    "定义模型"
   ]
  },
  {
   "cell_type": "code",
   "execution_count": 34,
   "metadata": {},
   "outputs": [
    {
     "name": "stdout",
     "output_type": "stream",
     "text": [
      "Model: \"sequential_2\"\n",
      "_________________________________________________________________\n",
      "Layer (type)                 Output Shape              Param #   \n",
      "=================================================================\n",
      "embedding_2 (Embedding)      (None, 100, 100)          1000000   \n",
      "_________________________________________________________________\n",
      "flatten_2 (Flatten)          (None, 10000)             0         \n",
      "_________________________________________________________________\n",
      "dense_2 (Dense)              (None, 32)                320032    \n",
      "_________________________________________________________________\n",
      "dense_3 (Dense)              (None, 1)                 33        \n",
      "=================================================================\n",
      "Total params: 1,320,065\n",
      "Trainable params: 1,320,065\n",
      "Non-trainable params: 0\n",
      "_________________________________________________________________\n"
     ]
    }
   ],
   "source": [
    "from keras.models import Sequential\n",
    "from keras.layers import Embedding, Flatten, Dense\n",
    "\n",
    "model = Sequential()\n",
    "model.add(Embedding(max_words, embedding_dim, input_length=maxlen))\n",
    "model.add(Flatten())\n",
    "model.add(Dense(32, activation='relu'))\n",
    "model.add(Dense(1, activation='sigmoid'))\n",
    "model.summary()"
   ]
  },
  {
   "cell_type": "markdown",
   "metadata": {},
   "source": [
    "在模型中加载 GloVe 嵌入"
   ]
  },
  {
   "cell_type": "code",
   "execution_count": 35,
   "metadata": {},
   "outputs": [],
   "source": [
    "model.layers[0].set_weights([embedding_matrix])\n",
    "model.layers[0].trainable = False  #冻结Embedding 层"
   ]
  },
  {
   "cell_type": "markdown",
   "metadata": {},
   "source": [
    "编译并训练模型"
   ]
  },
  {
   "cell_type": "code",
   "execution_count": 36,
   "metadata": {},
   "outputs": [
    {
     "name": "stdout",
     "output_type": "stream",
     "text": [
      "Train on 200 samples, validate on 10000 samples\n",
      "Epoch 1/10\n",
      "200/200 [==============================] - 2s 12ms/step - loss: 1.5956 - acc: 0.5350 - val_loss: 0.7074 - val_acc: 0.5082\n",
      "Epoch 2/10\n",
      "200/200 [==============================] - 1s 3ms/step - loss: 0.8488 - acc: 0.5400 - val_loss: 0.6969 - val_acc: 0.5261\n",
      "Epoch 3/10\n",
      "200/200 [==============================] - 1s 3ms/step - loss: 0.4794 - acc: 0.7850 - val_loss: 1.2345 - val_acc: 0.4983\n",
      "Epoch 4/10\n",
      "200/200 [==============================] - 1s 3ms/step - loss: 0.5237 - acc: 0.7100 - val_loss: 0.7420 - val_acc: 0.5396\n",
      "Epoch 5/10\n",
      "200/200 [==============================] - 1s 3ms/step - loss: 0.2816 - acc: 0.9050 - val_loss: 1.9348 - val_acc: 0.5062\n",
      "Epoch 6/10\n",
      "200/200 [==============================] - 1s 3ms/step - loss: 0.3961 - acc: 0.8550 - val_loss: 0.7321 - val_acc: 0.5659\n",
      "Epoch 7/10\n",
      "200/200 [==============================] - 1s 3ms/step - loss: 0.0990 - acc: 1.0000 - val_loss: 0.8644 - val_acc: 0.5319\n",
      "Epoch 8/10\n",
      "200/200 [==============================] - 1s 3ms/step - loss: 0.2765 - acc: 0.8800 - val_loss: 0.7125 - val_acc: 0.5807\n",
      "Epoch 9/10\n",
      "200/200 [==============================] - 1s 3ms/step - loss: 0.0483 - acc: 1.0000 - val_loss: 0.8366 - val_acc: 0.5558\n",
      "Epoch 10/10\n",
      "200/200 [==============================] - 1s 3ms/step - loss: 0.0331 - acc: 1.0000 - val_loss: 0.9191 - val_acc: 0.5450\n"
     ]
    }
   ],
   "source": [
    "model.compile(optimizer='rmsprop',\n",
    "              loss='binary_crossentropy',\n",
    "              metrics=['acc'])\n",
    "history = model.fit(x_train, y_train,\n",
    "                    epochs=10,\n",
    "                    batch_size=32,\n",
    "                    validation_data=(x_val, y_val))"
   ]
  },
  {
   "cell_type": "code",
   "execution_count": 38,
   "metadata": {},
   "outputs": [
    {
     "data": {
      "image/png": "[encoded data removed]",
      "text/plain": [
       "<Figure size 432x288 with 1 Axes>"
      ]
     },
     "metadata": {
      "needs_background": "light"
     },
     "output_type": "display_data"
    },
    {
     "data": {
      "image/png": "[encoded data removed]",
      "text/plain": [
       "<Figure size 432x288 with 1 Axes>"
      ]
     },
     "metadata": {
      "needs_background": "light"
     },
     "output_type": "display_data"
    }
   ],
   "source": [
    "import matplotlib.pyplot as plt\n",
    "\n",
    "acc = history.history['acc']\n",
    "val_acc = history.history['val_acc']\n",
    "loss = history.history['loss']\n",
    "val_loss = history.history['val_loss']\n",
    "\n",
    "epochs = range(1, len(acc) + 1)\n",
    "\n",
    "plt.plot(epochs, acc, 'bo', label='Training acc')\n",
    "plt.plot(epochs, val_acc, 'b', label='Validation acc')\n",
    "plt.title('Training and validation accuracy')\n",
    "plt.legend()\n",
    "\n",
    "plt.figure()\n",
    "\n",
    "plt.plot(epochs, loss, 'bo', label='Training loss')\n",
    "plt.plot(epochs, val_loss, 'b', label='Validation loss')\n",
    "plt.title('Training and validation loss')\n",
    "plt.legend()\n",
    "\n",
    "plt.show()"
   ]
  },
  {
   "cell_type": "markdown",
   "metadata": {},
   "source": [
    "导入测试集，并进行分词"
   ]
  },
  {
   "cell_type": "code",
   "execution_count": 42,
   "metadata": {},
   "outputs": [],
   "source": [
    "test_dir = os.path.join(imdb_dir, 'test')\n",
    "\n",
    "labels = []\n",
    "texts = []\n",
    "\n",
    "for label_type in ['neg', 'pos']:\n",
    "    dir_name = os.path.join(test_dir, label_type)\n",
    "    for fname in sorted(os.listdir(dir_name)):\n",
    "        if fname[-4:] == '.txt':\n",
    "            f = open(os.path.join(dir_name, fname),encoding='utf8')\n",
    "            texts.append(f.read())\n",
    "            f.close()\n",
    "            if label_type == 'neg':\n",
    "                labels.append(0)\n",
    "            else:\n",
    "                labels.append(1)\n",
    "\n",
    "sequences = tokenizer.texts_to_sequences(texts)\n",
    "x_test = pad_sequences(sequences, maxlen=maxlen)\n",
    "y_test = np.asarray(labels)"
   ]
  },
  {
   "cell_type": "markdown",
   "metadata": {},
   "source": [
    "在测试集中评估模型性能"
   ]
  },
  {
   "cell_type": "code",
   "execution_count": 43,
   "metadata": {},
   "outputs": [
    {
     "name": "stdout",
     "output_type": "stream",
     "text": [
      "25000/25000 [==============================] - 1s 57us/step\n"
     ]
    },
    {
     "data": {
      "text/plain": [
       "[0.9379357239985466, 0.5376799702644348]"
      ]
     },
     "execution_count": 43,
     "metadata": {},
     "output_type": "execute_result"
    }
   ],
   "source": [
    "model.evaluate(x_test, y_test)"
   ]
  },
  {
   "cell_type": "markdown",
   "metadata": {},
   "source": [
    "### 二、使用RNN实现电影评论分类"
   ]
  },
  {
   "cell_type": "markdown",
   "metadata": {},
   "source": [
    "读取数据并进行预处理"
   ]
  },
  {
   "cell_type": "code",
   "execution_count": 44,
   "metadata": {},
   "outputs": [
    {
     "name": "stdout",
     "output_type": "stream",
     "text": [
      "[1, 14, 22, 16, 43, 530, 973, 1622, 1385, 65, 458, 4468, 66, 3941, 4, 173, 36, 256, 5, 25, 100, 43, 838, 112, 50, 670, 2, 9, 35, 480, 284, 5, 150, 4, 172, 112, 167, 2, 336, 385, 39, 4, 172, 4536, 1111, 17, 546, 38, 13, 447, 4, 192, 50, 16, 6, 147, 2025, 19, 14, 22, 4, 1920, 4613, 469, 4, 22, 71, 87, 12, 16, 43, 530, 38, 76, 15, 13, 1247, 4, 22, 17, 515, 17, 12, 16, 626, 18, 2, 5, 62, 386, 12, 8, 316, 8, 106, 5, 4, 2223, 5244, 16, 480, 66, 3785, 33, 4, 130, 12, 16, 38, 619, 5, 25, 124, 51, 36, 135, 48, 25, 1415, 33, 6, 22, 12, 215, 28, 77, 52, 5, 14, 407, 16, 82, 2, 8, 4, 107, 117, 5952, 15, 256, 4, 2, 7, 3766, 5, 723, 36, 71, 43, 530, 476, 26, 400, 317, 46, 7, 4, 2, 1029, 13, 104, 88, 4, 381, 15, 297, 98, 32, 2071, 56, 26, 141, 6, 194, 7486, 18, 4, 226, 22, 21, 134, 476, 26, 480, 5, 144, 30, 5535, 18, 51, 36, 28, 224, 92, 25, 104, 4, 226, 65, 16, 38, 1334, 88, 12, 16, 283, 5, 16, 4472, 113, 103, 32, 15, 16, 5345, 19, 178, 32]\n",
      "[  65   16   38 1334   88   12   16  283    5   16 4472  113  103   32\n",
      "   15   16 5345   19  178   32]\n"
     ]
    }
   ],
   "source": [
    "from keras.datasets import imdb\n",
    "from keras.preprocessing import sequence\n",
    "\n",
    "max_features = 10000  #最大特征数,即该训练集最常见的前10000个单词\n",
    "maxlen = 20  #每条评论最大长度为20，超过将被截断\n",
    "\n",
    "#将数据加载为整数列表\n",
    "(x_train, y_train), (x_test, y_test) = imdb.load_data(num_words=max_features)\n",
    "print(x_train[0])\n",
    "\n",
    "#整数列表填充处理:即超长截断、不足则前补0，默认从尾部截取，得到等长二维整数张量(samples,maxlen)\n",
    "x_train = sequence.pad_sequences(x_train, maxlen=maxlen)\n",
    "x_test = sequence.pad_sequences(x_test, maxlen=maxlen)\n",
    "print(x_train[0])"
   ]
  },
  {
   "cell_type": "markdown",
   "metadata": {},
   "source": [
    "LSTM"
   ]
  },
  {
   "cell_type": "code",
   "execution_count": 46,
   "metadata": {},
   "outputs": [
    {
     "name": "stdout",
     "output_type": "stream",
     "text": [
      "Train on 20000 samples, validate on 5000 samples\n",
      "Epoch 1/10\n",
      "20000/20000 [==============================] - 9s 440us/step - loss: 0.5794 - acc: 0.6899 - val_loss: 0.5290 - val_acc: 0.7318\n",
      "Epoch 2/10\n",
      "20000/20000 [==============================] - 6s 304us/step - loss: 0.4447 - acc: 0.7916 - val_loss: 0.4908 - val_acc: 0.7450\n",
      "Epoch 3/10\n",
      "20000/20000 [==============================] - 6s 306us/step - loss: 0.3960 - acc: 0.8206 - val_loss: 0.5253 - val_acc: 0.7514\n",
      "Epoch 4/10\n",
      "20000/20000 [==============================] - 6s 304us/step - loss: 0.3672 - acc: 0.8378 - val_loss: 0.5202 - val_acc: 0.7526\n",
      "Epoch 5/10\n",
      "20000/20000 [==============================] - 6s 312us/step - loss: 0.3467 - acc: 0.8490 - val_loss: 0.5098 - val_acc: 0.7526\n",
      "Epoch 6/10\n",
      "20000/20000 [==============================] - 6s 316us/step - loss: 0.3300 - acc: 0.8577 - val_loss: 0.5244 - val_acc: 0.7466\n",
      "Epoch 7/10\n",
      "20000/20000 [==============================] - 6s 315us/step - loss: 0.3138 - acc: 0.8647 - val_loss: 0.5521 - val_acc: 0.7418\n",
      "Epoch 8/10\n",
      "20000/20000 [==============================] - 6s 308us/step - loss: 0.2978 - acc: 0.8723 - val_loss: 0.5774 - val_acc: 0.7410\n",
      "Epoch 9/10\n",
      "20000/20000 [==============================] - 6s 310us/step - loss: 0.2809 - acc: 0.8797 - val_loss: 0.5973 - val_acc: 0.7456\n",
      "Epoch 10/10\n",
      "20000/20000 [==============================] - 6s 297us/step - loss: 0.2641 - acc: 0.8888 - val_loss: 0.6179 - val_acc: 0.7454\n"
     ]
    }
   ],
   "source": [
    "from keras.layers import Dense,LSTM\n",
    "\n",
    "model = Sequential()\n",
    "model.add(Embedding(max_features, 32))\n",
    "model.add(LSTM(32))\n",
    "model.add(Dense(1, activation='sigmoid'))\n",
    "\n",
    "model.compile(optimizer='rmsprop',\n",
    "              loss='binary_crossentropy',\n",
    "              metrics=['acc'])\n",
    "history = model.fit(x_train, y_train,\n",
    "                    epochs=10,\n",
    "                    batch_size=128,\n",
    "                    validation_split=0.2)"
   ]
  },
  {
   "cell_type": "code",
   "execution_count": 47,
   "metadata": {},
   "outputs": [
    {
     "data": {
      "image/png": "[encoded data removed]",
      "text/plain": [
       "<Figure size 432x288 with 1 Axes>"
      ]
     },
     "metadata": {
      "needs_background": "light"
     },
     "output_type": "display_data"
    },
    {
     "data": {
      "image/png": "[encoded data removed]",
      "text/plain": [
       "<Figure size 432x288 with 1 Axes>"
      ]
     },
     "metadata": {
      "needs_background": "light"
     },
     "output_type": "display_data"
    }
   ],
   "source": [
    "acc = history.history['acc']\n",
    "val_acc = history.history['val_acc']\n",
    "loss = history.history['loss']\n",
    "val_loss = history.history['val_loss']\n",
    "\n",
    "epochs = range(len(acc))\n",
    "\n",
    "plt.plot(epochs, acc, 'bo', label='Training acc')\n",
    "plt.plot(epochs, val_acc, 'b', label='Validation acc')\n",
    "plt.title('Training and validation accuracy')\n",
    "plt.legend()\n",
    "\n",
    "plt.figure()\n",
    "\n",
    "plt.plot(epochs, loss, 'bo', label='Training loss')\n",
    "plt.plot(epochs, val_loss, 'b', label='Validation loss')\n",
    "plt.title('Training and validation loss')\n",
    "plt.legend()\n",
    "\n",
    "plt.show()"
   ]
  },
  {
   "cell_type": "markdown",
   "metadata": {},
   "source": [
    "堆叠LSTM"
   ]
  },
  {
   "cell_type": "code",
   "execution_count": 49,
   "metadata": {},
   "outputs": [
    {
     "name": "stdout",
     "output_type": "stream",
     "text": [
      "Model: \"sequential_5\"\n",
      "_________________________________________________________________\n",
      "Layer (type)                 Output Shape              Param #   \n",
      "=================================================================\n",
      "embedding_5 (Embedding)      (None, None, 32)          320000    \n",
      "_________________________________________________________________\n",
      "lstm_3 (LSTM)                (None, None, 32)          8320      \n",
      "_________________________________________________________________\n",
      "lstm_4 (LSTM)                (None, None, 32)          8320      \n",
      "_________________________________________________________________\n",
      "lstm_5 (LSTM)                (None, 32)                8320      \n",
      "_________________________________________________________________\n",
      "dense_6 (Dense)              (None, 1)                 33        \n",
      "=================================================================\n",
      "Total params: 344,993\n",
      "Trainable params: 344,993\n",
      "Non-trainable params: 0\n",
      "_________________________________________________________________\n",
      "Train on 20000 samples, validate on 5000 samples\n",
      "Epoch 1/10\n",
      "20000/20000 [==============================] - 23s 1ms/step - loss: 0.5973 - acc: 0.6665 - val_loss: 0.5490 - val_acc: 0.7130\n",
      "Epoch 2/10\n",
      "20000/20000 [==============================] - 17s 828us/step - loss: 0.4631 - acc: 0.7801 - val_loss: 0.4956 - val_acc: 0.7524\n",
      "Epoch 3/10\n",
      "20000/20000 [==============================] - 17s 838us/step - loss: 0.4081 - acc: 0.8166 - val_loss: 0.4903 - val_acc: 0.7560\n",
      "Epoch 4/10\n",
      "20000/20000 [==============================] - 17s 868us/step - loss: 0.3780 - acc: 0.8339 - val_loss: 0.5284 - val_acc: 0.7422\n",
      "Epoch 5/10\n",
      "20000/20000 [==============================] - 17s 861us/step - loss: 0.3556 - acc: 0.8455 - val_loss: 0.5325 - val_acc: 0.7476\n",
      "Epoch 6/10\n",
      "20000/20000 [==============================] - 16s 807us/step - loss: 0.3351 - acc: 0.8586 - val_loss: 0.5644 - val_acc: 0.7382\n",
      "Epoch 7/10\n",
      "20000/20000 [==============================] - 16s 804us/step - loss: 0.3163 - acc: 0.8655 - val_loss: 0.5472 - val_acc: 0.7472\n",
      "Epoch 8/10\n",
      "20000/20000 [==============================] - 16s 802us/step - loss: 0.2970 - acc: 0.8740 - val_loss: 0.5643 - val_acc: 0.7424\n",
      "Epoch 9/10\n",
      "20000/20000 [==============================] - 16s 815us/step - loss: 0.2791 - acc: 0.8849 - val_loss: 0.6070 - val_acc: 0.7398\n",
      "Epoch 10/10\n",
      "20000/20000 [==============================] - 16s 816us/step - loss: 0.2595 - acc: 0.8934 - val_loss: 0.6359 - val_acc: 0.7248\n"
     ]
    }
   ],
   "source": [
    "from keras.layers import Dense,LSTM\n",
    "\n",
    "model = Sequential()\n",
    "model.add(Embedding(max_features, 32))\n",
    "model.add(LSTM(32,dropout=0.1,return_sequences=True))  #输出全部序列\n",
    "model.add(LSTM(32,dropout=0.1,return_sequences=True))  #输出全部序列\n",
    "model.add(LSTM(32,dropout=0.1))  #最后一个LSTM只输出一个输出\n",
    "model.add(Dense(1, activation='sigmoid'))\n",
    "model.summary()\n",
    "\n",
    "model.compile(optimizer='rmsprop',\n",
    "              loss='binary_crossentropy',\n",
    "              metrics=['acc'])\n",
    "history = model.fit(x_train, y_train,\n",
    "                    epochs=10,\n",
    "                    batch_size=128,\n",
    "                    validation_split=0.2)"
   ]
  },
  {
   "cell_type": "markdown",
   "metadata": {},
   "source": [
    "BiLSTM"
   ]
  },
  {
   "cell_type": "code",
   "execution_count": 51,
   "metadata": {},
   "outputs": [
    {
     "name": "stdout",
     "output_type": "stream",
     "text": [
      "Model: \"sequential_7\"\n",
      "_________________________________________________________________\n",
      "Layer (type)                 Output Shape              Param #   \n",
      "=================================================================\n",
      "embedding_7 (Embedding)      (None, None, 32)          320000    \n",
      "_________________________________________________________________\n",
      "bidirectional_2 (Bidirection (None, 64)                16640     \n",
      "_________________________________________________________________\n",
      "dense_8 (Dense)              (None, 1)                 65        \n",
      "=================================================================\n",
      "Total params: 336,705\n",
      "Trainable params: 336,705\n",
      "Non-trainable params: 0\n",
      "_________________________________________________________________\n",
      "Train on 20000 samples, validate on 5000 samples\n",
      "Epoch 1/10\n",
      "20000/20000 [==============================] - 12s 611us/step - loss: 0.5526 - acc: 0.7117 - val_loss: 0.5056 - val_acc: 0.7474\n",
      "Epoch 2/10\n",
      "20000/20000 [==============================] - 8s 397us/step - loss: 0.4280 - acc: 0.8033 - val_loss: 0.4956 - val_acc: 0.7518\n",
      "Epoch 3/10\n",
      "20000/20000 [==============================] - 8s 386us/step - loss: 0.3880 - acc: 0.8259 - val_loss: 0.5051 - val_acc: 0.7532\n",
      "Epoch 4/10\n",
      "20000/20000 [==============================] - 8s 381us/step - loss: 0.3602 - acc: 0.8395 - val_loss: 0.5460 - val_acc: 0.7348\n",
      "Epoch 5/10\n",
      "20000/20000 [==============================] - 8s 383us/step - loss: 0.3389 - acc: 0.8514 - val_loss: 0.5223 - val_acc: 0.7494\n",
      "Epoch 6/10\n",
      "20000/20000 [==============================] - 8s 384us/step - loss: 0.3193 - acc: 0.8658 - val_loss: 0.5469 - val_acc: 0.7462\n",
      "Epoch 7/10\n",
      "20000/20000 [==============================] - 8s 396us/step - loss: 0.2987 - acc: 0.8726 - val_loss: 0.5844 - val_acc: 0.7396\n",
      "Epoch 8/10\n",
      "20000/20000 [==============================] - 8s 378us/step - loss: 0.2808 - acc: 0.8813 - val_loss: 0.5842 - val_acc: 0.7472\n",
      "Epoch 9/10\n",
      "20000/20000 [==============================] - 8s 389us/step - loss: 0.2600 - acc: 0.8906 - val_loss: 0.6576 - val_acc: 0.7188\n",
      "Epoch 10/10\n",
      "20000/20000 [==============================] - 8s 389us/step - loss: 0.2414 - acc: 0.9024 - val_loss: 0.6587 - val_acc: 0.7414\n"
     ]
    }
   ],
   "source": [
    "from keras.layers import Dense,LSTM,Bidirectional\n",
    "\n",
    "model = Sequential()\n",
    "model.add(Embedding(max_features, 32))\n",
    "model.add(Bidirectional(LSTM(32)))\n",
    "model.add(Dense(1, activation='sigmoid'))\n",
    "model.summary()\n",
    "\n",
    "model.compile(optimizer='rmsprop',\n",
    "              loss='binary_crossentropy',\n",
    "              metrics=['acc'])\n",
    "history = model.fit(x_train, y_train,\n",
    "                    epochs=10,\n",
    "                    batch_size=128,\n",
    "                    validation_split=0.2)"
   ]
  }
 ],
 "metadata": {
  "kernelspec": {
   "display_name": "Python 3",
   "language": "python",
   "name": "python3"
  },
  "language_info": {
   "codemirror_mode": {
    "name": "ipython",
    "version": 3
   },
   "file_extension": ".py",
   "mimetype": "text/x-python",
   "name": "python",
   "nbconvert_exporter": "python",
   "pygments_lexer": "ipython3",
   "version": "3.7.0"
  }
 },
 "nbformat": 4,
 "nbformat_minor": 2
}
