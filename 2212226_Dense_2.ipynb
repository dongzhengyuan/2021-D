{
 "cells": [
  {
   "cell_type": "markdown",
   "metadata": {},
   "source": [
    "# 电影评论的倾向性分类"
   ]
  },
  {
   "cell_type": "code",
   "execution_count": 1,
   "metadata": {},
   "outputs": [
    {
     "name": "stderr",
     "output_type": "stream",
     "text": [
      "<__array_function__ internals>:5: VisibleDeprecationWarning: Creating an ndarray from ragged nested sequences (which is a list-or-tuple of lists-or-tuples-or ndarrays with different lengths or shapes) is deprecated. If you meant to do this, you must specify 'dtype=object' when creating the ndarray\n",
      "C:\\Users\\lenovo\\AppData\\Roaming\\Python\\Python38\\site-packages\\tensorflow\\python\\keras\\datasets\\imdb.py:159: VisibleDeprecationWarning: Creating an ndarray from ragged nested sequences (which is a list-or-tuple of lists-or-tuples-or ndarrays with different lengths or shapes) is deprecated. If you meant to do this, you must specify 'dtype=object' when creating the ndarray\n",
      "  x_train, y_train = np.array(xs[:idx]), np.array(labels[:idx])\n"
     ]
    },
    {
     "name": "stdout",
     "output_type": "stream",
     "text": [
      "[1, 14, 22, 16, 43, 530, 973, 1622, 1385, 65, 458, 4468, 66, 3941, 4, 173, 36, 256, 5, 25, 100, 43, 838, 112, 50, 670, 2, 9, 35, 480, 284, 5, 150, 4, 172, 112, 167, 2, 336, 385, 39, 4, 172, 4536, 1111, 17, 546, 38, 13, 447, 4, 192, 50, 16, 6, 147, 2025, 19, 14, 22, 4, 1920, 4613, 469, 4, 22, 71, 87, 12, 16, 43, 530, 38, 76, 15, 13, 1247, 4, 22, 17, 515, 17, 12, 16, 626, 18, 2, 5, 62, 386, 12, 8, 316, 8, 106, 5, 4, 2223, 5244, 16, 480, 66, 3785, 33, 4, 130, 12, 16, 38, 619, 5, 25, 124, 51, 36, 135, 48, 25, 1415, 33, 6, 22, 12, 215, 28, 77, 52, 5, 14, 407, 16, 82, 2, 8, 4, 107, 117, 5952, 15, 256, 4, 2, 7, 3766, 5, 723, 36, 71, 43, 530, 476, 26, 400, 317, 46, 7, 4, 2, 1029, 13, 104, 88, 4, 381, 15, 297, 98, 32, 2071, 56, 26, 141, 6, 194, 7486, 18, 4, 226, 22, 21, 134, 476, 26, 480, 5, 144, 30, 5535, 18, 51, 36, 28, 224, 92, 25, 104, 4, 226, 65, 16, 38, 1334, 88, 12, 16, 283, 5, 16, 4472, 113, 103, 32, 15, 16, 5345, 19, 178, 32]\n",
      "1\n",
      "218 189\n"
     ]
    },
    {
     "name": "stderr",
     "output_type": "stream",
     "text": [
      "C:\\Users\\lenovo\\AppData\\Roaming\\Python\\Python38\\site-packages\\tensorflow\\python\\keras\\datasets\\imdb.py:160: VisibleDeprecationWarning: Creating an ndarray from ragged nested sequences (which is a list-or-tuple of lists-or-tuples-or ndarrays with different lengths or shapes) is deprecated. If you meant to do this, you must specify 'dtype=object' when creating the ndarray\n",
      "  x_test, y_test = np.array(xs[idx:]), np.array(labels[idx:])\n"
     ]
    }
   ],
   "source": [
    "#读入数据\n",
    "import keras\n",
    "from keras.datasets import imdb\n",
    "(train_data, train_labels), (test_data, test_labels) = imdb.load_data(num_words=10000) #查看第1条评论数据和标签，第1、2条数据长度\n",
    "print(train_data[0])\n",
    "print(train_labels[0]) #标签值1\n",
    "print(len(train_data[0]),len(train_data[1])) # 第1条长度218，第2条长度189"
   ]
  },
  {
   "cell_type": "code",
   "execution_count": 2,
   "metadata": {},
   "outputs": [
    {
     "name": "stdout",
     "output_type": "stream",
     "text": [
      "[0. 1. 1. ... 0. 0. 0.]\n"
     ]
    }
   ],
   "source": [
    "import numpy as np\n",
    "#本函数转换序列集合到(样本数, 10000)维数组，每行存一条评论的编码，有词的位置为1，其他为0\n",
    "def vectorize_sequences(sequences, dimension=10000): \n",
    "    results = np.zeros((len(sequences), dimension)) \n",
    "    for i, sequence in enumerate(sequences):\n",
    "        results[i, sequence] = 1.\n",
    "    return results\n",
    "#数据向量化。调用函数vectorize_sequences()\n",
    "x_train = vectorize_sequences(train_data) \n",
    "x_test = vectorize_sequences(test_data)\n",
    "#查看转换后的结果\n",
    "print(x_train[0])"
   ]
  },
  {
   "cell_type": "code",
   "execution_count": 3,
   "metadata": {},
   "outputs": [
    {
     "name": "stdout",
     "output_type": "stream",
     "text": [
      "1.0\n"
     ]
    }
   ],
   "source": [
    "#标签向量化\n",
    "y_train = np.asarray(train_labels).astype('float32')\n",
    "y_test = np.asarray(test_labels).astype('float32')\n",
    "print(y_train[0]) #值为1.0"
   ]
  },
  {
   "cell_type": "code",
   "execution_count": 4,
   "metadata": {},
   "outputs": [],
   "source": [
    "#构建神经网络\n",
    "from keras import models\n",
    "from keras import layers\n",
    "model = models.Sequential()\n",
    "model.add(layers.Dense(16, activation='relu', input_shape=(10000,))) #隐层1\n",
    "model.add(layers.Dense(16, activation='relu')) #隐层2\n",
    "model.add(layers.Dense(1, activation='sigmoid')) #输出层"
   ]
  },
  {
   "cell_type": "code",
   "execution_count": 5,
   "metadata": {},
   "outputs": [],
   "source": [
    "#编译网络模型（直接传入字符串参数）\n",
    "model.compile(optimizer='rmsprop', loss='binary_crossentropy', metrics=['accuracy'])"
   ]
  },
  {
   "cell_type": "code",
   "execution_count": 6,
   "metadata": {},
   "outputs": [],
   "source": [
    "\n",
    "#编译网络模型（配置自定义参数）\n",
    "from keras import optimizers\n",
    "from keras import losses \n",
    "from keras import metrics \n",
    "\n",
    "model.compile(optimizer=optimizers.RMSprop(lr=0.001), \n",
    "loss=losses.binary_crossentropy, \n",
    "metrics=[metrics.binary_accuracy])"
   ]
  },
  {
   "cell_type": "code",
   "execution_count": 7,
   "metadata": {},
   "outputs": [],
   "source": [
    "#从训练集中留出验证集\n",
    "x_val = x_train[:10000] #10000个样本作验证集Validation\n",
    "partial_x_train = x_train[10000:] #其余样本作训练集\n",
    "y_val = y_train[:10000] #10000个验证集样本标签\n",
    "partial_y_train = y_train[10000:] #测试集样本标"
   ]
  },
  {
   "cell_type": "code",
   "execution_count": 8,
   "metadata": {},
   "outputs": [
    {
     "name": "stdout",
     "output_type": "stream",
     "text": [
      "Epoch 1/20\n",
      "30/30 [==============================] - 5s 153ms/step - loss: 0.5863 - binary_accuracy: 0.6970 - val_loss: 0.3703 - val_binary_accuracy: 0.8697\n",
      "Epoch 2/20\n",
      "30/30 [==============================] - 1s 28ms/step - loss: 0.3099 - binary_accuracy: 0.8982 - val_loss: 0.3000 - val_binary_accuracy: 0.8867\n",
      "Epoch 3/20\n",
      "30/30 [==============================] - 1s 28ms/step - loss: 0.2153 - binary_accuracy: 0.9339 - val_loss: 0.2784 - val_binary_accuracy: 0.8896\n",
      "Epoch 4/20\n",
      "30/30 [==============================] - 1s 27ms/step - loss: 0.1708 - binary_accuracy: 0.9456 - val_loss: 0.2778 - val_binary_accuracy: 0.8907\n",
      "Epoch 5/20\n",
      "30/30 [==============================] - 1s 27ms/step - loss: 0.1335 - binary_accuracy: 0.9598 - val_loss: 0.2863 - val_binary_accuracy: 0.8873\n",
      "Epoch 6/20\n",
      "30/30 [==============================] - 1s 29ms/step - loss: 0.1080 - binary_accuracy: 0.9707 - val_loss: 0.2990 - val_binary_accuracy: 0.8853\n",
      "Epoch 7/20\n",
      "30/30 [==============================] - 1s 28ms/step - loss: 0.0912 - binary_accuracy: 0.9737 - val_loss: 0.3268 - val_binary_accuracy: 0.8815\n",
      "Epoch 8/20\n",
      "30/30 [==============================] - 1s 33ms/step - loss: 0.0753 - binary_accuracy: 0.9792 - val_loss: 0.3402 - val_binary_accuracy: 0.8788\n",
      "Epoch 9/20\n",
      "30/30 [==============================] - 1s 30ms/step - loss: 0.0587 - binary_accuracy: 0.9860 - val_loss: 0.3649 - val_binary_accuracy: 0.8789\n",
      "Epoch 10/20\n",
      "30/30 [==============================] - 1s 29ms/step - loss: 0.0462 - binary_accuracy: 0.9906 - val_loss: 0.3922 - val_binary_accuracy: 0.8779\n",
      "Epoch 11/20\n",
      "30/30 [==============================] - 1s 32ms/step - loss: 0.0394 - binary_accuracy: 0.9917 - val_loss: 0.4212 - val_binary_accuracy: 0.8745\n",
      "Epoch 12/20\n",
      "30/30 [==============================] - 1s 28ms/step - loss: 0.0313 - binary_accuracy: 0.9932 - val_loss: 0.4508 - val_binary_accuracy: 0.8744\n",
      "Epoch 13/20\n",
      "30/30 [==============================] - 1s 27ms/step - loss: 0.0238 - binary_accuracy: 0.9960 - val_loss: 0.4799 - val_binary_accuracy: 0.8691\n",
      "Epoch 14/20\n",
      "30/30 [==============================] - 1s 29ms/step - loss: 0.0172 - binary_accuracy: 0.9983 - val_loss: 0.5143 - val_binary_accuracy: 0.8728\n",
      "Epoch 15/20\n",
      "30/30 [==============================] - 1s 27ms/step - loss: 0.0166 - binary_accuracy: 0.9971 - val_loss: 0.5479 - val_binary_accuracy: 0.8667\n",
      "Epoch 16/20\n",
      "30/30 [==============================] - 1s 30ms/step - loss: 0.0104 - binary_accuracy: 0.9992 - val_loss: 0.5838 - val_binary_accuracy: 0.8698\n",
      "Epoch 17/20\n",
      "30/30 [==============================] - 1s 27ms/step - loss: 0.0107 - binary_accuracy: 0.9986 - val_loss: 0.6121 - val_binary_accuracy: 0.8673\n",
      "Epoch 18/20\n",
      "30/30 [==============================] - 1s 29ms/step - loss: 0.0060 - binary_accuracy: 0.9998 - val_loss: 0.6788 - val_binary_accuracy: 0.8570\n",
      "Epoch 19/20\n",
      "30/30 [==============================] - 1s 29ms/step - loss: 0.0072 - binary_accuracy: 0.9991 - val_loss: 0.6800 - val_binary_accuracy: 0.8667\n",
      "Epoch 20/20\n",
      "30/30 [==============================] - 1s 30ms/step - loss: 0.0036 - binary_accuracy: 0.9998 - val_loss: 0.7144 - val_binary_accuracy: 0.8642\n"
     ]
    }
   ],
   "source": [
    "#训练模型\n",
    "history = model.fit(partial_x_train, \n",
    "partial_y_train, epochs=20, \n",
    "batch_size=512, \n",
    "validation_data=(x_val, y_val))"
   ]
  },
  {
   "cell_type": "code",
   "execution_count": 9,
   "metadata": {},
   "outputs": [
    {
     "data": {
      "image/png": "[encoded data removed]",
      "text/plain": [
       "<Figure size 432x288 with 1 Axes>"
      ]
     },
     "metadata": {
      "needs_background": "light"
     },
     "output_type": "display_data"
    }
   ],
   "source": [
    "#绘制训练损失和验证损失随迭代次数变化图\n",
    "import matplotlib.pyplot as plt\n",
    "history_dict = history.history\n",
    "loss_values = history_dict['loss']\n",
    "val_loss_values = history_dict['val_loss']\n",
    "epochs = range(1, len(loss_values) + 1)\n",
    "plt.plot(epochs, loss_values, 'bo', label='Training loss') \n",
    "plt.plot(epochs, val_loss_values, 'b', label='Validation loss') \n",
    "plt.title('Training and validation loss')\n",
    "plt.xlabel('Epochs')\n",
    "plt.ylabel('Loss')\n",
    "plt.legend()\n",
    "plt.show()"
   ]
  },
  {
   "cell_type": "code",
   "execution_count": 19,
   "metadata": {},
   "outputs": [
    {
     "data": {
      "image/png": "[encoded data removed]",
      "text/plain": [
       "<Figure size 432x288 with 1 Axes>"
      ]
     },
     "metadata": {
      "needs_background": "light"
     },
     "output_type": "display_data"
    }
   ],
   "source": [
    "#绘制训练精度和验证精度随迭代次数变化图\n",
    "plt.clf() \n",
    "acc = history_dict['binary_accuracy'] \n",
    "val_acc = history_dict['val_binary_accuracy']\n",
    "plt.plot(epochs, acc, 'bo', label='Training acc')\n",
    "plt.plot(epochs, val_acc, 'b', label='Validation acc')\n",
    "plt.title('Training and validation accuracy')\n",
    "plt.xlabel('Epochs')\n",
    "plt.ylabel('Accuracy')\n",
    "plt.legend()\n",
    "plt.show()"
   ]
  },
  {
   "cell_type": "code",
   "execution_count": 11,
   "metadata": {},
   "outputs": [
    {
     "name": "stdout",
     "output_type": "stream",
     "text": [
      "Epoch 1/4\n",
      "49/49 [==============================] - 2s 29ms/step - loss: 0.2319 - binary_accuracy: 0.9451\n",
      "Epoch 2/4\n",
      "49/49 [==============================] - 1s 20ms/step - loss: 0.1362 - binary_accuracy: 0.9595\n",
      "Epoch 3/4\n",
      "49/49 [==============================] - 1s 19ms/step - loss: 0.1060 - binary_accuracy: 0.9680\n",
      "Epoch 4/4\n",
      "49/49 [==============================] - 1s 19ms/step - loss: 0.0811 - binary_accuracy: 0.9749: 0s - loss: 0.0736 - binary_accura\n",
      "782/782 [==============================] - 3s 3ms/step - loss: 0.4892 - binary_accuracy: 0.8593\n",
      "loss = 0.4891544282436371 accuracy = 0.859279990196228\n",
      "测试样本数： 25000\n",
      "分类概率:\n",
      " [[0.02036324]\n",
      " [1.        ]\n",
      " [0.3678465 ]\n",
      " ...\n",
      " [0.05988023]\n",
      " [0.04771066]\n",
      " [0.84407336]]\n"
     ]
    }
   ],
   "source": [
    "#训练新的模型\n",
    "model.fit(x_train, y_train, epochs=4, batch_size=512)\n",
    "#评估模型性能\n",
    "loss,accuracy = model.evaluate(x_test, y_test)\n",
    "print('loss =', loss, 'accuracy =', accuracy)\n",
    "#查看预测结果，属于各类的概率\n",
    "classes = model.predict(x_test)\n",
    "print('测试样本数：',len(classes))\n",
    "print(\"分类概率:\\n\",classes)"
   ]
  },
  {
   "cell_type": "markdown",
   "metadata": {},
   "source": [
    "使用一个隐藏层"
   ]
  },
  {
   "cell_type": "code",
   "execution_count": 33,
   "metadata": {},
   "outputs": [],
   "source": [
    "model1 = models.Sequential()\n",
    "model1.add(layers.Dense(16, activation='relu', input_shape=(10000,))) #隐层1\n",
    "model1.add(layers.Dense(16, activation='relu')) #隐层2\n",
    "model1.add(layers.Dense(16, activation='relu'))#隐层3\n",
    "model1.add(layers.Dense(1, activation='sigmoid')) #输出层"
   ]
  },
  {
   "cell_type": "code",
   "execution_count": 34,
   "metadata": {},
   "outputs": [],
   "source": [
    "#编译网络模型（直接传入字符串参数）\n",
    "model1.compile(optimizer='rmsprop', loss='binary_crossentropy', metrics=['accuracy'])\n",
    "#编译网络模型（配置自定义参数）\n",
    "from keras import optimizers\n",
    "from keras import losses \n",
    "from keras import metrics \n",
    "model1.compile(optimizer=optimizers.RMSprop(lr=0.001), \n",
    "loss=losses.binary_crossentropy, \n",
    "metrics=[metrics.binary_accuracy])"
   ]
  },
  {
   "cell_type": "code",
   "execution_count": 35,
   "metadata": {},
   "outputs": [
    {
     "name": "stdout",
     "output_type": "stream",
     "text": [
      "Epoch 1/20\n",
      "30/30 [==============================] - 46s 1s/step - loss: 0.6004 - binary_accuracy: 0.7082 - val_loss: 0.3764 - val_binary_accuracy: 0.8730\n",
      "Epoch 2/20\n",
      "30/30 [==============================] - 1s 39ms/step - loss: 0.3113 - binary_accuracy: 0.9059 - val_loss: 0.2951 - val_binary_accuracy: 0.8901\n",
      "Epoch 3/20\n",
      "30/30 [==============================] - 1s 50ms/step - loss: 0.2093 - binary_accuracy: 0.9348 - val_loss: 0.3167 - val_binary_accuracy: 0.8716\n",
      "Epoch 4/20\n",
      "30/30 [==============================] - 1s 48ms/step - loss: 0.1610 - binary_accuracy: 0.9497 - val_loss: 0.2771 - val_binary_accuracy: 0.8890\n",
      "Epoch 5/20\n",
      "30/30 [==============================] - 2s 62ms/step - loss: 0.1288 - binary_accuracy: 0.9605 - val_loss: 0.3181 - val_binary_accuracy: 0.8787\n",
      "Epoch 6/20\n",
      "30/30 [==============================] - 1s 44ms/step - loss: 0.1022 - binary_accuracy: 0.9690 - val_loss: 0.3416 - val_binary_accuracy: 0.8696\n",
      "Epoch 7/20\n",
      "30/30 [==============================] - 1s 37ms/step - loss: 0.0842 - binary_accuracy: 0.9755 - val_loss: 0.3578 - val_binary_accuracy: 0.8728\n",
      "Epoch 8/20\n",
      "30/30 [==============================] - 1s 32ms/step - loss: 0.0693 - binary_accuracy: 0.9814 - val_loss: 0.3628 - val_binary_accuracy: 0.8776\n",
      "Epoch 9/20\n",
      "30/30 [==============================] - 1s 36ms/step - loss: 0.0508 - binary_accuracy: 0.9877 - val_loss: 0.3942 - val_binary_accuracy: 0.8776\n",
      "Epoch 10/20\n",
      "30/30 [==============================] - 1s 34ms/step - loss: 0.0420 - binary_accuracy: 0.9893 - val_loss: 0.4322 - val_binary_accuracy: 0.8761\n",
      "Epoch 11/20\n",
      "30/30 [==============================] - 1s 36ms/step - loss: 0.0320 - binary_accuracy: 0.9938 - val_loss: 0.4577 - val_binary_accuracy: 0.8730\n",
      "Epoch 12/20\n",
      "30/30 [==============================] - 1s 30ms/step - loss: 0.0244 - binary_accuracy: 0.9957 - val_loss: 0.5355 - val_binary_accuracy: 0.8595\n",
      "Epoch 13/20\n",
      "30/30 [==============================] - 1s 35ms/step - loss: 0.0214 - binary_accuracy: 0.9953 - val_loss: 0.5405 - val_binary_accuracy: 0.8666\n",
      "Epoch 14/20\n",
      "30/30 [==============================] - 1s 32ms/step - loss: 0.0159 - binary_accuracy: 0.9974 - val_loss: 0.5642 - val_binary_accuracy: 0.8692\n",
      "Epoch 15/20\n",
      "30/30 [==============================] - 1s 29ms/step - loss: 0.0137 - binary_accuracy: 0.9971 - val_loss: 0.5994 - val_binary_accuracy: 0.8654\n",
      "Epoch 16/20\n",
      "30/30 [==============================] - 1s 39ms/step - loss: 0.0091 - binary_accuracy: 0.9989 - val_loss: 0.6281 - val_binary_accuracy: 0.8667\n",
      "Epoch 17/20\n",
      "30/30 [==============================] - 2s 62ms/step - loss: 0.0054 - binary_accuracy: 0.9998 - val_loss: 0.6613 - val_binary_accuracy: 0.8648\n",
      "Epoch 18/20\n",
      "30/30 [==============================] - 1s 33ms/step - loss: 0.0088 - binary_accuracy: 0.9981 - val_loss: 0.7019 - val_binary_accuracy: 0.8643\n",
      "Epoch 19/20\n",
      "30/30 [==============================] - 1s 33ms/step - loss: 0.0033 - binary_accuracy: 0.9998 - val_loss: 0.7308 - val_binary_accuracy: 0.8650\n",
      "Epoch 20/20\n",
      "30/30 [==============================] - 1s 28ms/step - loss: 0.0041 - binary_accuracy: 0.9993 - val_loss: 0.7894 - val_binary_accuracy: 0.8648\n"
     ]
    }
   ],
   "source": [
    "model1.compile(optimizer=optimizers.RMSprop(lr=0.001), \n",
    "loss=losses.binary_crossentropy, \n",
    "metrics=[metrics.binary_accuracy])#从训练集中留出验证集\n",
    "x_val = x_train[:10000] #10000个样本作验证集Validation\n",
    "partial_x_train = x_train[10000:] #其余样本作训练集\n",
    "y_val = y_train[:10000] #10000个验证集样本标签\n",
    "partial_y_train = y_train[10000:] #测试集样本标#训练模型\n",
    "history = model1.fit(partial_x_train, \n",
    "partial_y_train, epochs=20, \n",
    "batch_size=512, \n",
    "validation_data=(x_val, y_val))"
   ]
  },
  {
   "cell_type": "code",
   "execution_count": 36,
   "metadata": {},
   "outputs": [
    {
     "name": "stdout",
     "output_type": "stream",
     "text": [
      "Epoch 1/4\n",
      "49/49 [==============================] - 3s 42ms/step - loss: 0.2462 - binary_accuracy: 0.9445\n",
      "Epoch 2/4\n",
      "49/49 [==============================] - 1s 19ms/step - loss: 0.1403 - binary_accuracy: 0.9594\n",
      "Epoch 3/4\n",
      "49/49 [==============================] - 1s 19ms/step - loss: 0.1089 - binary_accuracy: 0.9673\n",
      "Epoch 4/4\n",
      "49/49 [==============================] - 1s 22ms/step - loss: 0.0842 - binary_accuracy: 0.9755\n",
      "782/782 [==============================] - 3s 2ms/step - loss: 0.4814 - binary_accuracy: 0.8582\n",
      "loss = 0.4814091920852661 accuracy = 0.8582000136375427\n",
      "测试样本数： 25000\n",
      "分类概率:\n",
      " [[0.0176062 ]\n",
      " [0.9999306 ]\n",
      " [0.982105  ]\n",
      " ...\n",
      " [0.1630795 ]\n",
      " [0.06545752]\n",
      " [0.9153887 ]]\n"
     ]
    }
   ],
   "source": [
    "#训练新的模型\n",
    "model1.fit(x_train, y_train, epochs=4, batch_size=512)\n",
    "#评估模型性能\n",
    "loss,accuracy = model1.evaluate(x_test, y_test)\n",
    "print('loss =', loss, 'accuracy =', accuracy)\n",
    "#查看预测结果，属于各类的概率\n",
    "classes = model.predict(x_test)\n",
    "print('测试样本数：',len(classes))\n",
    "print(\"分类概率:\\n\",classes)"
   ]
  },
  {
   "cell_type": "markdown",
   "metadata": {},
   "source": [
    "更多的隐藏单元，比如 32 个"
   ]
  },
  {
   "cell_type": "code",
   "execution_count": 38,
   "metadata": {},
   "outputs": [],
   "source": [
    "model2 = models.Sequential()\n",
    "model2.add(layers.Dense(32, activation='relu', input_shape=(10000,))) #隐层1\n",
    "model2.add(layers.Dense(32, activation='relu')) #隐层2\n",
    "model2.add(layers.Dense(1, activation='sigmoid')) #输出层"
   ]
  },
  {
   "cell_type": "code",
   "execution_count": 39,
   "metadata": {},
   "outputs": [],
   "source": [
    "#编译网络模型（直接传入字符串参数）\n",
    "model2.compile(optimizer='rmsprop', loss='binary_crossentropy', metrics=['accuracy'])\n",
    "#编译网络模型（配置自定义参数）\n",
    "from keras import optimizers\n",
    "from keras import losses \n",
    "from keras import metrics \n",
    "model2.compile(optimizer=optimizers.RMSprop(lr=0.001), \n",
    "loss=losses.binary_crossentropy, \n",
    "metrics=[metrics.binary_accuracy])"
   ]
  },
  {
   "cell_type": "code",
   "execution_count": 40,
   "metadata": {},
   "outputs": [
    {
     "name": "stdout",
     "output_type": "stream",
     "text": [
      "Epoch 1/20\n",
      "30/30 [==============================] - 45s 1s/step - loss: 0.5688 - binary_accuracy: 0.7153 - val_loss: 0.3627 - val_binary_accuracy: 0.8718\n",
      "Epoch 2/20\n",
      "30/30 [==============================] - 2s 74ms/step - loss: 0.2921 - binary_accuracy: 0.9097 - val_loss: 0.3100 - val_binary_accuracy: 0.8741\n",
      "Epoch 3/20\n",
      "30/30 [==============================] - 2s 65ms/step - loss: 0.2099 - binary_accuracy: 0.9269 - val_loss: 0.2730 - val_binary_accuracy: 0.8885\n",
      "Epoch 4/20\n",
      "30/30 [==============================] - 2s 51ms/step - loss: 0.1503 - binary_accuracy: 0.9529 - val_loss: 0.3353 - val_binary_accuracy: 0.8681\n",
      "Epoch 5/20\n",
      "30/30 [==============================] - 1s 45ms/step - loss: 0.1247 - binary_accuracy: 0.9568 - val_loss: 0.3010 - val_binary_accuracy: 0.8852\n",
      "Epoch 6/20\n",
      "30/30 [==============================] - 2s 60ms/step - loss: 0.0965 - binary_accuracy: 0.9697 - val_loss: 0.3142 - val_binary_accuracy: 0.8832\n",
      "Epoch 7/20\n",
      "30/30 [==============================] - 1s 46ms/step - loss: 0.0660 - binary_accuracy: 0.9823 - val_loss: 0.3477 - val_binary_accuracy: 0.8789A: 0s - loss: 0.0632 - binary_accuracy: 0\n",
      "Epoch 8/20\n",
      "30/30 [==============================] - 1s 48ms/step - loss: 0.0550 - binary_accuracy: 0.9847 - val_loss: 0.3724 - val_binary_accuracy: 0.8794\n",
      "Epoch 9/20\n",
      "30/30 [==============================] - 1s 39ms/step - loss: 0.0423 - binary_accuracy: 0.9891 - val_loss: 0.4047 - val_binary_accuracy: 0.8783\n",
      "Epoch 10/20\n",
      "30/30 [==============================] - 1s 44ms/step - loss: 0.0285 - binary_accuracy: 0.9937 - val_loss: 0.4392 - val_binary_accuracy: 0.8764\n",
      "Epoch 11/20\n",
      "30/30 [==============================] - 2s 58ms/step - loss: 0.0230 - binary_accuracy: 0.9954 - val_loss: 0.4694 - val_binary_accuracy: 0.8758\n",
      "Epoch 12/20\n",
      "30/30 [==============================] - 2s 76ms/step - loss: 0.0115 - binary_accuracy: 0.9989 - val_loss: 0.6173 - val_binary_accuracy: 0.8540\n",
      "Epoch 13/20\n",
      "30/30 [==============================] - 1s 41ms/step - loss: 0.0110 - binary_accuracy: 0.9983 - val_loss: 0.5385 - val_binary_accuracy: 0.8726\n",
      "Epoch 14/20\n",
      "30/30 [==============================] - 2s 58ms/step - loss: 0.0102 - binary_accuracy: 0.9979 - val_loss: 0.5712 - val_binary_accuracy: 0.8719\n",
      "Epoch 15/20\n",
      "30/30 [==============================] - 1s 46ms/step - loss: 0.0039 - binary_accuracy: 0.9998 - val_loss: 0.6423 - val_binary_accuracy: 0.8641\n",
      "Epoch 16/20\n",
      "30/30 [==============================] - 1s 36ms/step - loss: 0.0066 - binary_accuracy: 0.9984 - val_loss: 0.6514 - val_binary_accuracy: 0.8708\n",
      "Epoch 17/20\n",
      "30/30 [==============================] - 1s 38ms/step - loss: 0.0018 - binary_accuracy: 0.9999 - val_loss: 0.6810 - val_binary_accuracy: 0.8704\n",
      "Epoch 18/20\n",
      "30/30 [==============================] - 1s 36ms/step - loss: 0.0026 - binary_accuracy: 0.9996 - val_loss: 0.7310 - val_binary_accuracy: 0.8685\n",
      "Epoch 19/20\n",
      "30/30 [==============================] - 1s 47ms/step - loss: 0.0012 - binary_accuracy: 1.0000 - val_loss: 0.7377 - val_binary_accuracy: 0.8686\n",
      "Epoch 20/20\n",
      "30/30 [==============================] - 1s 48ms/step - loss: 7.9011e-04 - binary_accuracy: 0.9999 - val_loss: 0.7824 - val_binary_accuracy: 0.8690\n"
     ]
    }
   ],
   "source": [
    "model2.compile(optimizer=optimizers.RMSprop(lr=0.001), \n",
    "loss=losses.binary_crossentropy, \n",
    "metrics=[metrics.binary_accuracy])#从训练集中留出验证集\n",
    "x_val = x_train[:10000] #10000个样本作验证集Validation\n",
    "partial_x_train = x_train[10000:] #其余样本作训练集\n",
    "y_val = y_train[:10000] #10000个验证集样本标签\n",
    "partial_y_train = y_train[10000:] #测试集样本标#训练模型\n",
    "history = model2.fit(partial_x_train, \n",
    "partial_y_train, epochs=20, \n",
    "batch_size=512, \n",
    "validation_data=(x_val, y_val))"
   ]
  },
  {
   "cell_type": "code",
   "execution_count": 42,
   "metadata": {},
   "outputs": [
    {
     "name": "stdout",
     "output_type": "stream",
     "text": [
      "Epoch 1/4\n",
      "49/49 [==============================] - 4s 42ms/step - loss: 0.0359 - binary_accuracy: 0.9904: 3s - loss: 0.0277 -\n",
      "Epoch 2/4\n",
      "49/49 [==============================] - 2s 45ms/step - loss: 0.0264 - binary_accuracy: 0.9927\n",
      "Epoch 3/4\n",
      "49/49 [==============================] - 1s 27ms/step - loss: 0.0164 - binary_accuracy: 0.9958\n",
      "Epoch 4/4\n",
      "49/49 [==============================] - 1s 27ms/step - loss: 0.0114 - binary_accuracy: 0.9972\n",
      "782/782 [==============================] - 8s 5ms/step - loss: 0.8122 - binary_accuracy: 0.8574\n",
      "loss = 0.8122364282608032 accuracy = 0.8574000000953674\n",
      "测试样本数： 25000\n",
      "分类概率:\n",
      " [[7.6112151e-04]\n",
      " [1.0000000e+00]\n",
      " [9.9999779e-01]\n",
      " ...\n",
      " [1.8949807e-03]\n",
      " [6.8402290e-03]\n",
      " [9.1281706e-01]]\n"
     ]
    }
   ],
   "source": [
    "#训练新的模型\n",
    "model2.fit(x_train, y_train, epochs=4, batch_size=512)\n",
    "#评估模型性能\n",
    "loss,accuracy = model2.evaluate(x_test, y_test)\n",
    "print('loss =', loss, 'accuracy =', accuracy)\n",
    "#查看预测结果，属于各类的概率\n",
    "classes = model2.predict(x_test)\n",
    "print('测试样本数：',len(classes))\n",
    "print(\"分类概率:\\n\",classes)"
   ]
  },
  {
   "cell_type": "markdown",
   "metadata": {},
   "source": [
    "# 使用 mse 损失函数代替 binary_crossentropy（精度最高）"
   ]
  },
  {
   "cell_type": "code",
   "execution_count": 43,
   "metadata": {},
   "outputs": [
    {
     "name": "stdout",
     "output_type": "stream",
     "text": [
      "Epoch 1/20\n",
      "30/30 [==============================] - 143s 4s/step - loss: 0.6091 - binary_accuracy: 0.6532 - val_loss: 0.3964 - val_binary_accuracy: 0.8686\n",
      "Epoch 2/20\n",
      "30/30 [==============================] - 1s 33ms/step - loss: 0.3337 - binary_accuracy: 0.9002 - val_loss: 0.3089 - val_binary_accuracy: 0.8875\n",
      "Epoch 3/20\n",
      "30/30 [==============================] - 1s 33ms/step - loss: 0.2345 - binary_accuracy: 0.9291 - val_loss: 0.2889 - val_binary_accuracy: 0.8879\n",
      "Epoch 4/20\n",
      "30/30 [==============================] - 1s 35ms/step - loss: 0.1817 - binary_accuracy: 0.9448 - val_loss: 0.2750 - val_binary_accuracy: 0.8899\n",
      "Epoch 5/20\n",
      "30/30 [==============================] - 1s 39ms/step - loss: 0.1475 - binary_accuracy: 0.9534 - val_loss: 0.2805 - val_binary_accuracy: 0.8883\n",
      "Epoch 6/20\n",
      "30/30 [==============================] - 1s 28ms/step - loss: 0.1153 - binary_accuracy: 0.9676 - val_loss: 0.3071 - val_binary_accuracy: 0.8805\n",
      "Epoch 7/20\n",
      "30/30 [==============================] - 1s 32ms/step - loss: 0.0976 - binary_accuracy: 0.9719 - val_loss: 0.3078 - val_binary_accuracy: 0.8851\n",
      "Epoch 8/20\n",
      "30/30 [==============================] - 1s 27ms/step - loss: 0.0798 - binary_accuracy: 0.9790 - val_loss: 0.3308 - val_binary_accuracy: 0.8791\n",
      "Epoch 9/20\n",
      "30/30 [==============================] - 1s 31ms/step - loss: 0.0624 - binary_accuracy: 0.9839 - val_loss: 0.3678 - val_binary_accuracy: 0.8735\n",
      "Epoch 10/20\n",
      "30/30 [==============================] - 1s 29ms/step - loss: 0.0538 - binary_accuracy: 0.9872 - val_loss: 0.3765 - val_binary_accuracy: 0.8761\n",
      "Epoch 11/20\n",
      "30/30 [==============================] - 1s 34ms/step - loss: 0.0443 - binary_accuracy: 0.9900 - val_loss: 0.4029 - val_binary_accuracy: 0.8766\n",
      "Epoch 12/20\n",
      "30/30 [==============================] - 1s 30ms/step - loss: 0.0347 - binary_accuracy: 0.9927 - val_loss: 0.4325 - val_binary_accuracy: 0.8736\n",
      "Epoch 13/20\n",
      "30/30 [==============================] - 1s 30ms/step - loss: 0.0262 - binary_accuracy: 0.9950 - val_loss: 0.5186 - val_binary_accuracy: 0.8609\n",
      "Epoch 14/20\n",
      "30/30 [==============================] - 1s 30ms/step - loss: 0.0198 - binary_accuracy: 0.9973 - val_loss: 0.4910 - val_binary_accuracy: 0.8733\n",
      "Epoch 15/20\n",
      "30/30 [==============================] - 1s 29ms/step - loss: 0.0154 - binary_accuracy: 0.9981 - val_loss: 0.5247 - val_binary_accuracy: 0.8718\n",
      "Epoch 16/20\n",
      "30/30 [==============================] - 1s 27ms/step - loss: 0.0109 - binary_accuracy: 0.9992 - val_loss: 0.5527 - val_binary_accuracy: 0.8703\n",
      "Epoch 17/20\n",
      "30/30 [==============================] - 1s 30ms/step - loss: 0.0080 - binary_accuracy: 0.9997 - val_loss: 0.6101 - val_binary_accuracy: 0.8659\n",
      "Epoch 18/20\n",
      "30/30 [==============================] - 1s 32ms/step - loss: 0.0074 - binary_accuracy: 0.9995 - val_loss: 0.6253 - val_binary_accuracy: 0.8680\n",
      "Epoch 19/20\n",
      "30/30 [==============================] - 1s 28ms/step - loss: 0.0068 - binary_accuracy: 0.9986 - val_loss: 0.6597 - val_binary_accuracy: 0.8679\n",
      "Epoch 20/20\n",
      "30/30 [==============================] - 1s 35ms/step - loss: 0.0038 - binary_accuracy: 0.9998 - val_loss: 0.7788 - val_binary_accuracy: 0.8555\n"
     ]
    }
   ],
   "source": [
    "model3 = models.Sequential()\n",
    "model3.add(layers.Dense(16, activation='relu', input_shape=(10000,))) #隐层1\n",
    "model3.add(layers.Dense(16, activation='relu')) #隐层2\n",
    "model3.add(layers.Dense(1, activation='sigmoid')) #输出层#编译网络模型（直接传入字符串参数）\n",
    "model3.compile(optimizer='rmsprop', loss='mse', metrics=['accuracy'])\n",
    "#编译网络模型（配置自定义参数）\n",
    "from keras import optimizers\n",
    "from keras import losses \n",
    "from keras import metrics \n",
    "model3.compile(optimizer=optimizers.RMSprop(lr=0.001), \n",
    "loss=losses.binary_crossentropy, \n",
    "metrics=[metrics.binary_accuracy])#训练模型\n",
    "history = model3.fit(partial_x_train, \n",
    "partial_y_train, epochs=20, \n",
    "batch_size=512, \n",
    "validation_data=(x_val, y_val))"
   ]
  },
  {
   "cell_type": "code",
   "execution_count": 44,
   "metadata": {},
   "outputs": [
    {
     "name": "stdout",
     "output_type": "stream",
     "text": [
      "Epoch 1/4\n",
      "49/49 [==============================] - 3s 26ms/step - loss: 0.2197 - binary_accuracy: 0.9457\n",
      "Epoch 2/4\n",
      "49/49 [==============================] - 1s 27ms/step - loss: 0.1317 - binary_accuracy: 0.9610\n",
      "Epoch 3/4\n",
      "49/49 [==============================] - 1s 22ms/step - loss: 0.0976 - binary_accuracy: 0.9708\n",
      "Epoch 4/4\n",
      "49/49 [==============================] - 1s 18ms/step - loss: 0.0749 - binary_accuracy: 0.9773\n",
      "782/782 [==============================] - 6s 3ms/step - loss: 0.5011 - binary_accuracy: 0.8618\n",
      "loss = 0.5011339783668518 accuracy = 0.8617600202560425\n",
      "测试样本数： 25000\n",
      "分类概率:\n",
      " [[0.00484279]\n",
      " [0.9999857 ]\n",
      " [0.9585514 ]\n",
      " ...\n",
      " [0.07106334]\n",
      " [0.03679386]\n",
      " [0.8623848 ]]\n"
     ]
    }
   ],
   "source": [
    "#训练新的模型\n",
    "model3.fit(x_train, y_train, epochs=4, batch_size=512)\n",
    "#评估模型性能\n",
    "loss,accuracy = model3.evaluate(x_test, y_test)\n",
    "print('loss =', loss, 'accuracy =', accuracy)\n",
    "#查看预测结果，属于各类的概率\n",
    "classes = model3.predict(x_test)\n",
    "print('测试样本数：',len(classes))\n",
    "print(\"分类概率:\\n\",classes)"
   ]
  },
  {
   "cell_type": "markdown",
   "metadata": {},
   "source": [
    "使用不同batch_size"
   ]
  },
  {
   "cell_type": "code",
   "execution_count": 45,
   "metadata": {},
   "outputs": [
    {
     "name": "stdout",
     "output_type": "stream",
     "text": [
      "Epoch 1/20\n",
      "70/70 [==============================] - 229s 2s/step - loss: 0.5494 - binary_accuracy: 0.7462 - val_loss: 0.3546 - val_binary_accuracy: 0.8580\n",
      "Epoch 2/20\n",
      "70/70 [==============================] - 2s 23ms/step - loss: 0.2493 - binary_accuracy: 0.9194 - val_loss: 0.2768 - val_binary_accuracy: 0.8884\n",
      "Epoch 3/20\n",
      "70/70 [==============================] - 2s 26ms/step - loss: 0.1723 - binary_accuracy: 0.9423 - val_loss: 0.2882 - val_binary_accuracy: 0.8841\n",
      "Epoch 4/20\n",
      "70/70 [==============================] - 1s 17ms/step - loss: 0.1266 - binary_accuracy: 0.9575 - val_loss: 0.3049 - val_binary_accuracy: 0.8845\n",
      "Epoch 5/20\n",
      "70/70 [==============================] - 1s 18ms/step - loss: 0.1053 - binary_accuracy: 0.9670 - val_loss: 0.3259 - val_binary_accuracy: 0.8831\n",
      "Epoch 6/20\n",
      "70/70 [==============================] - 1s 19ms/step - loss: 0.0762 - binary_accuracy: 0.9780 - val_loss: 0.3625 - val_binary_accuracy: 0.8772\n",
      "Epoch 7/20\n",
      "70/70 [==============================] - 2s 26ms/step - loss: 0.0541 - binary_accuracy: 0.9853 - val_loss: 0.4271 - val_binary_accuracy: 0.8681\n",
      "Epoch 8/20\n",
      "70/70 [==============================] - 1s 17ms/step - loss: 0.0440 - binary_accuracy: 0.9875 - val_loss: 0.4397 - val_binary_accuracy: 0.8751\n",
      "Epoch 9/20\n",
      "70/70 [==============================] - 1s 17ms/step - loss: 0.0324 - binary_accuracy: 0.9922 - val_loss: 0.4877 - val_binary_accuracy: 0.8731\n",
      "Epoch 10/20\n",
      "70/70 [==============================] - 1s 19ms/step - loss: 0.0236 - binary_accuracy: 0.9940 - val_loss: 0.5480 - val_binary_accuracy: 0.8680\n",
      "Epoch 11/20\n",
      "70/70 [==============================] - 1s 20ms/step - loss: 0.0178 - binary_accuracy: 0.9957 - val_loss: 0.6081 - val_binary_accuracy: 0.8686\n",
      "Epoch 12/20\n",
      "70/70 [==============================] - 1s 17ms/step - loss: 0.0109 - binary_accuracy: 0.9979 - val_loss: 0.6659 - val_binary_accuracy: 0.8657\n",
      "Epoch 13/20\n",
      "70/70 [==============================] - 1s 18ms/step - loss: 0.0083 - binary_accuracy: 0.9986 - val_loss: 0.7360 - val_binary_accuracy: 0.8638\n",
      "Epoch 14/20\n",
      "70/70 [==============================] - 1s 16ms/step - loss: 0.0049 - binary_accuracy: 0.9994 - val_loss: 0.8084 - val_binary_accuracy: 0.8621\n",
      "Epoch 15/20\n",
      "70/70 [==============================] - 1s 18ms/step - loss: 0.0030 - binary_accuracy: 0.9997 - val_loss: 0.8676 - val_binary_accuracy: 0.8617\n",
      "Epoch 16/20\n",
      "70/70 [==============================] - 1s 15ms/step - loss: 0.0024 - binary_accuracy: 0.9997 - val_loss: 0.9424 - val_binary_accuracy: 0.8583\n",
      "Epoch 17/20\n",
      "70/70 [==============================] - 1s 17ms/step - loss: 0.0015 - binary_accuracy: 0.9999 - val_loss: 1.0380 - val_binary_accuracy: 0.8556\n",
      "Epoch 18/20\n",
      "70/70 [==============================] - 1s 19ms/step - loss: 9.4861e-04 - binary_accuracy: 0.9999 - val_loss: 1.0704 - val_binary_accuracy: 0.8605\n",
      "Epoch 19/20\n",
      "70/70 [==============================] - 1s 16ms/step - loss: 6.0833e-04 - binary_accuracy: 0.9998 - val_loss: 1.1452 - val_binary_accuracy: 0.8608\n",
      "Epoch 20/20\n",
      "70/70 [==============================] - 1s 16ms/step - loss: 3.8492e-04 - binary_accuracy: 0.9999 - val_loss: 1.2189 - val_binary_accuracy: 0.8594\n"
     ]
    }
   ],
   "source": [
    "model4 = models.Sequential()\n",
    "model4.add(layers.Dense(16, activation='relu', input_shape=(10000,))) #隐层1\n",
    "model4.add(layers.Dense(16, activation='relu')) #隐层2\n",
    "model4.add(layers.Dense(1, activation='sigmoid')) #输出层#编译网络模型（直接传入字符串参数）\n",
    "model4.compile(optimizer='rmsprop', loss='binary_crossentropy', metrics=['accuracy'])\n",
    "#编译网络模型（配置自定义参数）\n",
    "from keras import optimizers\n",
    "from keras import losses \n",
    "from keras import metrics \n",
    "model4.compile(optimizer=optimizers.RMSprop(lr=0.001), \n",
    "loss=losses.binary_crossentropy, \n",
    "metrics=[metrics.binary_accuracy])#训练模型\n",
    "history = model4.fit(partial_x_train, \n",
    "partial_y_train, epochs=20, \n",
    "batch_size=216, \n",
    "validation_data=(x_val, y_val))"
   ]
  },
  {
   "cell_type": "code",
   "execution_count": 46,
   "metadata": {},
   "outputs": [
    {
     "name": "stdout",
     "output_type": "stream",
     "text": [
      "Epoch 1/4\n",
      "49/49 [==============================] - 4s 47ms/step - loss: 0.2899 - binary_accuracy: 0.9416: 2s - loss: 0.4822\n",
      "Epoch 2/4\n",
      "49/49 [==============================] - 2s 47ms/step - loss: 0.1516 - binary_accuracy: 0.9568\n",
      "Epoch 3/4\n",
      "49/49 [==============================] - 6s 133ms/step - loss: 0.1175 - binary_accuracy: 0.9661 2s - \n",
      "Epoch 4/4\n",
      "49/49 [==============================] - 4s 81ms/step - loss: 0.0959 - binary_accuracy: 0.9713\n",
      "782/782 [==============================] - 4s 2ms/step - loss: 0.5237 - binary_accuracy: 0.8579\n",
      "loss = 0.5237368941307068 accuracy = 0.8579199910163879\n",
      "测试样本数： 25000\n",
      "分类概率:\n",
      " [[0.01326418]\n",
      " [1.        ]\n",
      " [0.9847597 ]\n",
      " ...\n",
      " [0.25990385]\n",
      " [0.16812077]\n",
      " [0.36221075]]\n"
     ]
    }
   ],
   "source": [
    "#训练新的模型\n",
    "model4.fit(x_train, y_train, epochs=4, batch_size=512)\n",
    "#评估模型性能\n",
    "loss,accuracy = model4.evaluate(x_test, y_test)\n",
    "print('loss =', loss, 'accuracy =', accuracy)\n",
    "#查看预测结果，属于各类的概率\n",
    "classes = model4.predict(x_test)\n",
    "print('测试样本数：',len(classes))\n",
    "print(\"分类概率:\\n\",classes)"
   ]
  },
  {
   "cell_type": "markdown",
   "metadata": {},
   "source": [
    "设置一定验证精度停止训练(结果在第四次停止)"
   ]
  },
  {
   "cell_type": "code",
   "execution_count": 16,
   "metadata": {},
   "outputs": [
    {
     "name": "stdout",
     "output_type": "stream",
     "text": [
      "Epoch 1/20\n",
      "30/30 [==============================] - 2s 40ms/step - loss: 0.5874 - binary_accuracy: 0.6889 - val_loss: 0.4190 - val_binary_accuracy: 0.8174\n",
      "Epoch 2/20\n",
      "30/30 [==============================] - 1s 29ms/step - loss: 0.3079 - binary_accuracy: 0.8943 - val_loss: 0.2983 - val_binary_accuracy: 0.8835\n",
      "Epoch 3/20\n",
      "30/30 [==============================] - 1s 31ms/step - loss: 0.2101 - binary_accuracy: 0.9366 - val_loss: 0.2737 - val_binary_accuracy: 0.8917\n",
      "Epoch 4/20\n",
      "30/30 [==============================] - 1s 33ms/step - loss: 0.1609 - binary_accuracy: 0.9509 - val_loss: 0.2756 - val_binary_accuracy: 0.8894\n"
     ]
    }
   ],
   "source": [
    "model5 = models.Sequential()\n",
    "model5.add(layers.Dense(16, activation='relu', input_shape=(10000,))) #隐层1\n",
    "model5.add(layers.Dense(16, activation='relu')) #隐层2\n",
    "model5.add(layers.Dense(1, activation='sigmoid')) #输出层#编译网络模型（直接传入字符串参数）\n",
    "\n",
    "\n",
    "callback = keras.callbacks.EarlyStopping(patience=1)\n",
    "# EarlyStopping是Callbacks的一种，callbacks用于指定在每个epoch开始和结束的时候进行哪种特定操作。Callbacks中有一些设置好的接口，可以直接使用，如’acc’, 'val_acc’, ’loss’ 和 ’val_loss’等等。\n",
    "# EarlyStopping则是用于提前停止训练的callbacks。具体地，可以达到当训练集上的loss不在减小（即减小的程度小于某个阈值）的时候停止继续训练。\n",
    "\n",
    "model5.compile(optimizer='rmsprop', loss='binary_crossentropy', metrics=['accuracy'])\n",
    "#编译网络模型（配置自定义参数）\n",
    "from keras import optimizers\n",
    "from keras import losses \n",
    "from keras import metrics \n",
    "model5.compile(optimizer=optimizers.RMSprop(lr=0.001), \n",
    "loss=losses.binary_crossentropy, \n",
    "metrics=[metrics.binary_accuracy])#训练模型\n",
    "history = model5.fit(partial_x_train, \n",
    "partial_y_train, epochs=20, \n",
    "batch_size=512, callbacks=[callback],\n",
    "validation_data=(x_val, y_val))"
   ]
  },
  {
   "cell_type": "code",
   "execution_count": 52,
   "metadata": {},
   "outputs": [
    {
     "data": {
      "image/png": "[encoded data removed]",
      "text/plain": [
       "<Figure size 432x288 with 1 Axes>"
      ]
     },
     "metadata": {
      "needs_background": "light"
     },
     "output_type": "display_data"
    }
   ],
   "source": [
    "#绘制训练损失和验证损失随迭代次数变化图\n",
    "import matplotlib.pyplot as plt\n",
    "history_dict = history.history\n",
    "loss_values = history_dict['loss']\n",
    "val_loss_values = history_dict['val_loss']\n",
    "epochs = range(1, len(loss_values) + 1)\n",
    "plt.plot(epochs, loss_values, 'bo', label='Training loss') \n",
    "plt.plot(epochs, val_loss_values, 'b', label='Validation loss') \n",
    "plt.title('Training and validation loss')\n",
    "plt.xlabel('Epochs')\n",
    "plt.ylabel('Loss')\n",
    "plt.legend()\n",
    "plt.show()"
   ]
  },
  {
   "cell_type": "markdown",
   "metadata": {},
   "source": [
    "在第四次迭代停下与图中结果一致"
   ]
  },
  {
   "cell_type": "code",
   "execution_count": 53,
   "metadata": {},
   "outputs": [
    {
     "name": "stdout",
     "output_type": "stream",
     "text": [
      "Epoch 1/4\n",
      "49/49 [==============================] - 3s 33ms/step - loss: 0.2376 - binary_accuracy: 0.9454: 0s - loss: 0.2503 - binary_accuracy:\n",
      "Epoch 2/4\n",
      "49/49 [==============================] - 2s 34ms/step - loss: 0.1414 - binary_accuracy: 0.9586\n",
      "Epoch 3/4\n",
      "49/49 [==============================] - 1s 25ms/step - loss: 0.1131 - binary_accuracy: 0.9668\n",
      "Epoch 4/4\n",
      "49/49 [==============================] - 2s 43ms/step - loss: 0.0908 - binary_accuracy: 0.9726\n",
      "782/782 [==============================] - 4s 3ms/step - loss: 0.4894 - binary_accuracy: 0.8610\n",
      "loss = 0.48943573236465454 accuracy = 0.8610399961471558\n",
      "测试样本数： 25000\n",
      "分类概率:\n",
      " [[0.02872968]\n",
      " [1.        ]\n",
      " [0.98669153]\n",
      " ...\n",
      " [0.0766882 ]\n",
      " [0.07982689]\n",
      " [0.87750506]]\n"
     ]
    }
   ],
   "source": [
    "#训练新的模型\n",
    "model5.fit(x_train, y_train, epochs=4, batch_size=512)\n",
    "#评估模型性能\n",
    "loss,accuracy = model5.evaluate(x_test, y_test)\n",
    "print('loss =', loss, 'accuracy =', accuracy)\n",
    "#查看预测结果，属于各类的概率\n",
    "classes = model5.predict(x_test)\n",
    "print('测试样本数：',len(classes))\n",
    "print(\"分类概率:\\n\",classes)"
   ]
  },
  {
   "cell_type": "markdown",
   "metadata": {},
   "source": [
    "综上，精度最高的是使用 mse 损失函数代替 binary_crossentropy，其他与原始做法相同的版本"
   ]
  }
 ],
 "metadata": {
  "kernelspec": {
   "display_name": "Python 3",
   "language": "python",
   "name": "python3"
  },
  "language_info": {
   "codemirror_mode": {
    "name": "ipython",
    "version": 3
   },
   "file_extension": ".py",
   "mimetype": "text/x-python",
   "name": "python",
   "nbconvert_exporter": "python",
   "pygments_lexer": "ipython3",
   "version": "3.7.0"
  }
 },
 "nbformat": 4,
 "nbformat_minor": 4
}
