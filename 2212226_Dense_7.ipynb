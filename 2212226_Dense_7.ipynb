{
 "cells": [
  {
   "cell_type": "code",
   "execution_count": 1,
   "metadata": {},
   "outputs": [
    {
     "name": "stderr",
     "output_type": "stream",
     "text": [
      "Using TensorFlow backend.\n"
     ]
    },
    {
     "data": {
      "text/plain": [
       "'2.3.1'"
      ]
     },
     "execution_count": 1,
     "metadata": {},
     "output_type": "execute_result"
    }
   ],
   "source": [
    "import keras\n",
    "keras.__version__"
   ]
  },
  {
   "cell_type": "markdown",
   "metadata": {},
   "source": [
    "#### 作业1: 多输入模型7.1.2"
   ]
  },
  {
   "cell_type": "code",
   "execution_count": 2,
   "metadata": {},
   "outputs": [],
   "source": [
    "from keras.models import Model\n",
    "from keras import layers\n",
    "from keras import Input"
   ]
  },
  {
   "cell_type": "code",
   "execution_count": 4,
   "metadata": {},
   "outputs": [],
   "source": [
    "# 多输入单输出\n",
    "text_vocabulary_size = 10000   #参考文本最大长度\n",
    "question_vocabulary_size = 10000   #问题文本最大长度\n",
    "answer_vocabulary_size = 500   #答案个数\n",
    "\n",
    "text_input = Input(shape=(None,),dtype='int32',name='text')\n",
    "embedded_text = layers.Embedding(text_vocabulary_size,64)(text_input)  #将输入嵌入长度为64的词向量\n",
    "encoded_text = layers.LSTM(32)(embedded_text)\n",
    "\n",
    "question_input = Input(shape=(None,),dtype='int32',name='question')\n",
    "embedded_question = layers.Embedding(question_vocabulary_size,32)(question_input)\n",
    "encoded_question = layers.LSTM(16)(embedded_question)\n",
    "\n",
    "concatenated = layers.concatenate([encoded_text,encoded_question],axis=-1)  #将编码后的问题和文本拼接起来\n",
    "answer = layers.Dense(answer_vocabulary_size,activation='softmax')(concatenated)\n",
    "\n",
    "# 将输入与输出放入Model中\n",
    "model = Model([text_input,question_input],answer)\n",
    "model.compile(optimizer='rmsprop',\n",
    "              loss='categorical_crossentropy',\n",
    "              metrics=['acc'])"
   ]
  },
  {
   "cell_type": "code",
   "execution_count": 5,
   "metadata": {},
   "outputs": [
    {
     "name": "stdout",
     "output_type": "stream",
     "text": [
      "Model: \"model_2\"\n",
      "__________________________________________________________________________________________________\n",
      "Layer (type)                    Output Shape         Param #     Connected to                     \n",
      "==================================================================================================\n",
      "text (InputLayer)               (None, None)         0                                            \n",
      "__________________________________________________________________________________________________\n",
      "question (InputLayer)           (None, None)         0                                            \n",
      "__________________________________________________________________________________________________\n",
      "embedding_3 (Embedding)         (None, None, 64)     640000      text[0][0]                       \n",
      "__________________________________________________________________________________________________\n",
      "embedding_4 (Embedding)         (None, None, 32)     320000      question[0][0]                   \n",
      "__________________________________________________________________________________________________\n",
      "lstm_3 (LSTM)                   (None, 32)           12416       embedding_3[0][0]                \n",
      "__________________________________________________________________________________________________\n",
      "lstm_4 (LSTM)                   (None, 16)           3136        embedding_4[0][0]                \n",
      "__________________________________________________________________________________________________\n",
      "concatenate_2 (Concatenate)     (None, 48)           0           lstm_3[0][0]                     \n",
      "                                                                 lstm_4[0][0]                     \n",
      "__________________________________________________________________________________________________\n",
      "dense_2 (Dense)                 (None, 500)          24500       concatenate_2[0][0]              \n",
      "==================================================================================================\n",
      "Total params: 1,000,052\n",
      "Trainable params: 1,000,052\n",
      "Non-trainable params: 0\n",
      "__________________________________________________________________________________________________\n"
     ]
    }
   ],
   "source": [
    "model.summary()"
   ]
  },
  {
   "cell_type": "code",
   "execution_count": 6,
   "metadata": {},
   "outputs": [
    {
     "name": "stdout",
     "output_type": "stream",
     "text": [
      "WARNING:tensorflow:From D:\\Anaconda\\lib\\site-packages\\tensorflow\\python\\ops\\math_ops.py:3066: to_int32 (from tensorflow.python.ops.math_ops) is deprecated and will be removed in a future version.\n",
      "Instructions for updating:\n",
      "Use tf.cast instead.\n",
      "Epoch 1/10\n",
      "1000/1000 [==============================] - 2s 2ms/step - loss: 6.2145 - acc: 0.0010\n",
      "Epoch 2/10\n",
      "1000/1000 [==============================] - 1s 564us/step - loss: 6.1952 - acc: 0.0260\n",
      "Epoch 3/10\n",
      "1000/1000 [==============================] - 1s 549us/step - loss: 6.1273 - acc: 0.0060\n",
      "Epoch 4/10\n",
      "1000/1000 [==============================] - 1s 565us/step - loss: 6.0516 - acc: 0.0060\n",
      "Epoch 5/10\n",
      "1000/1000 [==============================] - 1s 566us/step - loss: 5.9913 - acc: 0.0090\n",
      "Epoch 6/10\n",
      "1000/1000 [==============================] - 1s 557us/step - loss: 5.8924 - acc: 0.0150\n",
      "Epoch 7/10\n",
      "1000/1000 [==============================] - 1s 561us/step - loss: 5.7856 - acc: 0.0230\n",
      "Epoch 8/10\n",
      "1000/1000 [==============================] - 1s 558us/step - loss: 5.7043 - acc: 0.0340\n",
      "Epoch 9/10\n",
      "1000/1000 [==============================] - 1s 562us/step - loss: 5.6263 - acc: 0.0330\n",
      "Epoch 10/10\n",
      "1000/1000 [==============================] - 1s 556us/step - loss: 5.5580 - acc: 0.0290\n"
     ]
    },
    {
     "data": {
      "text/plain": [
       "<keras.callbacks.callbacks.History at 0x2129b8b1dd8>"
      ]
     },
     "execution_count": 6,
     "metadata": {},
     "output_type": "execute_result"
    }
   ],
   "source": [
    "import numpy as np\n",
    "\n",
    "num_samples = 1000  #1000个问题\n",
    "max_length = 100  #每个问题的最大长度\n",
    "\n",
    "text = np.random.randint(0,text_vocabulary_size,size=(num_samples,max_length))  #随机生成参考文本\n",
    "question= np.random.randint(0,question_vocabulary_size,size=(num_samples,max_length))  #随机生成参考问题\n",
    "answers = np.random.randint(0,answer_vocabulary_size,num_samples)  #随机生成答案\n",
    "answers = keras.utils.to_categorical(answers,answer_vocabulary_size)  #将答案独热编码\n",
    "\n",
    "model.fit([text,question],answers,epochs=10,batch_size=128)"
   ]
  },
  {
   "cell_type": "markdown",
   "metadata": {},
   "source": [
    "#### 多输出模型7.1.3"
   ]
  },
  {
   "cell_type": "code",
   "execution_count": 8,
   "metadata": {},
   "outputs": [],
   "source": [
    "#三输出模型(年龄、收入、性别)\n",
    "from keras import layers\n",
    "from keras import Input\n",
    "from keras.models import Model\n",
    "\n",
    "vocabulary_size = 50000  #社交媒体发帖最大词数\n",
    "num_income_groups = 10  #收入分组数\n",
    "\n",
    "posts_input = Input(shape=(None,),dtype='int32',name='posts')\n",
    "embedded_posts = layers.Embedding(vocabulary_size,256)(posts_input)\n",
    "x = layers.Conv1D(128,5,activation='relu')(embedded_posts)\n",
    "x = layers.MaxPooling1D(5)(x)\n",
    "x = layers.Conv1D(256,5,activation='relu')(x)\n",
    "x = layers.Conv1D(256,5,activation='relu')(x)\n",
    "x = layers.MaxPooling1D(5)(x)\n",
    "x = layers.Conv1D(256,5,activation='relu')(x)\n",
    "x = layers.Conv1D(256,5,activation='relu')(x)\n",
    "x = layers.GlobalMaxPool1D()(x)\n",
    "x = layers.Dense(128,activation='relu')(x)\n",
    "\n",
    "age_prediction = layers.Dense(1,name='age')(x)\n",
    "income_prediction = layers.Dense(num_income_groups,activation='softmax',name='income')(x)\n",
    "gender_prediction = layers.Dense(1,activation='sigmoid',name='gender')(x)\n",
    "\n",
    "model = Model(posts_input,[age_prediction,income_prediction,gender_prediction])"
   ]
  },
  {
   "cell_type": "code",
   "execution_count": 9,
   "metadata": {},
   "outputs": [
    {
     "name": "stdout",
     "output_type": "stream",
     "text": [
      "Model: \"model_3\"\n",
      "__________________________________________________________________________________________________\n",
      "Layer (type)                    Output Shape         Param #     Connected to                     \n",
      "==================================================================================================\n",
      "posts (InputLayer)              (None, None)         0                                            \n",
      "__________________________________________________________________________________________________\n",
      "embedding_5 (Embedding)         (None, None, 256)    12800000    posts[0][0]                      \n",
      "__________________________________________________________________________________________________\n",
      "conv1d_1 (Conv1D)               (None, None, 128)    163968      embedding_5[0][0]                \n",
      "__________________________________________________________________________________________________\n",
      "max_pooling1d_1 (MaxPooling1D)  (None, None, 128)    0           conv1d_1[0][0]                   \n",
      "__________________________________________________________________________________________________\n",
      "conv1d_2 (Conv1D)               (None, None, 256)    164096      max_pooling1d_1[0][0]            \n",
      "__________________________________________________________________________________________________\n",
      "conv1d_3 (Conv1D)               (None, None, 256)    327936      conv1d_2[0][0]                   \n",
      "__________________________________________________________________________________________________\n",
      "max_pooling1d_2 (MaxPooling1D)  (None, None, 256)    0           conv1d_3[0][0]                   \n",
      "__________________________________________________________________________________________________\n",
      "conv1d_4 (Conv1D)               (None, None, 256)    327936      max_pooling1d_2[0][0]            \n",
      "__________________________________________________________________________________________________\n",
      "conv1d_5 (Conv1D)               (None, None, 256)    327936      conv1d_4[0][0]                   \n",
      "__________________________________________________________________________________________________\n",
      "global_max_pooling1d_1 (GlobalM (None, 256)          0           conv1d_5[0][0]                   \n",
      "__________________________________________________________________________________________________\n",
      "dense_3 (Dense)                 (None, 128)          32896       global_max_pooling1d_1[0][0]     \n",
      "__________________________________________________________________________________________________\n",
      "age (Dense)                     (None, 1)            129         dense_3[0][0]                    \n",
      "__________________________________________________________________________________________________\n",
      "income (Dense)                  (None, 10)           1290        dense_3[0][0]                    \n",
      "__________________________________________________________________________________________________\n",
      "gender (Dense)                  (None, 1)            129         dense_3[0][0]                    \n",
      "==================================================================================================\n",
      "Total params: 14,146,316\n",
      "Trainable params: 14,146,316\n",
      "Non-trainable params: 0\n",
      "__________________________________________________________________________________________________\n"
     ]
    }
   ],
   "source": [
    "model.summary()"
   ]
  },
  {
   "cell_type": "code",
   "execution_count": 10,
   "metadata": {},
   "outputs": [],
   "source": [
    "model.compile(optimizer='rmsprop',\n",
    "              loss=['mse','categorical_crossentropy' ,'binary_crossentropy'],\n",
    "              loss_weights = [0.25,1.0,10.])"
   ]
  },
  {
   "cell_type": "code",
   "execution_count": 18,
   "metadata": {},
   "outputs": [],
   "source": [
    "import numpy as np\n",
    "\n",
    "num_samples = 1000  #1000个发帖\n",
    "max_length = 300  #每个帖子的最大长度\n",
    "\n",
    "posts = np.random.randint(0,vocabulary_size,size = (num_samples,max_length))\n",
    "\n",
    "age_targets = np.random.random(num_samples)*80+10\n",
    "income_targets = np.random.randint(0,num_income_groups,num_samples)\n",
    "income_targets = keras.utils.to_categorical(income_targets,num_income_groups)\n",
    "gender_targets = np.random.randint(0,2,num_samples)"
   ]
  },
  {
   "cell_type": "code",
   "execution_count": 19,
   "metadata": {},
   "outputs": [
    {
     "name": "stdout",
     "output_type": "stream",
     "text": [
      "WARNING:tensorflow:From D:\\Anaconda\\lib\\site-packages\\tensorflow\\python\\ops\\math_grad.py:102: div (from tensorflow.python.ops.math_ops) is deprecated and will be removed in a future version.\n",
      "Instructions for updating:\n",
      "Deprecated in favor of operator or tf.math.divide.\n",
      "Epoch 1/10\n",
      "1000/1000 [==============================] - 7s 7ms/step - loss: 387.4078 - age_loss: 1451.5447 - income_loss: 3.9334 - gender_loss: 1.6006\n",
      "Epoch 2/10\n",
      "1000/1000 [==============================] - 6s 6ms/step - loss: 173.5352 - age_loss: 645.9570 - income_loss: 2.7508 - gender_loss: 0.9198\n",
      "Epoch 3/10\n",
      "1000/1000 [==============================] - 6s 6ms/step - loss: 169.0385 - age_loss: 624.5934 - income_loss: 2.3936 - gender_loss: 0.8054\n",
      "Epoch 4/10\n",
      "1000/1000 [==============================] - 6s 6ms/step - loss: 127.7919 - age_loss: 460.1621 - income_loss: 2.3948 - gender_loss: 0.9512\n",
      "Epoch 5/10\n",
      "1000/1000 [==============================] - 6s 6ms/step - loss: 91.9249 - age_loss: 323.2721 - income_loss: 2.3776 - gender_loss: 0.7890\n",
      "Epoch 6/10\n",
      "1000/1000 [==============================] - 6s 6ms/step - loss: 91.4348 - age_loss: 309.5790 - income_loss: 2.4463 - gender_loss: 1.0097\n",
      "Epoch 7/10\n",
      "1000/1000 [==============================] - 6s 6ms/step - loss: 88.8120 - age_loss: 304.4424 - income_loss: 2.3871 - gender_loss: 0.9544\n",
      "Epoch 8/10\n",
      "1000/1000 [==============================] - 6s 6ms/step - loss: 82.9976 - age_loss: 293.3732 - income_loss: 2.3864 - gender_loss: 0.8671\n",
      "Epoch 9/10\n",
      "1000/1000 [==============================] - 6s 6ms/step - loss: 60.6478 - age_loss: 196.8826 - income_loss: 2.3866 - gender_loss: 0.8715\n",
      "Epoch 10/10\n",
      "1000/1000 [==============================] - 5s 5ms/step - loss: 80.2459 - age_loss: 274.0760 - income_loss: 2.4358 - gender_loss: 0.9646\n"
     ]
    },
    {
     "data": {
      "text/plain": [
       "<keras.callbacks.callbacks.History at 0x212bb9a95c0>"
      ]
     },
     "execution_count": 19,
     "metadata": {},
     "output_type": "execute_result"
    }
   ],
   "source": [
    "model.fit(posts,[age_targets,income_targets,gender_targets],epochs=10,batch_size=64)"
   ]
  },
  {
   "cell_type": "markdown",
   "metadata": {},
   "source": [
    "#### 作业2:对例6.2.3(IMDB的RNN模型)引入回调函数"
   ]
  },
  {
   "cell_type": "code",
   "execution_count": 26,
   "metadata": {},
   "outputs": [],
   "source": [
    "#读取数据\n",
    "from keras.datasets import imdb\n",
    "from keras.preprocessing import sequence\n",
    "\n",
    "max_features = 10000  #最大特征数,即该训练集最常见的前10000个单词\n",
    "maxlen = 20  #每条评论最大长度为20，超过将被截断\n",
    "\n",
    "#将数据加载为整数列表\n",
    "(x_train, y_train), (x_test, y_test) = imdb.load_data(num_words=max_features)\n",
    "\n",
    "#整数列表填充处理:即超长截断、不足则前补0，默认从尾部截取，得到等长二维整数张量(samples,maxlen)\n",
    "x_train = sequence.pad_sequences(x_train, maxlen=maxlen)\n",
    "x_test = sequence.pad_sequences(x_test, maxlen=maxlen)"
   ]
  },
  {
   "cell_type": "code",
   "execution_count": 27,
   "metadata": {},
   "outputs": [],
   "source": [
    "from keras.models import Sequential\n",
    "from keras.layers import Dense,LSTM,Embedding\n",
    "\n",
    "model = Sequential()\n",
    "model.add(Embedding(max_features, 32))\n",
    "model.add(LSTM(32))\n",
    "model.add(Dense(1, activation='sigmoid'))\n",
    "\n",
    "#回调函数列表\n",
    "callbacks_list = [\n",
    "    keras.callbacks.EarlyStopping(\n",
    "        monitor='val_acc',  #监控模型的验证精度\n",
    "        patience=2,  #验证精度多余2轮的时间(即3轮)内不改善，则终止模型\n",
    "    ),\n",
    "    keras.callbacks.ReduceLROnPlateau(\n",
    "        monitor='val_loss',\n",
    "        factor=0.1,# 如果符合条件，学习速率变为原来的0.5\n",
    "        patience = 5  #验证损失5轮内不改善，则终止模型\n",
    "    )\n",
    "]"
   ]
  },
  {
   "cell_type": "code",
   "execution_count": 28,
   "metadata": {},
   "outputs": [
    {
     "name": "stdout",
     "output_type": "stream",
     "text": [
      "Train on 20000 samples, validate on 5000 samples\n",
      "Epoch 1/20\n",
      "20000/20000 [==============================] - 3s 166us/step - loss: 0.5878 - acc: 0.6888 - val_loss: 0.5252 - val_acc: 0.7304\n",
      "Epoch 2/20\n",
      "20000/20000 [==============================] - 2s 103us/step - loss: 0.4459 - acc: 0.7915 - val_loss: 0.5017 - val_acc: 0.7490\n",
      "Epoch 3/20\n",
      "20000/20000 [==============================] - 2s 103us/step - loss: 0.3968 - acc: 0.8207 - val_loss: 0.4930 - val_acc: 0.7548\n",
      "Epoch 4/20\n",
      "20000/20000 [==============================] - 2s 103us/step - loss: 0.3666 - acc: 0.8378 - val_loss: 0.5128 - val_acc: 0.7522\n",
      "Epoch 5/20\n",
      "20000/20000 [==============================] - 2s 102us/step - loss: 0.3456 - acc: 0.8486 - val_loss: 0.5330 - val_acc: 0.7478\n"
     ]
    }
   ],
   "source": [
    "model.compile(optimizer='rmsprop',\n",
    "              loss='binary_crossentropy',\n",
    "              metrics=['acc'])\n",
    "history = model.fit(x_train, y_train,\n",
    "                    epochs=20,\n",
    "                    batch_size=128,\n",
    "                    callbacks=callbacks_list,  #引入回调函数\n",
    "                    validation_split=0.2)"
   ]
  },
  {
   "cell_type": "markdown",
   "metadata": {},
   "source": [
    "#### 作业3:用Tensorboard查看(IMDB的RNN模型)运行过程的可视化结果"
   ]
  },
  {
   "cell_type": "code",
   "execution_count": 25,
   "metadata": {},
   "outputs": [],
   "source": [
    "mkdir my_log_dir"
   ]
  },
  {
   "cell_type": "code",
   "execution_count": 31,
   "metadata": {},
   "outputs": [],
   "source": [
    "from keras.models import Sequential\n",
    "from keras.layers import Dense,LSTM,Embedding\n",
    "\n",
    "model = Sequential()\n",
    "model.add(Embedding(max_features, 32))\n",
    "model.add(LSTM(32))\n",
    "model.add(Dense(1, activation='sigmoid'))\n",
    "\n",
    "callbacks = [\n",
    "    keras.callbacks.TensorBoard(\n",
    "        log_dir='my_log_dir',\n",
    "        histogram_freq = 1,\n",
    "    )\n",
    "]"
   ]
  },
  {
   "cell_type": "code",
   "execution_count": 32,
   "metadata": {},
   "outputs": [
    {
     "name": "stdout",
     "output_type": "stream",
     "text": [
      "Train on 20000 samples, validate on 5000 samples\n",
      "Epoch 1/20\n",
      "20000/20000 [==============================] - 3s 172us/step - loss: 0.5794 - acc: 0.6921 - val_loss: 0.5407 - val_acc: 0.7236\n",
      "Epoch 2/20\n",
      "20000/20000 [==============================] - 2s 102us/step - loss: 0.4434 - acc: 0.7944 - val_loss: 0.4935 - val_acc: 0.7518\n",
      "Epoch 3/20\n",
      "20000/20000 [==============================] - 2s 101us/step - loss: 0.3959 - acc: 0.8226 - val_loss: 0.5008 - val_acc: 0.7502\n",
      "Epoch 4/20\n",
      "20000/20000 [==============================] - 2s 101us/step - loss: 0.3673 - acc: 0.8352 - val_loss: 0.4930 - val_acc: 0.7504\n",
      "Epoch 5/20\n",
      "20000/20000 [==============================] - 2s 107us/step - loss: 0.3466 - acc: 0.8500 - val_loss: 0.5110 - val_acc: 0.7470\n",
      "Epoch 6/20\n",
      "20000/20000 [==============================] - 2s 108us/step - loss: 0.3280 - acc: 0.8590 - val_loss: 0.5375 - val_acc: 0.7352\n",
      "Epoch 7/20\n",
      "20000/20000 [==============================] - 2s 102us/step - loss: 0.3104 - acc: 0.8695 - val_loss: 0.5336 - val_acc: 0.7420\n",
      "Epoch 8/20\n",
      "20000/20000 [==============================] - 2s 101us/step - loss: 0.2938 - acc: 0.8766 - val_loss: 0.5660 - val_acc: 0.7482\n",
      "Epoch 9/20\n",
      "20000/20000 [==============================] - 2s 102us/step - loss: 0.2769 - acc: 0.8850 - val_loss: 0.5691 - val_acc: 0.7362\n",
      "Epoch 10/20\n",
      "20000/20000 [==============================] - 2s 102us/step - loss: 0.2618 - acc: 0.8913 - val_loss: 0.6150 - val_acc: 0.7382\n",
      "Epoch 11/20\n",
      "20000/20000 [==============================] - 2s 102us/step - loss: 0.2457 - acc: 0.8995 - val_loss: 0.6189 - val_acc: 0.7378\n",
      "Epoch 12/20\n",
      "20000/20000 [==============================] - 2s 102us/step - loss: 0.2303 - acc: 0.9072 - val_loss: 0.6486 - val_acc: 0.7250\n",
      "Epoch 13/20\n",
      "20000/20000 [==============================] - 2s 102us/step - loss: 0.2136 - acc: 0.9148 - val_loss: 0.7439 - val_acc: 0.7344\n",
      "Epoch 14/20\n",
      "20000/20000 [==============================] - 2s 103us/step - loss: 0.1988 - acc: 0.9221 - val_loss: 0.7000 - val_acc: 0.7262\n",
      "Epoch 15/20\n",
      "20000/20000 [==============================] - 2s 105us/step - loss: 0.1814 - acc: 0.9293 - val_loss: 0.6804 - val_acc: 0.7244\n",
      "Epoch 16/20\n",
      "20000/20000 [==============================] - 2s 102us/step - loss: 0.1659 - acc: 0.9366 - val_loss: 0.7671 - val_acc: 0.7266\n",
      "Epoch 17/20\n",
      "20000/20000 [==============================] - 2s 102us/step - loss: 0.1502 - acc: 0.9450 - val_loss: 0.8864 - val_acc: 0.7204\n",
      "Epoch 18/20\n",
      "20000/20000 [==============================] - 2s 103us/step - loss: 0.1368 - acc: 0.9488 - val_loss: 0.9243 - val_acc: 0.7164\n",
      "Epoch 19/20\n",
      "20000/20000 [==============================] - 2s 103us/step - loss: 0.1220 - acc: 0.9559 - val_loss: 0.9531 - val_acc: 0.7146\n",
      "Epoch 20/20\n",
      "20000/20000 [==============================] - 2s 102us/step - loss: 0.1075 - acc: 0.9597 - val_loss: 0.9728 - val_acc: 0.7148\n"
     ]
    }
   ],
   "source": [
    "model.compile(optimizer='rmsprop',\n",
    "              loss='binary_crossentropy',\n",
    "              metrics=['acc'])\n",
    "history = model.fit(x_train, y_train,\n",
    "                    epochs=20,\n",
    "                    batch_size=128,\n",
    "                    callbacks=callbacks,\n",
    "                    validation_split=0.2)"
   ]
  }
 ],
 "metadata": {
  "kernelspec": {
   "display_name": "Python 3",
   "language": "python",
   "name": "python3"
  },
  "language_info": {
   "codemirror_mode": {
    "name": "ipython",
    "version": 3
   },
   "file_extension": ".py",
   "mimetype": "text/x-python",
   "name": "python",
   "nbconvert_exporter": "python",
   "pygments_lexer": "ipython3",
   "version": "3.7.0"
  }
 },
 "nbformat": 4,
 "nbformat_minor": 2
}
