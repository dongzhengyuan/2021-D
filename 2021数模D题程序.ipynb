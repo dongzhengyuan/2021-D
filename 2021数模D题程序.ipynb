{
 "cells": [
  {
   "cell_type": "markdown",
   "metadata": {},
   "source": [
    "#### Excle表: 分类 ADMET、预测 ERα_activity、选变量 Molecular_Descriptor"
   ]
  },
  {
   "cell_type": "markdown",
   "metadata": {},
   "source": [
    "### 第一问"
   ]
  },
  {
   "cell_type": "markdown",
   "metadata": {},
   "source": [
    "预处理"
   ]
  },
  {
   "cell_type": "code",
   "execution_count": 1,
   "metadata": {
    "ExecuteTime": {
     "end_time": "2021-10-17T11:43:59.117867Z",
     "start_time": "2021-10-17T11:43:59.112068Z"
    }
   },
   "outputs": [],
   "source": [
    "import numpy as np\n",
    "import pandas as pd"
   ]
  },
  {
   "cell_type": "code",
   "execution_count": 2,
   "metadata": {
    "ExecuteTime": {
     "end_time": "2021-10-17T11:44:00.272870Z",
     "start_time": "2021-10-17T11:44:00.257094Z"
    }
   },
   "outputs": [
    {
     "data": {
      "text/plain": [
       "<Figure size 504x360 with 0 Axes>"
      ]
     },
     "metadata": {},
     "output_type": "display_data"
    }
   ],
   "source": [
    "import matplotlib.pyplot as plt#导入作图库\n",
    "plt.rcParams['font.sans-serif']=['SimHei']#用来正常显示中文标签\n",
    "plt.rcParams['axes.unicode_minus']=False#用来正常显示负号\n",
    "plt.figure(figsize=(7,5))#创建图像区域，制定比例\n",
    "import seaborn as sns"
   ]
  },
  {
   "cell_type": "code",
   "execution_count": 3,
   "metadata": {
    "ExecuteTime": {
     "end_time": "2021-10-17T11:44:16.335812Z",
     "start_time": "2021-10-17T11:44:02.879944Z"
    }
   },
   "outputs": [],
   "source": [
    "dataFirst1=pd.read_excel(\"Molecular_Descriptor.xlsx\") #导入分子描述符的training数据集"
   ]
  },
  {
   "cell_type": "code",
   "execution_count": 4,
   "metadata": {
    "ExecuteTime": {
     "end_time": "2021-10-17T11:44:18.440401Z",
     "start_time": "2021-10-17T11:44:18.312307Z"
    }
   },
   "outputs": [],
   "source": [
    "dataSecond1=pd.read_excel(\"ERα_activity.xlsx\")  #导入pIC50的training数据集"
   ]
  },
  {
   "cell_type": "code",
   "execution_count": 5,
   "metadata": {
    "ExecuteTime": {
     "end_time": "2021-10-17T11:44:19.625528Z",
     "start_time": "2021-10-17T11:44:19.608129Z"
    }
   },
   "outputs": [],
   "source": [
    "Y=dataSecond1['pIC50']"
   ]
  },
  {
   "cell_type": "code",
   "execution_count": 6,
   "metadata": {
    "ExecuteTime": {
     "end_time": "2021-10-17T11:44:20.591909Z",
     "start_time": "2021-10-17T11:44:20.423121Z"
    }
   },
   "outputs": [],
   "source": [
    "#查找表格中的全0列\n",
    "names=[]\n",
    "for i in range(1,dataFirst1.shape[1]):\n",
    "    x=sum(dataFirst1.iloc[:,i])\n",
    "    if x==0:\n",
    "        names.append(dataFirst1.columns[i])"
   ]
  },
  {
   "cell_type": "code",
   "execution_count": 7,
   "metadata": {
    "ExecuteTime": {
     "end_time": "2021-10-17T11:44:22.606329Z",
     "start_time": "2021-10-17T11:44:22.584352Z"
    },
    "scrolled": true
   },
   "outputs": [
    {
     "data": {
      "text/plain": [
       "(1974, 505)"
      ]
     },
     "execution_count": 7,
     "metadata": {},
     "output_type": "execute_result"
    }
   ],
   "source": [
    "#删除表格中的全0列\n",
    "dataFirst1=dataFirst1.drop(names,axis=1)\n",
    "dataFirst1.shape"
   ]
  },
  {
   "cell_type": "markdown",
   "metadata": {},
   "source": [
    "模型重要性指标选择"
   ]
  },
  {
   "cell_type": "code",
   "execution_count": 8,
   "metadata": {
    "ExecuteTime": {
     "end_time": "2021-10-17T11:44:26.459834Z",
     "start_time": "2021-10-17T11:44:24.136717Z"
    }
   },
   "outputs": [],
   "source": [
    "from sklearn.ensemble import RandomForestRegressor"
   ]
  },
  {
   "cell_type": "code",
   "execution_count": 10,
   "metadata": {
    "ExecuteTime": {
     "end_time": "2021-10-17T11:44:50.191090Z",
     "start_time": "2021-10-17T11:44:26.461667Z"
    }
   },
   "outputs": [
    {
     "data": {
      "text/plain": [
       "RandomForestRegressor(random_state=123)"
      ]
     },
     "execution_count": 10,
     "metadata": {},
     "output_type": "execute_result"
    }
   ],
   "source": [
    "#建立随机森林模型\n",
    "feat_labels=dataFirst1.columns[1:]\n",
    "model=RandomForestRegressor(n_estimators=100,random_state=123)\n",
    "model.fit(dataFirst1.iloc[:,1:],Y)"
   ]
  },
  {
   "cell_type": "code",
   "execution_count": 11,
   "metadata": {
    "ExecuteTime": {
     "end_time": "2021-10-17T11:44:51.889213Z",
     "start_time": "2021-10-17T11:44:51.823909Z"
    }
   },
   "outputs": [
    {
     "name": "stdout",
     "output_type": "stream",
     "text": [
      " 1) MDEC-23                        0.212783\n",
      " 2) LipoaffinityIndex              0.039312\n",
      " 3) C1SP2                          0.037153\n",
      " 4) maxHsOH                        0.030298\n",
      " 5) maxssO                         0.027357\n",
      " 6) minsssN                        0.027197\n",
      " 7) minHsOH                        0.022560\n",
      " 8) BCUTc-1l                       0.019245\n",
      " 9) minsOH                         0.018107\n",
      "10) minHBint5                      0.017614\n",
      "11) nC                             0.017453\n",
      "12) MLFER_A                        0.016570\n",
      "13) nHBAcc                         0.016507\n",
      "14) SHsOH                          0.013051\n",
      "15) VC-5                           0.011800\n",
      "16) ATSc3                          0.011364\n",
      "17) TopoPSA                        0.009954\n",
      "18) SHBint10                       0.009109\n",
      "19) MDEO-12                        0.008018\n",
      "20) ndssC                          0.007019\n",
      "21) XLogP                          0.006726\n",
      "22) MDEC-33                        0.006650\n",
      "23) ETA_Shape_Y                    0.006420\n",
      "24) SHBint6                        0.005990\n",
      "25) BCUTc-1h                       0.005970\n",
      "26) nHBAcc_Lipinski                0.005759\n",
      "27) mindssC                        0.005197\n",
      "28) ATSc2                          0.005098\n",
      "29) minHBint10                     0.005090\n",
      "30) SsOH                           0.004970\n",
      "31) VCH-5                          0.004808\n",
      "32) minHBa                         0.004766\n",
      "33) VPC-6                          0.004749\n",
      "34) minssO                         0.004689\n",
      "35) CrippenLogP                    0.004596\n",
      "36) MLFER_S                        0.004316\n",
      "37) SPC-6                          0.004253\n",
      "38) ETA_BetaP_s                    0.004162\n",
      "39) ATSc5                          0.004126\n",
      "40) MLogP                          0.004114\n",
      "41) WTPT-4                         0.003955\n",
      "42) BCUTp-1h                       0.003910\n",
      "43) WTPT-5                         0.003879\n",
      "44) hmin                           0.003638\n",
      "45) VCH-7                          0.003628\n",
      "46) maxHBd                         0.003625\n",
      "47) SdssC                          0.003597\n",
      "48) MAXDP                          0.003566\n",
      "49) maxHBint5                      0.003495\n",
      "50) ATSc4                          0.003351\n",
      "51) Kier3                          0.003333\n",
      "52) MDEC-22                        0.002960\n",
      "53) BCUTp-1l                       0.002909\n",
      "54) maxsOH                         0.002852\n",
      "55) MLFER_BH                       0.002812\n",
      "56) VP-2                           0.002743\n",
      "57) hmax                           0.002741\n",
      "58) C3SP2                          0.002739\n",
      "59) MAXDP2                         0.002721\n",
      "60) bpol                           0.002713\n",
      "61) SHCsats                        0.002709\n",
      "62) ETA_BetaP_ns_d                 0.002682\n",
      "63) mindO                          0.002677\n",
      "64) SHBd                           0.002664\n",
      "65) fragC                          0.002592\n",
      "66) SCH-7                          0.002559\n",
      "67) SaaCH                          0.002539\n",
      "68) MLFER_BO                       0.002537\n",
      "69) maxHBint8                      0.002534\n",
      "70) ATSc1                          0.002526\n",
      "71) SHother                        0.002446\n",
      "72) SPC-4                          0.002437\n",
      "73) ECCEN                          0.002429\n",
      "74) minHBd                         0.002392\n",
      "75) Kier2                          0.002367\n",
      "76) minHBint4                      0.002297\n",
      "77) SaasC                          0.002295\n",
      "78) maxHBa                         0.002256\n",
      "79) ALogP                          0.002179\n",
      "80) minHBint7                      0.002157\n",
      "81) maxHCsats                      0.002154\n",
      "82) maxaasC                        0.002144\n",
      "83) WTPT-3                         0.002100\n",
      "84) SCH-5                          0.002091\n",
      "85) SP-6                           0.002078\n",
      "86) gmax                           0.001985\n",
      "87) minssCH2                       0.001964\n",
      "88) ETA_dEpsilon_D                 0.001950\n",
      "89) maxaaCH                        0.001947\n",
      "90) maxHBint10                     0.001941\n",
      "91) DELS                           0.001899\n",
      "92) SHBint5                        0.001894\n",
      "93) SC-5                           0.001853\n",
      "94) WTPT-2                         0.001783\n",
      "95) SPC-5                          0.001755\n",
      "96) ALogp2                         0.001734\n",
      "97) ETA_EtaP_F                     0.001680\n",
      "98) MDEO-11                        0.001677\n",
      "99) gmin                           0.001669\n",
      "100) MLFER_E                        0.001666\n",
      "101) minaaCH                        0.001632\n",
      "102) SwHBa                          0.001624\n",
      "103) ATSm5                          0.001611\n",
      "104) ETA_EtaP                       0.001611\n",
      "105) minHCsats                      0.001607\n",
      "106) ETA_Eta_B_RC                   0.001605\n",
      "107) ETA_Shape_P                    0.001594\n",
      "108) SHBa                           0.001529\n",
      "109) SHBint8                        0.001527\n",
      "110) maxHBint7                      0.001523\n",
      "111) SP-7                           0.001516\n",
      "112) ETA_Eta_F_L                    0.001510\n",
      "113) VPC-4                          0.001504\n",
      "114) maxssCH2                       0.001498\n",
      "115) MAXDN                          0.001487\n",
      "116) SHCsatu                        0.001487\n",
      "117) minaasC                        0.001474\n",
      "118) maxdssC                        0.001465\n",
      "119) FMF                            0.001459\n",
      "120) minwHBa                        0.001437\n",
      "121) ETA_EtaP_B_RC                  0.001410\n",
      "122) VCH-6                          0.001407\n",
      "123) minHBint6                      0.001403\n",
      "124) SC-3                           0.001402\n",
      "125) ATSp5                          0.001397\n",
      "126) SP-5                           0.001384\n",
      "127) maxHaaCH                       0.001379\n",
      "128) SdsN                           0.001372\n",
      "129) MDEC-34                        0.001368\n",
      "130) MDEC-12                        0.001355\n",
      "131) VP-7                           0.001342\n",
      "132) SCH-6                          0.001309\n",
      "133) minHCsatu                      0.001306\n",
      "134) MLFER_L                        0.001297\n",
      "135) MDEC-13                        0.001268\n",
      "136) ETA_Eta_F                      0.001262\n",
      "137) ETA_EtaP_L                     0.001261\n",
      "138) SHaaCH                         0.001253\n",
      "139) MDEC-24                        0.001242\n",
      "140) MAXDN2                         0.001220\n",
      "141) ETA_Epsilon_5                  0.001219\n",
      "142) SP-4                           0.001202\n",
      "143) ETA_EtaP_B                     0.001199\n",
      "144) minHother                      0.001170\n",
      "145) VPC-5                          0.001160\n",
      "146) VC-3                           0.001159\n",
      "147) minsCH3                        0.001132\n",
      "148) maxHother                      0.001118\n",
      "149) SHBint2                        0.001111\n",
      "150) nAtomP                         0.001107\n",
      "151) ETA_Epsilon_1                  0.001098\n",
      "152) minsssCH                       0.001096\n",
      "153) VP-3                           0.001091\n",
      "154) maxHBint6                      0.001084\n",
      "155) maxsssCH                       0.001073\n",
      "156) VC-4                           0.001062\n",
      "157) SHBint4                        0.001024\n",
      "158) BCUTw-1h                       0.001014\n",
      "159) SsssCH                         0.001012\n",
      "160) ATSm1                          0.001000\n",
      "161) SsssN                          0.000996\n",
      "162) minHaaCH                       0.000995\n",
      "163) maxwHBa                        0.000994\n",
      "164) SHBint7                        0.000990\n",
      "165) VP-5                           0.000980\n",
      "166) nwHBa                          0.000976\n",
      "167) minHBint8                      0.000970\n",
      "168) PetitjeanNumber                0.000964\n",
      "169) VP-6                           0.000954\n",
      "170) ETA_dEpsilon_B                 0.000954\n",
      "171) maxdO                          0.000946\n",
      "172) maxsCH3                        0.000943\n",
      "173) SHaaNH                         0.000937\n",
      "174) VC-6                           0.000917\n",
      "175) minssNH                        0.000913\n",
      "176) SssO                           0.000911\n",
      "177) nAtomLAC                       0.000910\n",
      "178) nHBint6                        0.000897\n",
      "179) minHBint9                      0.000876\n",
      "180) ETA_dEpsilon_C                 0.000864\n",
      "181) ETA_Eta_B                      0.000861\n",
      "182) minHssNH                       0.000860\n",
      "183) VP-4                           0.000855\n",
      "184) SsCH3                          0.000848\n",
      "185) mindsCH                        0.000848\n",
      "186) maxsssN                        0.000846\n",
      "187) ETA_Beta                       0.000827\n",
      "188) SssCH2                         0.000819\n",
      "189) ATSp3                          0.000818\n",
      "190) ETA_Epsilon_4                  0.000800\n",
      "191) maxHCsatu                      0.000799\n",
      "192) ETA_dPsi_A                     0.000794\n",
      "193) ETA_Epsilon_3                  0.000794\n",
      "194) nBondsD2                       0.000785\n",
      "195) ATSp4                          0.000784\n",
      "196) ETA_dEpsilon_A                 0.000777\n",
      "197) Kier1                          0.000771\n",
      "198) ATSm3                          0.000769\n",
      "199) SHdsCH                         0.000766\n",
      "200) ETA_dBetaP                     0.000763\n",
      "201) ETA_dBeta                      0.000756\n",
      "202) AMR                            0.000754\n",
      "203) maxdsN                         0.000751\n",
      "204) ETA_Eta_R                      0.000737\n",
      "205) SdS                            0.000734\n",
      "206) ETA_Epsilon_2                  0.000731\n",
      "207) SdO                            0.000724\n",
      "208) ETA_dAlpha_B                   0.000722\n",
      "209) maxsF                          0.000717\n",
      "210) minHdsCH                       0.000714\n",
      "211) ATSm4                          0.000707\n",
      "212) ETA_AlphaP                     0.000704\n",
      "213) BCUTw-1l                       0.000689\n",
      "214) ETA_EtaP_F_L                   0.000687\n",
      "215) ETA_Psi_1                      0.000685\n",
      "216) CrippenMR                      0.000675\n",
      "217) VP-1                           0.000674\n",
      "218) ETA_BetaP                      0.000668\n",
      "219) SP-3                           0.000664\n",
      "220) nF12Ring                       0.000633\n",
      "221) SaaN                           0.000628\n",
      "222) ETA_Eta                        0.000607\n",
      "223) sumI                           0.000588\n",
      "224) nF9Ring                        0.000587\n",
      "225) nBondsS3                       0.000579\n",
      "226) nAtomLC                        0.000574\n",
      "227) SP-0                           0.000566\n",
      "228) nRotB                          0.000563\n",
      "229) HybRatio                       0.000559\n",
      "230) nBondsS2                       0.000556\n",
      "231) VABC                           0.000555\n",
      "232) DELS2                          0.000554\n",
      "233) C1SP3                          0.000542\n",
      "234) mindS                          0.000538\n",
      "235) nBondsS                        0.000526\n",
      "236) maxHBint4                      0.000522\n",
      "237) SP-2                           0.000517\n",
      "238) SaaaC                          0.000515\n",
      "239) ETA_BetaP_ns                   0.000514\n",
      "240) maxdS                          0.000504\n",
      "241) SHBint9                        0.000504\n",
      "242) maxaaN                         0.000499\n",
      "243) ATSm2                          0.000495\n",
      "244) SHBint3                        0.000491\n",
      "245) minsF                          0.000486\n",
      "246) ETA_Eta_L                      0.000481\n",
      "247) VP-0                           0.000481\n",
      "248) ETA_Beta_ns                    0.000477\n",
      "249) maxaaaC                        0.000476\n",
      "250) minaaaC                        0.000475\n",
      "251) MDEN-23                        0.000471\n",
      "252) nHBint7                        0.000462\n",
      "253) nFRing                         0.000452\n",
      "254) WPATH                          0.000441\n",
      "255) SC-6                           0.000438\n",
      "256) maxHdsCH                       0.000434\n",
      "257) MDEC-11                        0.000430\n",
      "258) maxHBint9                      0.000427\n",
      "259) mindsN                         0.000426\n",
      "260) minHBint3                      0.000424\n",
      "261) ETA_Beta_ns_d                  0.000418\n",
      "262) nTRing                         0.000417\n",
      "263) maxHBint2                      0.000415\n",
      "264) apol                           0.000414\n",
      "265) nHBint5                        0.000406\n",
      "266) SdsCH                          0.000405\n",
      "267) C4SP3                          0.000398\n",
      "268) ATSp1                          0.000395\n",
      "269) minaaO                         0.000395\n",
      "270) nssCH2                         0.000394\n",
      "271) nF11Ring                       0.000387\n",
      "272) MW                             0.000384\n",
      "273) WPOL                           0.000383\n",
      "274) C2SP2                          0.000377\n",
      "275) nH                             0.000362\n",
      "276) ETA_Shape_X                    0.000356\n",
      "277) nHBint4                        0.000356\n",
      "278) maxHBint3                      0.000349\n",
      "279) nHBAcc2                        0.000347\n",
      "280) MDEO-22                        0.000347\n",
      "281) ETA_Beta_s                     0.000342\n",
      "282) WTPT-1                         0.000335\n",
      "283) nX                             0.000333\n",
      "284) McGowan_Volume                 0.000318\n",
      "285) maxdsCH                        0.000316\n",
      "286) nT9Ring                        0.000311\n",
      "287) MDEC-14                        0.000307\n",
      "288) nHCsatu                        0.000300\n",
      "289) nT6Ring                        0.000298\n",
      "290) nssO                           0.000291\n",
      "291) ATSp2                          0.000277\n",
      "292) nHBint10                       0.000276\n",
      "293) naasC                          0.000275\n",
      "294) C2SP3                          0.000274\n",
      "295) minaaN                         0.000268\n",
      "296) ETA_Alpha                      0.000264\n",
      "297) naaaC                          0.000262\n",
      "298) nAromBond                      0.000261\n",
      "299) nHCsats                        0.000254\n",
      "300) minaaS                         0.000253\n",
      "301) nAtom                          0.000242\n",
      "302) nHother                        0.000240\n",
      "303) nHBint2                        0.000238\n",
      "304) naaNH                          0.000234\n",
      "305) nBondsD                        0.000226\n",
      "306) minssssC                       0.000221\n",
      "307) nHBint8                        0.000215\n",
      "308) nsssCH                         0.000211\n",
      "309) nBonds2                        0.000206\n",
      "310) SC-4                           0.000197\n",
      "311) nBase                          0.000192\n",
      "312) MDEN-22                        0.000192\n",
      "313) minssS                         0.000189\n",
      "314) Zagreb                         0.000179\n",
      "315) nBondsM                        0.000177\n",
      "316) minaaNH                        0.000173\n",
      "317) maxaaO                         0.000172\n",
      "318) nHBint3                        0.000171\n",
      "319) SP-1                           0.000171\n",
      "320) ETA_Eta_R_L                    0.000170\n",
      "321) nT10Ring                       0.000167\n",
      "322) n6Ring                         0.000164\n",
      "323) SssssC                         0.000162\n",
      "324) nFG12Ring                      0.000158\n",
      "325) C3SP3                          0.000153\n",
      "326) nHBint9                        0.000144\n",
      "327) nO                             0.000141\n",
      "328) nHaaCH                         0.000134\n",
      "329) maxssNH                        0.000125\n",
      "330) nHAvin                         0.000124\n",
      "331) SaaO                           0.000123\n",
      "332) maxHAvin                       0.000123\n",
      "333) maxHaaNH                       0.000122\n",
      "334) maxssssC                       0.000117\n",
      "335) nHBa                           0.000117\n",
      "336) SHAvin                         0.000116\n",
      "337) SHtCH                          0.000095\n",
      "338) minwHBd                        0.000092\n",
      "339) SHCHnX                         0.000092\n",
      "340) nHeavyAtom                     0.000092\n",
      "341) SssNH                          0.000091\n",
      "342) SsF                            0.000088\n",
      "343) naaCH                          0.000086\n",
      "344) nHsOH                          0.000084\n",
      "345) nsOH                           0.000084\n",
      "346) nssS                           0.000082\n",
      "347) nN                             0.000082\n",
      "348) nT5Ring                        0.000081\n",
      "349) naAromAtom                     0.000078\n",
      "350) nAcid                          0.000075\n",
      "351) MDEN-33                        0.000075\n",
      "352) minHBint2                      0.000070\n",
      "353) nsCH3                          0.000067\n",
      "354) maxHssNH                       0.000066\n",
      "355) SsBr                           0.000066\n",
      "356) maxsBr                         0.000065\n",
      "357) maxsCl                         0.000065\n",
      "358) nHBDon_Lipinski                0.000065\n",
      "359) maxaaNH                        0.000064\n",
      "360) SssS                           0.000062\n",
      "361) ndS                            0.000062\n",
      "362) nHBDon                         0.000059\n",
      "363) n5Ring                         0.000059\n",
      "364) nT4Ring                        0.000057\n",
      "365) nBonds                         0.000056\n",
      "366) SsCl                           0.000056\n",
      "367) SaasN                          0.000054\n",
      "368) nHBd                           0.000054\n",
      "369) minaasN                        0.000052\n",
      "370) ndsCH                          0.000051\n",
      "371) minsCl                         0.000051\n",
      "372) nF10Ring                       0.000048\n",
      "373) minHAvin                       0.000048\n",
      "374) SaaNH                          0.000047\n",
      "375) nHBAcc3                        0.000046\n",
      "376) SHssNH                         0.000046\n",
      "377) maxHtCH                        0.000045\n",
      "378) LipinskiFailures               0.000043\n",
      "379) maxaasN                        0.000042\n",
      "380) naaN                           0.000040\n",
      "381) minddssS                       0.000039\n",
      "382) SHdCH2                         0.000039\n",
      "383) SaaS                           0.000038\n",
      "384) VAdjMat                        0.000038\n",
      "385) nS                             0.000037\n",
      "386) ndO                            0.000036\n",
      "387) maxHCHnX                       0.000035\n",
      "388) StsC                           0.000033\n",
      "389) nHdsCH                         0.000031\n",
      "390) C1SP1                          0.000031\n",
      "391) nF                             0.000030\n",
      "392) nsssN                          0.000029\n",
      "393) maxHdCH2                       0.000029\n",
      "394) SwHBd                          0.000025\n",
      "395) nRing                          0.000024\n",
      "396) nTG12Ring                      0.000024\n",
      "397) nsF                            0.000024\n",
      "398) nssssC                         0.000023\n",
      "399) minHaaNH                       0.000023\n",
      "400) minsBr                         0.000021\n",
      "401) ETA_dAlpha_A                   0.000020\n",
      "402) nHssNH                         0.000020\n",
      "403) nHaaNH                         0.000019\n",
      "404) n4Ring                         0.000018\n",
      "405) minHdCH2                       0.000018\n",
      "406) MDEC-44                        0.000018\n",
      "407) mintN                          0.000017\n",
      "408) nddssS                         0.000017\n",
      "409) maxtsC                         0.000016\n",
      "410) nCl                            0.000016\n",
      "411) nsCl                           0.000014\n",
      "412) maxtN                          0.000014\n",
      "413) nHCHnX                         0.000011\n",
      "414) nssNH                          0.000011\n",
      "415) nwHBd                          0.000010\n",
      "416) SdCH2                          0.000010\n",
      "417) StCH                           0.000009\n",
      "418) VCH-3                          0.000009\n",
      "419) n7Ring                         0.000009\n",
      "420) ndsN                           0.000008\n",
      "421) ntN                            0.000008\n",
      "422) nHsNH2                         0.000008\n",
      "423) MDEN-12                        0.000008\n",
      "424) SddssS                         0.000008\n",
      "425) nT7Ring                        0.000007\n",
      "426) StN                            0.000007\n",
      "427) SCH-3                          0.000007\n",
      "428) nF8Ring                        0.000007\n",
      "429) minHtCH                        0.000006\n",
      "430) naaO                           0.000006\n",
      "431) maxHdNH                        0.000005\n",
      "432) VCH-4                          0.000005\n",
      "433) mintsC                         0.000005\n",
      "434) mintCH                         0.000005\n",
      "435) nT8Ring                        0.000004\n",
      "436) nsNH2                          0.000004\n",
      "437) maxsNH2                        0.000004\n",
      "438) minHCHnX                       0.000003\n",
      "439) nHdCH2                         0.000003\n",
      "440) nsBr                           0.000003\n",
      "441) SHsNH2                         0.000003\n",
      "442) SsNH2                          0.000003\n",
      "443) mindCH2                        0.000003\n",
      "444) maxtCH                         0.000003\n",
      "445) naasN                          0.000003\n",
      "446) nBondsT                        0.000003\n",
      "447) nT11Ring                       0.000002\n",
      "448) naaS                           0.000002\n",
      "449) nBr                            0.000002\n",
      "450) ntsC                           0.000002\n",
      "451) maxdCH2                        0.000002\n",
      "452) C2SP1                          0.000001\n",
      "453) ndCH2                          0.000001\n",
      "454) nHtCH                          0.000001\n",
      "455) minsNH2                        0.000001\n",
      "456) minHsNH2                       0.000001\n",
      "457) minHdNH                        0.000001\n",
      "458) nT12Ring                       0.000001\n",
      "459) n8Ring                         0.000001\n",
      "460) maxHsNH2                       0.000001\n",
      "461) MDEN-11                        0.000000\n",
      "462) maxsOm                         0.000000\n",
      "463) maxwHBd                        0.000000\n",
      "464) nF7Ring                        0.000000\n",
      "465) ETA_dPsi_B                     0.000000\n",
      "466) ntCH                           0.000000\n",
      "467) n3Ring                         0.000000\n",
      "468) nsOm                           0.000000\n",
      "469) nF6Ring                        0.000000\n",
      "470) maxsSH                         0.000000\n",
      "471) MDEN-13                        0.000000\n",
      "472) nHdNH                          0.000000\n",
      "473) nI                             0.000000\n",
      "474) SCH-4                          0.000000\n",
      "475) SdNH                           0.000000\n",
      "476) maxdNH                         0.000000\n",
      "477) minsI                          0.000000\n",
      "478) SsOm                           0.000000\n",
      "479) nG12Ring                       0.000000\n",
      "480) mindsssP                       0.000000\n",
      "481) ndNH                           0.000000\n",
      "482) nsI                            0.000000\n",
      "483) SHdNH                          0.000000\n",
      "484) maxHsSH                        0.000000\n",
      "485) SsI                            0.000000\n",
      "486) minsOm                         0.000000\n",
      "487) nP                             0.000000\n",
      "488) nssssNp                        0.000000\n",
      "489) n12Ring                        0.000000\n",
      "490) maxssssNp                      0.000000\n",
      "491) mindssS                        0.000000\n",
      "492) minsSH                         0.000000\n",
      "493) minssssNp                      0.000000\n",
      "494) mindNH                         0.000000\n",
      "495) SdssS                          0.000000\n",
      "496) SsSH                           0.000000\n",
      "497) SdsssP                         0.000000\n",
      "498) SssssNp                        0.000000\n",
      "499) SHsSH                          0.000000\n",
      "500) nHsSH                          0.000000\n",
      "501) ndssS                          0.000000\n",
      "502) nsSH                           0.000000\n",
      "503) ndsssP                         0.000000\n",
      "504) minHsSH                        0.000000\n"
     ]
    }
   ],
   "source": [
    "#变量重要性\n",
    "importances=model.feature_importances_\n",
    "indices = np.argsort(importances)[::-1]\n",
    "for i in range(dataFirst1.shape[1]-1):\n",
    "    print(\"%2d) %-*s %f\" % (i + 1, 30, feat_labels[indices[i]], importances[indices[i]]))"
   ]
  },
  {
   "cell_type": "markdown",
   "metadata": {},
   "source": [
    "spearman相关系数分析"
   ]
  },
  {
   "cell_type": "code",
   "execution_count": 12,
   "metadata": {
    "ExecuteTime": {
     "end_time": "2021-10-17T11:45:02.845740Z",
     "start_time": "2021-10-17T11:45:02.831905Z"
    }
   },
   "outputs": [],
   "source": [
    "dataFirst2=dataFirst1.iloc[:,indices[0:50]+1]"
   ]
  },
  {
   "cell_type": "code",
   "execution_count": 13,
   "metadata": {
    "ExecuteTime": {
     "end_time": "2021-10-17T11:45:04.678753Z",
     "start_time": "2021-10-17T11:45:04.215685Z"
    }
   },
   "outputs": [],
   "source": [
    "result1=dataFirst2.corr(\"spearman\")"
   ]
  },
  {
   "cell_type": "code",
   "execution_count": 14,
   "metadata": {
    "ExecuteTime": {
     "end_time": "2021-10-17T11:46:29.180687Z",
     "start_time": "2021-10-17T11:46:27.992051Z"
    }
   },
   "outputs": [
    {
     "data": {
      "text/plain": [
       "<AxesSubplot:>"
      ]
     },
     "execution_count": 14,
     "metadata": {},
     "output_type": "execute_result"
    },
    {
     "data": {
      "image/png": "[encoded data removed]",
      "text/plain": [
       "<Figure size 2016x1440 with 2 Axes>"
      ]
     },
     "metadata": {
      "needs_background": "light"
     },
     "output_type": "display_data"
    }
   ],
   "source": [
    "plt.figure(figsize=(28,20))\n",
    "sns.heatmap(result1,cmap=\"YlGnBu\") #颜色越淡，相关系数越小"
   ]
  },
  {
   "cell_type": "code",
   "execution_count": 16,
   "metadata": {
    "ExecuteTime": {
     "end_time": "2021-10-16T12:27:26.787658Z",
     "start_time": "2021-10-16T12:27:26.771701Z"
    }
   },
   "outputs": [],
   "source": [
    "#删除自相关系数高的变量\n",
    "dataFirst3=dataFirst2.drop(['LipoaffinityIndex','nC','CrippenLogP','MLogP','hmin','minsssN','nHBAcc','BCUTc-1h',\n",
    "'minHsOH','MLFER_A','SHsOH','maxHBd','MDEO-12','minssO','WTPT-4','maxHBint5','WTPT-5','VPC-6','BCUTp-1h',\n",
    "'VCH-7','MLFER_S','minssO','ATSc2','SPC-6'],axis=1)"
   ]
  },
  {
   "cell_type": "code",
   "execution_count": 17,
   "metadata": {
    "ExecuteTime": {
     "end_time": "2021-10-16T12:27:28.582678Z",
     "start_time": "2021-10-16T12:27:28.499697Z"
    }
   },
   "outputs": [],
   "source": [
    "#删除自相关系数高的变量\n",
    "dataFirst4=dataFirst3.drop(['ETA_BetaP_s','nHBAcc_Lipinski','SsOH','minHBint10','SdssC','MAXDP'],axis=1)\n",
    "result=dataFirst4.corr(\"spearman\")"
   ]
  },
  {
   "cell_type": "markdown",
   "metadata": {},
   "source": [
    "相关系数热力图"
   ]
  },
  {
   "cell_type": "code",
   "execution_count": 18,
   "metadata": {
    "ExecuteTime": {
     "end_time": "2021-10-16T12:27:31.385698Z",
     "start_time": "2021-10-16T12:27:31.058991Z"
    }
   },
   "outputs": [
    {
     "data": {
      "text/plain": [
       "<AxesSubplot:>"
      ]
     },
     "execution_count": 18,
     "metadata": {},
     "output_type": "execute_result"
    },
    {
     "data": {
      "image/png": "[encoded data removed]",
      "text/plain": [
       "<Figure size 432x288 with 2 Axes>"
      ]
     },
     "metadata": {
      "needs_background": "light"
     },
     "output_type": "display_data"
    }
   ],
   "source": [
    "sns.heatmap(result,cmap=\"YlGnBu\") #颜色越淡，相关系数越小"
   ]
  },
  {
   "cell_type": "markdown",
   "metadata": {},
   "source": [
    "### 第二问"
   ]
  },
  {
   "cell_type": "markdown",
   "metadata": {},
   "source": [
    "回归模型 评测标准:MSE、MAPE"
   ]
  },
  {
   "cell_type": "code",
   "execution_count": 20,
   "metadata": {
    "ExecuteTime": {
     "end_time": "2021-10-16T12:27:43.682706Z",
     "start_time": "2021-10-16T12:27:43.674697Z"
    }
   },
   "outputs": [],
   "source": [
    "#取前17个变量\n",
    "data=dataFirst4.iloc[:,0:17]"
   ]
  },
  {
   "cell_type": "code",
   "execution_count": 21,
   "metadata": {
    "ExecuteTime": {
     "end_time": "2021-10-16T12:27:45.150169Z",
     "start_time": "2021-10-16T12:27:45.130707Z"
    }
   },
   "outputs": [],
   "source": [
    "from sklearn.model_selection import train_test_split\n",
    "X_train,X_test,Y_train,Y_test=train_test_split(data,Y,train_size=0.8,shuffle=True)#样本数据前80%做为训练集，后20%做为测试集\n",
    "from sklearn import metrics"
   ]
  },
  {
   "cell_type": "markdown",
   "metadata": {},
   "source": [
    "随机森林"
   ]
  },
  {
   "cell_type": "code",
   "execution_count": 26,
   "metadata": {},
   "outputs": [],
   "source": [
    "from sklearn.ensemble import RandomForestRegressor\n",
    "from sklearn.model_selection import GridSearchCV"
   ]
  },
  {
   "cell_type": "code",
   "execution_count": 45,
   "metadata": {},
   "outputs": [],
   "source": [
    "model = RandomForestRegressor(random_state=100)\n",
    "param = {'n_estimators':range(100, 110),\n",
    "         'min_samples_leaf':np.arange(1, 11, 1),\n",
    "         'max_depth':np.arange(1, 20, 1)\n",
    "        }\n",
    "grid_search = GridSearchCV(model, param_grid = param, cv = 5)\n",
    "grid_search.fit(X_train,Y_train)\n",
    "# print(grid_search.best_params_)"
   ]
  },
  {
   "cell_type": "code",
   "execution_count": 47,
   "metadata": {},
   "outputs": [],
   "source": [
    "model = RandomForestRegressor(n_estimators=108, min_samples_leaf=2, max_depth=16, random_state=100)\n",
    "model.fit(X_train,Y_train)\n",
    "Y_pred=model.predict(X_test)"
   ]
  },
  {
   "cell_type": "code",
   "execution_count": 48,
   "metadata": {},
   "outputs": [
    {
     "data": {
      "image/png": "[encoded data removed]",
      "text/plain": [
       "<Figure size 1080x360 with 1 Axes>"
      ]
     },
     "metadata": {
      "needs_background": "light"
     },
     "output_type": "display_data"
    }
   ],
   "source": [
    "plt.figure(figsize=(15,5))#预测曲线与真实曲线做对比\n",
    "plt.plot(range(len(Y_pred)),Y_pred,'b',label=\"预测\")\n",
    "plt.plot(range(len(Y_pred)),Y_test,'r',label=\"实际\")\n",
    "plt.legend(loc=\"upper right\") #显示图中的标签\n",
    "plt.xlabel(\"the number of data\")\n",
    "plt.ylabel('value of numbers')\n",
    "plt.show()"
   ]
  },
  {
   "cell_type": "code",
   "execution_count": 49,
   "metadata": {},
   "outputs": [
    {
     "name": "stdout",
     "output_type": "stream",
     "text": [
      "均方根误差RMSE:0.789\n",
      "平均绝对百分比误差MAPE:9.021%\n"
     ]
    }
   ],
   "source": [
    "#准确率\n",
    "print(\"均方根误差RMSE:{:.3f}\".format(np.sqrt(metrics.mean_squared_error(Y_test, Y_pred))))\n",
    "MAPE=np.mean(np.abs((Y_pred - Y_test) / Y_test)) * 100\n",
    "print(\"平均绝对百分比误差MAPE:{:.3f}%\".format(MAPE))"
   ]
  },
  {
   "cell_type": "markdown",
   "metadata": {},
   "source": [
    "XGBoost"
   ]
  },
  {
   "cell_type": "code",
   "execution_count": 51,
   "metadata": {
    "ExecuteTime": {
     "end_time": "2021-10-16T12:28:11.499604Z",
     "start_time": "2021-10-16T12:28:11.418557Z"
    }
   },
   "outputs": [],
   "source": [
    "import xgboost as xgb"
   ]
  },
  {
   "cell_type": "code",
   "execution_count": 55,
   "metadata": {},
   "outputs": [
    {
     "name": "stdout",
     "output_type": "stream",
     "text": [
      "{'learning_rate': 0.05, 'max_depth': 7, 'min_child_weight': 6, 'n_estimators': 300}\n"
     ]
    }
   ],
   "source": [
    "model = xgb.XGBRegressor(random_state=100)\n",
    "param = {'max_depth':[3,5,7],\n",
    "         'min_child_weight':[1,3,6],\n",
    "         'n_estimators':[100,200,300],\n",
    "         'learning_rate':[0.01,0.05,0.1]\n",
    "        }\n",
    "grid_search = GridSearchCV(model, param_grid = param, cv = 5)\n",
    "grid_search.fit(X_train,Y_train)\n",
    "print(grid_search.best_params_)"
   ]
  },
  {
   "cell_type": "code",
   "execution_count": 70,
   "metadata": {
    "ExecuteTime": {
     "end_time": "2021-10-16T12:29:00.054318Z",
     "start_time": "2021-10-16T12:28:59.755118Z"
    }
   },
   "outputs": [],
   "source": [
    "# 创建xgboost\n",
    "model=xgb.XGBRegressor(n_estimators=300, min_child_weight=6, max_depth=7, learning_rate=0.05, random_state=100)\n",
    "\n",
    "# 拟合构造xgboost\n",
    "model.fit(X_train,Y_train)\n",
    "\n",
    "# 预测测试集中的因变量值\n",
    "Y_pred=model.predict(X_test)"
   ]
  },
  {
   "cell_type": "code",
   "execution_count": 71,
   "metadata": {
    "ExecuteTime": {
     "end_time": "2021-10-16T12:29:01.105555Z",
     "start_time": "2021-10-16T12:29:00.859212Z"
    }
   },
   "outputs": [
    {
     "data": {
      "image/png": "[encoded data removed]",
      "text/plain": [
       "<Figure size 1080x360 with 1 Axes>"
      ]
     },
     "metadata": {
      "needs_background": "light"
     },
     "output_type": "display_data"
    }
   ],
   "source": [
    "plt.figure(figsize=(15,5))#预测曲线与真实曲线做对比\n",
    "plt.plot(range(len(Y_pred)),Y_pred,'b',label=\"预测\")\n",
    "plt.plot(range(len(Y_pred)),Y_test,'r',label=\"实际\")\n",
    "plt.legend(loc=\"upper right\") #显示图中的标签\n",
    "plt.xlabel(\"the number of data\")\n",
    "plt.ylabel('value of numbers')\n",
    "plt.show()"
   ]
  },
  {
   "cell_type": "code",
   "execution_count": 72,
   "metadata": {
    "ExecuteTime": {
     "end_time": "2021-10-16T12:29:04.181278Z",
     "start_time": "2021-10-16T12:29:04.163312Z"
    }
   },
   "outputs": [
    {
     "name": "stdout",
     "output_type": "stream",
     "text": [
      "均方根误差RMSE:0.804\n",
      "平均绝对百分比误差MAPE:9.157%\n"
     ]
    }
   ],
   "source": [
    "#准确率\n",
    "print(\"均方根误差RMSE:{:.3f}\".format(np.sqrt(metrics.mean_squared_error(Y_test, Y_pred))))\n",
    "MAPE=np.mean(np.abs((Y_pred - Y_test) / Y_test)) * 100\n",
    "print(\"平均绝对百分比误差MAPE:{:.3f}%\".format(MAPE))"
   ]
  },
  {
   "cell_type": "markdown",
   "metadata": {},
   "source": [
    "#### 预测test中的值(选随机森林)"
   ]
  },
  {
   "cell_type": "code",
   "execution_count": 73,
   "metadata": {
    "ExecuteTime": {
     "end_time": "2021-10-16T12:35:58.908850Z",
     "start_time": "2021-10-16T12:35:58.738324Z"
    }
   },
   "outputs": [
    {
     "data": {
      "text/plain": [
       "RandomForestRegressor(max_depth=16, min_samples_leaf=2, n_estimators=108,\n",
       "                      random_state=100)"
      ]
     },
     "execution_count": 73,
     "metadata": {},
     "output_type": "execute_result"
    }
   ],
   "source": [
    "model = RandomForestRegressor(n_estimators=108, min_samples_leaf=2, max_depth=16, random_state=100)\n",
    "model.fit(X_train,Y_train)"
   ]
  },
  {
   "cell_type": "code",
   "execution_count": 74,
   "metadata": {
    "ExecuteTime": {
     "end_time": "2021-10-16T12:36:17.626442Z",
     "start_time": "2021-10-16T12:36:04.987361Z"
    }
   },
   "outputs": [],
   "source": [
    "data1=pd.read_excel(\"Molecular_Descriptor.xlsx\",sheet_name=1)"
   ]
  },
  {
   "cell_type": "code",
   "execution_count": 75,
   "metadata": {
    "ExecuteTime": {
     "end_time": "2021-10-16T12:36:18.867269Z",
     "start_time": "2021-10-16T12:36:18.858781Z"
    }
   },
   "outputs": [],
   "source": [
    "#20个筛选变量的列名\n",
    "names=['MDEC-23','C1SP2','maxHsOH','maxssO','BCUTc-1l','minsOH','minHBint5','VC-5',\n",
    "'ATSc3','TopoPSA','SHBint10','ndssC','XLogP','MDEC-33','ETA_Shape_Y','SHBint6','mindssC',\n",
    "'VCH-5','minHBa','ATSc5']                                             "
   ]
  },
  {
   "cell_type": "code",
   "execution_count": 76,
   "metadata": {
    "ExecuteTime": {
     "end_time": "2021-10-16T12:36:21.852995Z",
     "start_time": "2021-10-16T12:36:21.843001Z"
    }
   },
   "outputs": [],
   "source": [
    "data1=data1.loc[:,names]"
   ]
  },
  {
   "cell_type": "code",
   "execution_count": 77,
   "metadata": {
    "ExecuteTime": {
     "end_time": "2021-10-16T12:36:24.235023Z",
     "start_time": "2021-10-16T12:36:24.219427Z"
    }
   },
   "outputs": [],
   "source": [
    "data2=data1.iloc[:,0:17] #取前17个变量"
   ]
  },
  {
   "cell_type": "code",
   "execution_count": 78,
   "metadata": {
    "ExecuteTime": {
     "end_time": "2021-10-16T12:36:25.401118Z",
     "start_time": "2021-10-16T12:36:25.395136Z"
    }
   },
   "outputs": [],
   "source": [
    "x_test=data2 #预测集中的自变量"
   ]
  },
  {
   "cell_type": "code",
   "execution_count": 79,
   "metadata": {
    "ExecuteTime": {
     "end_time": "2021-10-16T12:37:53.565438Z",
     "start_time": "2021-10-16T12:37:53.553979Z"
    }
   },
   "outputs": [],
   "source": [
    "# 预测 预测集中的因变量值\n",
    "y_pred=model.predict(x_test)"
   ]
  },
  {
   "cell_type": "markdown",
   "metadata": {},
   "source": [
    "### 第三问"
   ]
  },
  {
   "cell_type": "markdown",
   "metadata": {},
   "source": [
    "#### 第一个"
   ]
  },
  {
   "cell_type": "markdown",
   "metadata": {},
   "source": [
    "重要性指标筛选"
   ]
  },
  {
   "cell_type": "code",
   "execution_count": 80,
   "metadata": {
    "ExecuteTime": {
     "end_time": "2021-10-16T13:50:29.632016Z",
     "start_time": "2021-10-16T13:50:29.618035Z"
    }
   },
   "outputs": [],
   "source": [
    "from sklearn.ensemble import RandomForestClassifier"
   ]
  },
  {
   "cell_type": "code",
   "execution_count": 81,
   "metadata": {
    "ExecuteTime": {
     "end_time": "2021-10-17T03:26:14.906637Z",
     "start_time": "2021-10-17T03:26:14.706810Z"
    }
   },
   "outputs": [],
   "source": [
    "dataThird1=pd.read_excel(\"ADMET.xlsx\")"
   ]
  },
  {
   "cell_type": "code",
   "execution_count": 82,
   "metadata": {
    "ExecuteTime": {
     "end_time": "2021-10-16T13:50:33.768348Z",
     "start_time": "2021-10-16T13:50:33.759791Z"
    }
   },
   "outputs": [],
   "source": [
    "Y1=dataThird1['Caco-2']"
   ]
  },
  {
   "cell_type": "code",
   "execution_count": 83,
   "metadata": {
    "ExecuteTime": {
     "end_time": "2021-10-16T13:50:36.219949Z",
     "start_time": "2021-10-16T13:50:35.265475Z"
    }
   },
   "outputs": [
    {
     "data": {
      "text/plain": [
       "RandomForestClassifier(max_depth=16, min_samples_leaf=2, n_estimators=108,\n",
       "                       random_state=100)"
      ]
     },
     "execution_count": 83,
     "metadata": {},
     "output_type": "execute_result"
    }
   ],
   "source": [
    "#建立随机森林分类模型\n",
    "feat_labels=dataFirst1.columns[1:]\n",
    "model=RandomForestClassifier(n_estimators=108, min_samples_leaf=2, max_depth=16, random_state=100)\n",
    "model.fit(dataFirst1.iloc[:,1:],Y1)"
   ]
  },
  {
   "cell_type": "code",
   "execution_count": 84,
   "metadata": {
    "ExecuteTime": {
     "end_time": "2021-10-16T13:50:37.046360Z",
     "start_time": "2021-10-16T13:50:36.985465Z"
    }
   },
   "outputs": [
    {
     "name": "stdout",
     "output_type": "stream",
     "text": [
      " 1) ETA_Eta_R_L                    0.034956\n",
      " 2) ETA_Beta_s                     0.031176\n",
      " 3) ETA_Eta_R                      0.026999\n",
      " 4) WPATH                          0.025128\n",
      " 5) WTPT-1                         0.024519\n",
      " 6) nHeavyAtom                     0.024443\n",
      " 7) MW                             0.024333\n",
      " 8) SP-1                           0.023925\n",
      " 9) MLFER_L                        0.021659\n",
      "10) CrippenMR                      0.020506\n",
      "11) ETA_Alpha                      0.017989\n",
      "12) ECCEN                          0.017857\n",
      "13) ETA_Beta                       0.016525\n",
      "14) sumI                           0.014836\n",
      "15) Kier1                          0.014354\n",
      "16) VP-0                           0.014245\n",
      "17) maxaaO                         0.013206\n",
      "18) VABC                           0.011985\n",
      "19) SaaO                           0.011323\n",
      "20) Kier2                          0.011177\n",
      "21) SP-2                           0.011058\n",
      "22) AMR                            0.010846\n",
      "23) VAdjMat                        0.009110\n",
      "24) minaaO                         0.008934\n",
      "25) ATSm1                          0.008882\n",
      "26) ATSm2                          0.008651\n",
      "27) TopoPSA                        0.007850\n",
      "28) VP-1                           0.007159\n",
      "29) ATSm3                          0.007047\n",
      "30) ETA_Eta_F_L                    0.006572\n",
      "31) SP-0                           0.006415\n",
      "32) MLFER_E                        0.006324\n",
      "33) SCH-5                          0.006148\n",
      "34) fragC                          0.006114\n",
      "35) Kier3                          0.006015\n",
      "36) nBondsM                        0.005592\n",
      "37) SP-3                           0.005533\n",
      "38) naAromAtom                     0.005424\n",
      "39) ETA_Eta_F                      0.005238\n",
      "40) FMF                            0.005159\n",
      "41) MLFER_S                        0.005147\n",
      "42) Zagreb                         0.005134\n",
      "43) ATSc1                          0.004765\n",
      "44) SHaaCH                         0.004394\n",
      "45) SP-6                           0.004127\n",
      "46) WPOL                           0.004068\n",
      "47) naaO                           0.004068\n",
      "48) nC                             0.003988\n",
      "49) MDEC-22                        0.003968\n",
      "50) SsCH3                          0.003945\n",
      "51) VP-4                           0.003921\n",
      "52) WTPT-4                         0.003818\n",
      "53) bpol                           0.003742\n",
      "54) MDEC-12                        0.003726\n",
      "55) nBondsD                        0.003665\n",
      "56) WTPT-3                         0.003631\n",
      "57) nRotB                          0.003557\n",
      "58) SwHBa                          0.003548\n",
      "59) SCH-6                          0.003488\n",
      "60) nBondsS2                       0.003481\n",
      "61) nHother                        0.003233\n",
      "62) ETA_BetaP_s                    0.003205\n",
      "63) maxHBd                         0.003199\n",
      "64) nT6Ring                        0.003192\n",
      "65) minHBd                         0.003187\n",
      "66) minsCH3                        0.003130\n",
      "67) maxsCH3                        0.003116\n",
      "68) SHBd                           0.003116\n",
      "69) minHBa                         0.003104\n",
      "70) ETA_Shape_P                    0.003098\n",
      "71) SCH-7                          0.002975\n",
      "72) DELS2                          0.002893\n",
      "73) BCUTp-1l                       0.002855\n",
      "74) VCH-6                          0.002841\n",
      "75) n5Ring                         0.002836\n",
      "76) minwHBa                        0.002813\n",
      "77) MLFER_BH                       0.002796\n",
      "78) naaCH                          0.002787\n",
      "79) nAromBond                      0.002725\n",
      "80) MAXDP                          0.002720\n",
      "81) nHBAcc2                        0.002678\n",
      "82) SHBint10                       0.002661\n",
      "83) MDEC-13                        0.002649\n",
      "84) VP-5                           0.002632\n",
      "85) ETA_EtaP_B                     0.002608\n",
      "86) nBonds                         0.002535\n",
      "87) SC-3                           0.002524\n",
      "88) BCUTc-1h                       0.002507\n",
      "89) minaaCH                        0.002481\n",
      "90) WTPT-5                         0.002455\n",
      "91) MAXDP2                         0.002421\n",
      "92) ETA_dEpsilon_D                 0.002401\n",
      "93) MDEO-12                        0.002369\n",
      "94) ETA_dBeta                      0.002367\n",
      "95) ETA_dBetaP                     0.002338\n",
      "96) ETA_Beta_ns                    0.002331\n",
      "97) ATSc2                          0.002290\n",
      "98) gmax                           0.002280\n",
      "99) SP-4                           0.002263\n",
      "100) LipoaffinityIndex              0.002213\n",
      "101) SHother                        0.002206\n",
      "102) DELS                           0.002178\n",
      "103) gmin                           0.002161\n",
      "104) McGowan_Volume                 0.002159\n",
      "105) MDEC-23                        0.002155\n",
      "106) maxHaaCH                       0.002148\n",
      "107) VC-5                           0.002145\n",
      "108) maxHBint5                      0.002131\n",
      "109) ETA_Epsilon_4                  0.002114\n",
      "110) nsCH3                          0.002106\n",
      "111) maxHBa                         0.002098\n",
      "112) MAXDN                          0.002070\n",
      "113) MDEC-33                        0.002063\n",
      "114) ETA_dEpsilon_C                 0.002055\n",
      "115) ETA_EtaP_F_L                   0.002046\n",
      "116) nH                             0.002041\n",
      "117) MLFER_BO                       0.002022\n",
      "118) mindssC                        0.002004\n",
      "119) ATSc5                          0.001990\n",
      "120) MLFER_A                        0.001986\n",
      "121) ETA_Eta_B                      0.001953\n",
      "122) ETA_Epsilon_1                  0.001951\n",
      "123) VCH-5                          0.001940\n",
      "124) SP-5                           0.001928\n",
      "125) hmin                           0.001927\n",
      "126) BCUTc-1l                       0.001918\n",
      "127) ATSp4                          0.001909\n",
      "128) VP-6                           0.001889\n",
      "129) maxaaN                         0.001879\n",
      "130) ETA_Shape_Y                    0.001877\n",
      "131) ATSc4                          0.001877\n",
      "132) maxHBint10                     0.001872\n",
      "133) minHBint6                      0.001843\n",
      "134) maxsOH                         0.001837\n",
      "135) minHBint5                      0.001816\n",
      "136) SsOH                           0.001807\n",
      "137) ETA_BetaP                      0.001799\n",
      "138) VPC-4                          0.001792\n",
      "139) SaaCH                          0.001782\n",
      "140) ETA_EtaP_F                     0.001782\n",
      "141) hmax                           0.001769\n",
      "142) maxHother                      0.001767\n",
      "143) ETA_Epsilon_5                  0.001735\n",
      "144) MAXDN2                         0.001699\n",
      "145) ETA_BetaP_ns_d                 0.001683\n",
      "146) nAtomP                         0.001653\n",
      "147) ATSp5                          0.001652\n",
      "148) XLogP                          0.001615\n",
      "149) maxHsOH                        0.001603\n",
      "150) SssO                           0.001599\n",
      "151) WTPT-2                         0.001597\n",
      "152) ETA_dEpsilon_B                 0.001587\n",
      "153) SPC-6                          0.001587\n",
      "154) ATSm4                          0.001584\n",
      "155) SaaN                           0.001576\n",
      "156) SHBa                           0.001556\n",
      "157) ETA_EtaP_B_RC                  0.001478\n",
      "158) maxHCsatu                      0.001478\n",
      "159) nBondsS                        0.001475\n",
      "160) SPC-5                          0.001463\n",
      "161) ATSc3                          0.001449\n",
      "162) maxssO                         0.001447\n",
      "163) ETA_AlphaP                     0.001430\n",
      "164) VP-3                           0.001424\n",
      "165) minaasC                        0.001387\n",
      "166) ETA_dEpsilon_A                 0.001383\n",
      "167) VCH-7                          0.001371\n",
      "168) maxaasC                        0.001366\n",
      "169) BCUTp-1h                       0.001354\n",
      "170) nBondsS3                       0.001352\n",
      "171) minHCsats                      0.001343\n",
      "172) minHsOH                        0.001342\n",
      "173) ETA_EtaP_L                     0.001339\n",
      "174) SPC-4                          0.001334\n",
      "175) MDEC-11                        0.001328\n",
      "176) nHBDon_Lipinski                0.001310\n",
      "177) SaasC                          0.001302\n",
      "178) VPC-5                          0.001301\n",
      "179) ATSp1                          0.001300\n",
      "180) ETA_Eta_B_RC                   0.001298\n",
      "181) C2SP2                          0.001291\n",
      "182) SP-7                           0.001285\n",
      "183) ETA_EtaP                       0.001271\n",
      "184) VP-2                           0.001264\n",
      "185) minHBint4                      0.001247\n",
      "186) VPC-6                          0.001233\n",
      "187) maxaaCH                        0.001223\n",
      "188) ALogP                          0.001223\n",
      "189) SHBint2                        0.001222\n",
      "190) SdssC                          0.001221\n",
      "191) HybRatio                       0.001205\n",
      "192) ETA_Eta                        0.001184\n",
      "193) BCUTw-1h                       0.001182\n",
      "194) nO                             0.001164\n",
      "195) maxHssNH                       0.001163\n",
      "196) mindO                          0.001159\n",
      "197) minsOH                         0.001156\n",
      "198) SdO                            0.001150\n",
      "199) minHother                      0.001144\n",
      "200) ALogp2                         0.001144\n",
      "201) ATSp2                          0.001131\n",
      "202) nHBDon                         0.001124\n",
      "203) ETA_Eta_L                      0.001124\n",
      "204) nBonds2                        0.001124\n",
      "205) CrippenLogP                    0.001111\n",
      "206) apol                           0.001107\n",
      "207) SssNH                          0.001088\n",
      "208) SC-5                           0.001087\n",
      "209) minHaaCH                       0.001075\n",
      "210) maxwHBa                        0.001074\n",
      "211) MDEO-11                        0.001072\n",
      "212) ATSm5                          0.001069\n",
      "213) MLogP                          0.001062\n",
      "214) maxHBint7                      0.001061\n",
      "215) VC-3                           0.001052\n",
      "216) maxssCH2                       0.001023\n",
      "217) minssO                         0.001013\n",
      "218) minHBint7                      0.001002\n",
      "219) ETA_Epsilon_2                  0.001000\n",
      "220) SHBint6                        0.000999\n",
      "221) nT5Ring                        0.000995\n",
      "222) ETA_dPsi_A                     0.000993\n",
      "223) SHsOH                          0.000983\n",
      "224) minaaaC                        0.000982\n",
      "225) minHBint10                     0.000978\n",
      "226) MDEO-22                        0.000974\n",
      "227) SssCH2                         0.000956\n",
      "228) SHBint5                        0.000922\n",
      "229) nwHBa                          0.000920\n",
      "230) nHBd                           0.000915\n",
      "231) maxdO                          0.000913\n",
      "232) nRing                          0.000912\n",
      "233) nAtomLC                        0.000910\n",
      "234) ETA_Psi_1                      0.000898\n",
      "235) VP-7                           0.000895\n",
      "236) SaaaC                          0.000884\n",
      "237) ETA_BetaP_ns                   0.000870\n",
      "238) minHCsatu                      0.000870\n",
      "239) nHBint10                       0.000839\n",
      "240) maxaaaC                        0.000837\n",
      "241) minssCH2                       0.000827\n",
      "242) SsssN                          0.000820\n",
      "243) SHBint9                        0.000788\n",
      "244) nT10Ring                       0.000784\n",
      "245) maxssNH                        0.000778\n",
      "246) nssCH2                         0.000776\n",
      "247) C3SP2                          0.000775\n",
      "248) ETA_Beta_ns_d                  0.000754\n",
      "249) ATSp3                          0.000747\n",
      "250) ETA_Epsilon_3                  0.000742\n",
      "251) maxHBint2                      0.000738\n",
      "252) SHBint7                        0.000736\n",
      "253) naasC                          0.000736\n",
      "254) SsBr                           0.000728\n",
      "255) minHssNH                       0.000727\n",
      "256) maxdssC                        0.000727\n",
      "257) maxHBint6                      0.000724\n",
      "258) SHCsatu                        0.000717\n",
      "259) nF10Ring                       0.000712\n",
      "260) minaaN                         0.000707\n",
      "261) nHBAcc                         0.000700\n",
      "262) nHaaCH                         0.000695\n",
      "263) SHBint4                        0.000693\n",
      "264) maxHCsats                      0.000693\n",
      "265) nHBAcc3                        0.000693\n",
      "266) minsssN                        0.000689\n",
      "267) nAtom                          0.000687\n",
      "268) C2SP3                          0.000686\n",
      "269) nsOH                           0.000685\n",
      "270) maxsssN                        0.000643\n",
      "271) nHBAcc_Lipinski                0.000621\n",
      "272) minssNH                        0.000611\n",
      "273) MDEC-14                        0.000604\n",
      "274) nN                             0.000602\n",
      "275) minssS                         0.000593\n",
      "276) nHBint5                        0.000589\n",
      "277) nssO                           0.000563\n",
      "278) SsssCH                         0.000561\n",
      "279) nFG12Ring                      0.000561\n",
      "280) nTRing                         0.000560\n",
      "281) minHBint2                      0.000554\n",
      "282) nS                             0.000554\n",
      "283) ETA_dAlpha_B                   0.000549\n",
      "284) naaN                           0.000547\n",
      "285) minsBr                         0.000544\n",
      "286) SdsN                           0.000538\n",
      "287) nHBint2                        0.000535\n",
      "288) PetitjeanNumber                0.000533\n",
      "289) minHBint8                      0.000530\n",
      "290) nHBint7                        0.000528\n",
      "291) SaasN                          0.000522\n",
      "292) nHsOH                          0.000516\n",
      "293) BCUTw-1l                       0.000501\n",
      "294) MDEC-24                        0.000484\n",
      "295) nT7Ring                        0.000474\n",
      "296) n6Ring                         0.000474\n",
      "297) maxaasN                        0.000473\n",
      "298) SdsCH                          0.000473\n",
      "299) minHBint3                      0.000471\n",
      "300) maxaaNH                        0.000435\n",
      "301) SHCsats                        0.000429\n",
      "302) SaaNH                          0.000428\n",
      "303) maxHBint3                      0.000423\n",
      "304) SssS                           0.000420\n",
      "305) minsssCH                       0.000416\n",
      "306) C1SP2                          0.000416\n",
      "307) MDEN-23                        0.000415\n",
      "308) nFRing                         0.000400\n",
      "309) minsCl                         0.000397\n",
      "310) mindsN                         0.000392\n",
      "311) nHBint9                        0.000389\n",
      "312) maxdsCH                        0.000383\n",
      "313) mindsCH                        0.000371\n",
      "314) maxHaaNH                       0.000367\n",
      "315) maxHBint4                      0.000355\n",
      "316) nHssNH                         0.000349\n",
      "317) minHaaNH                       0.000343\n",
      "318) ETA_dAlpha_A                   0.000338\n",
      "319) minssssC                       0.000329\n",
      "320) maxdsN                         0.000328\n",
      "321) SC-6                           0.000323\n",
      "322) naaaC                          0.000320\n",
      "323) SHssNH                         0.000319\n",
      "324) StsC                           0.000315\n",
      "325) ETA_Shape_X                    0.000312\n",
      "326) ndssC                          0.000311\n",
      "327) nX                             0.000310\n",
      "328) ndO                            0.000302\n",
      "329) VC-4                           0.000297\n",
      "330) nssS                           0.000297\n",
      "331) SHBint3                        0.000293\n",
      "332) n7Ring                         0.000290\n",
      "333) maxHBint9                      0.000286\n",
      "334) SHBint8                        0.000284\n",
      "335) SC-4                           0.000281\n",
      "336) VC-6                           0.000276\n",
      "337) SssssC                         0.000272\n",
      "338) minaasN                        0.000270\n",
      "339) naasN                          0.000269\n",
      "340) maxHdsCH                       0.000268\n",
      "341) nT11Ring                       0.000268\n",
      "342) SsCl                           0.000261\n",
      "343) nssNH                          0.000257\n",
      "344) SaaS                           0.000248\n",
      "345) nBondsD2                       0.000247\n",
      "346) SsF                            0.000242\n",
      "347) nHCsats                        0.000238\n",
      "348) minHdsCH                       0.000237\n",
      "349) StN                            0.000236\n",
      "350) minaaNH                        0.000233\n",
      "351) maxsssCH                       0.000233\n",
      "352) nF11Ring                       0.000217\n",
      "353) nHBa                           0.000216\n",
      "354) SHaaNH                         0.000214\n",
      "355) C1SP3                          0.000210\n",
      "356) nBr                            0.000208\n",
      "357) nF9Ring                        0.000201\n",
      "358) nHBint8                        0.000200\n",
      "359) maxsBr                         0.000196\n",
      "360) MDEN-22                        0.000190\n",
      "361) SHAvin                         0.000184\n",
      "362) maxsF                          0.000183\n",
      "363) naaNH                          0.000182\n",
      "364) n4Ring                         0.000180\n",
      "365) minaaS                         0.000171\n",
      "366) maxtN                          0.000168\n",
      "367) minHBint9                      0.000168\n",
      "368) minHAvin                       0.000167\n",
      "369) SCH-4                          0.000166\n",
      "370) nHCsatu                        0.000165\n",
      "371) nHBint6                        0.000164\n",
      "372) SHdsCH                         0.000160\n",
      "373) MDEN-33                        0.000158\n",
      "374) maxtsC                         0.000158\n",
      "375) nAcid                          0.000157\n",
      "376) naaS                           0.000155\n",
      "377) nsssN                          0.000154\n",
      "378) nsssCH                         0.000139\n",
      "379) nT4Ring                        0.000132\n",
      "380) mintN                          0.000128\n",
      "381) MDEN-12                        0.000127\n",
      "382) nTG12Ring                      0.000125\n",
      "383) maxsCl                         0.000125\n",
      "384) nHdsCH                         0.000124\n",
      "385) nsBr                           0.000123\n",
      "386) maxHCHnX                       0.000122\n",
      "387) nHBint3                        0.000122\n",
      "388) MDEC-34                        0.000118\n",
      "389) nT9Ring                        0.000117\n",
      "390) nAtomLAC                       0.000115\n",
      "391) minsF                          0.000109\n",
      "392) nCl                            0.000105\n",
      "393) nF                             0.000100\n",
      "394) nBase                          0.000100\n",
      "395) C4SP3                          0.000092\n",
      "396) nsCl                           0.000091\n",
      "397) nHBint4                        0.000091\n",
      "398) maxHBint8                      0.000085\n",
      "399) C3SP3                          0.000082\n",
      "400) VCH-4                          0.000080\n",
      "401) SHtCH                          0.000078\n",
      "402) nsF                            0.000076\n",
      "403) nddssS                         0.000075\n",
      "404) nHaaNH                         0.000069\n",
      "405) nHsNH2                         0.000069\n",
      "406) C2SP1                          0.000068\n",
      "407) minddssS                       0.000067\n",
      "408) minHtCH                        0.000067\n",
      "409) maxssssC                       0.000063\n",
      "410) ntN                            0.000063\n",
      "411) C1SP1                          0.000061\n",
      "412) nHAvin                         0.000058\n",
      "413) maxHAvin                       0.000058\n",
      "414) ndsCH                          0.000054\n",
      "415) SddssS                         0.000054\n",
      "416) maxwHBd                        0.000051\n",
      "417) MDEN-11                        0.000043\n",
      "418) mintCH                         0.000038\n",
      "419) maxHsNH2                       0.000038\n",
      "420) SsOm                           0.000037\n",
      "421) mindCH2                        0.000035\n",
      "422) maxHdCH2                       0.000035\n",
      "423) nssssC                         0.000034\n",
      "424) maxdS                          0.000034\n",
      "425) maxsNH2                        0.000031\n",
      "426) nT12Ring                       0.000029\n",
      "427) mintsC                         0.000028\n",
      "428) ntCH                           0.000025\n",
      "429) minHsNH2                       0.000025\n",
      "430) maxHtCH                        0.000025\n",
      "431) nBondsT                        0.000021\n",
      "432) SwHBd                          0.000021\n",
      "433) nF8Ring                        0.000020\n",
      "434) StCH                           0.000019\n",
      "435) minHdCH2                       0.000015\n",
      "436) minwHBd                        0.000013\n",
      "437) nwHBd                          0.000010\n",
      "438) minHCHnX                       0.000010\n",
      "439) maxtCH                         0.000010\n",
      "440) ndCH2                          0.000010\n",
      "441) SHdCH2                         0.000010\n",
      "442) nHCHnX                         0.000010\n",
      "443) nT8Ring                        0.000009\n",
      "444) SdCH2                          0.000009\n",
      "445) SsNH2                          0.000006\n",
      "446) SHCHnX                         0.000005\n",
      "447) ntsC                           0.000005\n",
      "448) ndsN                           0.000003\n",
      "449) MDEC-44                        0.000000\n",
      "450) nsNH2                          0.000000\n",
      "451) SdssS                          0.000000\n",
      "452) ETA_dPsi_B                     0.000000\n",
      "453) ndNH                           0.000000\n",
      "454) nI                             0.000000\n",
      "455) nssssNp                        0.000000\n",
      "456) maxsSH                         0.000000\n",
      "457) MDEN-13                        0.000000\n",
      "458) n8Ring                         0.000000\n",
      "459) n3Ring                         0.000000\n",
      "460) nHdNH                          0.000000\n",
      "461) nHsSH                          0.000000\n",
      "462) nP                             0.000000\n",
      "463) maxssssNp                      0.000000\n",
      "464) n12Ring                        0.000000\n",
      "465) nG12Ring                       0.000000\n",
      "466) nF6Ring                        0.000000\n",
      "467) nF7Ring                        0.000000\n",
      "468) nF12Ring                       0.000000\n",
      "469) nHtCH                          0.000000\n",
      "470) nHdCH2                         0.000000\n",
      "471) LipinskiFailures               0.000000\n",
      "472) maxsOm                         0.000000\n",
      "473) ndssS                          0.000000\n",
      "474) maxdNH                         0.000000\n",
      "475) minsSH                         0.000000\n",
      "476) minHdNH                        0.000000\n",
      "477) SdS                            0.000000\n",
      "478) SsSH                           0.000000\n",
      "479) SdsssP                         0.000000\n",
      "480) VCH-3                          0.000000\n",
      "481) SssssNp                        0.000000\n",
      "482) minsNH2                        0.000000\n",
      "483) mindNH                         0.000000\n",
      "484) SCH-3                          0.000000\n",
      "485) SdNH                           0.000000\n",
      "486) minssssNp                      0.000000\n",
      "487) minsOm                         0.000000\n",
      "488) mindsssP                       0.000000\n",
      "489) mindS                          0.000000\n",
      "490) nsOm                           0.000000\n",
      "491) mindssS                        0.000000\n",
      "492) SHsNH2                         0.000000\n",
      "493) minsI                          0.000000\n",
      "494) SHsSH                          0.000000\n",
      "495) SHdNH                          0.000000\n",
      "496) maxHdNH                        0.000000\n",
      "497) maxHsSH                        0.000000\n",
      "498) nsI                            0.000000\n",
      "499) SsI                            0.000000\n",
      "500) ndS                            0.000000\n",
      "501) maxdCH2                        0.000000\n",
      "502) nsSH                           0.000000\n",
      "503) ndsssP                         0.000000\n",
      "504) minHsSH                        0.000000\n"
     ]
    }
   ],
   "source": [
    "#变量重要性\n",
    "importances=model.feature_importances_\n",
    "indices = np.argsort(importances)[::-1]\n",
    "for i in range(dataFirst1.shape[1]-1):\n",
    "    print(\"%2d) %-*s %f\" % (i + 1, 30, feat_labels[indices[i]], importances[indices[i]]))"
   ]
  },
  {
   "cell_type": "code",
   "execution_count": 85,
   "metadata": {
    "ExecuteTime": {
     "end_time": "2021-10-16T13:50:41.439383Z",
     "start_time": "2021-10-16T13:50:41.425404Z"
    }
   },
   "outputs": [
    {
     "data": {
      "text/plain": [
       "0.5888153719897222"
      ]
     },
     "execution_count": 85,
     "metadata": {},
     "output_type": "execute_result"
    }
   ],
   "source": [
    "sum(importances[indices[0:50]]) #筛选后前50个贡献度总和"
   ]
  },
  {
   "cell_type": "code",
   "execution_count": 86,
   "metadata": {
    "ExecuteTime": {
     "end_time": "2021-10-16T13:50:42.884601Z",
     "start_time": "2021-10-16T13:50:42.865477Z"
    }
   },
   "outputs": [],
   "source": [
    "dataFirst5=dataFirst1.iloc[:,indices[0:50]+1]"
   ]
  },
  {
   "cell_type": "code",
   "execution_count": 87,
   "metadata": {
    "ExecuteTime": {
     "end_time": "2021-10-16T13:50:45.317040Z",
     "start_time": "2021-10-16T13:50:45.305468Z"
    }
   },
   "outputs": [],
   "source": [
    "data=dataFirst5"
   ]
  },
  {
   "cell_type": "markdown",
   "metadata": {},
   "source": [
    "随机森林分类"
   ]
  },
  {
   "cell_type": "code",
   "execution_count": 88,
   "metadata": {
    "ExecuteTime": {
     "end_time": "2021-10-16T13:50:46.396000Z",
     "start_time": "2021-10-16T13:50:46.376477Z"
    }
   },
   "outputs": [],
   "source": [
    "from sklearn.model_selection import train_test_split\n",
    "X_train,X_test,Y_train,Y_test=train_test_split(data,Y1,train_size=0.8,shuffle=True)#样本数据前80%做为训练集，后20%做为测试集"
   ]
  },
  {
   "cell_type": "code",
   "execution_count": 89,
   "metadata": {
    "ExecuteTime": {
     "end_time": "2021-10-16T13:50:46.914234Z",
     "start_time": "2021-10-16T13:50:46.905715Z"
    }
   },
   "outputs": [],
   "source": [
    "from sklearn.metrics import accuracy_score\n",
    "from sklearn.metrics import roc_auc_score,precision_recall_fscore_support"
   ]
  },
  {
   "cell_type": "code",
   "execution_count": 91,
   "metadata": {
    "ExecuteTime": {
     "end_time": "2021-10-16T13:50:48.242932Z",
     "start_time": "2021-10-16T13:50:47.968495Z"
    }
   },
   "outputs": [],
   "source": [
    "from sklearn.ensemble import RandomForestClassifier\n",
    "model=RandomForestClassifier(n_estimators=108, min_samples_leaf=2, max_depth=16, random_state=100)\n",
    "model.fit(X_train,Y_train)\n",
    "\n",
    "# 预测验证集中的因变量值\n",
    "Y_pred=model.predict(X_test)"
   ]
  },
  {
   "cell_type": "markdown",
   "metadata": {
    "ExecuteTime": {
     "end_time": "2021-10-16T08:32:03.831218Z",
     "start_time": "2021-10-16T08:32:03.824272Z"
    }
   },
   "source": [
    "评价指标"
   ]
  },
  {
   "cell_type": "code",
   "execution_count": 92,
   "metadata": {
    "ExecuteTime": {
     "end_time": "2021-10-16T13:50:52.088172Z",
     "start_time": "2021-10-16T13:50:52.072619Z"
    },
    "scrolled": true
   },
   "outputs": [
    {
     "name": "stdout",
     "output_type": "stream",
     "text": [
      "准确率Accuracy:0.883544\n",
      "精确率Precision:0.892116\n",
      "召回率Recall:0.914894\n",
      "F1 score:0.9033613445378151\n",
      "AUC:0.876197\n"
     ]
    }
   ],
   "source": [
    "print(\"准确率Accuracy:{:3f}\".format(accuracy_score(Y_test,Y_pred)))\n",
    "pre, rec, f1, sup = precision_recall_fscore_support(Y_test,Y_pred)\n",
    "print(\"精确率Precision:{:3f}\".format(pre[0]))\n",
    "print(\"召回率Recall:{:3f}\".format(rec[0]))\n",
    "print(\"F1 score:{}\".format(f1[0]))\n",
    "# 计算auc\n",
    "print(\"AUC:{:3f}\".format(roc_auc_score(Y_test,Y_pred)))"
   ]
  },
  {
   "cell_type": "markdown",
   "metadata": {},
   "source": [
    "XGBoost分类"
   ]
  },
  {
   "cell_type": "code",
   "execution_count": 93,
   "metadata": {
    "ExecuteTime": {
     "end_time": "2021-10-16T11:07:50.158709Z",
     "start_time": "2021-10-16T11:07:50.108843Z"
    }
   },
   "outputs": [],
   "source": [
    "import xgboost as xgb\n",
    "\n",
    "model=xgb.XGBClassifier(n_estimators=300, min_child_weight=6, max_depth=7, learning_rate=0.05, random_state=100)\n",
    "model.fit(X_train,Y_train)\n",
    "\n",
    "# 预测验证集中的因变量值\n",
    "Y_pred=model.predict(X_test)"
   ]
  },
  {
   "cell_type": "code",
   "execution_count": 94,
   "metadata": {
    "ExecuteTime": {
     "end_time": "2021-10-16T11:07:50.725344Z",
     "start_time": "2021-10-16T11:07:50.701381Z"
    }
   },
   "outputs": [
    {
     "name": "stdout",
     "output_type": "stream",
     "text": [
      "准确率Accuracy:0.878481\n",
      "精确率Precision:0.897872\n",
      "召回率Recall:0.897872\n",
      "F1 score:0.8978723404255319\n",
      "AUC:0.873936\n"
     ]
    }
   ],
   "source": [
    "print(\"准确率Accuracy:{:3f}\".format(accuracy_score(Y_test,Y_pred)))\n",
    "pre, rec, f1, sup = precision_recall_fscore_support(Y_test,Y_pred)\n",
    "print(\"精确率Precision:{:3f}\".format(pre[0]))\n",
    "print(\"召回率Recall:{:3f}\".format(rec[0]))\n",
    "print(\"F1 score:{}\".format(f1[0]))\n",
    "# 计算auc\n",
    "print(\"AUC:{:3f}\".format(roc_auc_score(Y_test,Y_pred)))"
   ]
  },
  {
   "cell_type": "markdown",
   "metadata": {
    "ExecuteTime": {
     "end_time": "2021-10-16T12:56:57.012783Z",
     "start_time": "2021-10-16T12:56:56.619793Z"
    }
   },
   "source": [
    "预测test中的值(选随机森林)"
   ]
  },
  {
   "cell_type": "code",
   "execution_count": 95,
   "metadata": {
    "ExecuteTime": {
     "end_time": "2021-10-16T13:51:10.346887Z",
     "start_time": "2021-10-16T13:50:57.313287Z"
    }
   },
   "outputs": [],
   "source": [
    "data1=pd.read_excel(\"Molecular_Descriptor.xlsx\",sheet_name=1)"
   ]
  },
  {
   "cell_type": "code",
   "execution_count": 96,
   "metadata": {
    "ExecuteTime": {
     "end_time": "2021-10-16T13:51:12.192977Z",
     "start_time": "2021-10-16T13:51:12.184745Z"
    }
   },
   "outputs": [],
   "source": [
    "x_test=data1[feat_labels[indices[0:50]]]  #测试集中的自变量"
   ]
  },
  {
   "cell_type": "code",
   "execution_count": 98,
   "metadata": {
    "ExecuteTime": {
     "end_time": "2021-10-16T13:51:13.516832Z",
     "start_time": "2021-10-16T13:51:13.497197Z"
    }
   },
   "outputs": [],
   "source": [
    "model=RandomForestClassifier(n_estimators=108, min_samples_leaf=2, max_depth=16, random_state=100)\n",
    "model.fit(X_train,Y_train)\n",
    "# 预测测试集中的因变量值\n",
    "y_pred=model.predict(x_test)"
   ]
  },
  {
   "cell_type": "markdown",
   "metadata": {},
   "source": [
    "#### 第二个"
   ]
  },
  {
   "cell_type": "code",
   "execution_count": 100,
   "metadata": {
    "ExecuteTime": {
     "end_time": "2021-10-16T13:11:06.416161Z",
     "start_time": "2021-10-16T13:11:06.402178Z"
    }
   },
   "outputs": [],
   "source": [
    "Y2=dataThird1['CYP3A4']"
   ]
  },
  {
   "cell_type": "code",
   "execution_count": 101,
   "metadata": {
    "ExecuteTime": {
     "end_time": "2021-10-16T13:11:08.827037Z",
     "start_time": "2021-10-16T13:11:07.954328Z"
    }
   },
   "outputs": [
    {
     "data": {
      "text/plain": [
       "RandomForestClassifier(max_depth=16, min_samples_leaf=2, n_estimators=108,\n",
       "                       random_state=100)"
      ]
     },
     "execution_count": 101,
     "metadata": {},
     "output_type": "execute_result"
    }
   ],
   "source": [
    "#建立随机森林分类模型\n",
    "feat_labels=dataFirst1.columns[1:]\n",
    "model=RandomForestClassifier(n_estimators=108, min_samples_leaf=2, max_depth=16, random_state=100)\n",
    "model.fit(dataFirst1.iloc[:,1:],Y2)"
   ]
  },
  {
   "cell_type": "code",
   "execution_count": 102,
   "metadata": {
    "ExecuteTime": {
     "end_time": "2021-10-16T13:11:10.023821Z",
     "start_time": "2021-10-16T13:11:09.962401Z"
    }
   },
   "outputs": [
    {
     "name": "stdout",
     "output_type": "stream",
     "text": [
      " 1) VP-7                           0.037079\n",
      " 2) Zagreb                         0.026913\n",
      " 3) VP-3                           0.026652\n",
      " 4) VP-2                           0.026359\n",
      " 5) VP-5                           0.021995\n",
      " 6) VP-4                           0.021982\n",
      " 7) ETA_Eta_L                      0.021861\n",
      " 8) SP-4                           0.021661\n",
      " 9) ETA_Beta_s                     0.021617\n",
      "10) ATSp2                          0.020543\n",
      "11) SP-3                           0.020089\n",
      "12) ETA_Eta_R                      0.019809\n",
      "13) WTPT-1                         0.019724\n",
      "14) VP-6                           0.018946\n",
      "15) ETA_Eta_R_L                    0.017901\n",
      "16) SP-7                           0.016451\n",
      "17) VABC                           0.014173\n",
      "18) VP-1                           0.013586\n",
      "19) ATSp3                          0.013290\n",
      "20) ATSp4                          0.012861\n",
      "21) apol                           0.011987\n",
      "22) SP-1                           0.011652\n",
      "23) VP-0                           0.011006\n",
      "24) SP-6                           0.009914\n",
      "25) MW                             0.009116\n",
      "26) ETA_Alpha                      0.008501\n",
      "27) bpol                           0.008406\n",
      "28) ECCEN                          0.008044\n",
      "29) nBondsS2                       0.007275\n",
      "30) nBonds                         0.007161\n",
      "31) minHsOH                        0.007147\n",
      "32) ETA_Eta                        0.007024\n",
      "33) VPC-6                          0.006971\n",
      "34) nBondsS                        0.006655\n",
      "35) ATSp1                          0.006631\n",
      "36) nAtom                          0.006551\n",
      "37) fragC                          0.005847\n",
      "38) minHBa                         0.005654\n",
      "39) McGowan_Volume                 0.005260\n",
      "40) VCH-6                          0.005201\n",
      "41) ATSp5                          0.005181\n",
      "42) WPOL                           0.005142\n",
      "43) nHeavyAtom                     0.004930\n",
      "44) Kier1                          0.004918\n",
      "45) ATSc1                          0.004879\n",
      "46) WPATH                          0.004711\n",
      "47) MLFER_BO                       0.004504\n",
      "48) SCH-6                          0.004438\n",
      "49) ETA_Eta_F_L                    0.004397\n",
      "50) SP-2                           0.004364\n",
      "51) SC-3                           0.004341\n",
      "52) VPC-4                          0.004295\n",
      "53) ETA_dEpsilon_D                 0.004254\n",
      "54) nH                             0.004107\n",
      "55) CrippenMR                      0.004049\n",
      "56) SCH-7                          0.003717\n",
      "57) SP-5                           0.003711\n",
      "58) ETA_EtaP_L                     0.003681\n",
      "59) ATSc2                          0.003655\n",
      "60) SHCsats                        0.003636\n",
      "61) SHsOH                          0.003532\n",
      "62) ETA_dEpsilon_C                 0.003513\n",
      "63) MDEC-33                        0.003382\n",
      "64) ATSm1                          0.003367\n",
      "65) nTRing                         0.003278\n",
      "66) HybRatio                       0.003222\n",
      "67) nBonds2                        0.003201\n",
      "68) WTPT-3                         0.003151\n",
      "69) ETA_BetaP_s                    0.003134\n",
      "70) ATSm3                          0.003017\n",
      "71) SHaaCH                         0.003009\n",
      "72) ATSm2                          0.002958\n",
      "73) SPC-5                          0.002865\n",
      "74) minHBd                         0.002834\n",
      "75) ETA_dBetaP                     0.002773\n",
      "76) VPC-5                          0.002722\n",
      "77) ETA_BetaP_ns                   0.002715\n",
      "78) maxHsOH                        0.002681\n",
      "79) VCH-7                          0.002625\n",
      "80) ETA_Epsilon_4                  0.002581\n",
      "81) nAtomLC                        0.002562\n",
      "82) minsCl                         0.002518\n",
      "83) nHCsats                        0.002511\n",
      "84) Kier2                          0.002508\n",
      "85) VAdjMat                        0.002498\n",
      "86) ETA_Shape_P                    0.002470\n",
      "87) VC-3                           0.002417\n",
      "88) ETA_Epsilon_5                  0.002413\n",
      "89) SHBint7                        0.002395\n",
      "90) nBondsS3                       0.002346\n",
      "91) ETA_Shape_Y                    0.002333\n",
      "92) maxHBd                         0.002216\n",
      "93) MLFER_BH                       0.002207\n",
      "94) hmin                           0.002185\n",
      "95) MAXDP2                         0.002177\n",
      "96) maxsOH                         0.002174\n",
      "97) nBondsD                        0.002167\n",
      "98) BCUTc-1l                       0.002167\n",
      "99) mindO                          0.002164\n",
      "100) nssssC                         0.002149\n",
      "101) WTPT-2                         0.002144\n",
      "102) nRotB                          0.002110\n",
      "103) SHBd                           0.002105\n",
      "104) nFRing                         0.002078\n",
      "105) C2SP3                          0.002078\n",
      "106) WTPT-5                         0.002059\n",
      "107) LipoaffinityIndex              0.002037\n",
      "108) MDEN-23                        0.002011\n",
      "109) minsOH                         0.002003\n",
      "110) ATSc4                          0.001996\n",
      "111) ETA_Beta                       0.001989\n",
      "112) SP-0                           0.001957\n",
      "113) minHCsatu                      0.001926\n",
      "114) n5Ring                         0.001919\n",
      "115) ATSm5                          0.001914\n",
      "116) ATSm4                          0.001880\n",
      "117) ETA_BetaP                      0.001866\n",
      "118) MLFER_A                        0.001863\n",
      "119) SsCl                           0.001808\n",
      "120) ETA_BetaP_ns_d                 0.001788\n",
      "121) ATSc5                          0.001755\n",
      "122) SHother                        0.001733\n",
      "123) SsOH                           0.001731\n",
      "124) MDEC-23                        0.001692\n",
      "125) minHCsats                      0.001687\n",
      "126) SdO                            0.001641\n",
      "127) ETA_Epsilon_2                  0.001620\n",
      "128) FMF                            0.001598\n",
      "129) nHBAcc                         0.001597\n",
      "130) ETA_EtaP_B                     0.001591\n",
      "131) MAXDP                          0.001573\n",
      "132) WTPT-4                         0.001570\n",
      "133) MDEO-22                        0.001553\n",
      "134) maxsCH3                        0.001546\n",
      "135) BCUTc-1h                       0.001523\n",
      "136) BCUTp-1h                       0.001496\n",
      "137) VC-5                           0.001494\n",
      "138) ETA_Beta_ns                    0.001489\n",
      "139) maxHaaCH                       0.001482\n",
      "140) maxHother                      0.001481\n",
      "141) MDEO-12                        0.001479\n",
      "142) naaCH                          0.001474\n",
      "143) sumI                           0.001462\n",
      "144) minaaCH                        0.001457\n",
      "145) CrippenLogP                    0.001454\n",
      "146) maxdO                          0.001454\n",
      "147) ETA_dEpsilon_B                 0.001437\n",
      "148) maxssO                         0.001435\n",
      "149) BCUTw-1h                       0.001431\n",
      "150) C4SP3                          0.001396\n",
      "151) VC-4                           0.001361\n",
      "152) VCH-5                          0.001361\n",
      "153) ETA_EtaP_F_L                   0.001353\n",
      "154) MLFER_L                        0.001336\n",
      "155) maxHBa                         0.001329\n",
      "156) nT5Ring                        0.001321\n",
      "157) minsCH3                        0.001313\n",
      "158) MLFER_S                        0.001309\n",
      "159) ALogP                          0.001309\n",
      "160) ATSc3                          0.001307\n",
      "161) ETA_Epsilon_1                  0.001301\n",
      "162) ETA_dPsi_A                     0.001290\n",
      "163) gmax                           0.001288\n",
      "164) maxHBint6                      0.001287\n",
      "165) maxHCsatu                      0.001279\n",
      "166) SC-5                           0.001279\n",
      "167) ETA_Psi_1                      0.001243\n",
      "168) SaasC                          0.001236\n",
      "169) MAXDN                          0.001223\n",
      "170) hmax                           0.001220\n",
      "171) ETA_dBeta                      0.001208\n",
      "172) ETA_EtaP                       0.001202\n",
      "173) minHBint8                      0.001189\n",
      "174) ETA_Eta_F                      0.001185\n",
      "175) minHBint6                      0.001185\n",
      "176) maxwHBa                        0.001184\n",
      "177) nHBDon                         0.001178\n",
      "178) MDEC-22                        0.001167\n",
      "179) SHBa                           0.001165\n",
      "180) maxHBint7                      0.001152\n",
      "181) SssCH2                         0.001142\n",
      "182) maxaaaC                        0.001140\n",
      "183) minHother                      0.001135\n",
      "184) minHBint7                      0.001127\n",
      "185) mindssC                        0.001126\n",
      "186) DELS2                          0.001125\n",
      "187) ETA_dEpsilon_A                 0.001112\n",
      "188) SssssC                         0.001101\n",
      "189) SHBint4                        0.001100\n",
      "190) ETA_Epsilon_3                  0.001095\n",
      "191) SsCH3                          0.001094\n",
      "192) minssO                         0.001088\n",
      "193) naasC                          0.001087\n",
      "194) SHCsatu                        0.001077\n",
      "195) SaaCH                          0.001060\n",
      "196) maxssssC                       0.001058\n",
      "197) MAXDN2                         0.001053\n",
      "198) BCUTw-1l                       0.001050\n",
      "199) ETA_Eta_B_RC                   0.001047\n",
      "200) nHBint7                        0.001045\n",
      "201) minwHBa                        0.001043\n",
      "202) DELS                           0.001039\n",
      "203) ETA_EtaP_F                     0.001036\n",
      "204) maxHCsats                      0.001016\n",
      "205) maxsCl                         0.001004\n",
      "206) SPC-4                          0.001000\n",
      "207) ETA_Eta_B                      0.000994\n",
      "208) naAromAtom                     0.000991\n",
      "209) MDEC-12                        0.000987\n",
      "210) minssCH2                       0.000985\n",
      "211) ALogp2                         0.000984\n",
      "212) maxaaCH                        0.000970\n",
      "213) gmin                           0.000969\n",
      "214) ETA_AlphaP                     0.000965\n",
      "215) AMR                            0.000965\n",
      "216) C2SP2                          0.000963\n",
      "217) nHBd                           0.000962\n",
      "218) XLogP                          0.000956\n",
      "219) SdssC                          0.000954\n",
      "220) nF9Ring                        0.000952\n",
      "221) nwHBa                          0.000930\n",
      "222) nHBa                           0.000891\n",
      "223) nHBAcc_Lipinski                0.000877\n",
      "224) nsOH                           0.000877\n",
      "225) ndssC                          0.000875\n",
      "226) MLFER_E                        0.000865\n",
      "227) C3SP2                          0.000861\n",
      "228) Kier3                          0.000854\n",
      "229) maxaaO                         0.000840\n",
      "230) SssO                           0.000836\n",
      "231) maxaasN                        0.000834\n",
      "232) maxaasC                        0.000833\n",
      "233) nHaaCH                         0.000827\n",
      "234) SPC-6                          0.000809\n",
      "235) minHBint3                      0.000808\n",
      "236) nHother                        0.000787\n",
      "237) minHBint5                      0.000785\n",
      "238) nHBint6                        0.000782\n",
      "239) mindsN                         0.000778\n",
      "240) minHBint4                      0.000772\n",
      "241) nCl                            0.000765\n",
      "242) minHaaCH                       0.000760\n",
      "243) SHBint10                       0.000751\n",
      "244) TopoPSA                        0.000748\n",
      "245) nN                             0.000744\n",
      "246) minsssN                        0.000718\n",
      "247) MDEC-34                        0.000714\n",
      "248) nC                             0.000713\n",
      "249) ETA_dAlpha_B                   0.000709\n",
      "250) MLogP                          0.000705\n",
      "251) nsCH3                          0.000703\n",
      "252) ETA_Shape_X                    0.000696\n",
      "253) minssssC                       0.000691\n",
      "254) BCUTp-1l                       0.000688\n",
      "255) nRing                          0.000683\n",
      "256) SwHBa                          0.000677\n",
      "257) maxHBint4                      0.000669\n",
      "258) MDEC-13                        0.000667\n",
      "259) nHBDon_Lipinski                0.000651\n",
      "260) SHBint8                        0.000648\n",
      "261) SC-4                           0.000632\n",
      "262) nHCsatu                        0.000624\n",
      "263) MDEO-11                        0.000623\n",
      "264) ETA_dAlpha_A                   0.000615\n",
      "265) maxssCH2                       0.000607\n",
      "266) minaasC                        0.000604\n",
      "267) nT9Ring                        0.000601\n",
      "268) minHBint10                     0.000595\n",
      "269) SaaaC                          0.000589\n",
      "270) SdsN                           0.000588\n",
      "271) C1SP2                          0.000582\n",
      "272) SHBint6                        0.000568\n",
      "273) nHBint4                        0.000562\n",
      "274) nAromBond                      0.000543\n",
      "275) ndO                            0.000530\n",
      "276) maxHBint10                     0.000528\n",
      "277) nsCl                           0.000518\n",
      "278) maxdssC                        0.000517\n",
      "279) nAtomP                         0.000508\n",
      "280) mindsCH                        0.000506\n",
      "281) maxdsCH                        0.000505\n",
      "282) naaN                           0.000504\n",
      "283) minaasN                        0.000499\n",
      "284) SsssN                          0.000476\n",
      "285) minaaaC                        0.000471\n",
      "286) ETA_EtaP_B_RC                  0.000471\n",
      "287) nssO                           0.000459\n",
      "288) minaaO                         0.000455\n",
      "289) MDEC-11                        0.000453\n",
      "290) nHsOH                          0.000449\n",
      "291) MDEN-22                        0.000442\n",
      "292) maxHBint8                      0.000427\n",
      "293) naaO                           0.000419\n",
      "294) minaaN                         0.000416\n",
      "295) n6Ring                         0.000410\n",
      "296) maxHBint3                      0.000400\n",
      "297) SaaN                           0.000393\n",
      "298) SdsCH                          0.000393\n",
      "299) nF10Ring                       0.000383\n",
      "300) ETA_Beta_ns_d                  0.000383\n",
      "301) mintsC                         0.000377\n",
      "302) nBondsM                        0.000375\n",
      "303) minsBr                         0.000371\n",
      "304) nssCH2                         0.000366\n",
      "305) SC-6                           0.000365\n",
      "306) MDEC-24                        0.000365\n",
      "307) SsssCH                         0.000364\n",
      "308) SddssS                         0.000361\n",
      "309) minHssNH                       0.000360\n",
      "310) mintN                          0.000359\n",
      "311) nHBint8                        0.000357\n",
      "312) nT6Ring                        0.000357\n",
      "313) maxaaN                         0.000330\n",
      "314) maxHdsCH                       0.000322\n",
      "315) maxsssN                        0.000321\n",
      "316) PetitjeanNumber                0.000317\n",
      "317) nT10Ring                       0.000313\n",
      "318) nAtomLAC                       0.000300\n",
      "319) nO                             0.000299\n",
      "320) maxtN                          0.000295\n",
      "321) SaaO                           0.000288\n",
      "322) C1SP3                          0.000280\n",
      "323) nssNH                          0.000280\n",
      "324) SCH-5                          0.000278\n",
      "325) minddssS                       0.000276\n",
      "326) nHBint3                        0.000274\n",
      "327) nHBAcc3                        0.000271\n",
      "328) StsC                           0.000262\n",
      "329) SHBint5                        0.000261\n",
      "330) maxHssNH                       0.000261\n",
      "331) ndsCH                          0.000260\n",
      "332) SssNH                          0.000257\n",
      "333) n4Ring                         0.000257\n",
      "334) maxtsC                         0.000256\n",
      "335) SHssNH                         0.000256\n",
      "336) maxaaNH                        0.000249\n",
      "337) nHBint5                        0.000246\n",
      "338) SHBint3                        0.000239\n",
      "339) nT4Ring                        0.000230\n",
      "340) minHdsCH                       0.000225\n",
      "341) nX                             0.000221\n",
      "342) SHdsCH                         0.000219\n",
      "343) minHBint9                      0.000218\n",
      "344) maxsssCH                       0.000214\n",
      "345) SHBint2                        0.000210\n",
      "346) minssNH                        0.000209\n",
      "347) nHBAcc2                        0.000203\n",
      "348) SHAvin                         0.000198\n",
      "349) maxHAvin                       0.000195\n",
      "350) nFG12Ring                      0.000193\n",
      "351) nHBint9                        0.000182\n",
      "352) nsssCH                         0.000182\n",
      "353) maxHBint9                      0.000177\n",
      "354) VC-6                           0.000177\n",
      "355) SaasN                          0.000175\n",
      "356) C3SP3                          0.000166\n",
      "357) minHBint2                      0.000166\n",
      "358) SssS                           0.000161\n",
      "359) naaaC                          0.000157\n",
      "360) nS                             0.000157\n",
      "361) naasN                          0.000155\n",
      "362) maxdsN                         0.000151\n",
      "363) MDEC-44                        0.000145\n",
      "364) SHBint9                        0.000143\n",
      "365) SHdCH2                         0.000139\n",
      "366) nBondsD2                       0.000139\n",
      "367) ntN                            0.000131\n",
      "368) minsF                          0.000128\n",
      "369) minHAvin                       0.000124\n",
      "370) nBondsT                        0.000122\n",
      "371) nHdsCH                         0.000120\n",
      "372) maxHBint2                      0.000115\n",
      "373) minsNH2                        0.000115\n",
      "374) maxsBr                         0.000115\n",
      "375) SsBr                           0.000108\n",
      "376) mindCH2                        0.000103\n",
      "377) SsF                            0.000103\n",
      "378) LipinskiFailures               0.000103\n",
      "379) minssS                         0.000098\n",
      "380) nHAvin                         0.000095\n",
      "381) nBase                          0.000094\n",
      "382) minaaNH                        0.000091\n",
      "383) nBr                            0.000088\n",
      "384) maxHBint5                      0.000086\n",
      "385) VCH-4                          0.000085\n",
      "386) SaaS                           0.000077\n",
      "387) minaaS                         0.000076\n",
      "388) nHBint10                       0.000075\n",
      "389) MDEN-33                        0.000074\n",
      "390) nF8Ring                        0.000073\n",
      "391) maxHaaNH                       0.000067\n",
      "392) nTG12Ring                      0.000067\n",
      "393) SdS                            0.000065\n",
      "394) ndS                            0.000063\n",
      "395) maxssNH                        0.000061\n",
      "396) nsF                            0.000057\n",
      "397) nHBint2                        0.000056\n",
      "398) nHssNH                         0.000051\n",
      "399) nsBr                           0.000050\n",
      "400) SsNH2                          0.000049\n",
      "401) ETA_dPsi_B                     0.000045\n",
      "402) nF6Ring                        0.000040\n",
      "403) MDEC-14                        0.000038\n",
      "404) maxdS                          0.000038\n",
      "405) nT12Ring                       0.000033\n",
      "406) SdCH2                          0.000032\n",
      "407) nsssN                          0.000032\n",
      "408) MDEN-12                        0.000025\n",
      "409) StN                            0.000025\n",
      "410) maxsF                          0.000022\n",
      "411) nHaaNH                         0.000016\n",
      "412) C1SP1                          0.000015\n",
      "413) ndsN                           0.000015\n",
      "414) minsssCH                       0.000014\n",
      "415) nT8Ring                        0.000013\n",
      "416) minHdCH2                       0.000012\n",
      "417) SaaNH                          0.000012\n",
      "418) nddssS                         0.000011\n",
      "419) nsNH2                          0.000011\n",
      "420) C2SP1                          0.000000\n",
      "421) nF                             0.000000\n",
      "422) SCH-3                          0.000000\n",
      "423) SCH-4                          0.000000\n",
      "424) nI                             0.000000\n",
      "425) VCH-3                          0.000000\n",
      "426) nP                             0.000000\n",
      "427) minHsSH                        0.000000\n",
      "428) nwHBd                          0.000000\n",
      "429) minsI                          0.000000\n",
      "430) maxHCHnX                       0.000000\n",
      "431) maxHdCH2                       0.000000\n",
      "432) maxHtCH                        0.000000\n",
      "433) maxHsNH2                       0.000000\n",
      "434) maxHsSH                        0.000000\n",
      "435) maxHdNH                        0.000000\n",
      "436) maxwHBd                        0.000000\n",
      "437) mindssS                        0.000000\n",
      "438) minHtCH                        0.000000\n",
      "439) mindS                          0.000000\n",
      "440) minsSH                         0.000000\n",
      "441) mindsssP                       0.000000\n",
      "442) minsOm                         0.000000\n",
      "443) minssssNp                      0.000000\n",
      "444) mindNH                         0.000000\n",
      "445) mintCH                         0.000000\n",
      "446) maxdCH2                        0.000000\n",
      "447) maxtCH                         0.000000\n",
      "448) maxsNH2                        0.000000\n",
      "449) maxdNH                         0.000000\n",
      "450) nT11Ring                       0.000000\n",
      "451) nT7Ring                        0.000000\n",
      "452) nF12Ring                       0.000000\n",
      "453) nF11Ring                       0.000000\n",
      "454) nF7Ring                        0.000000\n",
      "455) nG12Ring                       0.000000\n",
      "456) n12Ring                        0.000000\n",
      "457) n8Ring                         0.000000\n",
      "458) n7Ring                         0.000000\n",
      "459) n3Ring                         0.000000\n",
      "460) MDEN-13                        0.000000\n",
      "461) MDEN-11                        0.000000\n",
      "462) maxsSH                         0.000000\n",
      "463) maxsOm                         0.000000\n",
      "464) maxssssNp                      0.000000\n",
      "465) minHCHnX                       0.000000\n",
      "466) minHaaNH                       0.000000\n",
      "467) nHdNH                          0.000000\n",
      "468) ndNH                           0.000000\n",
      "469) naaS                           0.000000\n",
      "470) nssS                           0.000000\n",
      "471) nsSH                           0.000000\n",
      "472) ndsssP                         0.000000\n",
      "473) nsOm                           0.000000\n",
      "474) nssssNp                        0.000000\n",
      "475) naaNH                          0.000000\n",
      "476) ntsC                           0.000000\n",
      "477) minHsNH2                       0.000000\n",
      "478) ntCH                           0.000000\n",
      "479) ndCH2                          0.000000\n",
      "480) nHCHnX                         0.000000\n",
      "481) nHdCH2                         0.000000\n",
      "482) nHtCH                          0.000000\n",
      "483) nHsNH2                         0.000000\n",
      "484) nHsSH                          0.000000\n",
      "485) ndssS                          0.000000\n",
      "486) nsI                            0.000000\n",
      "487) SwHBd                          0.000000\n",
      "488) SHdNH                          0.000000\n",
      "489) minHdNH                        0.000000\n",
      "490) minwHBd                        0.000000\n",
      "491) SsI                            0.000000\n",
      "492) SdssS                          0.000000\n",
      "493) SsSH                           0.000000\n",
      "494) SdsssP                         0.000000\n",
      "495) SsOm                           0.000000\n",
      "496) SssssNp                        0.000000\n",
      "497) SdNH                           0.000000\n",
      "498) StCH                           0.000000\n",
      "499) SHCHnX                         0.000000\n",
      "500) SHtCH                          0.000000\n",
      "501) SHaaNH                         0.000000\n",
      "502) SHsNH2                         0.000000\n",
      "503) SHsSH                          0.000000\n",
      "504) nAcid                          0.000000\n"
     ]
    }
   ],
   "source": [
    "#变量重要性\n",
    "importances=model.feature_importances_\n",
    "indices = np.argsort(importances)[::-1]\n",
    "for i in range(dataFirst1.shape[1]-1):\n",
    "    print(\"%2d) %-*s %f\" % (i + 1, 30, feat_labels[indices[i]], importances[indices[i]]))"
   ]
  },
  {
   "cell_type": "code",
   "execution_count": 103,
   "metadata": {
    "ExecuteTime": {
     "end_time": "2021-10-16T13:11:13.466314Z",
     "start_time": "2021-10-16T13:11:13.450180Z"
    }
   },
   "outputs": [
    {
     "data": {
      "text/plain": [
       "0.6169591362709528"
      ]
     },
     "execution_count": 103,
     "metadata": {},
     "output_type": "execute_result"
    }
   ],
   "source": [
    "sum(importances[indices[0:50]]) #筛选后前50个贡献度总和"
   ]
  },
  {
   "cell_type": "code",
   "execution_count": 104,
   "metadata": {
    "ExecuteTime": {
     "end_time": "2021-10-16T13:11:16.845543Z",
     "start_time": "2021-10-16T13:11:16.826028Z"
    }
   },
   "outputs": [],
   "source": [
    "dataFirst6=dataFirst1.iloc[:,indices[0:50]+1]\n",
    "data=dataFirst6"
   ]
  },
  {
   "cell_type": "code",
   "execution_count": 105,
   "metadata": {
    "ExecuteTime": {
     "end_time": "2021-10-16T13:11:19.426672Z",
     "start_time": "2021-10-16T13:11:19.410528Z"
    }
   },
   "outputs": [],
   "source": [
    "from sklearn.model_selection import train_test_split\n",
    "X_train,X_test,Y_train,Y_test=train_test_split(data,Y2,train_size=0.8,shuffle=True)#样本数据前80%做为训练集，后20%做为测试集"
   ]
  },
  {
   "cell_type": "code",
   "execution_count": 106,
   "metadata": {
    "ExecuteTime": {
     "end_time": "2021-10-16T13:08:19.078526Z",
     "start_time": "2021-10-16T13:08:18.753429Z"
    }
   },
   "outputs": [],
   "source": [
    "from sklearn.ensemble import RandomForestClassifier\n",
    "model=RandomForestClassifier(n_estimators=108, min_samples_leaf=2, max_depth=16, random_state=100)\n",
    "model.fit(X_train,Y_train)\n",
    "\n",
    "# 预测验证集中的因变量值\n",
    "Y_pred=model.predict(X_test)"
   ]
  },
  {
   "cell_type": "code",
   "execution_count": 107,
   "metadata": {
    "ExecuteTime": {
     "end_time": "2021-10-16T13:08:22.825413Z",
     "start_time": "2021-10-16T13:08:22.810596Z"
    }
   },
   "outputs": [
    {
     "name": "stdout",
     "output_type": "stream",
     "text": [
      "准确率Accuracy:0.934177\n",
      "精确率Precision:0.877358\n",
      "召回率Recall:0.877358\n",
      "F1 score:0.8773584905660378\n",
      "AUC:0.916188\n"
     ]
    }
   ],
   "source": [
    "print(\"准确率Accuracy:{:3f}\".format(accuracy_score(Y_test,Y_pred)))\n",
    "pre, rec, f1, sup = precision_recall_fscore_support(Y_test,Y_pred)\n",
    "print(\"精确率Precision:{:3f}\".format(pre[0]))\n",
    "print(\"召回率Recall:{:3f}\".format(rec[0]))\n",
    "print(\"F1 score:{}\".format(f1[0]))\n",
    "# 计算auc\n",
    "print(\"AUC:{:3f}\".format(roc_auc_score(Y_test,Y_pred)))"
   ]
  },
  {
   "cell_type": "code",
   "execution_count": 108,
   "metadata": {
    "ExecuteTime": {
     "end_time": "2021-10-16T13:11:26.784824Z",
     "start_time": "2021-10-16T13:11:26.571379Z"
    }
   },
   "outputs": [],
   "source": [
    "import xgboost as xgb\n",
    "\n",
    "model=xgb.XGBClassifier(n_estimators=300, min_child_weight=6, max_depth=7, learning_rate=0.05, random_state=100)\n",
    "model.fit(X_train,Y_train)\n",
    "\n",
    "# 预测验证集中的因变量值\n",
    "Y_pred=model.predict(X_test)"
   ]
  },
  {
   "cell_type": "code",
   "execution_count": 109,
   "metadata": {
    "ExecuteTime": {
     "end_time": "2021-10-16T13:11:27.952499Z",
     "start_time": "2021-10-16T13:11:27.930857Z"
    }
   },
   "outputs": [
    {
     "name": "stdout",
     "output_type": "stream",
     "text": [
      "准确率Accuracy:0.929114\n",
      "精确率Precision:0.867925\n",
      "召回率Recall:0.867925\n",
      "F1 score:0.8679245283018869\n",
      "AUC:0.909741\n"
     ]
    }
   ],
   "source": [
    "print(\"准确率Accuracy:{:3f}\".format(accuracy_score(Y_test,Y_pred)))\n",
    "pre, rec, f1, sup = precision_recall_fscore_support(Y_test,Y_pred)\n",
    "print(\"精确率Precision:{:3f}\".format(pre[0]))\n",
    "print(\"召回率Recall:{:3f}\".format(rec[0]))\n",
    "print(\"F1 score:{}\".format(f1[0]))\n",
    "# 计算auc\n",
    "print(\"AUC:{:3f}\".format(roc_auc_score(Y_test,Y_pred)))"
   ]
  },
  {
   "cell_type": "markdown",
   "metadata": {},
   "source": [
    "预测test中的值(选随机森林)"
   ]
  },
  {
   "cell_type": "code",
   "execution_count": 110,
   "metadata": {
    "ExecuteTime": {
     "end_time": "2021-10-16T13:11:35.908054Z",
     "start_time": "2021-10-16T13:11:35.891077Z"
    }
   },
   "outputs": [],
   "source": [
    "x_test=data1[feat_labels[indices[0:50]]]  #预测集中的自变量\n",
    "\n",
    "model=RandomForestClassifier(n_estimators=108, min_samples_leaf=2, max_depth=16, random_state=100)\n",
    "model.fit(X_train,Y_train)\n",
    "\n",
    "# 预测测试集中的因变量值\n",
    "y_pred=model.predict(x_test)"
   ]
  },
  {
   "cell_type": "markdown",
   "metadata": {},
   "source": [
    "#### 第三个"
   ]
  },
  {
   "cell_type": "code",
   "execution_count": 115,
   "metadata": {
    "ExecuteTime": {
     "end_time": "2021-10-16T13:58:00.200060Z",
     "start_time": "2021-10-16T13:58:00.185098Z"
    }
   },
   "outputs": [],
   "source": [
    "Y3=dataThird1['hERG']"
   ]
  },
  {
   "cell_type": "code",
   "execution_count": 116,
   "metadata": {
    "ExecuteTime": {
     "end_time": "2021-10-16T13:58:02.746581Z",
     "start_time": "2021-10-16T13:58:01.753246Z"
    }
   },
   "outputs": [
    {
     "data": {
      "text/plain": [
       "RandomForestClassifier(max_depth=16, min_samples_leaf=2, n_estimators=108,\n",
       "                       random_state=100)"
      ]
     },
     "execution_count": 116,
     "metadata": {},
     "output_type": "execute_result"
    }
   ],
   "source": [
    "#建立随机森林分类模型\n",
    "feat_labels=dataFirst1.columns[1:]\n",
    "model=RandomForestClassifier(n_estimators=108, min_samples_leaf=2, max_depth=16, random_state=100)\n",
    "model.fit(dataFirst1.iloc[:,1:],Y3)"
   ]
  },
  {
   "cell_type": "code",
   "execution_count": 117,
   "metadata": {
    "ExecuteTime": {
     "end_time": "2021-10-16T13:58:02.809385Z",
     "start_time": "2021-10-16T13:58:02.748548Z"
    }
   },
   "outputs": [
    {
     "name": "stdout",
     "output_type": "stream",
     "text": [
      " 1) VP-0                           0.035117\n",
      " 2) CrippenMR                      0.033042\n",
      " 3) Kier1                          0.029636\n",
      " 4) SP-1                           0.024571\n",
      " 5) ETA_Eta_R                      0.023642\n",
      " 6) WPATH                          0.023616\n",
      " 7) ETA_Eta_R_L                    0.022437\n",
      " 8) Kier2                          0.019026\n",
      " 9) nHeavyAtom                     0.018935\n",
      "10) MLFER_L                        0.017653\n",
      "11) ETA_Beta_s                     0.016437\n",
      "12) ETA_Alpha                      0.015064\n",
      "13) ECCEN                          0.014810\n",
      "14) minsssN                        0.013440\n",
      "15) AMR                            0.012734\n",
      "16) bpol                           0.012273\n",
      "17) VABC                           0.012004\n",
      "18) VP-1                           0.011857\n",
      "19) MW                             0.011025\n",
      "20) Kier3                          0.010452\n",
      "21) nBonds2                        0.009936\n",
      "22) fragC                          0.009639\n",
      "23) VP-2                           0.009633\n",
      "24) ETA_Eta_L                      0.008684\n",
      "25) SP-0                           0.008261\n",
      "26) nAtom                          0.007231\n",
      "27) C1SP3                          0.007122\n",
      "28) minHsOH                        0.007084\n",
      "29) maxaaCH                        0.006894\n",
      "30) ETA_Beta                       0.006882\n",
      "31) VP-4                           0.006563\n",
      "32) SsOH                           0.006518\n",
      "33) nRotB                          0.006410\n",
      "34) McGowan_Volume                 0.006160\n",
      "35) WTPT-1                         0.005807\n",
      "36) nH                             0.005744\n",
      "37) SHsOH                          0.005723\n",
      "38) nBondsS                        0.005553\n",
      "39) maxHBd                         0.005198\n",
      "40) maxwHBa                        0.005198\n",
      "41) ATSc2                          0.005121\n",
      "42) minHBd                         0.005115\n",
      "43) BCUTc-1l                       0.004852\n",
      "44) SsssN                          0.004719\n",
      "45) ATSp2                          0.004535\n",
      "46) ETA_EtaP_F                     0.004408\n",
      "47) WPOL                           0.004342\n",
      "48) LipoaffinityIndex              0.004337\n",
      "49) maxsssN                        0.004289\n",
      "50) ETA_dEpsilon_B                 0.004280\n",
      "51) MDEO-11                        0.004210\n",
      "52) maxHBint8                      0.004181\n",
      "53) hmin                           0.004154\n",
      "54) VP-6                           0.004121\n",
      "55) SP-3                           0.004092\n",
      "56) SHother                        0.004077\n",
      "57) nC                             0.003967\n",
      "58) SP-4                           0.003960\n",
      "59) apol                           0.003860\n",
      "60) minsOH                         0.003754\n",
      "61) maxHsOH                        0.003734\n",
      "62) minaasC                        0.003693\n",
      "63) ETA_Eta_F_L                    0.003626\n",
      "64) sumI                           0.003441\n",
      "65) minaaCH                        0.003424\n",
      "66) nBondsS3                       0.003403\n",
      "67) SP-7                           0.003387\n",
      "68) minHBa                         0.003332\n",
      "69) ETA_EtaP                       0.003307\n",
      "70) ETA_Shape_Y                    0.003199\n",
      "71) SHBint8                        0.003095\n",
      "72) MDEC-22                        0.003030\n",
      "73) HybRatio                       0.002999\n",
      "74) nHCsats                        0.002990\n",
      "75) maxssCH2                       0.002942\n",
      "76) FMF                            0.002907\n",
      "77) minssCH2                       0.002879\n",
      "78) ALogP                          0.002834\n",
      "79) minsssCH                       0.002819\n",
      "80) SCH-7                          0.002805\n",
      "81) VAdjMat                        0.002759\n",
      "82) SHBd                           0.002734\n",
      "83) minHBint8                      0.002733\n",
      "84) naAromAtom                     0.002682\n",
      "85) SHBint7                        0.002638\n",
      "86) WTPT-4                         0.002623\n",
      "87) ETA_dEpsilon_D                 0.002530\n",
      "88) ETA_Epsilon_1                  0.002522\n",
      "89) SHaaCH                         0.002486\n",
      "90) maxsOH                         0.002463\n",
      "91) maxssNH                        0.002450\n",
      "92) BCUTp-1h                       0.002441\n",
      "93) ETA_dEpsilon_C                 0.002438\n",
      "94) ETA_Psi_1                      0.002401\n",
      "95) maxHssNH                       0.002398\n",
      "96) SC-3                           0.002353\n",
      "97) DELS2                          0.002348\n",
      "98) minHaaCH                       0.002278\n",
      "99) ETA_dBetaP                     0.002277\n",
      "100) SC-5                           0.002248\n",
      "101) MLFER_BO                       0.002247\n",
      "102) ETA_BetaP_ns_d                 0.002213\n",
      "103) SaasC                          0.002155\n",
      "104) ETA_EtaP_F_L                   0.002130\n",
      "105) minHother                      0.002110\n",
      "106) BCUTc-1h                       0.002087\n",
      "107) ETA_dAlpha_B                   0.002083\n",
      "108) VCH-7                          0.002077\n",
      "109) ETA_dEpsilon_A                 0.002006\n",
      "110) TopoPSA                        0.002002\n",
      "111) maxHaaCH                       0.002000\n",
      "112) MLFER_BH                       0.001974\n",
      "113) maxHBa                         0.001967\n",
      "114) mindO                          0.001962\n",
      "115) MDEC-12                        0.001946\n",
      "116) CrippenLogP                    0.001945\n",
      "117) MLFER_A                        0.001924\n",
      "118) SwHBa                          0.001923\n",
      "119) SaaCH                          0.001920\n",
      "120) ETA_dBeta                      0.001914\n",
      "121) nBondsS2                       0.001913\n",
      "122) hmax                           0.001899\n",
      "123) ETA_EtaP_B_RC                  0.001863\n",
      "124) ETA_Eta                        0.001861\n",
      "125) ATSc4                          0.001846\n",
      "126) MAXDP                          0.001827\n",
      "127) XLogP                          0.001813\n",
      "128) SdO                            0.001812\n",
      "129) SHCsats                        0.001810\n",
      "130) nO                             0.001786\n",
      "131) minHBint6                      0.001781\n",
      "132) SHBint10                       0.001774\n",
      "133) nHother                        0.001772\n",
      "134) ATSc3                          0.001753\n",
      "135) VP-7                           0.001745\n",
      "136) ETA_Epsilon_4                  0.001744\n",
      "137) MLFER_S                        0.001738\n",
      "138) ETA_EtaP_L                     0.001729\n",
      "139) ALogp2                         0.001726\n",
      "140) ETA_AlphaP                     0.001700\n",
      "141) nAtomP                         0.001692\n",
      "142) ETA_BetaP                      0.001680\n",
      "143) maxsCH3                        0.001678\n",
      "144) VPC-6                          0.001677\n",
      "145) BCUTp-1l                       0.001671\n",
      "146) maxsssCH                       0.001669\n",
      "147) maxaasC                        0.001662\n",
      "148) MDEO-12                        0.001659\n",
      "149) minHCsats                      0.001659\n",
      "150) SHBint2                        0.001633\n",
      "151) gmin                           0.001631\n",
      "152) mindssC                        0.001615\n",
      "153) SPC-5                          0.001613\n",
      "154) WTPT-2                         0.001609\n",
      "155) MDEC-33                        0.001605\n",
      "156) SsCH3                          0.001599\n",
      "157) SCH-5                          0.001590\n",
      "158) SssNH                          0.001562\n",
      "159) SCH-6                          0.001557\n",
      "160) MLFER_E                        0.001547\n",
      "161) DELS                           0.001545\n",
      "162) SHBa                           0.001544\n",
      "163) MDEC-13                        0.001543\n",
      "164) nAtomLC                        0.001526\n",
      "165) MAXDP2                         0.001492\n",
      "166) ETA_Epsilon_2                  0.001492\n",
      "167) WTPT-5                         0.001490\n",
      "168) maxHother                      0.001489\n",
      "169) ETA_BetaP_s                    0.001488\n",
      "170) minsCH3                        0.001483\n",
      "171) MDEC-23                        0.001454\n",
      "172) VC-3                           0.001446\n",
      "173) VC-5                           0.001445\n",
      "174) ATSc1                          0.001440\n",
      "175) gmax                           0.001439\n",
      "176) MAXDN                          0.001411\n",
      "177) ATSp3                          0.001407\n",
      "178) maxHBint7                      0.001397\n",
      "179) WTPT-3                         0.001396\n",
      "180) nsOH                           0.001390\n",
      "181) SHBint6                        0.001358\n",
      "182) SPC-4                          0.001355\n",
      "183) VP-3                           0.001345\n",
      "184) ETA_Beta_ns                    0.001340\n",
      "185) VPC-5                          0.001340\n",
      "186) SHssNH                         0.001339\n",
      "187) Zagreb                         0.001332\n",
      "188) SdssC                          0.001319\n",
      "189) minwHBa                        0.001317\n",
      "190) nssCH2                         0.001302\n",
      "191) maxdO                          0.001293\n",
      "192) ATSm4                          0.001291\n",
      "193) ETA_Epsilon_3                  0.001285\n",
      "194) ETA_EtaP_B                     0.001277\n",
      "195) ATSp5                          0.001267\n",
      "196) SP-5                           0.001266\n",
      "197) SP-2                           0.001264\n",
      "198) maxHBint2                      0.001262\n",
      "199) ETA_Shape_P                    0.001253\n",
      "200) ETA_Eta_B                      0.001245\n",
      "201) ETA_dPsi_A                     0.001240\n",
      "202) SPC-6                          0.001225\n",
      "203) maxHCsats                      0.001223\n",
      "204) ATSp1                          0.001206\n",
      "205) ATSp4                          0.001205\n",
      "206) ATSm5                          0.001204\n",
      "207) nHBint7                        0.001199\n",
      "208) VCH-6                          0.001197\n",
      "209) C2SP2                          0.001184\n",
      "210) MAXDN2                         0.001175\n",
      "211) nsssCH                         0.001175\n",
      "212) ETA_Shape_X                    0.001163\n",
      "213) SssCH2                         0.001157\n",
      "214) nHaaCH                         0.001148\n",
      "215) SHCsatu                        0.001141\n",
      "216) maxHBint5                      0.001126\n",
      "217) ETA_BetaP_ns                   0.001125\n",
      "218) ATSm2                          0.001121\n",
      "219) VCH-5                          0.001118\n",
      "220) naasC                          0.001110\n",
      "221) minHCsatu                      0.001098\n",
      "222) maxHBint6                      0.001092\n",
      "223) ATSc5                          0.001080\n",
      "224) maxsF                          0.001077\n",
      "225) VPC-4                          0.001075\n",
      "226) minHBint7                      0.001069\n",
      "227) VP-5                           0.001068\n",
      "228) maxHCsatu                      0.001061\n",
      "229) ETA_Beta_ns_d                  0.001052\n",
      "230) SsssCH                         0.001051\n",
      "231) ETA_Eta_F                      0.001047\n",
      "232) minaaS                         0.001045\n",
      "233) maxaaO                         0.001034\n",
      "234) nBase                          0.001033\n",
      "235) SssO                           0.001029\n",
      "236) nAtomLAC                       0.001012\n",
      "237) minHssNH                       0.001009\n",
      "238) maxssO                         0.000995\n",
      "239) nHsOH                          0.000988\n",
      "240) MDEC-34                        0.000986\n",
      "241) nHBd                           0.000974\n",
      "242) ETA_Eta_B_RC                   0.000973\n",
      "243) SaaN                           0.000962\n",
      "244) SP-6                           0.000961\n",
      "245) maxdssC                        0.000928\n",
      "246) maxaaaC                        0.000907\n",
      "247) nsssN                          0.000904\n",
      "248) BCUTw-1h                       0.000893\n",
      "249) minssNH                        0.000879\n",
      "250) nssNH                          0.000876\n",
      "251) ndssC                          0.000863\n",
      "252) SHBint4                        0.000857\n",
      "253) MDEN-23                        0.000851\n",
      "254) nHBDon                         0.000850\n",
      "255) ATSm3                          0.000840\n",
      "256) SHaaNH                         0.000833\n",
      "257) naaCH                          0.000831\n",
      "258) ATSm1                          0.000826\n",
      "259) minHBint2                      0.000820\n",
      "260) nBonds                         0.000810\n",
      "261) C2SP3                          0.000795\n",
      "262) MDEC-24                        0.000785\n",
      "263) ETA_Epsilon_5                  0.000775\n",
      "264) nHssNH                         0.000775\n",
      "265) nT6Ring                        0.000771\n",
      "266) minssO                         0.000760\n",
      "267) minHdsCH                       0.000759\n",
      "268) nHBint8                        0.000756\n",
      "269) nHBint2                        0.000755\n",
      "270) C3SP2                          0.000753\n",
      "271) n6Ring                         0.000729\n",
      "272) minHBint4                      0.000727\n",
      "273) SaaO                           0.000726\n",
      "274) maxHBint10                     0.000705\n",
      "275) nBondsM                        0.000689\n",
      "276) SsF                            0.000685\n",
      "277) SaaaC                          0.000681\n",
      "278) minaaaC                        0.000660\n",
      "279) C1SP2                          0.000641\n",
      "280) nBondsD                        0.000633\n",
      "281) nHBAcc3                        0.000626\n",
      "282) MDEN-22                        0.000624\n",
      "283) minaaO                         0.000624\n",
      "284) maxaaN                         0.000620\n",
      "285) PetitjeanNumber                0.000620\n",
      "286) MLogP                          0.000617\n",
      "287) nHBint6                        0.000617\n",
      "288) nT5Ring                        0.000611\n",
      "289) nTG12Ring                      0.000599\n",
      "290) nN                             0.000588\n",
      "291) nsCH3                          0.000584\n",
      "292) minsF                          0.000582\n",
      "293) minHBint5                      0.000571\n",
      "294) SHBint5                        0.000562\n",
      "295) maxHdsCH                       0.000559\n",
      "296) mindsCH                        0.000557\n",
      "297) nF9Ring                        0.000555\n",
      "298) VC-6                           0.000546\n",
      "299) nwHBa                          0.000542\n",
      "300) nAromBond                      0.000539\n",
      "301) SHdsCH                         0.000530\n",
      "302) SHBint3                        0.000526\n",
      "303) maxdsCH                        0.000510\n",
      "304) nHBAcc                         0.000508\n",
      "305) maxHBint4                      0.000479\n",
      "306) nRing                          0.000477\n",
      "307) VC-4                           0.000469\n",
      "308) ndO                            0.000462\n",
      "309) minaaN                         0.000450\n",
      "310) BCUTw-1l                       0.000449\n",
      "311) maxsCl                         0.000448\n",
      "312) nTRing                         0.000447\n",
      "313) nHBint10                       0.000446\n",
      "314) nHCsatu                        0.000431\n",
      "315) minsCl                         0.000427\n",
      "316) SaaS                           0.000419\n",
      "317) nHBAcc2                        0.000414\n",
      "318) C4SP3                          0.000405\n",
      "319) minssssC                       0.000403\n",
      "320) maxHAvin                       0.000397\n",
      "321) nHBDon_Lipinski                0.000380\n",
      "322) nHBint4                        0.000378\n",
      "323) nFRing                         0.000371\n",
      "324) nBondsD2                       0.000371\n",
      "325) minHBint10                     0.000370\n",
      "326) SssssC                         0.000367\n",
      "327) MDEC-14                        0.000365\n",
      "328) SHsNH2                         0.000359\n",
      "329) maxHaaNH                       0.000356\n",
      "330) naaN                           0.000356\n",
      "331) nHBAcc_Lipinski                0.000352\n",
      "332) SsOm                           0.000351\n",
      "333) MDEN-33                        0.000344\n",
      "334) minHBint3                      0.000342\n",
      "335) minaasN                        0.000335\n",
      "336) nX                             0.000332\n",
      "337) nHBa                           0.000327\n",
      "338) minHaaNH                       0.000324\n",
      "339) nS                             0.000323\n",
      "340) nHdsCH                         0.000317\n",
      "341) nF                             0.000309\n",
      "342) MDEC-11                        0.000308\n",
      "343) nF12Ring                       0.000307\n",
      "344) n5Ring                         0.000301\n",
      "345) SddssS                         0.000296\n",
      "346) nHBint5                        0.000282\n",
      "347) SC-6                           0.000279\n",
      "348) nT9Ring                        0.000277\n",
      "349) SaasN                          0.000275\n",
      "350) nT10Ring                       0.000273\n",
      "351) MDEN-11                        0.000270\n",
      "352) minsOm                         0.000263\n",
      "353) minddssS                       0.000256\n",
      "354) maxHBint3                      0.000253\n",
      "355) SaaNH                          0.000252\n",
      "356) SHAvin                         0.000249\n",
      "357) ndsCH                          0.000234\n",
      "358) SdsCH                          0.000229\n",
      "359) nsOm                           0.000228\n",
      "360) maxaasN                        0.000226\n",
      "361) maxsOm                         0.000221\n",
      "362) SC-4                           0.000215\n",
      "363) nF10Ring                       0.000214\n",
      "364) nssS                           0.000213\n",
      "365) C3SP3                          0.000208\n",
      "366) maxssssC                       0.000206\n",
      "367) naaaC                          0.000202\n",
      "368) SHBint9                        0.000195\n",
      "369) nsNH2                          0.000194\n",
      "370) nssO                           0.000193\n",
      "371) maxHsNH2                       0.000188\n",
      "372) MDEO-22                        0.000179\n",
      "373) minHAvin                       0.000176\n",
      "374) SdsN                           0.000175\n",
      "375) SsCl                           0.000175\n",
      "376) mindCH2                        0.000171\n",
      "377) naaO                           0.000157\n",
      "378) nHBint3                        0.000155\n",
      "379) nHdNH                          0.000148\n",
      "380) ntsC                           0.000145\n",
      "381) minsNH2                        0.000135\n",
      "382) minHBint9                      0.000133\n",
      "383) maxHBint9                      0.000130\n",
      "384) n7Ring                         0.000129\n",
      "385) maxHdNH                        0.000121\n",
      "386) MDEN-12                        0.000119\n",
      "387) nHBint9                        0.000113\n",
      "388) SdCH2                          0.000112\n",
      "389) naaS                           0.000111\n",
      "390) minaaNH                        0.000110\n",
      "391) SHdCH2                         0.000100\n",
      "392) SssS                           0.000095\n",
      "393) minHsNH2                       0.000090\n",
      "394) maxsNH2                        0.000089\n",
      "395) mintCH                         0.000087\n",
      "396) nAcid                          0.000087\n",
      "397) maxdsN                         0.000080\n",
      "398) maxsBr                         0.000079\n",
      "399) nT12Ring                       0.000079\n",
      "400) nssssC                         0.000078\n",
      "401) nCl                            0.000076\n",
      "402) SsNH2                          0.000076\n",
      "403) nFG12Ring                      0.000075\n",
      "404) SsBr                           0.000074\n",
      "405) minssS                         0.000071\n",
      "406) maxdCH2                        0.000069\n",
      "407) StsC                           0.000068\n",
      "408) minHdNH                        0.000067\n",
      "409) LipinskiFailures               0.000066\n",
      "410) mintsC                         0.000062\n",
      "411) nsCl                           0.000062\n",
      "412) mintN                          0.000060\n",
      "413) maxtN                          0.000058\n",
      "414) nBr                            0.000058\n",
      "415) minsBr                         0.000057\n",
      "416) nT8Ring                        0.000057\n",
      "417) C1SP1                          0.000055\n",
      "418) StN                            0.000052\n",
      "419) mindNH                         0.000052\n",
      "420) nHAvin                         0.000051\n",
      "421) SHtCH                          0.000048\n",
      "422) ndNH                           0.000038\n",
      "423) SHdNH                          0.000037\n",
      "424) minHdCH2                       0.000037\n",
      "425) ndsN                           0.000036\n",
      "426) maxaaNH                        0.000036\n",
      "427) nsF                            0.000035\n",
      "428) n4Ring                         0.000032\n",
      "429) C2SP1                          0.000031\n",
      "430) mindS                          0.000029\n",
      "431) SdS                            0.000027\n",
      "432) nddssS                         0.000026\n",
      "433) nHsNH2                         0.000026\n",
      "434) ETA_dPsi_B                     0.000026\n",
      "435) MDEN-13                        0.000025\n",
      "436) nF8Ring                        0.000022\n",
      "437) nT7Ring                        0.000022\n",
      "438) ETA_dAlpha_A                   0.000022\n",
      "439) maxHdCH2                       0.000017\n",
      "440) MDEC-44                        0.000017\n",
      "441) maxdS                          0.000015\n",
      "442) mindsN                         0.000014\n",
      "443) nHdCH2                         0.000014\n",
      "444) naasN                          0.000010\n",
      "445) nI                             0.000010\n",
      "446) naaNH                          0.000008\n",
      "447) nHaaNH                         0.000005\n",
      "448) nBondsT                        0.000004\n",
      "449) nF7Ring                        0.000004\n",
      "450) nG12Ring                       0.000000\n",
      "451) maxtsC                         0.000000\n",
      "452) maxHCHnX                       0.000000\n",
      "453) nP                             0.000000\n",
      "454) maxsSH                         0.000000\n",
      "455) maxtCH                         0.000000\n",
      "456) nT11Ring                       0.000000\n",
      "457) n12Ring                        0.000000\n",
      "458) maxdNH                         0.000000\n",
      "459) nF6Ring                        0.000000\n",
      "460) nT4Ring                        0.000000\n",
      "461) n8Ring                         0.000000\n",
      "462) maxssssNp                      0.000000\n",
      "463) n3Ring                         0.000000\n",
      "464) nF11Ring                       0.000000\n",
      "465) maxHtCH                        0.000000\n",
      "466) nHsSH                          0.000000\n",
      "467) maxHsSH                        0.000000\n",
      "468) nsSH                           0.000000\n",
      "469) SHCHnX                         0.000000\n",
      "470) SHsSH                          0.000000\n",
      "471) SwHBd                          0.000000\n",
      "472) nsI                            0.000000\n",
      "473) nsBr                           0.000000\n",
      "474) ndssS                          0.000000\n",
      "475) ndS                            0.000000\n",
      "476) ndsssP                         0.000000\n",
      "477) maxwHBd                        0.000000\n",
      "478) nssssNp                        0.000000\n",
      "479) ntN                            0.000000\n",
      "480) ntCH                           0.000000\n",
      "481) ndCH2                          0.000000\n",
      "482) nHCHnX                         0.000000\n",
      "483) nHtCH                          0.000000\n",
      "484) nwHBd                          0.000000\n",
      "485) StCH                           0.000000\n",
      "486) SdNH                           0.000000\n",
      "487) SssssNp                        0.000000\n",
      "488) SdsssP                         0.000000\n",
      "489) minsI                          0.000000\n",
      "490) mindssS                        0.000000\n",
      "491) minsSH                         0.000000\n",
      "492) mindsssP                       0.000000\n",
      "493) minssssNp                      0.000000\n",
      "494) minHCHnX                       0.000000\n",
      "495) minHtCH                        0.000000\n",
      "496) minwHBd                        0.000000\n",
      "497) SCH-3                          0.000000\n",
      "498) SCH-4                          0.000000\n",
      "499) SsI                            0.000000\n",
      "500) SdssS                          0.000000\n",
      "501) VCH-3                          0.000000\n",
      "502) VCH-4                          0.000000\n",
      "503) SsSH                           0.000000\n",
      "504) minHsSH                        0.000000\n"
     ]
    }
   ],
   "source": [
    "#变量重要性\n",
    "importances=model.feature_importances_\n",
    "indices = np.argsort(importances)[::-1]\n",
    "for i in range(dataFirst1.shape[1]-1):\n",
    "    print(\"%2d) %-*s %f\" % (i + 1, 30, feat_labels[indices[i]], importances[indices[i]]))"
   ]
  },
  {
   "cell_type": "code",
   "execution_count": 118,
   "metadata": {
    "ExecuteTime": {
     "end_time": "2021-10-16T13:58:05.213419Z",
     "start_time": "2021-10-16T13:58:05.202448Z"
    }
   },
   "outputs": [
    {
     "data": {
      "text/plain": [
       "0.5640058378620574"
      ]
     },
     "execution_count": 118,
     "metadata": {},
     "output_type": "execute_result"
    }
   ],
   "source": [
    "sum(importances[indices[0:50]]) #筛选后前50个贡献度总和"
   ]
  },
  {
   "cell_type": "code",
   "execution_count": 119,
   "metadata": {
    "ExecuteTime": {
     "end_time": "2021-10-16T13:58:06.287357Z",
     "start_time": "2021-10-16T13:58:06.281373Z"
    }
   },
   "outputs": [],
   "source": [
    "dataFirst7=dataFirst1.iloc[:,indices[0:50]+1]\n",
    "data=dataFirst7"
   ]
  },
  {
   "cell_type": "code",
   "execution_count": 120,
   "metadata": {
    "ExecuteTime": {
     "end_time": "2021-10-16T13:58:07.737155Z",
     "start_time": "2021-10-16T13:58:07.717025Z"
    }
   },
   "outputs": [],
   "source": [
    "from sklearn.model_selection import train_test_split\n",
    "X_train,X_test,Y_train,Y_test=train_test_split(data,Y3,train_size=0.8,shuffle=True)#样本数据前80%做为训练集，后20%做为测试集"
   ]
  },
  {
   "cell_type": "code",
   "execution_count": 121,
   "metadata": {
    "ExecuteTime": {
     "end_time": "2021-10-16T12:10:11.318051Z",
     "start_time": "2021-10-16T12:10:11.052063Z"
    }
   },
   "outputs": [],
   "source": [
    "from sklearn.ensemble import RandomForestClassifier\n",
    "model=RandomForestClassifier(n_estimators=108, min_samples_leaf=2, max_depth=16, random_state=100)\n",
    "model.fit(X_train,Y_train)\n",
    "\n",
    "# 预测验证集中的因变量值\n",
    "Y_pred=model.predict(X_test)"
   ]
  },
  {
   "cell_type": "code",
   "execution_count": 122,
   "metadata": {
    "ExecuteTime": {
     "end_time": "2021-10-16T12:10:11.942153Z",
     "start_time": "2021-10-16T12:10:11.923179Z"
    },
    "scrolled": true
   },
   "outputs": [
    {
     "name": "stdout",
     "output_type": "stream",
     "text": [
      "准确率Accuracy:0.916456\n",
      "精确率Precision:0.923077\n",
      "召回率Recall:0.886364\n",
      "F1 score:0.9043478260869565\n",
      "AUC:0.913501\n"
     ]
    }
   ],
   "source": [
    "print(\"准确率Accuracy:{:3f}\".format(accuracy_score(Y_test,Y_pred)))\n",
    "pre, rec, f1, sup = precision_recall_fscore_support(Y_test,Y_pred)\n",
    "print(\"精确率Precision:{:3f}\".format(pre[0]))\n",
    "print(\"召回率Recall:{:3f}\".format(rec[0]))\n",
    "print(\"F1 score:{}\".format(f1[0]))\n",
    "# 计算auc\n",
    "print(\"AUC:{:3f}\".format(roc_auc_score(Y_test,Y_pred)))"
   ]
  },
  {
   "cell_type": "code",
   "execution_count": 123,
   "metadata": {
    "ExecuteTime": {
     "end_time": "2021-10-16T13:58:11.785718Z",
     "start_time": "2021-10-16T13:58:11.537191Z"
    }
   },
   "outputs": [],
   "source": [
    "import xgboost as xgb\n",
    "\n",
    "model=xgb.XGBClassifier(n_estimators=300, min_child_weight=6, max_depth=7, learning_rate=0.05, random_state=100)\n",
    "model.fit(X_train,Y_train)\n",
    "\n",
    "# 预测验证集中的因变量值\n",
    "Y_pred=model.predict(X_test)"
   ]
  },
  {
   "cell_type": "code",
   "execution_count": 124,
   "metadata": {
    "ExecuteTime": {
     "end_time": "2021-10-16T13:58:12.541754Z",
     "start_time": "2021-10-16T13:58:12.520169Z"
    }
   },
   "outputs": [
    {
     "name": "stdout",
     "output_type": "stream",
     "text": [
      "准确率Accuracy:0.903797\n",
      "精确率Precision:0.875000\n",
      "召回率Recall:0.914773\n",
      "F1 score:0.8944444444444444\n",
      "AUC:0.904875\n"
     ]
    }
   ],
   "source": [
    "print(\"准确率Accuracy:{:3f}\".format(accuracy_score(Y_test,Y_pred)))\n",
    "pre, rec, f1, sup = precision_recall_fscore_support(Y_test,Y_pred)\n",
    "print(\"精确率Precision:{:3f}\".format(pre[0]))\n",
    "print(\"召回率Recall:{:3f}\".format(rec[0]))\n",
    "print(\"F1 score:{}\".format(f1[0]))\n",
    "# 计算auc\n",
    "print(\"AUC:{:3f}\".format(roc_auc_score(Y_test,Y_pred)))"
   ]
  },
  {
   "cell_type": "markdown",
   "metadata": {},
   "source": [
    "预测test中的值(选随机森林)"
   ]
  },
  {
   "cell_type": "code",
   "execution_count": 125,
   "metadata": {
    "ExecuteTime": {
     "end_time": "2021-10-16T13:19:17.984775Z",
     "start_time": "2021-10-16T13:19:17.953868Z"
    }
   },
   "outputs": [],
   "source": [
    "x_test=data1[feat_labels[indices[0:50]]]  #预测集中的自变量\n",
    "\n",
    "model=RandomForestClassifier(n_estimators=108, min_samples_leaf=2, max_depth=16, random_state=100)\n",
    "model.fit(X_train,Y_train)\n",
    "\n",
    "# 预测测试集中的因变量值\n",
    "y_pred=model.predict(x_test)"
   ]
  },
  {
   "cell_type": "markdown",
   "metadata": {},
   "source": [
    "#### 第四个"
   ]
  },
  {
   "cell_type": "code",
   "execution_count": 126,
   "metadata": {
    "ExecuteTime": {
     "end_time": "2021-10-16T13:58:23.788814Z",
     "start_time": "2021-10-16T13:58:23.775848Z"
    }
   },
   "outputs": [],
   "source": [
    "Y4=dataThird1['HOB']"
   ]
  },
  {
   "cell_type": "code",
   "execution_count": 127,
   "metadata": {
    "ExecuteTime": {
     "end_time": "2021-10-16T13:58:25.894594Z",
     "start_time": "2021-10-16T13:58:24.888061Z"
    }
   },
   "outputs": [
    {
     "data": {
      "text/plain": [
       "RandomForestClassifier(max_depth=16, min_samples_leaf=2, n_estimators=108,\n",
       "                       random_state=100)"
      ]
     },
     "execution_count": 127,
     "metadata": {},
     "output_type": "execute_result"
    }
   ],
   "source": [
    "#建立随机森林分类模型\n",
    "feat_labels=dataFirst1.columns[1:]\n",
    "model=RandomForestClassifier(n_estimators=108, min_samples_leaf=2, max_depth=16, random_state=100)\n",
    "model.fit(dataFirst1.iloc[:,1:],Y4)"
   ]
  },
  {
   "cell_type": "code",
   "execution_count": 128,
   "metadata": {
    "ExecuteTime": {
     "end_time": "2021-10-16T13:58:26.581000Z",
     "start_time": "2021-10-16T13:58:26.530159Z"
    }
   },
   "outputs": [
    {
     "name": "stdout",
     "output_type": "stream",
     "text": [
      " 1) BCUTc-1l                       0.042607\n",
      " 2) maxsOH                         0.030092\n",
      " 3) SsOH                           0.021309\n",
      " 4) maxHsOH                        0.021002\n",
      " 5) minsOH                         0.018852\n",
      " 6) SHsOH                          0.017836\n",
      " 7) minHsOH                        0.017459\n",
      " 8) nHsOH                          0.016137\n",
      " 9) MLFER_A                        0.012434\n",
      "10) BCUTp-1l                       0.010219\n",
      "11) hmin                           0.008027\n",
      "12) SHBd                           0.007807\n",
      "13) nsOH                           0.007329\n",
      "14) maxHBd                         0.007030\n",
      "15) VP-6                           0.006610\n",
      "16) MDEN-22                        0.006179\n",
      "17) VP-3                           0.006156\n",
      "18) nHBAcc                         0.005943\n",
      "19) minaasC                        0.005817\n",
      "20) maxdO                          0.005677\n",
      "21) ATSc3                          0.005648\n",
      "22) mindO                          0.005577\n",
      "23) SdO                            0.005494\n",
      "24) WTPT-5                         0.005481\n",
      "25) VP-5                           0.005295\n",
      "26) ETA_Shape_P                    0.005269\n",
      "27) MDEC-23                        0.004844\n",
      "28) ETA_Epsilon_5                  0.004825\n",
      "29) VP-4                           0.004825\n",
      "30) MDEC-33                        0.004797\n",
      "31) VP-7                           0.004695\n",
      "32) MAXDP                          0.004688\n",
      "33) minHBd                         0.004562\n",
      "34) maxHBint10                     0.004554\n",
      "35) WTPT-2                         0.004507\n",
      "36) maxssCH2                       0.004470\n",
      "37) WTPT-4                         0.004458\n",
      "38) ATSc2                          0.004425\n",
      "39) minwHBa                        0.004382\n",
      "40) maxssO                         0.004368\n",
      "41) MAXDN2                         0.004341\n",
      "42) MLFER_BO                       0.004284\n",
      "43) SwHBa                          0.004267\n",
      "44) VP-2                           0.004255\n",
      "45) minaaCH                        0.004229\n",
      "46) SCH-6                          0.004201\n",
      "47) ETA_EtaP_L                     0.004140\n",
      "48) SP-6                           0.004136\n",
      "49) MLFER_BH                       0.004132\n",
      "50) ETA_BetaP_s                    0.004038\n",
      "51) hmax                           0.003975\n",
      "52) VCH-7                          0.003947\n",
      "53) SC-5                           0.003927\n",
      "54) minHaaCH                       0.003916\n",
      "55) MAXDP2                         0.003907\n",
      "56) HybRatio                       0.003906\n",
      "57) BCUTc-1h                       0.003903\n",
      "58) ATSp1                          0.003853\n",
      "59) nBondsS2                       0.003798\n",
      "60) minHBint3                      0.003794\n",
      "61) maxHBa                         0.003794\n",
      "62) FMF                            0.003765\n",
      "63) nN                             0.003753\n",
      "64) minsssN                        0.003751\n",
      "65) gmax                           0.003750\n",
      "66) ETA_Eta_L                      0.003735\n",
      "67) ATSm2                          0.003686\n",
      "68) minHBa                         0.003626\n",
      "69) WTPT-3                         0.003608\n",
      "70) mindssC                        0.003552\n",
      "71) MLFER_S                        0.003503\n",
      "72) ETA_dEpsilon_D                 0.003500\n",
      "73) ETA_dBetaP                     0.003384\n",
      "74) SPC-5                          0.003364\n",
      "75) VP-1                           0.003356\n",
      "76) minHBint6                      0.003329\n",
      "77) LipoaffinityIndex              0.003302\n",
      "78) ETA_EtaP_B_RC                  0.003253\n",
      "79) VPC-6                          0.003250\n",
      "80) maxHBint5                      0.003247\n",
      "81) minHother                      0.003246\n",
      "82) SaasC                          0.003238\n",
      "83) maxHother                      0.003224\n",
      "84) ETA_Epsilon_1                  0.003215\n",
      "85) nH                             0.003207\n",
      "86) SP-3                           0.003157\n",
      "87) minHCsatu                      0.003134\n",
      "88) ETA_EtaP_B                     0.003119\n",
      "89) TopoPSA                        0.003118\n",
      "90) VCH-6                          0.003113\n",
      "91) VC-5                           0.003090\n",
      "92) SHBint6                        0.003089\n",
      "93) gmin                           0.003078\n",
      "94) Kier3                          0.003063\n",
      "95) SPC-4                          0.003053\n",
      "96) SdssC                          0.003041\n",
      "97) MAXDN                          0.003024\n",
      "98) maxsssN                        0.003010\n",
      "99) maxHBint6                      0.003000\n",
      "100) ETA_Eta_R                      0.002995\n",
      "101) fragC                          0.002979\n",
      "102) ETA_Eta_B                      0.002975\n",
      "103) SHBint5                        0.002961\n",
      "104) SHBint10                       0.002954\n",
      "105) MDEC-22                        0.002943\n",
      "106) ATSc5                          0.002941\n",
      "107) SCH-7                          0.002917\n",
      "108) minHCsats                      0.002916\n",
      "109) ETA_BetaP                      0.002909\n",
      "110) minssO                         0.002902\n",
      "111) ETA_Shape_Y                    0.002873\n",
      "112) maxwHBa                        0.002870\n",
      "113) ETA_Epsilon_4                  0.002867\n",
      "114) ETA_dEpsilon_A                 0.002849\n",
      "115) maxsCH3                        0.002847\n",
      "116) SP-7                           0.002814\n",
      "117) SPC-6                          0.002791\n",
      "118) MW                             0.002790\n",
      "119) DELS                           0.002790\n",
      "120) XLogP                          0.002787\n",
      "121) minsCH3                        0.002767\n",
      "122) ETA_dEpsilon_C                 0.002761\n",
      "123) ndO                            0.002758\n",
      "124) maxHaaCH                       0.002756\n",
      "125) SP-4                           0.002756\n",
      "126) ETA_dEpsilon_B                 0.002746\n",
      "127) ETA_EtaP                       0.002740\n",
      "128) ETA_Eta_B_RC                   0.002735\n",
      "129) SaaCH                          0.002732\n",
      "130) ALogP                          0.002725\n",
      "131) nAtom                          0.002719\n",
      "132) maxaasC                        0.002714\n",
      "133) VPC-4                          0.002703\n",
      "134) bpol                           0.002702\n",
      "135) maxHCsatu                      0.002682\n",
      "136) maxHCsats                      0.002666\n",
      "137) DELS2                          0.002659\n",
      "138) ETA_EtaP_F                     0.002643\n",
      "139) BCUTw-1h                       0.002642\n",
      "140) ATSc4                          0.002621\n",
      "141) MLFER_E                        0.002562\n",
      "142) nHBDon                         0.002554\n",
      "143) ETA_EtaP_F_L                   0.002539\n",
      "144) SHaaCH                         0.002539\n",
      "145) ETA_dAlpha_B                   0.002536\n",
      "146) BCUTp-1h                       0.002470\n",
      "147) ETA_Alpha                      0.002470\n",
      "148) SHssNH                         0.002470\n",
      "149) apol                           0.002450\n",
      "150) ALogp2                         0.002447\n",
      "151) maxHBint2                      0.002443\n",
      "152) MLFER_L                        0.002419\n",
      "153) C2SP3                          0.002398\n",
      "154) MDEC-13                        0.002358\n",
      "155) VPC-5                          0.002353\n",
      "156) nHBDon_Lipinski                0.002351\n",
      "157) Kier1                          0.002346\n",
      "158) nAtomLC                        0.002328\n",
      "159) SHother                        0.002321\n",
      "160) nHCsatu                        0.002305\n",
      "161) ETA_AlphaP                     0.002302\n",
      "162) ETA_BetaP_ns                   0.002298\n",
      "163) MDEO-11                        0.002284\n",
      "164) nBonds2                        0.002281\n",
      "165) ATSm3                          0.002260\n",
      "166) ETA_Eta_R_L                    0.002253\n",
      "167) ATSc1                          0.002253\n",
      "168) Kier2                          0.002239\n",
      "169) ETA_Eta_F                      0.002205\n",
      "170) SsCH3                          0.002194\n",
      "171) ATSm4                          0.002188\n",
      "172) ETA_Eta                        0.002181\n",
      "173) VC-3                           0.002178\n",
      "174) sumI                           0.002164\n",
      "175) minssCH2                       0.002154\n",
      "176) CrippenMR                      0.002121\n",
      "177) SHCsatu                        0.002114\n",
      "178) ETA_BetaP_ns_d                 0.002108\n",
      "179) ATSm5                          0.002087\n",
      "180) CrippenLogP                    0.002074\n",
      "181) SHCsats                        0.002054\n",
      "182) SC-3                           0.002043\n",
      "183) maxaaCH                        0.002009\n",
      "184) ATSm1                          0.001998\n",
      "185) ATSp5                          0.001995\n",
      "186) nO                             0.001994\n",
      "187) ETA_dPsi_A                     0.001982\n",
      "188) minHBint10                     0.001977\n",
      "189) McGowan_Volume                 0.001942\n",
      "190) ATSp4                          0.001926\n",
      "191) MLogP                          0.001909\n",
      "192) Zagreb                         0.001882\n",
      "193) ETA_Eta_F_L                    0.001881\n",
      "194) nAtomP                         0.001880\n",
      "195) C1SP3                          0.001876\n",
      "196) ETA_Shape_X                    0.001843\n",
      "197) VCH-5                          0.001843\n",
      "198) maxHBint9                      0.001838\n",
      "199) SP-2                           0.001822\n",
      "200) minHBint7                      0.001821\n",
      "201) ETA_dBeta                      0.001814\n",
      "202) SP-0                           0.001781\n",
      "203) SHBint3                        0.001776\n",
      "204) C3SP2                          0.001759\n",
      "205) nBondsS3                       0.001754\n",
      "206) ATSp2                          0.001733\n",
      "207) SHBa                           0.001706\n",
      "208) SP-1                           0.001701\n",
      "209) VABC                           0.001690\n",
      "210) SP-5                           0.001680\n",
      "211) ETA_Psi_1                      0.001660\n",
      "212) nAtomLAC                       0.001658\n",
      "213) maxaaN                         0.001653\n",
      "214) MDEC-11                        0.001640\n",
      "215) nsssCH                         0.001620\n",
      "216) MDEO-12                        0.001606\n",
      "217) SCH-5                          0.001594\n",
      "218) maxaaaC                        0.001567\n",
      "219) SHBint4                        0.001562\n",
      "220) ETA_Epsilon_3                  0.001561\n",
      "221) WPOL                           0.001551\n",
      "222) AMR                            0.001535\n",
      "223) WTPT-1                         0.001519\n",
      "224) MDEN-33                        0.001513\n",
      "225) SsssN                          0.001504\n",
      "226) MDEC-44                        0.001479\n",
      "227) SssCH2                         0.001447\n",
      "228) nHBd                           0.001427\n",
      "229) nHaaCH                         0.001417\n",
      "230) VP-0                           0.001410\n",
      "231) BCUTw-1l                       0.001390\n",
      "232) SHBint7                        0.001386\n",
      "233) maxHBint4                      0.001386\n",
      "234) C1SP2                          0.001371\n",
      "235) minHBint8                      0.001371\n",
      "236) nHCsats                        0.001355\n",
      "237) MDEC-14                        0.001352\n",
      "238) ATSp3                          0.001351\n",
      "239) ECCEN                          0.001345\n",
      "240) maxHBint7                      0.001344\n",
      "241) nTRing                         0.001329\n",
      "242) nRotB                          0.001324\n",
      "243) minHdsCH                       0.001321\n",
      "244) nHBAcc3                        0.001313\n",
      "245) ETA_Beta_ns                    0.001311\n",
      "246) ETA_Epsilon_2                  0.001304\n",
      "247) MDEC-12                        0.001301\n",
      "248) SHBint8                        0.001278\n",
      "249) nBondsS                        0.001231\n",
      "250) minaaaC                        0.001228\n",
      "251) ETA_Beta_ns_d                  0.001224\n",
      "252) maxdssC                        0.001224\n",
      "253) minHBint5                      0.001208\n",
      "254) nHBint10                       0.001206\n",
      "255) ETA_Beta                       0.001203\n",
      "256) maxssNH                        0.001202\n",
      "257) SssO                           0.001175\n",
      "258) ETA_Beta_s                     0.001168\n",
      "259) WPATH                          0.001148\n",
      "260) nC                             0.001143\n",
      "261) minHBint2                      0.001142\n",
      "262) VC-6                           0.001140\n",
      "263) maxHBint3                      0.001136\n",
      "264) SsssCH                         0.001131\n",
      "265) maxHBint8                      0.001130\n",
      "266) nssCH2                         0.001118\n",
      "267) minHBint9                      0.001112\n",
      "268) minHBint4                      0.001084\n",
      "269) maxsCl                         0.001078\n",
      "270) PetitjeanNumber                0.001073\n",
      "271) SssNH                          0.001059\n",
      "272) naaN                           0.001058\n",
      "273) naasC                          0.001025\n",
      "274) minHssNH                       0.001024\n",
      "275) nHBint5                        0.001022\n",
      "276) nHBAcc_Lipinski                0.001018\n",
      "277) MDEC-24                        0.001014\n",
      "278) C2SP2                          0.001003\n",
      "279) SssssC                         0.000964\n",
      "280) nHBint3                        0.000953\n",
      "281) SHBint2                        0.000944\n",
      "282) nHBa                           0.000940\n",
      "283) nHeavyAtom                     0.000934\n",
      "284) maxaaO                         0.000927\n",
      "285) nHother                        0.000877\n",
      "286) SssS                           0.000864\n",
      "287) MDEN-23                        0.000852\n",
      "288) maxHssNH                       0.000850\n",
      "289) minsssCH                       0.000849\n",
      "290) SHBint9                        0.000845\n",
      "291) maxHdsCH                       0.000843\n",
      "292) minsBr                         0.000842\n",
      "293) SaaaC                          0.000830\n",
      "294) minssS                         0.000828\n",
      "295) naaCH                          0.000823\n",
      "296) nBonds                         0.000823\n",
      "297) minaaN                         0.000822\n",
      "298) nBondsD2                       0.000808\n",
      "299) nssS                           0.000796\n",
      "300) nAromBond                      0.000788\n",
      "301) nT6Ring                        0.000783\n",
      "302) SaaN                           0.000778\n",
      "303) nsCH3                          0.000773\n",
      "304) minssNH                        0.000771\n",
      "305) VAdjMat                        0.000768\n",
      "306) SaasN                          0.000764\n",
      "307) maxsF                          0.000752\n",
      "308) mindsCH                        0.000743\n",
      "309) minHAvin                       0.000740\n",
      "310) nsssN                          0.000738\n",
      "311) C4SP3                          0.000715\n",
      "312) SdsCH                          0.000707\n",
      "313) maxHAvin                       0.000699\n",
      "314) minsCl                         0.000690\n",
      "315) nF9Ring                        0.000675\n",
      "316) nHBAcc2                        0.000672\n",
      "317) nwHBa                          0.000667\n",
      "318) naAromAtom                     0.000663\n",
      "319) SHdsCH                         0.000649\n",
      "320) nssssC                         0.000636\n",
      "321) minssssC                       0.000636\n",
      "322) minsOm                         0.000631\n",
      "323) nBondsD                        0.000621\n",
      "324) VC-4                           0.000618\n",
      "325) nT9Ring                        0.000617\n",
      "326) SaaO                           0.000595\n",
      "327) MDEO-22                        0.000575\n",
      "328) SC-6                           0.000563\n",
      "329) SsF                            0.000563\n",
      "330) minaaO                         0.000554\n",
      "331) n5Ring                         0.000546\n",
      "332) MDEC-34                        0.000524\n",
      "333) SdsN                           0.000523\n",
      "334) minaasN                        0.000512\n",
      "335) nBondsM                        0.000509\n",
      "336) maxsssCH                       0.000504\n",
      "337) SHaaNH                         0.000504\n",
      "338) nHssNH                         0.000503\n",
      "339) nHBint6                        0.000493\n",
      "340) MDEN-12                        0.000492\n",
      "341) nT10Ring                       0.000491\n",
      "342) maxHaaNH                       0.000489\n",
      "343) n6Ring                         0.000475\n",
      "344) mintN                          0.000474\n",
      "345) nHBint4                        0.000457\n",
      "346) nHBint2                        0.000456\n",
      "347) minaaNH                        0.000437\n",
      "348) SC-4                           0.000420\n",
      "349) nF                             0.000420\n",
      "350) SHAvin                         0.000418\n",
      "351) nHBint7                        0.000407\n",
      "352) maxaaNH                        0.000403\n",
      "353) ndssC                          0.000402\n",
      "354) SsCl                           0.000382\n",
      "355) nBase                          0.000376\n",
      "356) minsF                          0.000359\n",
      "357) nsOm                           0.000356\n",
      "358) nX                             0.000339\n",
      "359) nssNH                          0.000335\n",
      "360) nddssS                         0.000335\n",
      "361) nTG12Ring                      0.000325\n",
      "362) nCl                            0.000322\n",
      "363) SsBr                           0.000320\n",
      "364) nsCl                           0.000313\n",
      "365) maxdsCH                        0.000310\n",
      "366) SdCH2                          0.000308\n",
      "367) nS                             0.000306\n",
      "368) maxssssC                       0.000294\n",
      "369) mindsN                         0.000293\n",
      "370) StsC                           0.000289\n",
      "371) ndsCH                          0.000288\n",
      "372) C3SP3                          0.000288\n",
      "373) maxdsN                         0.000284\n",
      "374) SaaS                           0.000276\n",
      "375) naaO                           0.000265\n",
      "376) minHaaNH                       0.000260\n",
      "377) nssO                           0.000252\n",
      "378) maxsBr                         0.000252\n",
      "379) maxsOm                         0.000247\n",
      "380) nFRing                         0.000245\n",
      "381) nHBint9                        0.000241\n",
      "382) n3Ring                         0.000241\n",
      "383) ndsN                           0.000239\n",
      "384) maxaasN                        0.000236\n",
      "385) SsNH2                          0.000232\n",
      "386) maxtN                          0.000226\n",
      "387) mindS                          0.000224\n",
      "388) SaaNH                          0.000217\n",
      "389) StCH                           0.000205\n",
      "390) nF12Ring                       0.000202\n",
      "391) maxtCH                         0.000202\n",
      "392) minaaS                         0.000194\n",
      "393) minddssS                       0.000185\n",
      "394) maxHtCH                        0.000180\n",
      "395) mintsC                         0.000179\n",
      "396) nRing                          0.000167\n",
      "397) minHdCH2                       0.000157\n",
      "398) nsBr                           0.000154\n",
      "399) SddssS                         0.000150\n",
      "400) nsF                            0.000147\n",
      "401) nT5Ring                        0.000144\n",
      "402) SsOm                           0.000143\n",
      "403) ntN                            0.000141\n",
      "404) nFG12Ring                      0.000138\n",
      "405) nHdsCH                         0.000136\n",
      "406) nF10Ring                       0.000134\n",
      "407) nHBint8                        0.000134\n",
      "408) maxHdCH2                       0.000128\n",
      "409) nHAvin                         0.000117\n",
      "410) C1SP1                          0.000110\n",
      "411) ETA_dAlpha_A                   0.000106\n",
      "412) naaaC                          0.000101\n",
      "413) maxsNH2                        0.000099\n",
      "414) mindCH2                        0.000096\n",
      "415) SCH-4                          0.000093\n",
      "416) nT11Ring                       0.000093\n",
      "417) nHaaNH                         0.000087\n",
      "418) mintCH                         0.000076\n",
      "419) maxtsC                         0.000072\n",
      "420) SHsNH2                         0.000072\n",
      "421) VCH-4                          0.000070\n",
      "422) naaS                           0.000068\n",
      "423) minHsNH2                       0.000063\n",
      "424) ndS                            0.000062\n",
      "425) SsI                            0.000061\n",
      "426) nF8Ring                        0.000052\n",
      "427) naasN                          0.000051\n",
      "428) nsNH2                          0.000051\n",
      "429) minsNH2                        0.000040\n",
      "430) maxHCHnX                       0.000036\n",
      "431) SdS                            0.000035\n",
      "432) nBr                            0.000026\n",
      "433) ntsC                           0.000026\n",
      "434) SHtCH                          0.000025\n",
      "435) ndCH2                          0.000024\n",
      "436) maxdS                          0.000023\n",
      "437) SHdCH2                         0.000013\n",
      "438) maxHdNH                        0.000013\n",
      "439) nT8Ring                        0.000012\n",
      "440) SwHBd                          0.000012\n",
      "441) StN                            0.000012\n",
      "442) maxdNH                         0.000011\n",
      "443) LipinskiFailures               0.000011\n",
      "444) nBondsT                        0.000010\n",
      "445) MDEN-13                        0.000008\n",
      "446) maxHsNH2                       0.000008\n",
      "447) C2SP1                          0.000003\n",
      "448) nI                             0.000000\n",
      "449) nP                             0.000000\n",
      "450) minHsSH                        0.000000\n",
      "451) SCH-3                          0.000000\n",
      "452) ETA_dPsi_B                     0.000000\n",
      "453) mindNH                         0.000000\n",
      "454) minssssNp                      0.000000\n",
      "455) mindsssP                       0.000000\n",
      "456) minsSH                         0.000000\n",
      "457) mindssS                        0.000000\n",
      "458) minsI                          0.000000\n",
      "459) maxwHBd                        0.000000\n",
      "460) maxHsSH                        0.000000\n",
      "461) maxdCH2                        0.000000\n",
      "462) maxssssNp                      0.000000\n",
      "463) maxsSH                         0.000000\n",
      "464) MDEN-11                        0.000000\n",
      "465) VCH-3                          0.000000\n",
      "466) n4Ring                         0.000000\n",
      "467) n7Ring                         0.000000\n",
      "468) n8Ring                         0.000000\n",
      "469) n12Ring                        0.000000\n",
      "470) nG12Ring                       0.000000\n",
      "471) nF6Ring                        0.000000\n",
      "472) nF7Ring                        0.000000\n",
      "473) nF11Ring                       0.000000\n",
      "474) nT4Ring                        0.000000\n",
      "475) nT7Ring                        0.000000\n",
      "476) nT12Ring                       0.000000\n",
      "477) minHCHnX                       0.000000\n",
      "478) minHtCH                        0.000000\n",
      "479) minHdNH                        0.000000\n",
      "480) minwHBd                        0.000000\n",
      "481) nwHBd                          0.000000\n",
      "482) nHdNH                          0.000000\n",
      "483) nHsSH                          0.000000\n",
      "484) nHsNH2                         0.000000\n",
      "485) nHtCH                          0.000000\n",
      "486) nHdCH2                         0.000000\n",
      "487) nHCHnX                         0.000000\n",
      "488) ntCH                           0.000000\n",
      "489) ndNH                           0.000000\n",
      "490) naaNH                          0.000000\n",
      "491) nssssNp                        0.000000\n",
      "492) ndsssP                         0.000000\n",
      "493) nsSH                           0.000000\n",
      "494) ndssS                          0.000000\n",
      "495) nsI                            0.000000\n",
      "496) SHdNH                          0.000000\n",
      "497) SHsSH                          0.000000\n",
      "498) SHCHnX                         0.000000\n",
      "499) SdNH                           0.000000\n",
      "500) SssssNp                        0.000000\n",
      "501) SdsssP                         0.000000\n",
      "502) SsSH                           0.000000\n",
      "503) SdssS                          0.000000\n",
      "504) nAcid                          0.000000\n"
     ]
    }
   ],
   "source": [
    "#变量重要性\n",
    "importances=model.feature_importances_\n",
    "indices = np.argsort(importances)[::-1]\n",
    "for i in range(dataFirst1.shape[1]-1):\n",
    "    print(\"%2d) %-*s %f\" % (i + 1, 30, feat_labels[indices[i]], importances[indices[i]]))"
   ]
  },
  {
   "cell_type": "code",
   "execution_count": 129,
   "metadata": {
    "ExecuteTime": {
     "end_time": "2021-10-16T13:58:31.006269Z",
     "start_time": "2021-10-16T13:58:31.001253Z"
    }
   },
   "outputs": [
    {
     "data": {
      "text/plain": [
       "0.413711036415215"
      ]
     },
     "execution_count": 129,
     "metadata": {},
     "output_type": "execute_result"
    }
   ],
   "source": [
    "sum(importances[indices[0:50]]) #筛选后前50个贡献度总和"
   ]
  },
  {
   "cell_type": "code",
   "execution_count": 130,
   "metadata": {
    "ExecuteTime": {
     "end_time": "2021-10-16T13:58:32.158223Z",
     "start_time": "2021-10-16T13:58:32.153213Z"
    }
   },
   "outputs": [],
   "source": [
    "dataFirst8=dataFirst1.iloc[:,indices[0:50]+1]\n",
    "data=dataFirst8"
   ]
  },
  {
   "cell_type": "code",
   "execution_count": 131,
   "metadata": {
    "ExecuteTime": {
     "end_time": "2021-10-16T13:58:33.059587Z",
     "start_time": "2021-10-16T13:58:33.041156Z"
    }
   },
   "outputs": [],
   "source": [
    "from sklearn.model_selection import train_test_split\n",
    "X_train,X_test,Y_train,Y_test=train_test_split(data,Y4,train_size=0.8,shuffle=True)#样本数据前80%做为训练集，后20%做为测试集"
   ]
  },
  {
   "cell_type": "code",
   "execution_count": 132,
   "metadata": {
    "ExecuteTime": {
     "end_time": "2021-10-16T13:58:34.977028Z",
     "start_time": "2021-10-16T13:58:34.849193Z"
    }
   },
   "outputs": [],
   "source": [
    "from sklearn.ensemble import RandomForestClassifier\n",
    "model=RandomForestClassifier(n_estimators=108, min_samples_leaf=2, max_depth=16, random_state=100)\n",
    "model.fit(X_train,Y_train)\n",
    "\n",
    "# 预测验证集中的因变量值\n",
    "Y_pred=model.predict(X_test)"
   ]
  },
  {
   "cell_type": "code",
   "execution_count": 133,
   "metadata": {
    "ExecuteTime": {
     "end_time": "2021-10-16T13:58:37.727242Z",
     "start_time": "2021-10-16T13:58:37.713255Z"
    }
   },
   "outputs": [
    {
     "name": "stdout",
     "output_type": "stream",
     "text": [
      "准确率Accuracy:0.886076\n",
      "精确率Precision:0.925806\n",
      "召回率Recall:0.928803\n",
      "F1 score:0.9273021001615509\n",
      "AUC:0.830680\n"
     ]
    }
   ],
   "source": [
    "print(\"准确率Accuracy:{:3f}\".format(accuracy_score(Y_test,Y_pred)))\n",
    "pre, rec, f1, sup = precision_recall_fscore_support(Y_test,Y_pred)\n",
    "print(\"精确率Precision:{:3f}\".format(pre[0]))\n",
    "print(\"召回率Recall:{:3f}\".format(rec[0]))\n",
    "print(\"F1 score:{}\".format(f1[0]))\n",
    "# 计算auc\n",
    "print(\"AUC:{:3f}\".format(roc_auc_score(Y_test,Y_pred)))"
   ]
  },
  {
   "cell_type": "code",
   "execution_count": 134,
   "metadata": {
    "ExecuteTime": {
     "end_time": "2021-10-16T13:58:40.742539Z",
     "start_time": "2021-10-16T13:58:40.505153Z"
    }
   },
   "outputs": [],
   "source": [
    "import xgboost as xgb\n",
    "\n",
    "model=xgb.XGBClassifier(n_estimators=300, min_child_weight=6, max_depth=7, learning_rate=0.05, random_state=100)\n",
    "model.fit(X_train,Y_train)\n",
    "\n",
    "# 预测验证集中的因变量值\n",
    "Y_pred=model.predict(X_test)"
   ]
  },
  {
   "cell_type": "code",
   "execution_count": 135,
   "metadata": {
    "ExecuteTime": {
     "end_time": "2021-10-16T13:58:41.617739Z",
     "start_time": "2021-10-16T13:58:41.593279Z"
    }
   },
   "outputs": [
    {
     "name": "stdout",
     "output_type": "stream",
     "text": [
      "准确率Accuracy:0.883544\n",
      "精确率Precision:0.914826\n",
      "召回率Recall:0.938511\n",
      "F1 score:0.926518\n",
      "AUC:0.812279\n"
     ]
    }
   ],
   "source": [
    "print(\"准确率Accuracy:{:3f}\".format(accuracy_score(Y_test,Y_pred)))\n",
    "pre, rec, f1, sup = precision_recall_fscore_support(Y_test,Y_pred)\n",
    "print(\"精确率Precision:{:3f}\".format(pre[0]))\n",
    "print(\"召回率Recall:{:3f}\".format(rec[0]))\n",
    "print(\"F1 score:{:3f}\".format(f1[0]))\n",
    "# 计算auc\n",
    "print(\"AUC:{:3f}\".format(roc_auc_score(Y_test,Y_pred)))"
   ]
  },
  {
   "cell_type": "markdown",
   "metadata": {},
   "source": [
    "预测test中的值(选XGBoost)"
   ]
  },
  {
   "cell_type": "code",
   "execution_count": 136,
   "metadata": {
    "ExecuteTime": {
     "end_time": "2021-10-16T13:59:03.637604Z",
     "start_time": "2021-10-16T13:59:03.609152Z"
    }
   },
   "outputs": [],
   "source": [
    "x_test=data1[feat_labels[indices[0:50]]]  #预测集中的自变量\n",
    "\n",
    "model=xgb.XGBClassifier(n_estimators=300, min_child_weight=6, max_depth=7, learning_rate=0.05, random_state=100)\n",
    "model.fit(X_train,Y_train)\n",
    "\n",
    "# 预测测试集中的因变量值\n",
    "y_pred=model.predict(x_test)"
   ]
  },
  {
   "cell_type": "markdown",
   "metadata": {},
   "source": [
    "#### 第五个"
   ]
  },
  {
   "cell_type": "code",
   "execution_count": 137,
   "metadata": {
    "ExecuteTime": {
     "end_time": "2021-10-16T13:32:00.625447Z",
     "start_time": "2021-10-16T13:32:00.617927Z"
    }
   },
   "outputs": [],
   "source": [
    "Y5=dataThird1['MN']"
   ]
  },
  {
   "cell_type": "code",
   "execution_count": 139,
   "metadata": {
    "ExecuteTime": {
     "end_time": "2021-10-16T13:32:02.523074Z",
     "start_time": "2021-10-16T13:32:01.562164Z"
    }
   },
   "outputs": [
    {
     "data": {
      "text/plain": [
       "RandomForestClassifier(max_depth=16, min_samples_leaf=2, n_estimators=108,\n",
       "                       random_state=100)"
      ]
     },
     "execution_count": 139,
     "metadata": {},
     "output_type": "execute_result"
    }
   ],
   "source": [
    "#建立随机森林分类模型\n",
    "feat_labels=dataFirst1.columns[1:]\n",
    "model=RandomForestClassifier(n_estimators=108, min_samples_leaf=2, max_depth=16, random_state=100)\n",
    "model.fit(dataFirst1.iloc[:,1:],Y5)"
   ]
  },
  {
   "cell_type": "code",
   "execution_count": 140,
   "metadata": {
    "ExecuteTime": {
     "end_time": "2021-10-16T13:32:03.270885Z",
     "start_time": "2021-10-16T13:32:03.225868Z"
    }
   },
   "outputs": [
    {
     "name": "stdout",
     "output_type": "stream",
     "text": [
      " 1) WTPT-5                         0.035125\n",
      " 2) WTPT-3                         0.028902\n",
      " 3) ETA_BetaP_s                    0.024316\n",
      " 4) ETA_Epsilon_4                  0.023523\n",
      " 5) TopoPSA                        0.022995\n",
      " 6) nHBAcc_Lipinski                0.021940\n",
      " 7) ETA_Epsilon_1                  0.020748\n",
      " 8) nN                             0.017431\n",
      " 9) ETA_dEpsilon_A                 0.014655\n",
      "10) ETA_BetaP                      0.013774\n",
      "11) nHBAcc                         0.013700\n",
      "12) nBondsD                        0.013101\n",
      "13) minHBa                         0.011704\n",
      "14) ETA_dEpsilon_C                 0.011194\n",
      "15) MLFER_E                        0.010984\n",
      "16) ETA_EtaP_L                     0.010945\n",
      "17) ETA_EtaP_F_L                   0.010734\n",
      "18) maxsCH3                        0.010298\n",
      "19) MLFER_S                        0.010005\n",
      "20) nHBAcc2                        0.009746\n",
      "21) ETA_EtaP_F                     0.009551\n",
      "22) maxHother                      0.009186\n",
      "23) mindssC                        0.008832\n",
      "24) FMF                            0.007952\n",
      "25) maxsssCH                       0.007762\n",
      "26) HybRatio                       0.007515\n",
      "27) ETA_dEpsilon_B                 0.007233\n",
      "28) ATSc2                          0.006879\n",
      "29) ETA_Epsilon_2                  0.006063\n",
      "30) VCH-7                          0.005961\n",
      "31) C4SP3                          0.005908\n",
      "32) maxdssC                        0.005814\n",
      "33) SHsOH                          0.005754\n",
      "34) minsCH3                        0.005403\n",
      "35) nssCH2                         0.005363\n",
      "36) ETA_Epsilon_5                  0.005284\n",
      "37) MLFER_BH                       0.005272\n",
      "38) BCUTc-1h                       0.005210\n",
      "39) SHBa                           0.005061\n",
      "40) ETA_Beta                       0.004886\n",
      "41) MDEO-12                        0.004886\n",
      "42) ETA_Beta_ns                    0.004848\n",
      "43) ETA_dPsi_A                     0.004760\n",
      "44) ETA_Eta_F_L                    0.004676\n",
      "45) ETA_BetaP_ns                   0.004630\n",
      "46) ETA_Eta_F                      0.004573\n",
      "47) XLogP                          0.004559\n",
      "48) SdssC                          0.004477\n",
      "49) MDEO-22                        0.004431\n",
      "50) ETA_EtaP_B_RC                  0.004427\n",
      "51) ETA_BetaP_ns_d                 0.004415\n",
      "52) SsCH3                          0.004407\n",
      "53) naaaC                          0.004205\n",
      "54) SsssN                          0.004128\n",
      "55) MLFER_BO                       0.004021\n",
      "56) VCH-6                          0.003940\n",
      "57) minHsOH                        0.003935\n",
      "58) SssO                           0.003697\n",
      "59) DELS2                          0.003694\n",
      "60) ETA_Shape_Y                    0.003681\n",
      "61) SPC-6                          0.003668\n",
      "62) nBondsM                        0.003649\n",
      "63) ETA_Psi_1                      0.003623\n",
      "64) SHBint6                        0.003611\n",
      "65) hmin                           0.003588\n",
      "66) gmin                           0.003524\n",
      "67) minwHBa                        0.003518\n",
      "68) MDEC-12                        0.003502\n",
      "69) BCUTc-1l                       0.003468\n",
      "70) maxHaaCH                       0.003466\n",
      "71) nO                             0.003430\n",
      "72) SHaaCH                         0.003370\n",
      "73) MAXDN                          0.003357\n",
      "74) minaaN                         0.003281\n",
      "75) maxsssN                        0.003272\n",
      "76) WTPT-4                         0.003252\n",
      "77) SCH-6                          0.003245\n",
      "78) ATSc1                          0.003226\n",
      "79) SP-7                           0.003214\n",
      "80) SssCH2                         0.003195\n",
      "81) BCUTp-1h                       0.003191\n",
      "82) minaaCH                        0.003191\n",
      "83) SsOH                           0.003147\n",
      "84) minsOH                         0.003101\n",
      "85) SCH-7                          0.002888\n",
      "86) maxwHBa                        0.002853\n",
      "87) SPC-4                          0.002853\n",
      "88) ATSc4                          0.002848\n",
      "89) SaaCH                          0.002846\n",
      "90) ATSc3                          0.002843\n",
      "91) nHBint6                        0.002794\n",
      "92) maxssO                         0.002788\n",
      "93) C2SP3                          0.002717\n",
      "94) SsssCH                         0.002715\n",
      "95) MDEC-22                        0.002707\n",
      "96) SP-4                           0.002706\n",
      "97) VPC-5                          0.002696\n",
      "98) ETA_dEpsilon_D                 0.002656\n",
      "99) VPC-4                          0.002648\n",
      "100) SHCsats                        0.002627\n",
      "101) maxHCsats                      0.002614\n",
      "102) SP-6                           0.002593\n",
      "103) minHCsats                      0.002568\n",
      "104) VC-5                           0.002561\n",
      "105) DELS                           0.002556\n",
      "106) gmax                           0.002556\n",
      "107) minHBint6                      0.002554\n",
      "108) Kier3                          0.002547\n",
      "109) ETA_dBetaP                     0.002544\n",
      "110) naAromAtom                     0.002538\n",
      "111) ATSp4                          0.002501\n",
      "112) VP-6                           0.002499\n",
      "113) ALogP                          0.002450\n",
      "114) ETA_EtaP_B                     0.002428\n",
      "115) maxHBa                         0.002385\n",
      "116) minHaaCH                       0.002382\n",
      "117) ETA_Epsilon_3                  0.002382\n",
      "118) MAXDP                          0.002362\n",
      "119) ETA_EtaP                       0.002327\n",
      "120) BCUTw-1h                       0.002303\n",
      "121) maxaaaC                        0.002302\n",
      "122) MDEC-23                        0.002301\n",
      "123) MLFER_L                        0.002300\n",
      "124) ETA_Shape_P                    0.002269\n",
      "125) VPC-6                          0.002236\n",
      "126) bpol                           0.002233\n",
      "127) MAXDN2                         0.002208\n",
      "128) hmax                           0.002206\n",
      "129) ATSm3                          0.002173\n",
      "130) VP-7                           0.002161\n",
      "131) maxHBint6                      0.002135\n",
      "132) maxssCH2                       0.002121\n",
      "133) nAromBond                      0.002117\n",
      "134) nsOH                           0.002106\n",
      "135) MAXDP2                         0.002100\n",
      "136) ATSc5                          0.002066\n",
      "137) minsssN                        0.002065\n",
      "138) MLFER_A                        0.002054\n",
      "139) nHCsats                        0.002036\n",
      "140) Kier2                          0.002021\n",
      "141) VP-5                           0.002015\n",
      "142) mindO                          0.002003\n",
      "143) SPC-5                          0.002001\n",
      "144) C3SP2                          0.001990\n",
      "145) SwHBa                          0.001983\n",
      "146) maxHBd                         0.001980\n",
      "147) minssO                         0.001979\n",
      "148) maxsOH                         0.001973\n",
      "149) ETA_Eta_B_RC                   0.001969\n",
      "150) nAtomLAC                       0.001969\n",
      "151) BCUTp-1l                       0.001939\n",
      "152) ETA_dAlpha_B                   0.001926\n",
      "153) maxHBint2                      0.001926\n",
      "154) LipoaffinityIndex              0.001904\n",
      "155) nssO                           0.001886\n",
      "156) VC-3                           0.001848\n",
      "157) WPATH                          0.001835\n",
      "158) minsssCH                       0.001825\n",
      "159) minHBd                         0.001805\n",
      "160) ATSp3                          0.001775\n",
      "161) SaasC                          0.001772\n",
      "162) ETA_Eta_R_L                    0.001772\n",
      "163) minHother                      0.001765\n",
      "164) VC-4                           0.001739\n",
      "165) naaN                           0.001738\n",
      "166) ALogp2                         0.001738\n",
      "167) nBondsS2                       0.001719\n",
      "168) minHBint4                      0.001705\n",
      "169) nHBAcc3                        0.001686\n",
      "170) nAtomP                         0.001680\n",
      "171) maxHCsatu                      0.001674\n",
      "172) SP-5                           0.001648\n",
      "173) nHsOH                          0.001642\n",
      "174) VP-3                           0.001640\n",
      "175) SHCsatu                        0.001628\n",
      "176) WPOL                           0.001623\n",
      "177) ETA_Eta_B                      0.001613\n",
      "178) SC-3                           0.001605\n",
      "179) maxaaN                         0.001592\n",
      "180) ETA_Eta_L                      0.001586\n",
      "181) minHBint5                      0.001586\n",
      "182) SHBd                           0.001583\n",
      "183) VP-4                           0.001550\n",
      "184) nHBa                           0.001542\n",
      "185) nwHBa                          0.001536\n",
      "186) minaaaC                        0.001522\n",
      "187) SC-5                           0.001505\n",
      "188) MDEC-11                        0.001502\n",
      "189) SP-3                           0.001491\n",
      "190) ATSm5                          0.001487\n",
      "191) C1SP3                          0.001474\n",
      "192) maxaaCH                        0.001474\n",
      "193) maxdO                          0.001466\n",
      "194) VC-6                           0.001462\n",
      "195) ATSp2                          0.001451\n",
      "196) ETA_Alpha                      0.001447\n",
      "197) nT9Ring                        0.001444\n",
      "198) CrippenLogP                    0.001444\n",
      "199) ETA_Beta_s                     0.001439\n",
      "200) ECCEN                          0.001438\n",
      "201) MDEC-33                        0.001428\n",
      "202) nHaaCH                         0.001417\n",
      "203) VP-2                           0.001406\n",
      "204) MDEN-33                        0.001374\n",
      "205) MDEC-13                        0.001370\n",
      "206) SHother                        0.001369\n",
      "207) SssssC                         0.001366\n",
      "208) minssCH2                       0.001356\n",
      "209) minaasC                        0.001340\n",
      "210) ETA_Eta                        0.001335\n",
      "211) SP-1                           0.001332\n",
      "212) SdO                            0.001306\n",
      "213) nHBDon                         0.001300\n",
      "214) WTPT-1                         0.001297\n",
      "215) McGowan_Volume                 0.001295\n",
      "216) nHCsatu                        0.001215\n",
      "217) ATSp5                          0.001201\n",
      "218) WTPT-2                         0.001197\n",
      "219) ETA_dBeta                      0.001194\n",
      "220) CrippenMR                      0.001194\n",
      "221) MLogP                          0.001191\n",
      "222) nRotB                          0.001180\n",
      "223) nBonds                         0.001175\n",
      "224) maxHBint7                      0.001165\n",
      "225) maxHBint10                     0.001144\n",
      "226) fragC                          0.001135\n",
      "227) SaaN                           0.001127\n",
      "228) SHBint4                        0.001118\n",
      "229) ETA_AlphaP                     0.001103\n",
      "230) MDEN-23                        0.001102\n",
      "231) nHother                        0.001091\n",
      "232) SHBint9                        0.001087\n",
      "233) Kier1                          0.001078\n",
      "234) ATSp1                          0.001072\n",
      "235) MDEC-24                        0.001066\n",
      "236) ETA_Beta_ns_d                  0.001053\n",
      "237) sumI                           0.001023\n",
      "238) C1SP2                          0.001013\n",
      "239) maxHssNH                       0.001005\n",
      "240) nFRing                         0.001002\n",
      "241) MDEO-11                        0.000987\n",
      "242) VP-1                           0.000986\n",
      "243) nRing                          0.000978\n",
      "244) nHBd                           0.000970\n",
      "245) ATSm4                          0.000970\n",
      "246) SP-0                           0.000963\n",
      "247) maxHsOH                        0.000958\n",
      "248) nH                             0.000947\n",
      "249) ETA_Shape_X                    0.000944\n",
      "250) C3SP3                          0.000938\n",
      "251) AMR                            0.000936\n",
      "252) maxaasC                        0.000934\n",
      "253) nTRing                         0.000933\n",
      "254) ATSm1                          0.000927\n",
      "255) naasC                          0.000906\n",
      "256) VABC                           0.000904\n",
      "257) VCH-5                          0.000890\n",
      "258) maxHBint8                      0.000888\n",
      "259) nAtomLC                        0.000880\n",
      "260) maxssNH                        0.000867\n",
      "261) nsssN                          0.000862\n",
      "262) maxHaaNH                       0.000861\n",
      "263) Zagreb                         0.000856\n",
      "264) nsssCH                         0.000852\n",
      "265) minssNH                        0.000847\n",
      "266) minaaNH                        0.000837\n",
      "267) SHaaNH                         0.000835\n",
      "268) ETA_Eta_R                      0.000835\n",
      "269) nF9Ring                        0.000834\n",
      "270) nHBint7                        0.000825\n",
      "271) SaaaC                          0.000822\n",
      "272) nC                             0.000816\n",
      "273) ATSm2                          0.000815\n",
      "274) nT11Ring                       0.000812\n",
      "275) PetitjeanNumber                0.000806\n",
      "276) minaasN                        0.000805\n",
      "277) ndssC                          0.000803\n",
      "278) minHBint7                      0.000794\n",
      "279) SC-6                           0.000794\n",
      "280) SCH-5                          0.000792\n",
      "281) nT5Ring                        0.000774\n",
      "282) ndO                            0.000756\n",
      "283) SP-2                           0.000741\n",
      "284) nF11Ring                       0.000739\n",
      "285) SHBint7                        0.000724\n",
      "286) SHBint2                        0.000720\n",
      "287) maxHBint5                      0.000720\n",
      "288) maxaasN                        0.000716\n",
      "289) minaaO                         0.000704\n",
      "290) nF12Ring                       0.000701\n",
      "291) BCUTw-1l                       0.000698\n",
      "292) nBonds2                        0.000685\n",
      "293) minHdsCH                       0.000673\n",
      "294) apol                           0.000672\n",
      "295) nT6Ring                        0.000659\n",
      "296) SssS                           0.000655\n",
      "297) nBondsS3                       0.000648\n",
      "298) n7Ring                         0.000647\n",
      "299) VP-0                           0.000639\n",
      "300) MW                             0.000636\n",
      "301) minHBint10                     0.000620\n",
      "302) naaNH                          0.000619\n",
      "303) nS                             0.000597\n",
      "304) maxHBint9                      0.000596\n",
      "305) naaCH                          0.000595\n",
      "306) SHBint10                       0.000592\n",
      "307) nBondsS                        0.000589\n",
      "308) SaaNH                          0.000568\n",
      "309) maxaaO                         0.000556\n",
      "310) minHBint9                      0.000552\n",
      "311) StsC                           0.000533\n",
      "312) SdsCH                          0.000523\n",
      "313) n5Ring                         0.000516\n",
      "314) SHBint5                        0.000506\n",
      "315) minHBint8                      0.000496\n",
      "316) SssNH                          0.000489\n",
      "317) SHBint3                        0.000485\n",
      "318) nFG12Ring                      0.000478\n",
      "319) nHssNH                         0.000477\n",
      "320) nHBint4                        0.000470\n",
      "321) nHBint3                        0.000469\n",
      "322) minHCsatu                      0.000463\n",
      "323) minsF                          0.000422\n",
      "324) MDEC-34                        0.000414\n",
      "325) nTG12Ring                      0.000404\n",
      "326) C2SP2                          0.000396\n",
      "327) nHBint2                        0.000378\n",
      "328) minHssNH                       0.000377\n",
      "329) nssssC                         0.000377\n",
      "330) nT10Ring                       0.000369\n",
      "331) maxHdsCH                       0.000363\n",
      "332) maxtN                          0.000359\n",
      "333) nAtom                          0.000357\n",
      "334) SHBint8                        0.000354\n",
      "335) SHssNH                         0.000351\n",
      "336) maxdsN                         0.000347\n",
      "337) SHdsCH                         0.000343\n",
      "338) nsF                            0.000319\n",
      "339) nX                             0.000316\n",
      "340) nsCH3                          0.000313\n",
      "341) mindsCH                        0.000299\n",
      "342) MDEN-22                        0.000299\n",
      "343) nBase                          0.000298\n",
      "344) minHaaNH                       0.000297\n",
      "345) SaaO                           0.000294\n",
      "346) maxdsCH                        0.000281\n",
      "347) SaasN                          0.000281\n",
      "348) VAdjMat                        0.000280\n",
      "349) SaaS                           0.000267\n",
      "350) nT12Ring                       0.000266\n",
      "351) maxsF                          0.000263\n",
      "352) SHAvin                         0.000263\n",
      "353) minssssC                       0.000262\n",
      "354) nHBint10                       0.000261\n",
      "355) nHBint8                        0.000257\n",
      "356) maxHBint3                      0.000239\n",
      "357) nssNH                          0.000236\n",
      "358) ntN                            0.000234\n",
      "359) maxtsC                         0.000226\n",
      "360) nF                             0.000226\n",
      "361) nHeavyAtom                     0.000201\n",
      "362) n6Ring                         0.000198\n",
      "363) nHaaNH                         0.000184\n",
      "364) minHAvin                       0.000184\n",
      "365) minHBint3                      0.000183\n",
      "366) nBondsD2                       0.000173\n",
      "367) SwHBd                          0.000167\n",
      "368) nHBDon_Lipinski                0.000157\n",
      "369) minHBint2                      0.000156\n",
      "370) naasN                          0.000155\n",
      "371) nF10Ring                       0.000149\n",
      "372) naaS                           0.000146\n",
      "373) maxHAvin                       0.000146\n",
      "374) mintN                          0.000142\n",
      "375) mindCH2                        0.000135\n",
      "376) nsCl                           0.000131\n",
      "377) maxHBint4                      0.000121\n",
      "378) minssS                         0.000114\n",
      "379) nBondsT                        0.000113\n",
      "380) SdsN                           0.000109\n",
      "381) C1SP1                          0.000106\n",
      "382) nHAvin                         0.000105\n",
      "383) mintsC                         0.000104\n",
      "384) ndCH2                          0.000098\n",
      "385) nHBint9                        0.000097\n",
      "386) SC-4                           0.000095\n",
      "387) C2SP1                          0.000093\n",
      "388) maxssssC                       0.000079\n",
      "389) nHdCH2                         0.000079\n",
      "390) maxaaNH                        0.000079\n",
      "391) nHCHnX                         0.000075\n",
      "392) nHBint5                        0.000073\n",
      "393) minaaS                         0.000072\n",
      "394) nssS                           0.000072\n",
      "395) maxsCl                         0.000071\n",
      "396) MDEC-44                        0.000071\n",
      "397) VCH-3                          0.000066\n",
      "398) nHdsCH                         0.000064\n",
      "399) ndsCH                          0.000064\n",
      "400) nHsNH2                         0.000062\n",
      "401) ETA_dAlpha_A                   0.000059\n",
      "402) naaO                           0.000059\n",
      "403) ndsN                           0.000054\n",
      "404) maxsNH2                        0.000054\n",
      "405) maxHtCH                        0.000053\n",
      "406) mindsN                         0.000052\n",
      "407) nF8Ring                        0.000051\n",
      "408) SsF                            0.000051\n",
      "409) LipinskiFailures               0.000049\n",
      "410) nT4Ring                        0.000048\n",
      "411) SsBr                           0.000046\n",
      "412) nF6Ring                        0.000045\n",
      "413) minHCHnX                       0.000039\n",
      "414) nT8Ring                        0.000037\n",
      "415) nCl                            0.000033\n",
      "416) nBr                            0.000031\n",
      "417) SsNH2                          0.000030\n",
      "418) VCH-4                          0.000029\n",
      "419) maxHdNH                        0.000028\n",
      "420) MDEN-13                        0.000028\n",
      "421) nsBr                           0.000027\n",
      "422) StCH                           0.000027\n",
      "423) nsNH2                          0.000026\n",
      "424) MDEN-11                        0.000026\n",
      "425) SdCH2                          0.000022\n",
      "426) MDEC-14                        0.000022\n",
      "427) maxHCHnX                       0.000021\n",
      "428) StN                            0.000021\n",
      "429) maxwHBd                        0.000016\n",
      "430) minsBr                         0.000014\n",
      "431) maxHsNH2                       0.000013\n",
      "432) minHsNH2                       0.000010\n",
      "433) minwHBd                        0.000006\n",
      "434) nT7Ring                        0.000002\n",
      "435) SCH-3                          0.000000\n",
      "436) nP                             0.000000\n",
      "437) SCH-4                          0.000000\n",
      "438) nI                             0.000000\n",
      "439) minHsSH                        0.000000\n",
      "440) nwHBd                          0.000000\n",
      "441) minHdCH2                       0.000000\n",
      "442) minsNH2                        0.000000\n",
      "443) mindNH                         0.000000\n",
      "444) minssssNp                      0.000000\n",
      "445) minsOm                         0.000000\n",
      "446) mindsssP                       0.000000\n",
      "447) minsSH                         0.000000\n",
      "448) mindS                          0.000000\n",
      "449) mindssS                        0.000000\n",
      "450) minddssS                       0.000000\n",
      "451) minsCl                         0.000000\n",
      "452) minsI                          0.000000\n",
      "453) maxHsSH                        0.000000\n",
      "454) maxHdCH2                       0.000000\n",
      "455) maxdCH2                        0.000000\n",
      "456) maxtCH                         0.000000\n",
      "457) maxdNH                         0.000000\n",
      "458) maxssssNp                      0.000000\n",
      "459) maxsOm                         0.000000\n",
      "460) maxsSH                         0.000000\n",
      "461) maxdS                          0.000000\n",
      "462) maxsBr                         0.000000\n",
      "463) ETA_dPsi_B                     0.000000\n",
      "464) MDEN-12                        0.000000\n",
      "465) n3Ring                         0.000000\n",
      "466) n4Ring                         0.000000\n",
      "467) n8Ring                         0.000000\n",
      "468) n12Ring                        0.000000\n",
      "469) nG12Ring                       0.000000\n",
      "470) nF7Ring                        0.000000\n",
      "471) mintCH                         0.000000\n",
      "472) minHtCH                        0.000000\n",
      "473) nHdNH                          0.000000\n",
      "474) minHdNH                        0.000000\n",
      "475) nHsSH                          0.000000\n",
      "476) nHtCH                          0.000000\n",
      "477) ntCH                           0.000000\n",
      "478) ntsC                           0.000000\n",
      "479) ndNH                           0.000000\n",
      "480) nssssNp                        0.000000\n",
      "481) nsOm                           0.000000\n",
      "482) ndsssP                         0.000000\n",
      "483) nsSH                           0.000000\n",
      "484) ndS                            0.000000\n",
      "485) ndssS                          0.000000\n",
      "486) nddssS                         0.000000\n",
      "487) nsI                            0.000000\n",
      "488) SHdNH                          0.000000\n",
      "489) SHsSH                          0.000000\n",
      "490) SHsNH2                         0.000000\n",
      "491) SHtCH                          0.000000\n",
      "492) SHdCH2                         0.000000\n",
      "493) SHCHnX                         0.000000\n",
      "494) SdNH                           0.000000\n",
      "495) SssssNp                        0.000000\n",
      "496) SsOm                           0.000000\n",
      "497) SdsssP                         0.000000\n",
      "498) SsSH                           0.000000\n",
      "499) SdS                            0.000000\n",
      "500) SdssS                          0.000000\n",
      "501) SddssS                         0.000000\n",
      "502) SsCl                           0.000000\n",
      "503) SsI                            0.000000\n",
      "504) nAcid                          0.000000\n"
     ]
    }
   ],
   "source": [
    "#变量重要性\n",
    "importances=model.feature_importances_\n",
    "indices = np.argsort(importances)[::-1]\n",
    "for i in range(dataFirst1.shape[1]-1):\n",
    "    print(\"%2d) %-*s %f\" % (i + 1, 30, feat_labels[indices[i]], importances[indices[i]]))"
   ]
  },
  {
   "cell_type": "code",
   "execution_count": 141,
   "metadata": {
    "ExecuteTime": {
     "end_time": "2021-10-16T13:32:06.747357Z",
     "start_time": "2021-10-16T13:32:06.730431Z"
    }
   },
   "outputs": [
    {
     "data": {
      "text/plain": [
       "0.5129764594450106"
      ]
     },
     "execution_count": 141,
     "metadata": {},
     "output_type": "execute_result"
    }
   ],
   "source": [
    "sum(importances[indices[0:50]]) #筛选后前50个贡献度总和"
   ]
  },
  {
   "cell_type": "code",
   "execution_count": 142,
   "metadata": {
    "ExecuteTime": {
     "end_time": "2021-10-16T13:32:08.509039Z",
     "start_time": "2021-10-16T13:32:08.496965Z"
    }
   },
   "outputs": [],
   "source": [
    "dataFirst9=dataFirst1.iloc[:,indices[0:50]+1]\n",
    "data=dataFirst9"
   ]
  },
  {
   "cell_type": "code",
   "execution_count": 143,
   "metadata": {
    "ExecuteTime": {
     "end_time": "2021-10-16T13:32:09.688377Z",
     "start_time": "2021-10-16T13:32:09.681853Z"
    }
   },
   "outputs": [],
   "source": [
    "from sklearn.model_selection import train_test_split\n",
    "X_train,X_test,Y_train,Y_test=train_test_split(data,Y5,train_size=0.8,shuffle=True)#样本数据前80%做为训练集，后20%做为测试集"
   ]
  },
  {
   "cell_type": "code",
   "execution_count": 144,
   "metadata": {
    "ExecuteTime": {
     "end_time": "2021-10-16T11:48:34.938094Z",
     "start_time": "2021-10-16T11:48:34.836080Z"
    }
   },
   "outputs": [],
   "source": [
    "from sklearn.ensemble import RandomForestClassifier\n",
    "model=RandomForestClassifier(n_estimators=108, min_samples_leaf=2, max_depth=16, random_state=100)\n",
    "model.fit(X_train,Y_train)\n",
    "\n",
    "# 预测验证集中的因变量值\n",
    "Y_pred=model.predict(X_test)"
   ]
  },
  {
   "cell_type": "code",
   "execution_count": 145,
   "metadata": {
    "ExecuteTime": {
     "end_time": "2021-10-16T11:48:35.388249Z",
     "start_time": "2021-10-16T11:48:35.371709Z"
    }
   },
   "outputs": [
    {
     "name": "stdout",
     "output_type": "stream",
     "text": [
      "准确率Accuracy:0.951899\n",
      "精确率Precision:0.904762\n",
      "召回率Recall:0.873563\n",
      "F1 score:0.8888888888888888\n",
      "AUC:0.923795\n"
     ]
    }
   ],
   "source": [
    "print(\"准确率Accuracy:{:3f}\".format(accuracy_score(Y_test,Y_pred)))\n",
    "pre, rec, f1, sup = precision_recall_fscore_support(Y_test,Y_pred)\n",
    "print(\"精确率Precision:{:3f}\".format(pre[0]))\n",
    "print(\"召回率Recall:{:3f}\".format(rec[0]))\n",
    "print(\"F1 score:{}\".format(f1[0]))\n",
    "# 计算auc\n",
    "print(\"AUC:{:3f}\".format(roc_auc_score(Y_test,Y_pred)))"
   ]
  },
  {
   "cell_type": "code",
   "execution_count": 146,
   "metadata": {
    "ExecuteTime": {
     "end_time": "2021-10-16T13:32:14.359983Z",
     "start_time": "2021-10-16T13:32:14.107640Z"
    }
   },
   "outputs": [],
   "source": [
    "import xgboost as xgb\n",
    "\n",
    "model=xgb.XGBClassifier(n_estimators=300, min_child_weight=6, max_depth=7, learning_rate=0.05, random_state=100)\n",
    "model.fit(X_train,Y_train)\n",
    "\n",
    "# 预测验证集中的因变量值\n",
    "Y_pred=model.predict(X_test)"
   ]
  },
  {
   "cell_type": "code",
   "execution_count": 147,
   "metadata": {
    "ExecuteTime": {
     "end_time": "2021-10-16T13:32:19.640505Z",
     "start_time": "2021-10-16T13:32:19.616540Z"
    }
   },
   "outputs": [
    {
     "name": "stdout",
     "output_type": "stream",
     "text": [
      "准确率Accuracy:0.956962\n",
      "精确率Precision:0.906977\n",
      "召回率Recall:0.896552\n",
      "F1 score:0.9017341040462429\n",
      "AUC:0.935289\n"
     ]
    }
   ],
   "source": [
    "print(\"准确率Accuracy:{:3f}\".format(accuracy_score(Y_test,Y_pred)))\n",
    "pre, rec, f1, sup = precision_recall_fscore_support(Y_test,Y_pred)\n",
    "print(\"精确率Precision:{:3f}\".format(pre[0]))\n",
    "print(\"召回率Recall:{:3f}\".format(rec[0]))\n",
    "print(\"F1 score:{}\".format(f1[0]))\n",
    "# 计算auc\n",
    "print(\"AUC:{:3f}\".format(roc_auc_score(Y_test,Y_pred)))"
   ]
  },
  {
   "cell_type": "markdown",
   "metadata": {},
   "source": [
    "预测test中的值(选XGBoost)"
   ]
  },
  {
   "cell_type": "code",
   "execution_count": 148,
   "metadata": {
    "ExecuteTime": {
     "end_time": "2021-10-16T13:32:30.293602Z",
     "start_time": "2021-10-16T13:32:30.273636Z"
    }
   },
   "outputs": [],
   "source": [
    "x_test=data1[feat_labels[indices[0:50]]]  #预测集中的自变量\n",
    "\n",
    "model=xgb.XGBClassifier(n_estimators=300, min_child_weight=6, max_depth=7, learning_rate=0.05, random_state=100)\n",
    "model.fit(X_train,Y_train)\n",
    "\n",
    "# 预测测试集中的因变量值\n",
    "y_pred=model.predict(x_test)"
   ]
  },
  {
   "cell_type": "markdown",
   "metadata": {},
   "source": [
    "### 第四问"
   ]
  },
  {
   "cell_type": "code",
   "execution_count": 150,
   "metadata": {
    "ExecuteTime": {
     "end_time": "2021-10-17T09:11:42.378485Z",
     "start_time": "2021-10-17T09:11:40.687194Z"
    }
   },
   "outputs": [],
   "source": [
    "dataResult=pd.read_excel(\"Molecular_Descriptor 筛选表.xls\")"
   ]
  },
  {
   "cell_type": "code",
   "execution_count": 151,
   "metadata": {
    "ExecuteTime": {
     "end_time": "2021-10-17T09:11:49.066497Z",
     "start_time": "2021-10-17T09:11:49.062536Z"
    }
   },
   "outputs": [],
   "source": [
    "import matplotlib.mlab as mlab\n",
    "from scipy.stats import norm"
   ]
  },
  {
   "cell_type": "code",
   "execution_count": 152,
   "metadata": {
    "ExecuteTime": {
     "end_time": "2021-10-17T11:37:47.307195Z",
     "start_time": "2021-10-17T11:37:47.088641Z"
    }
   },
   "outputs": [
    {
     "data": {
      "text/plain": [
       "[<matplotlib.lines.Line2D at 0x290616d12e0>]"
      ]
     },
     "execution_count": 152,
     "metadata": {},
     "output_type": "execute_result"
    },
    {
     "data": {
      "image/png": "[encoded data removed]",
      "text/plain": [
       "<Figure size 432x288 with 1 Axes>"
      ]
     },
     "metadata": {
      "needs_background": "light"
     },
     "output_type": "display_data"
    }
   ],
   "source": [
    "x=dataResult.iloc[:,1] #提取列变量 \n",
    "mu =np.mean(x) #计算均值 \n",
    "sigma =np.std(x) #计算标准差\n",
    "n, bins, patches = plt.hist(x,bins=30,density=1,facecolor='blue',alpha=0.6)\n",
    "y = norm.pdf(bins, mu, sigma) #拟合一条最佳正态分布曲线y \n",
    "plt.plot(bins, y, 'r') #绘制y的曲线 "
   ]
  },
  {
   "cell_type": "markdown",
   "metadata": {},
   "source": [
    "（μ-2σ，μ+2σ）"
   ]
  },
  {
   "cell_type": "code",
   "execution_count": 154,
   "metadata": {
    "ExecuteTime": {
     "end_time": "2021-10-17T11:22:15.022393Z",
     "start_time": "2021-10-17T11:22:15.008455Z"
    }
   },
   "outputs": [
    {
     "name": "stdout",
     "output_type": "stream",
     "text": [
      "变量C1SP2的(μ-2σ，μ+2σ）区间: (9.055,38.323)\n",
      "变量maxHsOH的(μ-2σ，μ+2σ）区间: (3.208,13.421)\n",
      "变量maxssO的(μ-2σ，μ+2σ）区间: (-0.817,1.524)\n",
      "变量BCUTc-1l的(μ-2σ，μ+2σ）区间: (0.059,0.893)\n",
      "变量minsOH的(μ-2σ，μ+2σ）区间: (13.393,36.006)\n",
      "变量minHBint5的(μ-2σ，μ+2σ）区间: (-125.558,1158.737)\n",
      "变量VC-5的(μ-2σ，μ+2σ）区间: (6.291,17.47)\n",
      "变量ATSc3的(μ-2σ，μ+2σ）区间: (9.215,28.398)\n",
      "变量TopoPSA的(μ-2σ，μ+2σ）区间: (2.006,9.657)\n",
      "变量SHBint10的(μ-2σ，μ+2σ）区间: (4.257,11.435)\n",
      "变量ndssC的(μ-2σ，μ+2σ）区间: (2.008,8.11)\n",
      "变量XLogP的(μ-2σ，μ+2σ）区间: (0.578,4.899)\n",
      "变量MDEC-33的(μ-2σ，μ+2σ）区间: (4.142,12.99)\n",
      "变量ETA_Shape_Y的(μ-2σ，μ+2σ）区间: (-0.406,-0.305)\n",
      "变量SHBint6的(μ-2σ，μ+2σ）区间: (-0.157,1.743)\n",
      "变量mindssC的(μ-2σ，μ+2σ）区间: (0.015,1.621)\n",
      "变量VCH-5的(μ-2σ，μ+2σ）区间: (-4.155,9.424)\n",
      "变量minHBa的(μ-2σ，μ+2σ）区间: (0.871,22.519)\n",
      "变量ATSc5的(μ-2σ，μ+2σ）区间: (0.55,0.655)\n"
     ]
    }
   ],
   "source": [
    "for i in range(1,20):\n",
    "    x=dataResult.iloc[:,i] #提取列变量 \n",
    "    mu =np.mean(x) #计算均值 \n",
    "    sigma =np.std(x) #计算标准差\n",
    "    print(\"变量\"+names[i]+\"的(μ-2σ，μ+2σ）区间: ({},{})\".format(round(mu-2*sigma,3),round(mu+2*sigma,3)))"
   ]
  }
 ],
 "metadata": {
  "kernelspec": {
   "display_name": "Python 3 (ipykernel)",
   "language": "python",
   "name": "python3"
  },
  "language_info": {
   "codemirror_mode": {
    "name": "ipython",
    "version": 3
   },
   "file_extension": ".py",
   "mimetype": "text/x-python",
   "name": "python",
   "nbconvert_exporter": "python",
   "pygments_lexer": "ipython3",
   "version": "3.9.12"
  }
 },
 "nbformat": 4,
 "nbformat_minor": 2
}
