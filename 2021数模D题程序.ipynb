{
 "cells": [
  {
   "cell_type": "markdown",
   "metadata": {},
   "source": [
    "#### Excle表: 分类 ADMET、预测 ERα_activity、选变量 Molecular_Descriptor"
   ]
  },
  {
   "cell_type": "markdown",
   "metadata": {},
   "source": [
    "### 第一问"
   ]
  },
  {
   "cell_type": "markdown",
   "metadata": {},
   "source": [
    "预处理"
   ]
  },
  {
   "cell_type": "code",
   "execution_count": 120,
   "metadata": {
    "ExecuteTime": {
     "end_time": "2021-10-17T11:43:59.117867Z",
     "start_time": "2021-10-17T11:43:59.112068Z"
    }
   },
   "outputs": [],
   "source": [
    "import numpy as np\n",
    "import pandas as pd"
   ]
  },
  {
   "cell_type": "code",
   "execution_count": 121,
   "metadata": {
    "ExecuteTime": {
     "end_time": "2021-10-17T11:44:00.272870Z",
     "start_time": "2021-10-17T11:44:00.257094Z"
    }
   },
   "outputs": [
    {
     "data": {
      "text/plain": [
       "<Figure size 504x360 with 0 Axes>"
      ]
     },
     "metadata": {},
     "output_type": "display_data"
    }
   ],
   "source": [
    "import matplotlib.pyplot as plt#导入作图库\n",
    "plt.rcParams['font.sans-serif']=['SimHei']#用来正常显示中文标签\n",
    "plt.rcParams['axes.unicode_minus']=False#用来正常显示负号\n",
    "plt.figure(figsize=(7,5))#创建图像区域，制定比例\n",
    "import seaborn as sns"
   ]
  },
  {
   "cell_type": "code",
   "execution_count": 122,
   "metadata": {
    "ExecuteTime": {
     "end_time": "2021-10-17T11:44:16.335812Z",
     "start_time": "2021-10-17T11:44:02.879944Z"
    }
   },
   "outputs": [],
   "source": [
    "dataFirst1=pd.read_excel(\"Molecular_Descriptor.xlsx\") #导入分子描述符的training数据集"
   ]
  },
  {
   "cell_type": "code",
   "execution_count": 123,
   "metadata": {
    "ExecuteTime": {
     "end_time": "2021-10-17T11:44:18.440401Z",
     "start_time": "2021-10-17T11:44:18.312307Z"
    }
   },
   "outputs": [],
   "source": [
    "dataSecond1=pd.read_excel(\"ERα_activity.xlsx\")  #导入pIC50的training数据集"
   ]
  },
  {
   "cell_type": "code",
   "execution_count": 124,
   "metadata": {
    "ExecuteTime": {
     "end_time": "2021-10-17T11:44:19.625528Z",
     "start_time": "2021-10-17T11:44:19.608129Z"
    }
   },
   "outputs": [],
   "source": [
    "Y=dataSecond1['pIC50']"
   ]
  },
  {
   "cell_type": "code",
   "execution_count": 125,
   "metadata": {
    "ExecuteTime": {
     "end_time": "2021-10-17T11:44:20.591909Z",
     "start_time": "2021-10-17T11:44:20.423121Z"
    }
   },
   "outputs": [],
   "source": [
    "#查找表格中的全0列\n",
    "names=[]\n",
    "for i in range(1,dataFirst1.shape[1]):\n",
    "    x=sum(dataFirst1.iloc[:,i])\n",
    "    if x==0:\n",
    "        names.append(dataFirst1.columns[i])"
   ]
  },
  {
   "cell_type": "code",
   "execution_count": 126,
   "metadata": {
    "ExecuteTime": {
     "end_time": "2021-10-17T11:44:22.606329Z",
     "start_time": "2021-10-17T11:44:22.584352Z"
    },
    "scrolled": true
   },
   "outputs": [
    {
     "data": {
      "text/plain": [
       "(1974, 505)"
      ]
     },
     "execution_count": 126,
     "metadata": {},
     "output_type": "execute_result"
    }
   ],
   "source": [
    "#删除表格中的全0列\n",
    "dataFirst1=dataFirst1.drop(names,axis=1)\n",
    "dataFirst1.shape"
   ]
  },
  {
   "cell_type": "markdown",
   "metadata": {},
   "source": [
    "模型重要性指标选择"
   ]
  },
  {
   "cell_type": "code",
   "execution_count": 127,
   "metadata": {
    "ExecuteTime": {
     "end_time": "2021-10-17T11:44:26.459834Z",
     "start_time": "2021-10-17T11:44:24.136717Z"
    }
   },
   "outputs": [],
   "source": [
    "from sklearn.ensemble import RandomForestRegressor"
   ]
  },
  {
   "cell_type": "code",
   "execution_count": 128,
   "metadata": {
    "ExecuteTime": {
     "end_time": "2021-10-17T11:44:50.191090Z",
     "start_time": "2021-10-17T11:44:26.461667Z"
    }
   },
   "outputs": [
    {
     "data": {
      "text/plain": [
       "RandomForestRegressor(bootstrap=True, criterion='mse', max_depth=None,\n",
       "                      max_features='auto', max_leaf_nodes=None,\n",
       "                      min_impurity_decrease=0.0, min_impurity_split=None,\n",
       "                      min_samples_leaf=1, min_samples_split=2,\n",
       "                      min_weight_fraction_leaf=0.0, n_estimators=100,\n",
       "                      n_jobs=None, oob_score=False, random_state=123, verbose=0,\n",
       "                      warm_start=False)"
      ]
     },
     "execution_count": 128,
     "metadata": {},
     "output_type": "execute_result"
    }
   ],
   "source": [
    "#建立随机森林模型\n",
    "feat_labels=dataFirst1.columns[1:]\n",
    "model=RandomForestRegressor(n_estimators=100,random_state=123)\n",
    "model.fit(dataFirst1.iloc[:,1:],Y)"
   ]
  },
  {
   "cell_type": "code",
   "execution_count": 129,
   "metadata": {
    "ExecuteTime": {
     "end_time": "2021-10-17T11:44:51.889213Z",
     "start_time": "2021-10-17T11:44:51.823909Z"
    }
   },
   "outputs": [
    {
     "name": "stdout",
     "output_type": "stream",
     "text": [
      " 1) MDEC-23                        0.212966\n",
      " 2) LipoaffinityIndex              0.039376\n",
      " 3) C1SP2                          0.037159\n",
      " 4) maxHsOH                        0.030386\n",
      " 5) minsssN                        0.027593\n",
      " 6) maxssO                         0.027300\n",
      " 7) minHsOH                        0.022676\n",
      " 8) BCUTc-1l                       0.019268\n",
      " 9) minsOH                         0.018179\n",
      "10) minHBint5                      0.017632\n",
      "11) nC                             0.017457\n",
      "12) MLFER_A                        0.016627\n",
      "13) nHBAcc                         0.016468\n",
      "14) SHsOH                          0.013237\n",
      "15) VC-5                           0.011828\n",
      "16) ATSc3                          0.011394\n",
      "17) TopoPSA                        0.010019\n",
      "18) SHBint10                       0.009138\n",
      "19) MDEO-12                        0.008050\n",
      "20) ndssC                          0.006975\n",
      "21) XLogP                          0.006786\n",
      "22) MDEC-33                        0.006421\n",
      "23) ETA_Shape_Y                    0.006376\n",
      "24) BCUTc-1h                       0.005967\n",
      "25) SHBint6                        0.005886\n",
      "26) nHBAcc_Lipinski                0.005626\n",
      "27) ATSc2                          0.005223\n",
      "28) mindssC                        0.005056\n",
      "29) minHBint10                     0.005045\n",
      "30) SsOH                           0.004833\n",
      "31) VCH-5                          0.004791\n",
      "32) VPC-6                          0.004786\n",
      "33) minHBa                         0.004725\n",
      "34) minssO                         0.004710\n",
      "35) CrippenLogP                    0.004633\n",
      "36) SPC-6                          0.004287\n",
      "37) MLFER_S                        0.004273\n",
      "38) MLogP                          0.004115\n",
      "39) ETA_BetaP_s                    0.004090\n",
      "40) ATSc5                          0.003990\n",
      "41) WTPT-4                         0.003973\n",
      "42) BCUTp-1h                       0.003872\n",
      "43) WTPT-5                         0.003824\n",
      "44) SdssC                          0.003758\n",
      "45) maxHBd                         0.003735\n",
      "46) maxHBint5                      0.003700\n",
      "47) MAXDP                          0.003649\n",
      "48) VCH-7                          0.003565\n",
      "49) hmin                           0.003530\n",
      "50) Kier3                          0.003406\n",
      "51) ATSc4                          0.003372\n",
      "52) MDEC-22                        0.002961\n",
      "53) BCUTp-1l                       0.002868\n",
      "54) ETA_BetaP_ns_d                 0.002865\n",
      "55) fragC                          0.002852\n",
      "56) MLFER_BO                       0.002835\n",
      "57) VP-2                           0.002816\n",
      "58) bpol                           0.002796\n",
      "59) hmax                           0.002762\n",
      "60) C3SP2                          0.002747\n",
      "61) maxsOH                         0.002726\n",
      "62) MAXDP2                         0.002691\n",
      "63) mindO                          0.002680\n",
      "64) SHCsats                        0.002615\n",
      "65) MLFER_BH                       0.002603\n",
      "66) SCH-7                          0.002562\n",
      "67) SHother                        0.002557\n",
      "68) SaaCH                          0.002475\n",
      "69) SHBd                           0.002428\n",
      "70) SPC-4                          0.002410\n",
      "71) ECCEN                          0.002370\n",
      "72) maxHBint8                      0.002354\n",
      "73) minHBd                         0.002352\n",
      "74) ATSc1                          0.002346\n",
      "75) Kier2                          0.002333\n",
      "76) SaasC                          0.002328\n",
      "77) minHBint4                      0.002278\n",
      "78) minHBint7                      0.002175\n",
      "79) gmax                           0.002143\n",
      "80) maxaasC                        0.002128\n",
      "81) WTPT-3                         0.002111\n",
      "82) minssCH2                       0.002092\n",
      "83) SP-6                           0.002067\n",
      "84) maxHCsats                      0.002058\n",
      "85) ALogP                          0.002052\n",
      "86) SCH-5                          0.001987\n",
      "87) ALogp2                         0.001963\n",
      "88) maxHBint10                     0.001932\n",
      "89) maxaaCH                        0.001908\n",
      "90) ETA_dEpsilon_D                 0.001908\n",
      "91) SdsN                           0.001896\n",
      "92) MLFER_E                        0.001829\n",
      "93) SC-5                           0.001828\n",
      "94) gmin                           0.001822\n",
      "95) maxHBa                         0.001802\n",
      "96) SPC-5                          0.001777\n",
      "97) WTPT-2                         0.001769\n",
      "98) SHBint5                        0.001768\n",
      "99) minHCsats                      0.001716\n",
      "100) MDEO-11                        0.001711\n",
      "101) DELS                           0.001706\n",
      "102) ETA_EtaP_F                     0.001688\n",
      "103) ETA_EtaP                       0.001631\n",
      "104) SwHBa                          0.001616\n",
      "105) VPC-4                          0.001613\n",
      "106) ATSm5                          0.001609\n",
      "107) ETA_Shape_P                    0.001578\n",
      "108) SC-3                           0.001557\n",
      "109) SHBa                           0.001523\n",
      "110) minaaCH                        0.001515\n",
      "111) maxssCH2                       0.001504\n",
      "112) FMF                            0.001494\n",
      "113) MAXDN                          0.001484\n",
      "114) maxdssC                        0.001475\n",
      "115) ETA_Eta_F_L                    0.001468\n",
      "116) SHCsatu                        0.001456\n",
      "117) maxHBint7                      0.001448\n",
      "118) ETA_EtaP_B_RC                  0.001440\n",
      "119) SP-7                           0.001437\n",
      "120) SP-5                           0.001433\n",
      "121) MDEC-34                        0.001417\n",
      "122) SHBint8                        0.001413\n",
      "123) minaasC                        0.001403\n",
      "124) maxHaaCH                       0.001399\n",
      "125) SCH-6                          0.001377\n",
      "126) ETA_Eta_B_RC                   0.001370\n",
      "127) minHBint6                      0.001369\n",
      "128) minHCsatu                      0.001362\n",
      "129) VC-3                           0.001341\n",
      "130) VCH-6                          0.001327\n",
      "131) ATSp5                          0.001318\n",
      "132) MAXDN2                         0.001309\n",
      "133) MDEC-13                        0.001291\n",
      "134) VPC-5                          0.001273\n",
      "135) minwHBa                        0.001271\n",
      "136) minHaaCH                       0.001271\n",
      "137) SP-4                           0.001269\n",
      "138) MDEC-12                        0.001262\n",
      "139) MDEC-24                        0.001237\n",
      "140) VP-7                           0.001222\n",
      "141) ETA_Epsilon_5                  0.001219\n",
      "142) maxHBint6                      0.001216\n",
      "143) VC-6                           0.001181\n",
      "144) SHBint4                        0.001170\n",
      "145) ETA_Eta_F                      0.001154\n",
      "146) SHaaCH                         0.001144\n",
      "147) minsCH3                        0.001134\n",
      "148) MLFER_L                        0.001123\n",
      "149) ETA_EtaP_L                     0.001113\n",
      "150) maxHother                      0.001107\n",
      "151) maxsssCH                       0.001103\n",
      "152) SHaaNH                         0.001098\n",
      "153) SsssN                          0.001097\n",
      "154) ETA_EtaP_B                     0.001091\n",
      "155) nAtomP                         0.001078\n",
      "156) ATSm1                          0.001070\n",
      "157) VP-3                           0.001067\n",
      "158) minsssCH                       0.001048\n",
      "159) VP-4                           0.001043\n",
      "160) ETA_Eta_B                      0.001033\n",
      "161) SHBint7                        0.001013\n",
      "162) PetitjeanNumber                0.000998\n",
      "163) minHBint8                      0.000989\n",
      "164) ETA_Psi_1                      0.000986\n",
      "165) SsssCH                         0.000986\n",
      "166) VP-6                           0.000971\n",
      "167) maxsCH3                        0.000966\n",
      "168) SssCH2                         0.000965\n",
      "169) maxwHBa                        0.000961\n",
      "170) VC-4                           0.000947\n",
      "171) maxsF                          0.000943\n",
      "172) BCUTw-1h                       0.000938\n",
      "173) minssNH                        0.000935\n",
      "174) SssO                           0.000925\n",
      "175) nwHBa                          0.000904\n",
      "176) SHdsCH                         0.000881\n",
      "177) ETA_Epsilon_4                  0.000879\n",
      "178) ETA_Epsilon_1                  0.000876\n",
      "179) maxHCsatu                      0.000870\n",
      "180) VP-5                           0.000867\n",
      "181) ETA_dEpsilon_B                 0.000851\n",
      "182) ATSp3                          0.000830\n",
      "183) ETA_dEpsilon_A                 0.000829\n",
      "184) minHBint9                      0.000827\n",
      "185) DELS2                          0.000826\n",
      "186) ETA_BetaP                      0.000822\n",
      "187) minHother                      0.000814\n",
      "188) SHBint2                        0.000809\n",
      "189) nHBint6                        0.000806\n",
      "190) ETA_Beta                       0.000802\n",
      "191) ETA_Epsilon_3                  0.000799\n",
      "192) mindsCH                        0.000798\n",
      "193) SdO                            0.000795\n",
      "194) nAtomLC                        0.000794\n",
      "195) nAtomLAC                       0.000787\n",
      "196) ETA_dBetaP                     0.000787\n",
      "197) AMR                            0.000779\n",
      "198) minHssNH                       0.000773\n",
      "199) ETA_dAlpha_B                   0.000769\n",
      "200) maxdS                          0.000764\n",
      "201) nBondsD2                       0.000762\n",
      "202) SsCH3                          0.000761\n",
      "203) maxdO                          0.000759\n",
      "204) ETA_dEpsilon_C                 0.000753\n",
      "205) ETA_dBeta                      0.000753\n",
      "206) Kier1                          0.000749\n",
      "207) nF12Ring                       0.000747\n",
      "208) ATSm3                          0.000740\n",
      "209) ATSm4                          0.000695\n",
      "210) SaaN                           0.000682\n",
      "211) VP-1                           0.000679\n",
      "212) ETA_AlphaP                     0.000675\n",
      "213) BCUTw-1l                       0.000665\n",
      "214) CrippenMR                      0.000663\n",
      "215) minHBint2                      0.000662\n",
      "216) ETA_Eta_R                      0.000658\n",
      "217) ATSp4                          0.000653\n",
      "218) minHdsCH                       0.000642\n",
      "219) ETA_EtaP_F_L                   0.000640\n",
      "220) ETA_BetaP_ns                   0.000633\n",
      "221) HybRatio                       0.000623\n",
      "222) SP-3                           0.000622\n",
      "223) ETA_Eta                        0.000605\n",
      "224) SHBint3                        0.000598\n",
      "225) SdsCH                          0.000593\n",
      "226) nBondsS2                       0.000576\n",
      "227) mindS                          0.000575\n",
      "228) maxaaaC                        0.000573\n",
      "229) sumI                           0.000563\n",
      "230) WPATH                          0.000553\n",
      "231) nT9Ring                        0.000552\n",
      "232) nRotB                          0.000547\n",
      "233) ETA_Shape_X                    0.000541\n",
      "234) ETA_dPsi_A                     0.000541\n",
      "235) VABC                           0.000536\n",
      "236) ETA_Epsilon_2                  0.000536\n",
      "237) C1SP3                          0.000531\n",
      "238) SP-2                           0.000520\n",
      "239) maxsssN                        0.000516\n",
      "240) nBondsS3                       0.000506\n",
      "241) MDEC-11                        0.000505\n",
      "242) ETA_Eta_L                      0.000505\n",
      "243) SHBint9                        0.000500\n",
      "244) maxHBint4                      0.000497\n",
      "245) maxHBint9                      0.000493\n",
      "246) SP-0                           0.000485\n",
      "247) maxHdsCH                       0.000485\n",
      "248) SdS                            0.000482\n",
      "249) ATSm2                          0.000480\n",
      "250) nFRing                         0.000472\n",
      "251) ETA_Beta_ns                    0.000471\n",
      "252) maxaaN                         0.000462\n",
      "253) minsF                          0.000448\n",
      "254) SaaaC                          0.000448\n",
      "255) apol                           0.000446\n",
      "256) maxdsN                         0.000441\n",
      "257) minaaaC                        0.000440\n",
      "258) MDEN-23                        0.000436\n",
      "259) WTPT-1                         0.000435\n",
      "260) C2SP2                          0.000430\n",
      "261) C4SP3                          0.000425\n",
      "262) nH                             0.000418\n",
      "263) ETA_Beta_s                     0.000411\n",
      "264) nHBint5                        0.000409\n",
      "265) nHBint7                        0.000404\n",
      "266) WPOL                           0.000398\n",
      "267) nT11Ring                       0.000395\n",
      "268) ATSp1                          0.000381\n",
      "269) VP-0                           0.000380\n",
      "270) nssCH2                         0.000376\n",
      "271) nBondsS                        0.000370\n",
      "272) nHBint4                        0.000346\n",
      "273) MDEO-22                        0.000345\n",
      "274) minHBint3                      0.000342\n",
      "275) maxHBint3                      0.000341\n",
      "276) McGowan_Volume                 0.000341\n",
      "277) mindsN                         0.000337\n",
      "278) ATSp2                          0.000329\n",
      "279) ETA_Beta_ns_d                  0.000328\n",
      "280) MW                             0.000328\n",
      "281) MDEC-14                        0.000318\n",
      "282) nF9Ring                        0.000311\n",
      "283) minaaN                         0.000309\n",
      "284) nX                             0.000308\n",
      "285) SaaO                           0.000305\n",
      "286) n6Ring                         0.000292\n",
      "287) C2SP3                          0.000292\n",
      "288) nTRing                         0.000287\n",
      "289) naasC                          0.000286\n",
      "290) nHBAcc2                        0.000281\n",
      "291) ETA_Alpha                      0.000280\n",
      "292) maxdsCH                        0.000278\n",
      "293) minssssC                       0.000272\n",
      "294) nBondsD                        0.000256\n",
      "295) nHBint10                       0.000252\n",
      "296) naaaC                          0.000240\n",
      "297) nsssCH                         0.000238\n",
      "298) nHCsatu                        0.000237\n",
      "299) SaaS                           0.000228\n",
      "300) minaaO                         0.000223\n",
      "301) nHeavyAtom                     0.000220\n",
      "302) nHBint2                        0.000220\n",
      "303) nHCsats                        0.000217\n",
      "304) nHBint8                        0.000216\n",
      "305) nT6Ring                        0.000207\n",
      "306) nssO                           0.000204\n",
      "307) nBondsM                        0.000199\n",
      "308) Zagreb                         0.000197\n",
      "309) SHAvin                         0.000195\n",
      "310) SP-1                           0.000194\n",
      "311) nAtom                          0.000192\n",
      "312) maxHaaNH                       0.000192\n",
      "313) SsF                            0.000192\n",
      "314) nHother                        0.000187\n",
      "315) minssS                         0.000184\n",
      "316) ETA_Eta_R_L                    0.000176\n",
      "317) SC-6                           0.000169\n",
      "318) MDEN-22                        0.000166\n",
      "319) n5Ring                         0.000166\n",
      "320) nFG12Ring                      0.000165\n",
      "321) maxaaO                         0.000161\n",
      "322) nAromBond                      0.000159\n",
      "323) nF10Ring                       0.000155\n",
      "324) maxHBint2                      0.000154\n",
      "325) nHsOH                          0.000150\n",
      "326) nHBint3                        0.000142\n",
      "327) maxHssNH                       0.000140\n",
      "328) nBonds2                        0.000138\n",
      "329) C3SP3                          0.000137\n",
      "330) SC-4                           0.000136\n",
      "331) naAromAtom                     0.000130\n",
      "332) minaaNH                        0.000129\n",
      "333) nHBa                           0.000126\n",
      "334) minaasN                        0.000125\n",
      "335) nHaaCH                         0.000122\n",
      "336) SssssC                         0.000116\n",
      "337) MDEN-33                        0.000115\n",
      "338) maxHAvin                       0.000114\n",
      "339) naaCH                          0.000112\n",
      "340) nBase                          0.000112\n",
      "341) minaaS                         0.000109\n",
      "342) nO                             0.000109\n",
      "343) VAdjMat                        0.000103\n",
      "344) nHBint9                        0.000102\n",
      "345) maxHCHnX                       0.000099\n",
      "346) SHtCH                          0.000093\n",
      "347) SssNH                          0.000093\n",
      "348) nsCH3                          0.000090\n",
      "349) nBonds                         0.000089\n",
      "350) SaasN                          0.000087\n",
      "351) nssS                           0.000086\n",
      "352) nHBAcc3                        0.000083\n",
      "353) maxssNH                        0.000082\n",
      "354) nN                             0.000082\n",
      "355) nHBDon_Lipinski                0.000079\n",
      "356) minwHBd                        0.000077\n",
      "357) minHAvin                       0.000074\n",
      "358) SwHBd                          0.000072\n",
      "359) minHaaNH                       0.000069\n",
      "360) maxaaNH                        0.000066\n",
      "361) nTG12Ring                      0.000066\n",
      "362) SHssNH                         0.000064\n",
      "363) nHdsCH                         0.000063\n",
      "364) minsCl                         0.000063\n",
      "365) nT10Ring                       0.000063\n",
      "366) SsBr                           0.000062\n",
      "367) nHBd                           0.000062\n",
      "368) nsOH                           0.000061\n",
      "369) maxssssC                       0.000061\n",
      "370) maxsCl                         0.000059\n",
      "371) nAcid                          0.000056\n",
      "372) SssS                           0.000056\n",
      "373) ndsCH                          0.000055\n",
      "374) naaN                           0.000055\n",
      "375) SHdCH2                         0.000054\n",
      "376) SsCl                           0.000054\n",
      "377) nsF                            0.000052\n",
      "378) nsssN                          0.000048\n",
      "379) nHBDon                         0.000047\n",
      "380) naaNH                          0.000047\n",
      "381) ndO                            0.000045\n",
      "382) ETA_dAlpha_A                   0.000043\n",
      "383) minHtCH                        0.000043\n",
      "384) SaaNH                          0.000042\n",
      "385) LipinskiFailures               0.000039\n",
      "386) nT5Ring                        0.000039\n",
      "387) nRing                          0.000039\n",
      "388) maxaasN                        0.000038\n",
      "389) VCH-4                          0.000036\n",
      "390) StsC                           0.000035\n",
      "391) nHAvin                         0.000032\n",
      "392) minsBr                         0.000030\n",
      "393) maxsBr                         0.000030\n",
      "394) nHCHnX                         0.000029\n",
      "395) MDEC-44                        0.000029\n",
      "396) nF                             0.000025\n",
      "397) nsCl                           0.000024\n",
      "398) nS                             0.000024\n",
      "399) nHssNH                         0.000023\n",
      "400) nssssC                         0.000023\n",
      "401) ndS                            0.000020\n",
      "402) StN                            0.000018\n",
      "403) nCl                            0.000016\n",
      "404) maxHtCH                        0.000016\n",
      "405) ndsN                           0.000015\n",
      "406) nBondsT                        0.000015\n",
      "407) minddssS                       0.000014\n",
      "408) nT8Ring                        0.000014\n",
      "409) SHsNH2                         0.000013\n",
      "410) ntsC                           0.000013\n",
      "411) MDEN-13                        0.000012\n",
      "412) maxHdCH2                       0.000011\n",
      "413) n4Ring                         0.000011\n",
      "414) mintN                          0.000011\n",
      "415) nssNH                          0.000010\n",
      "416) minHdCH2                       0.000010\n",
      "417) maxtN                          0.000009\n",
      "418) SdCH2                          0.000009\n",
      "419) nHtCH                          0.000008\n",
      "420) nT7Ring                        0.000008\n",
      "421) naasN                          0.000008\n",
      "422) MDEN-12                        0.000006\n",
      "423) maxwHBd                        0.000006\n",
      "424) SddssS                         0.000006\n",
      "425) VCH-3                          0.000005\n",
      "426) mintsC                         0.000005\n",
      "427) nHaaNH                         0.000005\n",
      "428) nHdCH2                         0.000004\n",
      "429) naaO                           0.000004\n",
      "430) n7Ring                         0.000004\n",
      "431) nF11Ring                       0.000004\n",
      "432) mindNH                         0.000004\n",
      "433) maxtsC                         0.000004\n",
      "434) nHsNH2                         0.000004\n",
      "435) minHsNH2                       0.000003\n",
      "436) nF8Ring                        0.000003\n",
      "437) nHdNH                          0.000003\n",
      "438) SCH-4                          0.000003\n",
      "439) nBr                            0.000003\n",
      "440) maxdCH2                        0.000002\n",
      "441) SHCHnX                         0.000002\n",
      "442) StCH                           0.000002\n",
      "443) nsBr                           0.000002\n",
      "444) maxsNH2                        0.000002\n",
      "445) C1SP1                          0.000002\n",
      "446) mindCH2                        0.000002\n",
      "447) SHdNH                          0.000001\n",
      "448) minsNH2                        0.000001\n",
      "449) naaS                           0.000001\n",
      "450) ntCH                           0.000001\n",
      "451) nF6Ring                        0.000001\n",
      "452) SsNH2                          0.000001\n",
      "453) maxHsNH2                       0.000001\n",
      "454) maxtCH                         0.000001\n",
      "455) n8Ring                         0.000001\n",
      "456) nwHBd                          0.000001\n",
      "457) ntN                            0.000001\n",
      "458) minsOm                         0.000000\n",
      "459) nT4Ring                        0.000000\n",
      "460) SsOm                           0.000000\n",
      "461) mindssS                        0.000000\n",
      "462) minHCHnX                       0.000000\n",
      "463) nT12Ring                       0.000000\n",
      "464) nddssS                         0.000000\n",
      "465) nsNH2                          0.000000\n",
      "466) minHdNH                        0.000000\n",
      "467) SCH-3                          0.000000\n",
      "468) MDEN-11                        0.000000\n",
      "469) nF7Ring                        0.000000\n",
      "470) ndssS                          0.000000\n",
      "471) maxsOm                         0.000000\n",
      "472) C2SP1                          0.000000\n",
      "473) ndCH2                          0.000000\n",
      "474) SsI                            0.000000\n",
      "475) nI                             0.000000\n",
      "476) n3Ring                         0.000000\n",
      "477) maxdNH                         0.000000\n",
      "478) nsOm                           0.000000\n",
      "479) mintCH                         0.000000\n",
      "480) ndNH                           0.000000\n",
      "481) nG12Ring                       0.000000\n",
      "482) SdsssP                         0.000000\n",
      "483) SdNH                           0.000000\n",
      "484) nsI                            0.000000\n",
      "485) maxHdNH                        0.000000\n",
      "486) maxsSH                         0.000000\n",
      "487) SHsSH                          0.000000\n",
      "488) ndsssP                         0.000000\n",
      "489) nsSH                           0.000000\n",
      "490) nssssNp                        0.000000\n",
      "491) nHsSH                          0.000000\n",
      "492) SssssNp                        0.000000\n",
      "493) SsSH                           0.000000\n",
      "494) n12Ring                        0.000000\n",
      "495) nP                             0.000000\n",
      "496) ETA_dPsi_B                     0.000000\n",
      "497) SdssS                          0.000000\n",
      "498) minssssNp                      0.000000\n",
      "499) mindsssP                       0.000000\n",
      "500) minsSH                         0.000000\n",
      "501) minsI                          0.000000\n",
      "502) maxHsSH                        0.000000\n",
      "503) maxssssNp                      0.000000\n",
      "504) minHsSH                        0.000000\n"
     ]
    }
   ],
   "source": [
    "#变量重要性\n",
    "importances=model.feature_importances_\n",
    "indices = np.argsort(importances)[::-1]\n",
    "for i in range(dataFirst1.shape[1]-1):\n",
    "    print(\"%2d) %-*s %f\" % (i + 1, 30, feat_labels[indices[i]], importances[indices[i]]))"
   ]
  },
  {
   "cell_type": "markdown",
   "metadata": {},
   "source": [
    "spearman相关系数分析"
   ]
  },
  {
   "cell_type": "code",
   "execution_count": 130,
   "metadata": {
    "ExecuteTime": {
     "end_time": "2021-10-17T11:45:02.845740Z",
     "start_time": "2021-10-17T11:45:02.831905Z"
    }
   },
   "outputs": [],
   "source": [
    "dataFirst2=dataFirst1.iloc[:,indices[0:50]+1]"
   ]
  },
  {
   "cell_type": "code",
   "execution_count": 131,
   "metadata": {
    "ExecuteTime": {
     "end_time": "2021-10-17T11:45:04.678753Z",
     "start_time": "2021-10-17T11:45:04.215685Z"
    }
   },
   "outputs": [],
   "source": [
    "result1=dataFirst2.corr(\"spearman\")"
   ]
  },
  {
   "cell_type": "code",
   "execution_count": 135,
   "metadata": {
    "ExecuteTime": {
     "end_time": "2021-10-17T11:46:29.180687Z",
     "start_time": "2021-10-17T11:46:27.992051Z"
    }
   },
   "outputs": [
    {
     "data": {
      "text/plain": [
       "<matplotlib.axes._subplots.AxesSubplot at 0x2110f10dda0>"
      ]
     },
     "execution_count": 135,
     "metadata": {},
     "output_type": "execute_result"
    },
    {
     "data": {
      "image/png": "[encoded data removed]",
      "text/plain": [
       "<Figure size 2016x1440 with 2 Axes>"
      ]
     },
     "metadata": {
      "needs_background": "light"
     },
     "output_type": "display_data"
    }
   ],
   "source": [
    "plt.figure(figsize=(28,20))\n",
    "sns.heatmap(result1,cmap=\"YlGnBu\") #颜色越淡，相关系数越小"
   ]
  },
  {
   "cell_type": "code",
   "execution_count": 15,
   "metadata": {
    "ExecuteTime": {
     "end_time": "2021-10-16T12:27:26.787658Z",
     "start_time": "2021-10-16T12:27:26.771701Z"
    }
   },
   "outputs": [],
   "source": [
    "#删除自相关系数高的变量\n",
    "dataFirst3=dataFirst2.drop(['LipoaffinityIndex','nC','CrippenLogP','MLogP','hmin','minsssN','nHBAcc','BCUTc-1h',\n",
    "'minHsOH','MLFER_A','SHsOH','maxHBd','MDEO-12','minssO','WTPT-4','maxHBint5','Kier3','WTPT-5','VPC-6','BCUTp-1h',\n",
    "'VCH-7','MLFER_S','minssO','ATSc2','SPC-6'],axis=1)"
   ]
  },
  {
   "cell_type": "code",
   "execution_count": 16,
   "metadata": {
    "ExecuteTime": {
     "end_time": "2021-10-16T12:27:28.582678Z",
     "start_time": "2021-10-16T12:27:28.499697Z"
    }
   },
   "outputs": [],
   "source": [
    "#删除自相关系数高的变量\n",
    "dataFirst4=dataFirst3.drop(['ETA_BetaP_s','nHBAcc_Lipinski','SsOH','minHBint10','SdssC','MAXDP'],axis=1)\n",
    "result=dataFirst4.corr(\"spearman\")"
   ]
  },
  {
   "cell_type": "markdown",
   "metadata": {},
   "source": [
    "相关系数热力图"
   ]
  },
  {
   "cell_type": "code",
   "execution_count": 17,
   "metadata": {
    "ExecuteTime": {
     "end_time": "2021-10-16T12:27:31.385698Z",
     "start_time": "2021-10-16T12:27:31.058991Z"
    }
   },
   "outputs": [
    {
     "data": {
      "text/plain": [
       "<matplotlib.axes._subplots.AxesSubplot at 0x247f69c0978>"
      ]
     },
     "execution_count": 17,
     "metadata": {},
     "output_type": "execute_result"
    },
    {
     "data": {
      "image/png": "[encoded data removed]",
      "text/plain": [
       "<Figure size 432x288 with 2 Axes>"
      ]
     },
     "metadata": {
      "needs_background": "light"
     },
     "output_type": "display_data"
    }
   ],
   "source": [
    "sns.heatmap(result,cmap=\"YlGnBu\") #颜色越淡，相关系数越小"
   ]
  },
  {
   "cell_type": "markdown",
   "metadata": {},
   "source": [
    "### 第二问"
   ]
  },
  {
   "cell_type": "markdown",
   "metadata": {},
   "source": [
    "评测标准:MSE、MAPE"
   ]
  },
  {
   "cell_type": "code",
   "execution_count": 18,
   "metadata": {
    "ExecuteTime": {
     "end_time": "2021-10-16T12:27:43.682706Z",
     "start_time": "2021-10-16T12:27:43.674697Z"
    }
   },
   "outputs": [],
   "source": [
    "#取前17个变量\n",
    "data=dataFirst4.iloc[:,0:17]"
   ]
  },
  {
   "cell_type": "markdown",
   "metadata": {
    "ExecuteTime": {
     "end_time": "2021-10-15T12:05:43.056750Z",
     "start_time": "2021-10-15T12:05:43.023388Z"
    }
   },
   "source": [
    "CART回归树"
   ]
  },
  {
   "cell_type": "code",
   "execution_count": 19,
   "metadata": {
    "ExecuteTime": {
     "end_time": "2021-10-16T12:27:45.150169Z",
     "start_time": "2021-10-16T12:27:45.130707Z"
    }
   },
   "outputs": [],
   "source": [
    "from sklearn.model_selection import train_test_split\n",
    "X_train,X_test,Y_train,Y_test=train_test_split(data,Y,train_size=0.8,shuffle=True)#样本数据前80%做为训练集，后20%做为测试集\n",
    "from sklearn import metrics"
   ]
  },
  {
   "cell_type": "code",
   "execution_count": 20,
   "metadata": {
    "ExecuteTime": {
     "end_time": "2021-10-16T12:27:45.966695Z",
     "start_time": "2021-10-16T12:27:45.954690Z"
    }
   },
   "outputs": [],
   "source": [
    "from sklearn.tree import DecisionTreeRegressor"
   ]
  },
  {
   "cell_type": "code",
   "execution_count": 21,
   "metadata": {
    "ExecuteTime": {
     "end_time": "2021-10-16T12:27:46.633097Z",
     "start_time": "2021-10-16T12:27:46.594789Z"
    }
   },
   "outputs": [],
   "source": [
    "# 创建 CART 回归树\n",
    "dtr=DecisionTreeRegressor()\n",
    "\n",
    "# 拟合构造 CART 回归树\n",
    "dtr.fit(X_train,Y_train)\n",
    "\n",
    "# 预测测试集中的因变量值\n",
    "Y_pred=dtr.predict(X_test)"
   ]
  },
  {
   "cell_type": "code",
   "execution_count": 22,
   "metadata": {
    "ExecuteTime": {
     "end_time": "2021-10-16T12:27:50.168097Z",
     "start_time": "2021-10-16T12:27:49.954615Z"
    }
   },
   "outputs": [
    {
     "data": {
      "image/png": "[encoded data removed]",
      "text/plain": [
       "<Figure size 1080x360 with 1 Axes>"
      ]
     },
     "metadata": {
      "needs_background": "light"
     },
     "output_type": "display_data"
    }
   ],
   "source": [
    "plt.figure(figsize=(15,5))#预测曲线与真实曲线做对比\n",
    "plt.plot(range(len(Y_pred)),Y_pred,'b',label=\"predict\")\n",
    "plt.plot(range(len(Y_pred)),Y_test,'r',label=\"test\")\n",
    "plt.legend(loc=\"upper right\") #显示图中的标签\n",
    "plt.xlabel(\"the number of data\")\n",
    "plt.ylabel('value of numbers')\n",
    "plt.show()"
   ]
  },
  {
   "cell_type": "code",
   "execution_count": 23,
   "metadata": {
    "ExecuteTime": {
     "end_time": "2021-10-16T12:27:59.421246Z",
     "start_time": "2021-10-16T12:27:59.402283Z"
    }
   },
   "outputs": [
    {
     "name": "stdout",
     "output_type": "stream",
     "text": [
      "均方根误差RMSE:0.962\n",
      "平均绝对百分比误差MAPE:11.135%\n"
     ]
    }
   ],
   "source": [
    "#准确率\n",
    "print(\"均方根误差RMSE:{:.3f}\".format(np.sqrt(metrics.mean_squared_error(Y_test, Y_pred))))\n",
    "MAPE=np.mean(np.abs((Y_pred - Y_test) / Y_test)) * 100\n",
    "print(\"平均绝对百分比误差MAPE:{:.3f}%\".format(MAPE))"
   ]
  },
  {
   "cell_type": "markdown",
   "metadata": {},
   "source": [
    "Xgboost回归"
   ]
  },
  {
   "cell_type": "code",
   "execution_count": 24,
   "metadata": {
    "ExecuteTime": {
     "end_time": "2021-10-16T12:28:11.499604Z",
     "start_time": "2021-10-16T12:28:11.418557Z"
    }
   },
   "outputs": [],
   "source": [
    "import xgboost as xgb"
   ]
  },
  {
   "cell_type": "code",
   "execution_count": 28,
   "metadata": {
    "ExecuteTime": {
     "end_time": "2021-10-16T12:29:00.054318Z",
     "start_time": "2021-10-16T12:28:59.755118Z"
    }
   },
   "outputs": [],
   "source": [
    "# 创建xgboost\n",
    "model=xgb.XGBRegressor(n_estimators=100,random_state=123)\n",
    "\n",
    "# 拟合构造xgboost\n",
    "model.fit(X_train,Y_train)\n",
    "\n",
    "# 预测测试集中的因变量值\n",
    "Y_pred=model.predict(X_test)"
   ]
  },
  {
   "cell_type": "code",
   "execution_count": 29,
   "metadata": {
    "ExecuteTime": {
     "end_time": "2021-10-16T12:29:01.105555Z",
     "start_time": "2021-10-16T12:29:00.859212Z"
    }
   },
   "outputs": [
    {
     "data": {
      "image/png": "[encoded data removed]",
      "text/plain": [
       "<Figure size 1080x360 with 1 Axes>"
      ]
     },
     "metadata": {
      "needs_background": "light"
     },
     "output_type": "display_data"
    }
   ],
   "source": [
    "plt.figure(figsize=(15,5))#预测曲线与真实曲线做对比\n",
    "plt.plot(range(len(Y_pred)),Y_pred,'b',label=\"predict\")\n",
    "plt.plot(range(len(Y_pred)),Y_test,'r',label=\"test\")\n",
    "plt.legend(loc=\"upper right\") #显示图中的标签\n",
    "plt.xlabel(\"the number of data\")\n",
    "plt.ylabel('value of numbers')\n",
    "plt.show()"
   ]
  },
  {
   "cell_type": "code",
   "execution_count": 30,
   "metadata": {
    "ExecuteTime": {
     "end_time": "2021-10-16T12:29:04.181278Z",
     "start_time": "2021-10-16T12:29:04.163312Z"
    }
   },
   "outputs": [
    {
     "name": "stdout",
     "output_type": "stream",
     "text": [
      "均方根误差RMSE:0.751\n",
      "平均绝对百分比误差MAPE:9.050%\n"
     ]
    }
   ],
   "source": [
    "#准确率\n",
    "print(\"均方根误差RMSE:{:.3f}\".format(np.sqrt(metrics.mean_squared_error(Y_test, Y_pred))))\n",
    "MAPE=np.mean(np.abs((Y_pred - Y_test) / Y_test)) * 100\n",
    "print(\"平均绝对百分比误差MAPE:{:.3f}%\".format(MAPE))"
   ]
  },
  {
   "cell_type": "markdown",
   "metadata": {},
   "source": [
    "LightGBM回归"
   ]
  },
  {
   "cell_type": "code",
   "execution_count": 31,
   "metadata": {
    "ExecuteTime": {
     "end_time": "2021-10-16T12:29:08.402473Z",
     "start_time": "2021-10-16T12:29:07.985640Z"
    }
   },
   "outputs": [],
   "source": [
    "import lightgbm as lgb"
   ]
  },
  {
   "cell_type": "code",
   "execution_count": 32,
   "metadata": {
    "ExecuteTime": {
     "end_time": "2021-10-16T12:29:15.228771Z",
     "start_time": "2021-10-16T12:29:15.074656Z"
    }
   },
   "outputs": [],
   "source": [
    "# 创建lightgbm\n",
    "model=lgb.LGBMRegressor(n_estimators=100,random_state=123)\n",
    "\n",
    "# 拟合构造lightbgm\n",
    "model.fit(X_train,Y_train)\n",
    "\n",
    "# 预测测试集中的因变量值\n",
    "Y_pred=model.predict(X_test)"
   ]
  },
  {
   "cell_type": "code",
   "execution_count": 33,
   "metadata": {
    "ExecuteTime": {
     "end_time": "2021-10-16T12:29:16.325742Z",
     "start_time": "2021-10-16T12:29:16.107651Z"
    }
   },
   "outputs": [
    {
     "data": {
      "image/png": "[encoded data removed]",
      "text/plain": [
       "<Figure size 1080x360 with 1 Axes>"
      ]
     },
     "metadata": {
      "needs_background": "light"
     },
     "output_type": "display_data"
    }
   ],
   "source": [
    "plt.figure(figsize=(15,5))#预测曲线与真实曲线做对比\n",
    "plt.plot(range(len(Y_pred)),Y_pred,'b',label=\"predict\")\n",
    "plt.plot(range(len(Y_pred)),Y_test,'r',label=\"test\")\n",
    "plt.legend(loc=\"upper right\") #显示图中的标签\n",
    "plt.xlabel(\"the number of data\")\n",
    "plt.ylabel('value of numbers')\n",
    "plt.show()"
   ]
  },
  {
   "cell_type": "code",
   "execution_count": 34,
   "metadata": {
    "ExecuteTime": {
     "end_time": "2021-10-16T12:29:19.226467Z",
     "start_time": "2021-10-16T12:29:19.219460Z"
    }
   },
   "outputs": [
    {
     "name": "stdout",
     "output_type": "stream",
     "text": [
      "均方根误差RMSE:0.713\n",
      "平均绝对百分比误差MAPE:8.730%\n"
     ]
    }
   ],
   "source": [
    "#准确率\n",
    "print(\"均方根误差RMSE:{:.3f}\".format(np.sqrt(metrics.mean_squared_error(Y_test, Y_pred))))\n",
    "MAPE=np.mean(np.abs((Y_pred - Y_test) / Y_test)) * 100\n",
    "print(\"平均绝对百分比误差MAPE:{:.3f}%\".format(MAPE))"
   ]
  },
  {
   "cell_type": "markdown",
   "metadata": {},
   "source": [
    "多元线性回归"
   ]
  },
  {
   "cell_type": "code",
   "execution_count": 35,
   "metadata": {
    "ExecuteTime": {
     "end_time": "2021-10-16T12:30:47.841092Z",
     "start_time": "2021-10-16T12:30:47.834497Z"
    }
   },
   "outputs": [],
   "source": [
    "from sklearn.linear_model import LinearRegression"
   ]
  },
  {
   "cell_type": "code",
   "execution_count": 36,
   "metadata": {
    "ExecuteTime": {
     "end_time": "2021-10-16T12:30:48.525024Z",
     "start_time": "2021-10-16T12:30:48.514526Z"
    }
   },
   "outputs": [],
   "source": [
    "# 创建LR\n",
    "model=LinearRegression() \n",
    "\n",
    "# 拟合构造LR\n",
    "model.fit(X_train,Y_train)\n",
    "\n",
    "# 预测测试集中的因变量值\n",
    "Y_pred=model.predict(X_test)"
   ]
  },
  {
   "cell_type": "code",
   "execution_count": 37,
   "metadata": {
    "ExecuteTime": {
     "end_time": "2021-10-16T12:30:49.684351Z",
     "start_time": "2021-10-16T12:30:49.468794Z"
    }
   },
   "outputs": [
    {
     "data": {
      "image/png": "[encoded data removed]",
      "text/plain": [
       "<Figure size 1080x360 with 1 Axes>"
      ]
     },
     "metadata": {
      "needs_background": "light"
     },
     "output_type": "display_data"
    }
   ],
   "source": [
    "plt.figure(figsize=(15,5))#预测曲线与真实曲线做对比\n",
    "plt.plot(range(len(Y_pred)),Y_pred,'b',label=\"predict\")\n",
    "plt.plot(range(len(Y_pred)),Y_test,'r',label=\"test\")\n",
    "plt.legend(loc=\"upper right\") #显示图中的标签\n",
    "plt.xlabel(\"the number of data\")\n",
    "plt.ylabel('value of numbers')\n",
    "plt.show()"
   ]
  },
  {
   "cell_type": "code",
   "execution_count": 38,
   "metadata": {
    "ExecuteTime": {
     "end_time": "2021-10-16T12:30:52.171940Z",
     "start_time": "2021-10-16T12:30:52.164004Z"
    }
   },
   "outputs": [
    {
     "name": "stdout",
     "output_type": "stream",
     "text": [
      "均方根误差RMSE:1.015\n",
      "平均绝对百分比误差MAPE:13.166%\n"
     ]
    }
   ],
   "source": [
    "#准确率\n",
    "print(\"均方根误差RMSE:{:.3f}\".format(np.sqrt(metrics.mean_squared_error(Y_test, Y_pred))))\n",
    "MAPE=np.mean(np.abs((Y_pred - Y_test) / Y_test)) * 100\n",
    "print(\"平均绝对百分比误差MAPE:{:.3f}%\".format(MAPE))"
   ]
  },
  {
   "cell_type": "markdown",
   "metadata": {},
   "source": [
    "#### 预测test中的值(选LightGBM)"
   ]
  },
  {
   "cell_type": "code",
   "execution_count": 40,
   "metadata": {
    "ExecuteTime": {
     "end_time": "2021-10-16T12:35:58.908850Z",
     "start_time": "2021-10-16T12:35:58.738324Z"
    }
   },
   "outputs": [],
   "source": [
    "import lightgbm as lgb\n",
    "\n",
    "# 创建lightgbm\n",
    "model=lgb.LGBMRegressor(n_estimators=100,random_state=123)\n",
    "\n",
    "# 拟合构造lightbgm\n",
    "model.fit(X_train,Y_train)\n",
    "\n",
    "# 预测测试集中的因变量值\n",
    "Y_pred=model.predict(X_test)"
   ]
  },
  {
   "cell_type": "code",
   "execution_count": 41,
   "metadata": {
    "ExecuteTime": {
     "end_time": "2021-10-16T12:36:01.329466Z",
     "start_time": "2021-10-16T12:36:01.314505Z"
    }
   },
   "outputs": [
    {
     "data": {
      "text/plain": [
       "(395, 17)"
      ]
     },
     "execution_count": 41,
     "metadata": {},
     "output_type": "execute_result"
    }
   ],
   "source": [
    "X_test.shape"
   ]
  },
  {
   "cell_type": "code",
   "execution_count": 42,
   "metadata": {
    "ExecuteTime": {
     "end_time": "2021-10-16T12:36:17.626442Z",
     "start_time": "2021-10-16T12:36:04.987361Z"
    }
   },
   "outputs": [],
   "source": [
    "data1=pd.read_excel(\"Molecular_Descriptor.xlsx\",sheet_name=1)"
   ]
  },
  {
   "cell_type": "code",
   "execution_count": 43,
   "metadata": {
    "ExecuteTime": {
     "end_time": "2021-10-16T12:36:18.867269Z",
     "start_time": "2021-10-16T12:36:18.858781Z"
    }
   },
   "outputs": [],
   "source": [
    "#20个筛选变量的列名\n",
    "names=['MDEC-23','C1SP2','maxHsOH','maxssO','BCUTc-1l','minsOH','minHBint5','VC-5',\n",
    "'ATSc3','TopoPSA','SHBint10','ndssC','XLogP','MDEC-33','ETA_Shape_Y','SHBint6','mindssC',\n",
    "'VCH-5','minHBa','ATSc5']                                             "
   ]
  },
  {
   "cell_type": "code",
   "execution_count": 44,
   "metadata": {
    "ExecuteTime": {
     "end_time": "2021-10-16T12:36:21.852995Z",
     "start_time": "2021-10-16T12:36:21.843001Z"
    }
   },
   "outputs": [],
   "source": [
    "data1=data1.loc[:,names]"
   ]
  },
  {
   "cell_type": "code",
   "execution_count": 45,
   "metadata": {
    "ExecuteTime": {
     "end_time": "2021-10-16T12:36:24.235023Z",
     "start_time": "2021-10-16T12:36:24.219427Z"
    }
   },
   "outputs": [],
   "source": [
    "data2=data1.iloc[:,0:17] #取前17个变量"
   ]
  },
  {
   "cell_type": "code",
   "execution_count": 46,
   "metadata": {
    "ExecuteTime": {
     "end_time": "2021-10-16T12:36:25.401118Z",
     "start_time": "2021-10-16T12:36:25.395136Z"
    }
   },
   "outputs": [],
   "source": [
    "x_test=data2 #预测集中的自变量"
   ]
  },
  {
   "cell_type": "code",
   "execution_count": 48,
   "metadata": {
    "ExecuteTime": {
     "end_time": "2021-10-16T12:37:53.565438Z",
     "start_time": "2021-10-16T12:37:53.553979Z"
    }
   },
   "outputs": [],
   "source": [
    "# 预测 预测集中的因变量值\n",
    "y_pred=model.predict(x_test)"
   ]
  },
  {
   "cell_type": "markdown",
   "metadata": {},
   "source": [
    "### 第三问"
   ]
  },
  {
   "cell_type": "markdown",
   "metadata": {},
   "source": [
    "#### 第一个"
   ]
  },
  {
   "cell_type": "markdown",
   "metadata": {},
   "source": [
    "重要性指标筛选"
   ]
  },
  {
   "cell_type": "code",
   "execution_count": 154,
   "metadata": {
    "ExecuteTime": {
     "end_time": "2021-10-16T13:50:29.632016Z",
     "start_time": "2021-10-16T13:50:29.618035Z"
    }
   },
   "outputs": [],
   "source": [
    "from sklearn.ensemble import RandomForestClassifier"
   ]
  },
  {
   "cell_type": "code",
   "execution_count": 5,
   "metadata": {
    "ExecuteTime": {
     "end_time": "2021-10-17T03:26:14.906637Z",
     "start_time": "2021-10-17T03:26:14.706810Z"
    }
   },
   "outputs": [],
   "source": [
    "dataThird1=pd.read_excel(\"ADMET.xlsx\")"
   ]
  },
  {
   "cell_type": "code",
   "execution_count": 155,
   "metadata": {
    "ExecuteTime": {
     "end_time": "2021-10-16T13:50:33.768348Z",
     "start_time": "2021-10-16T13:50:33.759791Z"
    }
   },
   "outputs": [],
   "source": [
    "Y1=dataThird1['Caco-2']"
   ]
  },
  {
   "cell_type": "code",
   "execution_count": 156,
   "metadata": {
    "ExecuteTime": {
     "end_time": "2021-10-16T13:50:36.219949Z",
     "start_time": "2021-10-16T13:50:35.265475Z"
    }
   },
   "outputs": [
    {
     "data": {
      "text/plain": [
       "RandomForestClassifier(bootstrap=True, class_weight=None, criterion='gini',\n",
       "                       max_depth=None, max_features='auto', max_leaf_nodes=None,\n",
       "                       min_impurity_decrease=0.0, min_impurity_split=None,\n",
       "                       min_samples_leaf=1, min_samples_split=2,\n",
       "                       min_weight_fraction_leaf=0.0, n_estimators=100,\n",
       "                       n_jobs=None, oob_score=False, random_state=123,\n",
       "                       verbose=0, warm_start=False)"
      ]
     },
     "execution_count": 156,
     "metadata": {},
     "output_type": "execute_result"
    }
   ],
   "source": [
    "#建立随机森林分类模型\n",
    "feat_labels=dataFirst1.columns[1:]\n",
    "model=RandomForestClassifier(n_estimators=100,random_state=123)\n",
    "model.fit(dataFirst1.iloc[:,1:],Y1)"
   ]
  },
  {
   "cell_type": "code",
   "execution_count": 157,
   "metadata": {
    "ExecuteTime": {
     "end_time": "2021-10-16T13:50:37.046360Z",
     "start_time": "2021-10-16T13:50:36.985465Z"
    }
   },
   "outputs": [
    {
     "name": "stdout",
     "output_type": "stream",
     "text": [
      " 1) nHeavyAtom                     0.031411\n",
      " 2) ECCEN                          0.025821\n",
      " 3) ETA_Eta_R_L                    0.025167\n",
      " 4) Kier1                          0.021926\n",
      " 5) WPATH                          0.021846\n",
      " 6) ETA_Alpha                      0.020246\n",
      " 7) SP-2                           0.019899\n",
      " 8) VABC                           0.019500\n",
      " 9) WTPT-1                         0.018472\n",
      "10) ATSm2                          0.016282\n",
      "11) MW                             0.015266\n",
      "12) ATSm3                          0.014972\n",
      "13) VAdjMat                        0.014565\n",
      "14) ATSm1                          0.014467\n",
      "15) SP-1                           0.014095\n",
      "16) Kier2                          0.013892\n",
      "17) MDEC-23                        0.013264\n",
      "18) ETA_Beta                       0.012520\n",
      "19) ETA_Beta_s                     0.011803\n",
      "20) CrippenMR                      0.011757\n",
      "21) SaaO                           0.009244\n",
      "22) SP-0                           0.009155\n",
      "23) maxaaO                         0.008937\n",
      "24) MLFER_L                        0.008778\n",
      "25) McGowan_Volume                 0.008752\n",
      "26) ATSp1                          0.008283\n",
      "27) SP-5                           0.008100\n",
      "28) naaO                           0.008012\n",
      "29) ETA_Eta_F_L                    0.007880\n",
      "30) Zagreb                         0.007765\n",
      "31) nBonds2                        0.007494\n",
      "32) ETA_Eta_F                      0.007480\n",
      "33) MLFER_S                        0.007146\n",
      "34) minaaO                         0.006909\n",
      "35) Kier3                          0.006668\n",
      "36) SP-3                           0.005847\n",
      "37) nBonds                         0.005570\n",
      "38) VP-1                           0.005537\n",
      "39) MLFER_BH                       0.005529\n",
      "40) AMR                            0.005237\n",
      "41) VP-2                           0.005171\n",
      "42) naAromAtom                     0.005075\n",
      "43) SP-4                           0.005012\n",
      "44) ATSp2                          0.004961\n",
      "45) MLFER_E                        0.004958\n",
      "46) TopoPSA                        0.004893\n",
      "47) nBondsM                        0.004882\n",
      "48) MLFER_BO                       0.004682\n",
      "49) MDEC-13                        0.004679\n",
      "50) ETA_Shape_P                    0.004298\n",
      "51) nAtom                          0.004227\n",
      "52) WTPT-4                         0.004189\n",
      "53) SCH-5                          0.004176\n",
      "54) ETA_BetaP                      0.004011\n",
      "55) nC                             0.003978\n",
      "56) WPOL                           0.003965\n",
      "57) ATSm5                          0.003954\n",
      "58) MDEC-22                        0.003918\n",
      "59) ETA_EtaP_F_L                   0.003829\n",
      "60) SHBd                           0.003746\n",
      "61) nBondsD                        0.003618\n",
      "62) SCH-6                          0.003530\n",
      "63) C2SP2                          0.003484\n",
      "64) WTPT-3                         0.003374\n",
      "65) BCUTc-1h                       0.003362\n",
      "66) minwHBa                        0.003283\n",
      "67) MAXDP                          0.003261\n",
      "68) MDEO-12                        0.003214\n",
      "69) SsCH3                          0.003180\n",
      "70) ATSp3                          0.003157\n",
      "71) ATSc1                          0.003095\n",
      "72) minHBint5                      0.003090\n",
      "73) FMF                            0.003051\n",
      "74) maxHBint10                     0.003042\n",
      "75) nT6Ring                        0.002974\n",
      "76) minaasC                        0.002939\n",
      "77) minsCH3                        0.002937\n",
      "78) VCH-6                          0.002920\n",
      "79) minHBa                         0.002918\n",
      "80) MDEC-12                        0.002849\n",
      "81) ETA_Epsilon_1                  0.002791\n",
      "82) ETA_EtaP_B                     0.002773\n",
      "83) ETA_BetaP_s                    0.002765\n",
      "84) nBondsS2                       0.002761\n",
      "85) minHBd                         0.002742\n",
      "86) MAXDP2                         0.002694\n",
      "87) SHBint10                       0.002655\n",
      "88) minssO                         0.002639\n",
      "89) BCUTc-1l                       0.002623\n",
      "90) hmin                           0.002597\n",
      "91) WTPT-5                         0.002589\n",
      "92) ATSp4                          0.002510\n",
      "93) maxHaaCH                       0.002509\n",
      "94) fragC                          0.002488\n",
      "95) VC-5                           0.002487\n",
      "96) ETA_Beta_ns                    0.002476\n",
      "97) maxHBd                         0.002462\n",
      "98) BCUTp-1l                       0.002453\n",
      "99) ATSc2                          0.002422\n",
      "100) ETA_BetaP_ns_d                 0.002405\n",
      "101) MAXDN2                         0.002355\n",
      "102) WTPT-2                         0.002344\n",
      "103) BCUTp-1h                       0.002338\n",
      "104) maxsCH3                        0.002328\n",
      "105) VCH-5                          0.002298\n",
      "106) minaaN                         0.002269\n",
      "107) maxaaN                         0.002252\n",
      "108) ETA_dEpsilon_B                 0.002234\n",
      "109) VPC-6                          0.002231\n",
      "110) gmax                           0.002231\n",
      "111) SHother                        0.002202\n",
      "112) nHBAcc                         0.002193\n",
      "113) ETA_Eta_L                      0.002123\n",
      "114) ETA_Eta_R                      0.002088\n",
      "115) gmin                           0.002073\n",
      "116) SP-7                           0.002072\n",
      "117) MAXDN                          0.002052\n",
      "118) ETA_dBeta                      0.002037\n",
      "119) ALogP                          0.002021\n",
      "120) ETA_Shape_Y                    0.001965\n",
      "121) ALogp2                         0.001925\n",
      "122) DELS2                          0.001911\n",
      "123) ETA_Epsilon_4                  0.001874\n",
      "124) SaasC                          0.001872\n",
      "125) VP-3                           0.001861\n",
      "126) minHBint10                     0.001847\n",
      "127) mindssC                        0.001826\n",
      "128) ETA_Eta_B                      0.001814\n",
      "129) SssO                           0.001808\n",
      "130) minaaCH                        0.001798\n",
      "131) nHBAcc2                        0.001796\n",
      "132) SHaaCH                         0.001794\n",
      "133) MDEC-11                        0.001791\n",
      "134) SPC-4                          0.001775\n",
      "135) MLogP                          0.001771\n",
      "136) maxssO                         0.001740\n",
      "137) maxHother                      0.001732\n",
      "138) VCH-7                          0.001725\n",
      "139) ETA_dEpsilon_D                 0.001724\n",
      "140) maxwHBa                        0.001718\n",
      "141) SCH-7                          0.001717\n",
      "142) maxsOH                         0.001716\n",
      "143) ETA_EtaP                       0.001711\n",
      "144) nHBint10                       0.001708\n",
      "145) nBondsS                        0.001694\n",
      "146) SaaCH                          0.001683\n",
      "147) CrippenLogP                    0.001675\n",
      "148) sumI                           0.001667\n",
      "149) SP-6                           0.001655\n",
      "150) ATSp5                          0.001655\n",
      "151) maxHCsatu                      0.001651\n",
      "152) ETA_EtaP_L                     0.001626\n",
      "153) VP-5                           0.001623\n",
      "154) SwHBa                          0.001604\n",
      "155) VPC-4                          0.001593\n",
      "156) maxHBa                         0.001590\n",
      "157) minHBint7                      0.001564\n",
      "158) apol                           0.001559\n",
      "159) ETA_dEpsilon_C                 0.001553\n",
      "160) ATSc4                          0.001549\n",
      "161) naaN                           0.001548\n",
      "162) ATSm4                          0.001540\n",
      "163) minssNH                        0.001539\n",
      "164) maxHBint2                      0.001538\n",
      "165) hmax                           0.001535\n",
      "166) VP-6                           0.001535\n",
      "167) minsOH                         0.001533\n",
      "168) SPC-5                          0.001514\n",
      "169) ETA_Epsilon_3                  0.001506\n",
      "170) ETA_dPsi_A                     0.001505\n",
      "171) nBondsS3                       0.001496\n",
      "172) VC-3                           0.001493\n",
      "173) DELS                           0.001480\n",
      "174) minHsOH                        0.001475\n",
      "175) SHBa                           0.001472\n",
      "176) ETA_dEpsilon_A                 0.001456\n",
      "177) nT5Ring                        0.001452\n",
      "178) ATSc5                          0.001437\n",
      "179) SC-5                           0.001429\n",
      "180) ETA_dBetaP                     0.001427\n",
      "181) ETA_EtaP_B_RC                  0.001419\n",
      "182) bpol                           0.001400\n",
      "183) LipoaffinityIndex              0.001388\n",
      "184) maxHBint5                      0.001388\n",
      "185) SsOH                           0.001382\n",
      "186) SC-3                           0.001379\n",
      "187) nHBDon                         0.001368\n",
      "188) SPC-6                          0.001338\n",
      "189) minHother                      0.001327\n",
      "190) ETA_EtaP_F                     0.001326\n",
      "191) ETA_Epsilon_5                  0.001324\n",
      "192) ETA_Eta                        0.001317\n",
      "193) SsssN                          0.001316\n",
      "194) maxHsOH                        0.001290\n",
      "195) mindO                          0.001269\n",
      "196) ETA_AlphaP                     0.001263\n",
      "197) minHBint6                      0.001260\n",
      "198) maxssNH                        0.001258\n",
      "199) VP-0                           0.001246\n",
      "200) nAromBond                      0.001246\n",
      "201) ETA_Psi_1                      0.001235\n",
      "202) minHaaCH                       0.001222\n",
      "203) SaaN                           0.001214\n",
      "204) ATSc3                          0.001214\n",
      "205) VP-7                           0.001198\n",
      "206) minHCsatu                      0.001193\n",
      "207) nHBDon_Lipinski                0.001193\n",
      "208) HybRatio                       0.001184\n",
      "209) nwHBa                          0.001173\n",
      "210) MDEO-11                        0.001155\n",
      "211) ETA_dAlpha_B                   0.001149\n",
      "212) minHCsats                      0.001147\n",
      "213) nHother                        0.001140\n",
      "214) nH                             0.001136\n",
      "215) minssCH2                       0.001130\n",
      "216) ETA_BetaP_ns                   0.001119\n",
      "217) SdssC                          0.001115\n",
      "218) MDEC-33                        0.001107\n",
      "219) ETA_Beta_ns_d                  0.001107\n",
      "220) maxssCH2                       0.001104\n",
      "221) maxdO                          0.001088\n",
      "222) nHBAcc_Lipinski                0.001088\n",
      "223) maxaaCH                        0.001086\n",
      "224) nHBd                           0.001085\n",
      "225) VPC-5                          0.001081\n",
      "226) maxHBint7                      0.001064\n",
      "227) VP-4                           0.001054\n",
      "228) minHBint4                      0.001053\n",
      "229) n5Ring                         0.001051\n",
      "230) MLFER_A                        0.001050\n",
      "231) ETA_Epsilon_2                  0.001038\n",
      "232) SHsOH                          0.001030\n",
      "233) SHBint5                        0.001002\n",
      "234) nF10Ring                       0.000997\n",
      "235) maxaasC                        0.000976\n",
      "236) minsBr                         0.000962\n",
      "237) minsssN                        0.000962\n",
      "238) XLogP                          0.000962\n",
      "239) maxdssC                        0.000949\n",
      "240) naaaC                          0.000945\n",
      "241) nRotB                          0.000936\n",
      "242) BCUTw-1h                       0.000934\n",
      "243) nAtomP                         0.000933\n",
      "244) MDEO-22                        0.000919\n",
      "245) SdO                            0.000906\n",
      "246) SssCH2                         0.000902\n",
      "247) maxHBint4                      0.000899\n",
      "248) nssO                           0.000887\n",
      "249) SsssCH                         0.000868\n",
      "250) SHBint2                        0.000855\n",
      "251) SHBint7                        0.000851\n",
      "252) PetitjeanNumber                0.000848\n",
      "253) C2SP3                          0.000846\n",
      "254) nHaaCH                         0.000842\n",
      "255) SHBint4                        0.000831\n",
      "256) naasC                          0.000824\n",
      "257) nHBint7                        0.000821\n",
      "258) SHCsatu                        0.000820\n",
      "259) nAtomLC                        0.000819\n",
      "260) ETA_Eta_B_RC                   0.000811\n",
      "261) maxHBint6                      0.000808\n",
      "262) SaaaC                          0.000799\n",
      "263) SdsN                           0.000788\n",
      "264) C4SP3                          0.000781\n",
      "265) maxHAvin                       0.000772\n",
      "266) nO                             0.000761\n",
      "267) SssNH                          0.000759\n",
      "268) nHBa                           0.000749\n",
      "269) BCUTw-1l                       0.000744\n",
      "270) nAtomLAC                       0.000740\n",
      "271) minHBint2                      0.000729\n",
      "272) mindsN                         0.000718\n",
      "273) maxdsN                         0.000713\n",
      "274) maxHCsats                      0.000712\n",
      "275) nHBint9                        0.000682\n",
      "276) minHssNH                       0.000681\n",
      "277) SHBint6                        0.000666\n",
      "278) maxsssN                        0.000656\n",
      "279) SssssC                         0.000649\n",
      "280) minaaaC                        0.000649\n",
      "281) minsssCH                       0.000648\n",
      "282) naaCH                          0.000648\n",
      "283) nF11Ring                       0.000646\n",
      "284) maxaaaC                        0.000645\n",
      "285) nsOH                           0.000625\n",
      "286) maxHaaNH                       0.000622\n",
      "287) SaasN                          0.000618\n",
      "288) C1SP2                          0.000617\n",
      "289) MDEN-23                        0.000614\n",
      "290) maxHssNH                       0.000608\n",
      "291) SsBr                           0.000598\n",
      "292) SHCsats                        0.000591\n",
      "293) nN                             0.000590\n",
      "294) ndO                            0.000584\n",
      "295) nF9Ring                        0.000578\n",
      "296) nsCH3                          0.000570\n",
      "297) SHBint8                        0.000556\n",
      "298) nHsOH                          0.000553\n",
      "299) C3SP2                          0.000545\n",
      "300) nHssNH                         0.000529\n",
      "301) nT4Ring                        0.000520\n",
      "302) nHBAcc3                        0.000516\n",
      "303) MDEN-22                        0.000514\n",
      "304) ETA_dAlpha_A                   0.000510\n",
      "305) SsCl                           0.000510\n",
      "306) minHaaNH                       0.000505\n",
      "307) nHCsats                        0.000492\n",
      "308) nT9Ring                        0.000481\n",
      "309) maxHBint9                      0.000481\n",
      "310) maxHBint8                      0.000465\n",
      "311) mintsC                         0.000462\n",
      "312) SaaNH                          0.000458\n",
      "313) nBondsD2                       0.000452\n",
      "314) SHssNH                         0.000444\n",
      "315) nS                             0.000441\n",
      "316) minsF                          0.000438\n",
      "317) minHBint8                      0.000437\n",
      "318) nT11Ring                       0.000421\n",
      "319) minssS                         0.000418\n",
      "320) SHdsCH                         0.000416\n",
      "321) nHBint2                        0.000414\n",
      "322) SHBint3                        0.000409\n",
      "323) SdsCH                          0.000407\n",
      "324) maxsCl                         0.000407\n",
      "325) n6Ring                         0.000403\n",
      "326) minHBint9                      0.000402\n",
      "327) minHBint3                      0.000401\n",
      "328) minssssC                       0.000399\n",
      "329) SssS                           0.000387\n",
      "330) SHBint9                        0.000384\n",
      "331) nssCH2                         0.000384\n",
      "332) MDEC-24                        0.000383\n",
      "333) nHBint4                        0.000380\n",
      "334) nTRing                         0.000380\n",
      "335) maxsBr                         0.000380\n",
      "336) SHAvin                         0.000378\n",
      "337) mindsCH                        0.000374\n",
      "338) maxaasN                        0.000374\n",
      "339) maxaaNH                        0.000365\n",
      "340) n7Ring                         0.000364\n",
      "341) maxsF                          0.000363\n",
      "342) minHdsCH                       0.000363\n",
      "343) nFRing                         0.000362\n",
      "344) nHBint8                        0.000359\n",
      "345) maxdsCH                        0.000358\n",
      "346) SaaS                           0.000347\n",
      "347) ntN                            0.000334\n",
      "348) SsF                            0.000328\n",
      "349) minaasN                        0.000326\n",
      "350) nHCsatu                        0.000323\n",
      "351) maxsssCH                       0.000321\n",
      "352) SC-4                           0.000309\n",
      "353) VC-6                           0.000305\n",
      "354) nT10Ring                       0.000301\n",
      "355) ETA_Shape_X                    0.000298\n",
      "356) MDEC-14                        0.000292\n",
      "357) maxHdsCH                       0.000287\n",
      "358) VCH-4                          0.000283\n",
      "359) maxHBint3                      0.000283\n",
      "360) nsssN                          0.000278\n",
      "361) nssS                           0.000275\n",
      "362) nRing                          0.000273\n",
      "363) nAcid                          0.000271\n",
      "364) minaaNH                        0.000271\n",
      "365) C1SP3                          0.000253\n",
      "366) mintN                          0.000249\n",
      "367) minsCl                         0.000248\n",
      "368) minaaS                         0.000247\n",
      "369) nTG12Ring                      0.000236\n",
      "370) StsC                           0.000232\n",
      "371) nHBint6                        0.000231\n",
      "372) naaS                           0.000221\n",
      "373) C3SP3                          0.000213\n",
      "374) nBr                            0.000211\n",
      "375) ndssC                          0.000210\n",
      "376) MDEN-33                        0.000210\n",
      "377) nHAvin                         0.000209\n",
      "378) minHAvin                       0.000207\n",
      "379) SHtCH                          0.000204\n",
      "380) SHaaNH                         0.000202\n",
      "381) nHBint3                        0.000199\n",
      "382) nX                             0.000195\n",
      "383) VC-4                           0.000180\n",
      "384) MDEC-34                        0.000177\n",
      "385) nF                             0.000173\n",
      "386) naaNH                          0.000164\n",
      "387) naasN                          0.000160\n",
      "388) n4Ring                         0.000142\n",
      "389) SHsNH2                         0.000133\n",
      "390) nHBint5                        0.000131\n",
      "391) ntsC                           0.000128\n",
      "392) SwHBd                          0.000128\n",
      "393) nsssCH                         0.000124\n",
      "394) ntCH                           0.000119\n",
      "395) maxssssC                       0.000114\n",
      "396) SCH-4                          0.000113\n",
      "397) maxHdCH2                       0.000102\n",
      "398) SC-6                           0.000101\n",
      "399) nCl                            0.000100\n",
      "400) nBondsT                        0.000098\n",
      "401) minHtCH                        0.000098\n",
      "402) minddssS                       0.000097\n",
      "403) maxtN                          0.000097\n",
      "404) StN                            0.000097\n",
      "405) nssssC                         0.000097\n",
      "406) LipinskiFailures               0.000095\n",
      "407) ndsN                           0.000091\n",
      "408) maxsOm                         0.000090\n",
      "409) nT7Ring                        0.000089\n",
      "410) nsOm                           0.000087\n",
      "411) C2SP1                          0.000086\n",
      "412) MDEN-13                        0.000084\n",
      "413) nsBr                           0.000083\n",
      "414) ndsCH                          0.000083\n",
      "415) maxHtCH                        0.000081\n",
      "416) maxtCH                         0.000080\n",
      "417) maxsNH2                        0.000080\n",
      "418) nHaaNH                         0.000080\n",
      "419) maxHsNH2                       0.000077\n",
      "420) nHdsCH                         0.000075\n",
      "421) minHsNH2                       0.000074\n",
      "422) mindCH2                        0.000072\n",
      "423) minHdCH2                       0.000068\n",
      "424) MDEN-12                        0.000067\n",
      "425) maxtsC                         0.000067\n",
      "426) C1SP1                          0.000060\n",
      "427) minsNH2                        0.000059\n",
      "428) SsOm                           0.000056\n",
      "429) nT12Ring                       0.000056\n",
      "430) nFG12Ring                      0.000051\n",
      "431) minHCHnX                       0.000046\n",
      "432) SHdCH2                         0.000044\n",
      "433) nssNH                          0.000043\n",
      "434) mintCH                         0.000040\n",
      "435) StCH                           0.000040\n",
      "436) mindS                          0.000037\n",
      "437) MDEC-44                        0.000037\n",
      "438) nsNH2                          0.000036\n",
      "439) SHCHnX                         0.000031\n",
      "440) nF8Ring                        0.000031\n",
      "441) SdNH                           0.000031\n",
      "442) maxHCHnX                       0.000026\n",
      "443) nBase                          0.000026\n",
      "444) nsF                            0.000022\n",
      "445) nI                             0.000021\n",
      "446) SHdNH                          0.000020\n",
      "447) minwHBd                        0.000020\n",
      "448) minHdNH                        0.000020\n",
      "449) maxdS                          0.000019\n",
      "450) SddssS                         0.000018\n",
      "451) nF12Ring                       0.000017\n",
      "452) nHdCH2                         0.000016\n",
      "453) nsCl                           0.000015\n",
      "454) minsOm                         0.000014\n",
      "455) nT8Ring                        0.000012\n",
      "456) maxHdNH                        0.000011\n",
      "457) maxwHBd                        0.000008\n",
      "458) nddssS                         0.000004\n",
      "459) n3Ring                         0.000000\n",
      "460) nsSH                           0.000000\n",
      "461) nHdNH                          0.000000\n",
      "462) nHsSH                          0.000000\n",
      "463) ndsssP                         0.000000\n",
      "464) nP                             0.000000\n",
      "465) nHsNH2                         0.000000\n",
      "466) nssssNp                        0.000000\n",
      "467) nHtCH                          0.000000\n",
      "468) n8Ring                         0.000000\n",
      "469) n12Ring                        0.000000\n",
      "470) nG12Ring                       0.000000\n",
      "471) nF6Ring                        0.000000\n",
      "472) nF7Ring                        0.000000\n",
      "473) nHCHnX                         0.000000\n",
      "474) ndNH                           0.000000\n",
      "475) ndCH2                          0.000000\n",
      "476) MDEN-11                        0.000000\n",
      "477) maxdNH                         0.000000\n",
      "478) ndS                            0.000000\n",
      "479) SssssNp                        0.000000\n",
      "480) VCH-3                          0.000000\n",
      "481) SsI                            0.000000\n",
      "482) minssssNp                      0.000000\n",
      "483) SCH-3                          0.000000\n",
      "484) mindsssP                       0.000000\n",
      "485) SdssS                          0.000000\n",
      "486) minsSH                         0.000000\n",
      "487) SdS                            0.000000\n",
      "488) SsSH                           0.000000\n",
      "489) mindssS                        0.000000\n",
      "490) SdsssP                         0.000000\n",
      "491) SsNH2                          0.000000\n",
      "492) ETA_dPsi_B                     0.000000\n",
      "493) minsI                          0.000000\n",
      "494) maxHsSH                        0.000000\n",
      "495) SdCH2                          0.000000\n",
      "496) SHsSH                          0.000000\n",
      "497) maxdCH2                        0.000000\n",
      "498) nsI                            0.000000\n",
      "499) nwHBd                          0.000000\n",
      "500) mindNH                         0.000000\n",
      "501) maxssssNp                      0.000000\n",
      "502) ndssS                          0.000000\n",
      "503) maxsSH                         0.000000\n",
      "504) minHsSH                        0.000000\n"
     ]
    }
   ],
   "source": [
    "#变量重要性\n",
    "importances=model.feature_importances_\n",
    "indices = np.argsort(importances)[::-1]\n",
    "for i in range(dataFirst1.shape[1]-1):\n",
    "    print(\"%2d) %-*s %f\" % (i + 1, 30, feat_labels[indices[i]], importances[indices[i]]))"
   ]
  },
  {
   "cell_type": "code",
   "execution_count": 158,
   "metadata": {
    "ExecuteTime": {
     "end_time": "2021-10-16T13:50:41.439383Z",
     "start_time": "2021-10-16T13:50:41.425404Z"
    }
   },
   "outputs": [
    {
     "data": {
      "text/plain": [
       "0.5541054716111801"
      ]
     },
     "execution_count": 158,
     "metadata": {},
     "output_type": "execute_result"
    }
   ],
   "source": [
    "sum(importances[indices[0:50]]) #筛选后前50个贡献度总和"
   ]
  },
  {
   "cell_type": "code",
   "execution_count": 159,
   "metadata": {
    "ExecuteTime": {
     "end_time": "2021-10-16T13:50:42.884601Z",
     "start_time": "2021-10-16T13:50:42.865477Z"
    }
   },
   "outputs": [],
   "source": [
    "dataFirst5=dataFirst1.iloc[:,indices[0:50]+1]"
   ]
  },
  {
   "cell_type": "code",
   "execution_count": 160,
   "metadata": {
    "ExecuteTime": {
     "end_time": "2021-10-16T13:50:45.317040Z",
     "start_time": "2021-10-16T13:50:45.305468Z"
    }
   },
   "outputs": [],
   "source": [
    "data=dataFirst5"
   ]
  },
  {
   "cell_type": "markdown",
   "metadata": {},
   "source": [
    "svm分类"
   ]
  },
  {
   "cell_type": "code",
   "execution_count": 161,
   "metadata": {
    "ExecuteTime": {
     "end_time": "2021-10-16T13:50:46.396000Z",
     "start_time": "2021-10-16T13:50:46.376477Z"
    }
   },
   "outputs": [],
   "source": [
    "from sklearn.model_selection import train_test_split\n",
    "X_train,X_test,Y_train,Y_test=train_test_split(data,Y1,train_size=0.8,shuffle=True)#样本数据前80%做为训练集，后20%做为测试集"
   ]
  },
  {
   "cell_type": "code",
   "execution_count": 162,
   "metadata": {
    "ExecuteTime": {
     "end_time": "2021-10-16T13:50:46.914234Z",
     "start_time": "2021-10-16T13:50:46.905715Z"
    }
   },
   "outputs": [],
   "source": [
    "from sklearn.metrics import accuracy_score\n",
    "from sklearn.metrics import roc_auc_score,precision_recall_fscore_support"
   ]
  },
  {
   "cell_type": "code",
   "execution_count": 163,
   "metadata": {
    "ExecuteTime": {
     "end_time": "2021-10-16T13:50:48.242932Z",
     "start_time": "2021-10-16T13:50:47.968495Z"
    }
   },
   "outputs": [],
   "source": [
    "from sklearn import svm\n",
    "model = svm.SVC(C=80,gamma=0.0001)\n",
    "model.fit(X_train,Y_train)\n",
    "\n",
    "# 预测测试集中的因变量值\n",
    "Y_pred=model.predict(X_test)"
   ]
  },
  {
   "cell_type": "markdown",
   "metadata": {
    "ExecuteTime": {
     "end_time": "2021-10-16T08:32:03.831218Z",
     "start_time": "2021-10-16T08:32:03.824272Z"
    }
   },
   "source": [
    "评价指标"
   ]
  },
  {
   "cell_type": "code",
   "execution_count": 164,
   "metadata": {
    "ExecuteTime": {
     "end_time": "2021-10-16T13:50:52.088172Z",
     "start_time": "2021-10-16T13:50:52.072619Z"
    },
    "scrolled": true
   },
   "outputs": [
    {
     "name": "stdout",
     "output_type": "stream",
     "text": [
      "准确率Accuracy:0.860759\n",
      "精确率Precision:0.883019\n",
      "召回率Recall:0.906977\n",
      "F1 score:0.8948374760994262\n",
      "AUC:0.840350\n"
     ]
    }
   ],
   "source": [
    "print(\"准确率Accuracy:{:3f}\".format(accuracy_score(Y_test,Y_pred)))\n",
    "pre, rec, f1, sup = precision_recall_fscore_support(Y_test,Y_pred)\n",
    "print(\"精确率Precision:{:3f}\".format(pre[0]))\n",
    "print(\"召回率Recall:{:3f}\".format(rec[0]))\n",
    "print(\"F1 score:{}\".format(f1[0]))\n",
    "# 计算auc\n",
    "print(\"AUC:{:3f}\".format(roc_auc_score(Y_test,Y_pred)))"
   ]
  },
  {
   "cell_type": "markdown",
   "metadata": {},
   "source": [
    "LightGBM分类"
   ]
  },
  {
   "cell_type": "code",
   "execution_count": 242,
   "metadata": {
    "ExecuteTime": {
     "end_time": "2021-10-16T11:07:50.158709Z",
     "start_time": "2021-10-16T11:07:50.108843Z"
    }
   },
   "outputs": [],
   "source": [
    "import lightgbm as lgb\n",
    "\n",
    "# 创建lightgbm\n",
    "model=lgb.LGBMClassifier(n_estimators=100,random_state=123)\n",
    "\n",
    "# 拟合构造lightbgm\n",
    "model.fit(X_train,Y_train)\n",
    "\n",
    "# 预测测试集中的因变量值\n",
    "Y_pred=model.predict(X_test)"
   ]
  },
  {
   "cell_type": "code",
   "execution_count": 243,
   "metadata": {
    "ExecuteTime": {
     "end_time": "2021-10-16T11:07:50.725344Z",
     "start_time": "2021-10-16T11:07:50.701381Z"
    }
   },
   "outputs": [
    {
     "name": "stdout",
     "output_type": "stream",
     "text": [
      "准确率Accuracy:0.860759\n",
      "精确率Precision:0.845865\n",
      "召回率Recall:0.941423\n",
      "F1 score:0.891089108910891\n",
      "AUC:0.839301\n"
     ]
    }
   ],
   "source": [
    "print(\"准确率Accuracy:{:3f}\".format(accuracy_score(Y_test,Y_pred)))\n",
    "pre, rec, f1, sup = precision_recall_fscore_support(Y_test,Y_pred)\n",
    "print(\"精确率Precision:{:3f}\".format(pre[0]))\n",
    "print(\"召回率Recall:{:3f}\".format(rec[0]))\n",
    "print(\"F1 score:{}\".format(f1[0]))\n",
    "# 计算auc\n",
    "print(\"AUC:{:3f}\".format(roc_auc_score(Y_test,Y_pred)))"
   ]
  },
  {
   "cell_type": "markdown",
   "metadata": {
    "ExecuteTime": {
     "end_time": "2021-10-16T12:56:57.012783Z",
     "start_time": "2021-10-16T12:56:56.619793Z"
    }
   },
   "source": [
    "预测test中的值(选SVM)"
   ]
  },
  {
   "cell_type": "code",
   "execution_count": 165,
   "metadata": {
    "ExecuteTime": {
     "end_time": "2021-10-16T13:51:10.346887Z",
     "start_time": "2021-10-16T13:50:57.313287Z"
    }
   },
   "outputs": [],
   "source": [
    "data1=pd.read_excel(\"Molecular_Descriptor.xlsx\",sheet_name=1)"
   ]
  },
  {
   "cell_type": "code",
   "execution_count": 166,
   "metadata": {
    "ExecuteTime": {
     "end_time": "2021-10-16T13:51:12.192977Z",
     "start_time": "2021-10-16T13:51:12.184745Z"
    }
   },
   "outputs": [],
   "source": [
    "x_test=data1[feat_labels[indices[0:50]]]  #预测集中的自变量"
   ]
  },
  {
   "cell_type": "code",
   "execution_count": 167,
   "metadata": {
    "ExecuteTime": {
     "end_time": "2021-10-16T13:51:13.516832Z",
     "start_time": "2021-10-16T13:51:13.497197Z"
    }
   },
   "outputs": [],
   "source": [
    "# 预测 预测集中的因变量值\n",
    "y_pred=model.predict(x_test)"
   ]
  },
  {
   "cell_type": "code",
   "execution_count": 168,
   "metadata": {
    "ExecuteTime": {
     "end_time": "2021-10-16T13:51:14.498526Z",
     "start_time": "2021-10-16T13:51:14.480426Z"
    }
   },
   "outputs": [
    {
     "data": {
      "text/plain": [
       "array([0, 0, 0, 0, 0, 0, 0, 0, 0, 1, 1, 0, 0, 0, 0, 0, 0, 1, 0, 0, 0, 0,\n",
       "       1, 1, 1, 0, 1, 0, 0, 0, 0, 0, 0, 0, 0, 0, 0, 0, 0, 0, 0, 0, 0, 0,\n",
       "       0, 0, 0, 0, 0, 0], dtype=int64)"
      ]
     },
     "execution_count": 168,
     "metadata": {},
     "output_type": "execute_result"
    }
   ],
   "source": [
    "y_pred #预测值"
   ]
  },
  {
   "cell_type": "markdown",
   "metadata": {},
   "source": [
    "#### 第二个"
   ]
  },
  {
   "cell_type": "code",
   "execution_count": 91,
   "metadata": {
    "ExecuteTime": {
     "end_time": "2021-10-16T13:11:06.416161Z",
     "start_time": "2021-10-16T13:11:06.402178Z"
    }
   },
   "outputs": [],
   "source": [
    "Y2=dataThird1['CYP3A4']"
   ]
  },
  {
   "cell_type": "code",
   "execution_count": 92,
   "metadata": {
    "ExecuteTime": {
     "end_time": "2021-10-16T13:11:08.827037Z",
     "start_time": "2021-10-16T13:11:07.954328Z"
    }
   },
   "outputs": [
    {
     "data": {
      "text/plain": [
       "RandomForestClassifier(bootstrap=True, class_weight=None, criterion='gini',\n",
       "                       max_depth=None, max_features='auto', max_leaf_nodes=None,\n",
       "                       min_impurity_decrease=0.0, min_impurity_split=None,\n",
       "                       min_samples_leaf=1, min_samples_split=2,\n",
       "                       min_weight_fraction_leaf=0.0, n_estimators=100,\n",
       "                       n_jobs=None, oob_score=False, random_state=123,\n",
       "                       verbose=0, warm_start=False)"
      ]
     },
     "execution_count": 92,
     "metadata": {},
     "output_type": "execute_result"
    }
   ],
   "source": [
    "#建立随机森林分类模型\n",
    "feat_labels=dataFirst1.columns[1:]\n",
    "model=RandomForestClassifier(n_estimators=100,random_state=123)\n",
    "model.fit(dataFirst1.iloc[:,1:],Y2)"
   ]
  },
  {
   "cell_type": "code",
   "execution_count": 93,
   "metadata": {
    "ExecuteTime": {
     "end_time": "2021-10-16T13:11:10.023821Z",
     "start_time": "2021-10-16T13:11:09.962401Z"
    }
   },
   "outputs": [
    {
     "name": "stdout",
     "output_type": "stream",
     "text": [
      " 1) ETA_Eta_L                      0.039845\n",
      " 2) SP-4                           0.033536\n",
      " 3) VP-3                           0.026159\n",
      " 4) VP-5                           0.025984\n",
      " 5) nBondsS                        0.024968\n",
      " 6) ATSp3                          0.023421\n",
      " 7) Zagreb                         0.022739\n",
      " 8) ATSp2                          0.022602\n",
      " 9) VP-2                           0.018882\n",
      "10) WPOL                           0.017951\n",
      "11) VP-1                           0.017333\n",
      "12) ETA_Alpha                      0.015374\n",
      "13) ATSp1                          0.014925\n",
      "14) VP-6                           0.014791\n",
      "15) VP-7                           0.014331\n",
      "16) SP-3                           0.013688\n",
      "17) SP-5                           0.013440\n",
      "18) VAdjMat                        0.013103\n",
      "19) nBonds                         0.012898\n",
      "20) WPATH                          0.012391\n",
      "21) ETA_Eta_R                      0.010959\n",
      "22) SP-2                           0.010677\n",
      "23) nAtom                          0.010572\n",
      "24) nHeavyAtom                     0.010518\n",
      "25) VABC                           0.010450\n",
      "26) ETA_Beta_s                     0.010348\n",
      "27) ATSm2                          0.009096\n",
      "28) ATSm3                          0.008967\n",
      "29) VP-0                           0.008281\n",
      "30) ETA_Eta                        0.007779\n",
      "31) WTPT-1                         0.007585\n",
      "32) SP-6                           0.007442\n",
      "33) SP-1                           0.007022\n",
      "34) SP-0                           0.006799\n",
      "35) ETA_Eta_R_L                    0.006664\n",
      "36) BCUTp-1h                       0.006566\n",
      "37) Kier1                          0.006557\n",
      "38) bpol                           0.006236\n",
      "39) nBonds2                        0.006077\n",
      "40) ETA_dEpsilon_D                 0.005727\n",
      "41) ATSm5                          0.005545\n",
      "42) MW                             0.005057\n",
      "43) ATSp5                          0.004917\n",
      "44) SP-7                           0.004835\n",
      "45) SHBd                           0.004795\n",
      "46) AMR                            0.004779\n",
      "47) ETA_dBetaP                     0.004727\n",
      "48) minHBa                         0.004697\n",
      "49) SCH-6                          0.004615\n",
      "50) nC                             0.004226\n",
      "51) VP-4                           0.004203\n",
      "52) SHaaCH                         0.004070\n",
      "53) maxHCsats                      0.003911\n",
      "54) ECCEN                          0.003869\n",
      "55) ATSc1                          0.003863\n",
      "56) nTRing                         0.003841\n",
      "57) ETA_BetaP_s                    0.003797\n",
      "58) ETA_Epsilon_3                  0.003777\n",
      "59) ATSm4                          0.003704\n",
      "60) SPC-4                          0.003625\n",
      "61) minHsOH                        0.003463\n",
      "62) Kier2                          0.003452\n",
      "63) maxHsOH                        0.003449\n",
      "64) SHCsats                        0.003239\n",
      "65) ATSc3                          0.003206\n",
      "66) maxHBd                         0.003189\n",
      "67) fragC                          0.003106\n",
      "68) ATSc2                          0.003063\n",
      "69) MDEC-34                        0.002935\n",
      "70) WTPT-3                         0.002875\n",
      "71) SHsOH                          0.002868\n",
      "72) VCH-7                          0.002856\n",
      "73) SCH-7                          0.002803\n",
      "74) ATSm1                          0.002775\n",
      "75) maxsOH                         0.002768\n",
      "76) MAXDP2                         0.002640\n",
      "77) MLFER_BO                       0.002568\n",
      "78) ETA_EtaP                       0.002547\n",
      "79) MDEC-33                        0.002520\n",
      "80) ETA_Shape_Y                    0.002491\n",
      "81) ETA_Eta_F_L                    0.002465\n",
      "82) ETA_Epsilon_4                  0.002385\n",
      "83) ETA_dEpsilon_C                 0.002370\n",
      "84) ETA_Epsilon_5                  0.002335\n",
      "85) SHCsatu                        0.002318\n",
      "86) SPC-5                          0.002306\n",
      "87) McGowan_Volume                 0.002285\n",
      "88) nHBAcc                         0.002230\n",
      "89) ETA_dPsi_A                     0.002190\n",
      "90) minHBd                         0.002190\n",
      "91) ATSc4                          0.002165\n",
      "92) minHCsatu                      0.002165\n",
      "93) MDEC-12                        0.002160\n",
      "94) nBondsS3                       0.002154\n",
      "95) MLFER_L                        0.002117\n",
      "96) MDEC-23                        0.002102\n",
      "97) HybRatio                       0.002092\n",
      "98) C3SP2                          0.002090\n",
      "99) minssCH2                       0.002066\n",
      "100) SsOH                           0.002050\n",
      "101) SaaCH                          0.002040\n",
      "102) SHBint7                        0.002006\n",
      "103) minssssC                       0.001982\n",
      "104) MAXDP                          0.001957\n",
      "105) minsOH                         0.001955\n",
      "106) ETA_Epsilon_1                  0.001913\n",
      "107) minHBint7                      0.001909\n",
      "108) BCUTc-1h                       0.001875\n",
      "109) ETA_Epsilon_2                  0.001872\n",
      "110) DELS2                          0.001851\n",
      "111) MDEC-22                        0.001844\n",
      "112) ETA_Shape_P                    0.001801\n",
      "113) ETA_dEpsilon_A                 0.001794\n",
      "114) ETA_Beta                       0.001793\n",
      "115) MLFER_BH                       0.001784\n",
      "116) SPC-6                          0.001772\n",
      "117) SHBa                           0.001768\n",
      "118) VCH-6                          0.001759\n",
      "119) SHother                        0.001759\n",
      "120) FMF                            0.001757\n",
      "121) MLFER_S                        0.001754\n",
      "122) ETA_EtaP_L                     0.001727\n",
      "123) maxsCH3                        0.001717\n",
      "124) nHBAcc_Lipinski                0.001707\n",
      "125) hmax                           0.001687\n",
      "126) ETA_BetaP                      0.001674\n",
      "127) sumI                           0.001666\n",
      "128) ETA_dBeta                      0.001646\n",
      "129) gmin                           0.001643\n",
      "130) VPC-5                          0.001622\n",
      "131) VC-4                           0.001612\n",
      "132) WTPT-2                         0.001582\n",
      "133) nBondsS2                       0.001581\n",
      "134) minsCl                         0.001578\n",
      "135) VPC-4                          0.001576\n",
      "136) ATSp4                          0.001566\n",
      "137) apol                           0.001563\n",
      "138) ETA_dEpsilon_B                 0.001558\n",
      "139) BCUTw-1h                       0.001545\n",
      "140) SC-3                           0.001542\n",
      "141) minsCH3                        0.001533\n",
      "142) ETA_Psi_1                      0.001528\n",
      "143) naaCH                          0.001526\n",
      "144) ETA_EtaP_F_L                   0.001522\n",
      "145) hmin                           0.001489\n",
      "146) nH                             0.001483\n",
      "147) maxaasC                        0.001469\n",
      "148) SaasC                          0.001450\n",
      "149) MLFER_A                        0.001433\n",
      "150) MDEC-13                        0.001425\n",
      "151) maxsCl                         0.001422\n",
      "152) nT5Ring                        0.001418\n",
      "153) VC-3                           0.001407\n",
      "154) mindO                          0.001394\n",
      "155) SC-5                           0.001379\n",
      "156) ETA_EtaP_B                     0.001368\n",
      "157) XLogP                          0.001352\n",
      "158) nFRing                         0.001349\n",
      "159) ATSc5                          0.001346\n",
      "160) maxHother                      0.001346\n",
      "161) nHBDon                         0.001335\n",
      "162) nRing                          0.001335\n",
      "163) maxHBa                         0.001333\n",
      "164) C2SP3                          0.001332\n",
      "165) nHBd                           0.001322\n",
      "166) CrippenLogP                    0.001319\n",
      "167) C2SP2                          0.001318\n",
      "168) maxHBint6                      0.001312\n",
      "169) LipoaffinityIndex              0.001297\n",
      "170) gmax                           0.001295\n",
      "171) nHother                        0.001292\n",
      "172) maxssCH2                       0.001292\n",
      "173) SdssC                          0.001285\n",
      "174) BCUTc-1l                       0.001283\n",
      "175) SwHBa                          0.001253\n",
      "176) SsCl                           0.001252\n",
      "177) maxssO                         0.001251\n",
      "178) maxHBint7                      0.001247\n",
      "179) nHBAcc2                        0.001244\n",
      "180) mindssC                        0.001235\n",
      "181) WTPT-5                         0.001231\n",
      "182) ETA_BetaP_ns_d                 0.001224\n",
      "183) MAXDN2                         0.001221\n",
      "184) SsCH3                          0.001209\n",
      "185) nHCsatu                        0.001206\n",
      "186) CrippenMR                      0.001204\n",
      "187) nBondsD                        0.001196\n",
      "188) ETA_BetaP_ns                   0.001173\n",
      "189) naasC                          0.001172\n",
      "190) WTPT-4                         0.001171\n",
      "191) SaaaC                          0.001167\n",
      "192) SHBint6                        0.001157\n",
      "193) minaasC                        0.001155\n",
      "194) MLFER_E                        0.001142\n",
      "195) VC-5                           0.001130\n",
      "196) nsCl                           0.001130\n",
      "197) SCH-5                          0.001109\n",
      "198) VPC-6                          0.001109\n",
      "199) nHBa                           0.001098\n",
      "200) ALogP                          0.001092\n",
      "201) DELS                           0.001091\n",
      "202) nwHBa                          0.001085\n",
      "203) nsCH3                          0.001080\n",
      "204) nAtomLC                        0.001068\n",
      "205) MAXDN                          0.001065\n",
      "206) ndssC                          0.001063\n",
      "207) BCUTp-1l                       0.001054\n",
      "208) nRotB                          0.001039\n",
      "209) minHBint6                      0.001009\n",
      "210) nCl                            0.001007\n",
      "211) maxdO                          0.001004\n",
      "212) nF9Ring                        0.001001\n",
      "213) minHCsats                      0.000998\n",
      "214) ETA_Beta_ns                    0.000996\n",
      "215) Kier3                          0.000995\n",
      "216) minHother                      0.000968\n",
      "217) TopoPSA                        0.000947\n",
      "218) n5Ring                         0.000946\n",
      "219) SssO                           0.000945\n",
      "220) ETA_Eta_B                      0.000936\n",
      "221) naAromAtom                     0.000925\n",
      "222) SHBint8                        0.000925\n",
      "223) maxaaCH                        0.000909\n",
      "224) ETA_Eta_F                      0.000906\n",
      "225) minssO                         0.000904\n",
      "226) maxHdsCH                       0.000903\n",
      "227) ETA_EtaP_F                     0.000902\n",
      "228) maxaaaC                        0.000895\n",
      "229) minwHBa                        0.000890\n",
      "230) nHBint9                        0.000883\n",
      "231) ETA_Eta_B_RC                   0.000881\n",
      "232) nHBint6                        0.000877\n",
      "233) minHBint4                      0.000867\n",
      "234) ETA_dAlpha_B                   0.000865\n",
      "235) maxwHBa                        0.000864\n",
      "236) MLogP                          0.000861\n",
      "237) SaaN                           0.000855\n",
      "238) minHaaCH                       0.000848\n",
      "239) nHBint7                        0.000847\n",
      "240) ETA_AlphaP                     0.000828\n",
      "241) nssCH2                         0.000825\n",
      "242) minaaCH                        0.000817\n",
      "243) MDEO-12                        0.000815\n",
      "244) maxaaO                         0.000785\n",
      "245) nHsOH                          0.000781\n",
      "246) nBondsM                        0.000781\n",
      "247) C1SP2                          0.000767\n",
      "248) minaaaC                        0.000755\n",
      "249) nN                             0.000754\n",
      "250) C1SP3                          0.000742\n",
      "251) VCH-5                          0.000738\n",
      "252) SHBint10                       0.000734\n",
      "253) ALogp2                         0.000694\n",
      "254) ETA_EtaP_B_RC                  0.000684\n",
      "255) ETA_Shape_X                    0.000680\n",
      "256) SaasN                          0.000678\n",
      "257) SddssS                         0.000678\n",
      "258) SdO                            0.000674\n",
      "259) minHBint8                      0.000670\n",
      "260) maxsssN                        0.000664\n",
      "261) nHaaCH                         0.000654\n",
      "262) maxHBint3                      0.000652\n",
      "263) maxdssC                        0.000646\n",
      "264) nHBAcc3                        0.000633\n",
      "265) minsssN                        0.000633\n",
      "266) maxssNH                        0.000629\n",
      "267) minHBint5                      0.000624\n",
      "268) SHBint9                        0.000623\n",
      "269) mindsN                         0.000619\n",
      "270) SHBint3                        0.000618\n",
      "271) maxdsN                         0.000609\n",
      "272) SaaO                           0.000602\n",
      "273) MDEO-22                        0.000582\n",
      "274) minaasN                        0.000582\n",
      "275) SssCH2                         0.000577\n",
      "276) maxHBint4                      0.000574\n",
      "277) SssNH                          0.000573\n",
      "278) SHBint4                        0.000559\n",
      "279) maxaaN                         0.000557\n",
      "280) minddssS                       0.000555\n",
      "281) naasN                          0.000553\n",
      "282) SHdsCH                         0.000546\n",
      "283) minHdsCH                       0.000543\n",
      "284) maxHaaCH                       0.000539\n",
      "285) StsC                           0.000537\n",
      "286) minHBint9                      0.000532\n",
      "287) maxHBint5                      0.000526\n",
      "288) nF10Ring                       0.000523\n",
      "289) ETA_Beta_ns_d                  0.000498\n",
      "290) MDEC-14                        0.000494\n",
      "291) SdsN                           0.000489\n",
      "292) maxaasN                        0.000485\n",
      "293) MDEN-23                        0.000480\n",
      "294) nAromBond                      0.000480\n",
      "295) minHBint10                     0.000474\n",
      "296) SsssN                          0.000454\n",
      "297) VC-6                           0.000452\n",
      "298) SHAvin                         0.000451\n",
      "299) mindsCH                        0.000449\n",
      "300) nAtomP                         0.000448\n",
      "301) minsF                          0.000446\n",
      "302) SssssC                         0.000445\n",
      "303) nssssC                         0.000435\n",
      "304) ndO                            0.000434\n",
      "305) nssO                           0.000433\n",
      "306) nO                             0.000431\n",
      "307) minHBint3                      0.000431\n",
      "308) minaaN                         0.000430\n",
      "309) nT9Ring                        0.000426\n",
      "310) minaaO                         0.000422\n",
      "311) maxHBint9                      0.000416\n",
      "312) C4SP3                          0.000401\n",
      "313) minssNH                        0.000388\n",
      "314) ETA_dAlpha_A                   0.000384\n",
      "315) maxtsC                         0.000367\n",
      "316) nT6Ring                        0.000357\n",
      "317) minHBint2                      0.000356\n",
      "318) SHBint2                        0.000351\n",
      "319) maxssssC                       0.000342\n",
      "320) nT4Ring                        0.000342\n",
      "321) BCUTw-1l                       0.000335\n",
      "322) naaN                           0.000332\n",
      "323) nHBint8                        0.000331\n",
      "324) MDEN-22                        0.000318\n",
      "325) nHBint4                        0.000317\n",
      "326) maxHssNH                       0.000312\n",
      "327) nHBDon_Lipinski                0.000299\n",
      "328) MDEO-11                        0.000282\n",
      "329) maxHAvin                       0.000281\n",
      "330) nAtomLAC                       0.000280\n",
      "331) nS                             0.000279\n",
      "332) naaaC                          0.000278\n",
      "333) nX                             0.000277\n",
      "334) n4Ring                         0.000275\n",
      "335) maxHBint10                     0.000269\n",
      "336) maxHCsatu                      0.000261\n",
      "337) MDEN-33                        0.000259\n",
      "338) minsBr                         0.000258\n",
      "339) ntN                            0.000253\n",
      "340) nHBint2                        0.000252\n",
      "341) mintsC                         0.000252\n",
      "342) SdsCH                          0.000250\n",
      "343) VCH-4                          0.000250\n",
      "344) nHCsats                        0.000249\n",
      "345) nHBint10                       0.000248\n",
      "346) maxdsCH                        0.000248\n",
      "347) nT10Ring                       0.000247\n",
      "348) MDEC-11                        0.000245\n",
      "349) nBondsD2                       0.000241\n",
      "350) nHBint5                        0.000239\n",
      "351) nsssN                          0.000236\n",
      "352) maxHBint8                      0.000234\n",
      "353) SC-6                           0.000226\n",
      "354) ntsC                           0.000225\n",
      "355) SsssCH                         0.000217\n",
      "356) nBondsT                        0.000216\n",
      "357) StN                            0.000213\n",
      "358) SdCH2                          0.000208\n",
      "359) minsssCH                       0.000208\n",
      "360) SsBr                           0.000203\n",
      "361) maxtN                          0.000196\n",
      "362) minHAvin                       0.000194\n",
      "363) minssS                         0.000192\n",
      "364) PetitjeanNumber                0.000187\n",
      "365) maxHBint2                      0.000181\n",
      "366) SC-4                           0.000177\n",
      "367) nsOH                           0.000177\n",
      "368) nT8Ring                        0.000166\n",
      "369) SaaS                           0.000163\n",
      "370) nssNH                          0.000161\n",
      "371) nsF                            0.000158\n",
      "372) nHdsCH                         0.000157\n",
      "373) SssS                           0.000157\n",
      "374) MDEC-24                        0.000156\n",
      "375) n6Ring                         0.000155\n",
      "376) ndsN                           0.000145\n",
      "377) nAcid                          0.000138\n",
      "378) nHBint3                        0.000135\n",
      "379) SHBint5                        0.000131\n",
      "380) SsF                            0.000119\n",
      "381) mindCH2                        0.000118\n",
      "382) ndsCH                          0.000113\n",
      "383) minHssNH                       0.000109\n",
      "384) minaaS                         0.000109\n",
      "385) maxsssCH                       0.000108\n",
      "386) nssS                           0.000107\n",
      "387) SHsNH2                         0.000107\n",
      "388) nHAvin                         0.000100\n",
      "389) ndCH2                          0.000099\n",
      "390) SCH-4                          0.000095\n",
      "391) minHsNH2                       0.000095\n",
      "392) nF                             0.000094\n",
      "393) maxsBr                         0.000094\n",
      "394) nddssS                         0.000085\n",
      "395) SHssNH                         0.000084\n",
      "396) maxHdCH2                       0.000084\n",
      "397) nTG12Ring                      0.000081\n",
      "398) nBr                            0.000081\n",
      "399) maxaaNH                        0.000080\n",
      "400) C1SP1                          0.000076\n",
      "401) maxsF                          0.000074\n",
      "402) n8Ring                         0.000073\n",
      "403) nFG12Ring                      0.000072\n",
      "404) minHaaNH                       0.000071\n",
      "405) C3SP3                          0.000068\n",
      "406) maxHaaNH                       0.000067\n",
      "407) SsI                            0.000064\n",
      "408) nBase                          0.000063\n",
      "409) maxdCH2                        0.000061\n",
      "410) naaS                           0.000059\n",
      "411) mintN                          0.000058\n",
      "412) nsssCH                         0.000056\n",
      "413) naaNH                          0.000052\n",
      "414) SaaNH                          0.000050\n",
      "415) nHdCH2                         0.000050\n",
      "416) SHdCH2                         0.000049\n",
      "417) nT12Ring                       0.000049\n",
      "418) LipinskiFailures               0.000047\n",
      "419) minaaNH                        0.000045\n",
      "420) maxdS                          0.000043\n",
      "421) maxsNH2                        0.000040\n",
      "422) nT7Ring                        0.000037\n",
      "423) naaO                           0.000035\n",
      "424) maxHsNH2                       0.000030\n",
      "425) SHaaNH                         0.000028\n",
      "426) minsOm                         0.000025\n",
      "427) nT11Ring                       0.000025\n",
      "428) SdS                            0.000025\n",
      "429) nI                             0.000024\n",
      "430) minHdNH                        0.000023\n",
      "431) nHaaNH                         0.000022\n",
      "432) MDEC-44                        0.000021\n",
      "433) MDEN-13                        0.000021\n",
      "434) nHssNH                         0.000020\n",
      "435) SHCHnX                         0.000019\n",
      "436) nF11Ring                       0.000017\n",
      "437) MDEN-12                        0.000013\n",
      "438) nF6Ring                        0.000007\n",
      "439) nF8Ring                        0.000004\n",
      "440) maxtCH                         0.000000\n",
      "441) maxHCHnX                       0.000000\n",
      "442) maxHtCH                        0.000000\n",
      "443) nHCHnX                         0.000000\n",
      "444) maxdNH                         0.000000\n",
      "445) maxssssNp                      0.000000\n",
      "446) maxsOm                         0.000000\n",
      "447) maxsSH                         0.000000\n",
      "448) ETA_dPsi_B                     0.000000\n",
      "449) MDEN-11                        0.000000\n",
      "450) maxHdNH                        0.000000\n",
      "451) n3Ring                         0.000000\n",
      "452) n7Ring                         0.000000\n",
      "453) nP                             0.000000\n",
      "454) n12Ring                        0.000000\n",
      "455) nG12Ring                       0.000000\n",
      "456) nF7Ring                        0.000000\n",
      "457) nF12Ring                       0.000000\n",
      "458) maxHsSH                        0.000000\n",
      "459) minsNH2                        0.000000\n",
      "460) maxwHBd                        0.000000\n",
      "461) StCH                           0.000000\n",
      "462) SHsSH                          0.000000\n",
      "463) SHdNH                          0.000000\n",
      "464) SwHBd                          0.000000\n",
      "465) nsI                            0.000000\n",
      "466) nsBr                           0.000000\n",
      "467) ndssS                          0.000000\n",
      "468) ndS                            0.000000\n",
      "469) nsSH                           0.000000\n",
      "470) nwHBd                          0.000000\n",
      "471) ndsssP                         0.000000\n",
      "472) nsOm                           0.000000\n",
      "473) nssssNp                        0.000000\n",
      "474) ndNH                           0.000000\n",
      "475) nsNH2                          0.000000\n",
      "476) ntCH                           0.000000\n",
      "477) nHdNH                          0.000000\n",
      "478) nHsSH                          0.000000\n",
      "479) nHsNH2                         0.000000\n",
      "480) nHtCH                          0.000000\n",
      "481) SHtCH                          0.000000\n",
      "482) SsNH2                          0.000000\n",
      "483) minsI                          0.000000\n",
      "484) SdNH                           0.000000\n",
      "485) mindssS                        0.000000\n",
      "486) mindS                          0.000000\n",
      "487) minsSH                         0.000000\n",
      "488) C2SP1                          0.000000\n",
      "489) mindsssP                       0.000000\n",
      "490) minssssNp                      0.000000\n",
      "491) mindNH                         0.000000\n",
      "492) SCH-3                          0.000000\n",
      "493) mintCH                         0.000000\n",
      "494) VCH-3                          0.000000\n",
      "495) minHCHnX                       0.000000\n",
      "496) minHdCH2                       0.000000\n",
      "497) minHtCH                        0.000000\n",
      "498) minwHBd                        0.000000\n",
      "499) SdssS                          0.000000\n",
      "500) SsSH                           0.000000\n",
      "501) SdsssP                         0.000000\n",
      "502) SsOm                           0.000000\n",
      "503) SssssNp                        0.000000\n",
      "504) minHsSH                        0.000000\n"
     ]
    }
   ],
   "source": [
    "#变量重要性\n",
    "importances=model.feature_importances_\n",
    "indices = np.argsort(importances)[::-1]\n",
    "for i in range(dataFirst1.shape[1]-1):\n",
    "    print(\"%2d) %-*s %f\" % (i + 1, 30, feat_labels[indices[i]], importances[indices[i]]))"
   ]
  },
  {
   "cell_type": "code",
   "execution_count": 94,
   "metadata": {
    "ExecuteTime": {
     "end_time": "2021-10-16T13:11:13.466314Z",
     "start_time": "2021-10-16T13:11:13.450180Z"
    }
   },
   "outputs": [
    {
     "data": {
      "text/plain": [
       "0.6108749608278902"
      ]
     },
     "execution_count": 94,
     "metadata": {},
     "output_type": "execute_result"
    }
   ],
   "source": [
    "sum(importances[indices[0:50]]) #筛选后前50个贡献度总和"
   ]
  },
  {
   "cell_type": "code",
   "execution_count": 95,
   "metadata": {
    "ExecuteTime": {
     "end_time": "2021-10-16T13:11:16.845543Z",
     "start_time": "2021-10-16T13:11:16.826028Z"
    }
   },
   "outputs": [],
   "source": [
    "dataFirst6=dataFirst1.iloc[:,indices[0:50]+1]\n",
    "data=dataFirst6"
   ]
  },
  {
   "cell_type": "code",
   "execution_count": 96,
   "metadata": {
    "ExecuteTime": {
     "end_time": "2021-10-16T13:11:19.426672Z",
     "start_time": "2021-10-16T13:11:19.410528Z"
    }
   },
   "outputs": [],
   "source": [
    "from sklearn.model_selection import train_test_split\n",
    "X_train,X_test,Y_train,Y_test=train_test_split(data,Y2,train_size=0.8,shuffle=True)#样本数据前80%做为训练集，后20%做为测试集"
   ]
  },
  {
   "cell_type": "code",
   "execution_count": 84,
   "metadata": {
    "ExecuteTime": {
     "end_time": "2021-10-16T13:08:19.078526Z",
     "start_time": "2021-10-16T13:08:18.753429Z"
    }
   },
   "outputs": [],
   "source": [
    "from sklearn import svm\n",
    "model = svm.SVC(C=80,gamma=0.0001)\n",
    "model.fit(X_train,Y_train)\n",
    "\n",
    "# 预测测试集中的因变量值\n",
    "Y_pred=model.predict(X_test)"
   ]
  },
  {
   "cell_type": "code",
   "execution_count": 85,
   "metadata": {
    "ExecuteTime": {
     "end_time": "2021-10-16T13:08:22.825413Z",
     "start_time": "2021-10-16T13:08:22.810596Z"
    }
   },
   "outputs": [
    {
     "name": "stdout",
     "output_type": "stream",
     "text": [
      "准确率Accuracy:0.860759\n",
      "精确率Precision:0.802326\n",
      "召回率Recall:0.644860\n",
      "F1 score:0.7150259067357513\n",
      "AUC:0.792916\n"
     ]
    }
   ],
   "source": [
    "print(\"准确率Accuracy:{:3f}\".format(accuracy_score(Y_test,Y_pred)))\n",
    "pre, rec, f1, sup = precision_recall_fscore_support(Y_test,Y_pred)\n",
    "print(\"精确率Precision:{:3f}\".format(pre[0]))\n",
    "print(\"召回率Recall:{:3f}\".format(rec[0]))\n",
    "print(\"F1 score:{}\".format(f1[0]))\n",
    "# 计算auc\n",
    "print(\"AUC:{:3f}\".format(roc_auc_score(Y_test,Y_pred)))"
   ]
  },
  {
   "cell_type": "code",
   "execution_count": 97,
   "metadata": {
    "ExecuteTime": {
     "end_time": "2021-10-16T13:11:26.784824Z",
     "start_time": "2021-10-16T13:11:26.571379Z"
    }
   },
   "outputs": [],
   "source": [
    "import lightgbm as lgb\n",
    "\n",
    "# 创建lightgbm\n",
    "model=lgb.LGBMClassifier(n_estimators=100,random_state=123)\n",
    "\n",
    "# 拟合构造lightbgm\n",
    "model.fit(X_train,Y_train)\n",
    "\n",
    "# 预测测试集中的因变量值\n",
    "Y_pred=model.predict(X_test)"
   ]
  },
  {
   "cell_type": "code",
   "execution_count": 98,
   "metadata": {
    "ExecuteTime": {
     "end_time": "2021-10-16T13:11:27.952499Z",
     "start_time": "2021-10-16T13:11:27.930857Z"
    }
   },
   "outputs": [
    {
     "name": "stdout",
     "output_type": "stream",
     "text": [
      "准确率Accuracy:0.949367\n",
      "精确率Precision:0.898148\n",
      "召回率Recall:0.915094\n",
      "F1 score:0.9065420560747663\n",
      "AUC:0.938516\n"
     ]
    }
   ],
   "source": [
    "print(\"准确率Accuracy:{:3f}\".format(accuracy_score(Y_test,Y_pred)))\n",
    "pre, rec, f1, sup = precision_recall_fscore_support(Y_test,Y_pred)\n",
    "print(\"精确率Precision:{:3f}\".format(pre[0]))\n",
    "print(\"召回率Recall:{:3f}\".format(rec[0]))\n",
    "print(\"F1 score:{}\".format(f1[0]))\n",
    "# 计算auc\n",
    "print(\"AUC:{:3f}\".format(roc_auc_score(Y_test,Y_pred)))"
   ]
  },
  {
   "cell_type": "markdown",
   "metadata": {},
   "source": [
    "预测test中的值(选LightGBM)"
   ]
  },
  {
   "cell_type": "code",
   "execution_count": 99,
   "metadata": {
    "ExecuteTime": {
     "end_time": "2021-10-16T13:11:35.908054Z",
     "start_time": "2021-10-16T13:11:35.891077Z"
    }
   },
   "outputs": [
    {
     "data": {
      "text/plain": [
       "array([1, 1, 1, 1, 1, 1, 1, 1, 1, 1, 1, 1, 1, 1, 1, 1, 1, 1, 1, 0, 1, 1,\n",
       "       0, 0, 0, 1, 1, 1, 1, 1, 1, 1, 1, 1, 1, 1, 1, 1, 1, 1, 1, 1, 1, 1,\n",
       "       1, 1, 1, 1, 1, 1], dtype=int64)"
      ]
     },
     "execution_count": 99,
     "metadata": {},
     "output_type": "execute_result"
    }
   ],
   "source": [
    "x_test=data1[feat_labels[indices[0:50]]]  #预测集中的自变量\n",
    "\n",
    "# 预测 预测集中的因变量值\n",
    "y_pred=model.predict(x_test)\n",
    "y_pred #预测值"
   ]
  },
  {
   "cell_type": "markdown",
   "metadata": {},
   "source": [
    "#### 第三个"
   ]
  },
  {
   "cell_type": "code",
   "execution_count": 169,
   "metadata": {
    "ExecuteTime": {
     "end_time": "2021-10-16T13:58:00.200060Z",
     "start_time": "2021-10-16T13:58:00.185098Z"
    }
   },
   "outputs": [],
   "source": [
    "Y3=dataThird1['hERG']"
   ]
  },
  {
   "cell_type": "code",
   "execution_count": 170,
   "metadata": {
    "ExecuteTime": {
     "end_time": "2021-10-16T13:58:02.746581Z",
     "start_time": "2021-10-16T13:58:01.753246Z"
    }
   },
   "outputs": [
    {
     "data": {
      "text/plain": [
       "RandomForestClassifier(bootstrap=True, class_weight=None, criterion='gini',\n",
       "                       max_depth=None, max_features='auto', max_leaf_nodes=None,\n",
       "                       min_impurity_decrease=0.0, min_impurity_split=None,\n",
       "                       min_samples_leaf=1, min_samples_split=2,\n",
       "                       min_weight_fraction_leaf=0.0, n_estimators=100,\n",
       "                       n_jobs=None, oob_score=False, random_state=123,\n",
       "                       verbose=0, warm_start=False)"
      ]
     },
     "execution_count": 170,
     "metadata": {},
     "output_type": "execute_result"
    }
   ],
   "source": [
    "#建立随机森林分类模型\n",
    "feat_labels=dataFirst1.columns[1:]\n",
    "model=RandomForestClassifier(n_estimators=100,random_state=123)\n",
    "model.fit(dataFirst1.iloc[:,1:],Y3)"
   ]
  },
  {
   "cell_type": "code",
   "execution_count": 171,
   "metadata": {
    "ExecuteTime": {
     "end_time": "2021-10-16T13:58:02.809385Z",
     "start_time": "2021-10-16T13:58:02.748548Z"
    }
   },
   "outputs": [
    {
     "name": "stdout",
     "output_type": "stream",
     "text": [
      " 1) Kier1                          0.026131\n",
      " 2) ECCEN                          0.021027\n",
      " 3) VP-1                           0.020746\n",
      " 4) nHeavyAtom                     0.020639\n",
      " 5) ETA_Alpha                      0.019470\n",
      " 6) ETA_Eta_R_L                    0.019349\n",
      " 7) WPATH                          0.018317\n",
      " 8) CrippenMR                      0.016969\n",
      " 9) McGowan_Volume                 0.015979\n",
      "10) VP-0                           0.015524\n",
      "11) nBonds2                        0.014605\n",
      "12) AMR                            0.014071\n",
      "13) nAtom                          0.014005\n",
      "14) VABC                           0.013856\n",
      "15) apol                           0.013760\n",
      "16) VP-2                           0.013661\n",
      "17) LipoaffinityIndex              0.013405\n",
      "18) VAdjMat                        0.013114\n",
      "19) SP-1                           0.012183\n",
      "20) Kier2                          0.011985\n",
      "21) SP-0                           0.011394\n",
      "22) ATSp1                          0.011019\n",
      "23) nRotB                          0.010377\n",
      "24) bpol                           0.009914\n",
      "25) ETA_Beta_s                     0.009743\n",
      "26) MLFER_L                        0.009462\n",
      "27) SP-2                           0.009344\n",
      "28) ETA_Eta                        0.009287\n",
      "29) ATSm2                          0.008200\n",
      "30) Kier3                          0.008180\n",
      "31) minHBd                         0.007515\n",
      "32) minHsOH                        0.007411\n",
      "33) ATSp2                          0.007315\n",
      "34) nBondsS                        0.006874\n",
      "35) nH                             0.006595\n",
      "36) hmin                           0.006560\n",
      "37) MDEO-11                        0.006556\n",
      "38) SHBint8                        0.006309\n",
      "39) SHsOH                          0.005455\n",
      "40) ETA_Eta_L                      0.005357\n",
      "41) C1SP3                          0.005231\n",
      "42) MW                             0.005164\n",
      "43) BCUTc-1l                       0.005094\n",
      "44) SwHBa                          0.005059\n",
      "45) MDEC-23                        0.004922\n",
      "46) maxHsOH                        0.004835\n",
      "47) HybRatio                       0.004755\n",
      "48) SsOH                           0.004454\n",
      "49) VP-7                           0.004426\n",
      "50) maxHBint8                      0.004379\n",
      "51) minaasC                        0.004325\n",
      "52) SsssN                          0.004253\n",
      "53) ETA_Eta_F                      0.004189\n",
      "54) minsssN                        0.004158\n",
      "55) SHBd                           0.004133\n",
      "56) maxaaCH                        0.004114\n",
      "57) ETA_Beta                       0.004004\n",
      "58) SP-4                           0.003927\n",
      "59) ATSp3                          0.003830\n",
      "60) minHBa                         0.003813\n",
      "61) maxsOH                         0.003805\n",
      "62) ETA_EtaP_F_L                   0.003786\n",
      "63) ETA_dEpsilon_B                 0.003785\n",
      "64) WPOL                           0.003755\n",
      "65) C2SP2                          0.003697\n",
      "66) minaaCH                        0.003584\n",
      "67) MLFER_A                        0.003336\n",
      "68) DELS                           0.003287\n",
      "69) MDEC-22                        0.003282\n",
      "70) MLFER_BH                       0.003220\n",
      "71) SaaCH                          0.003172\n",
      "72) minsOH                         0.003156\n",
      "73) ATSc2                          0.003144\n",
      "74) ATSm5                          0.003035\n",
      "75) ETA_BetaP                      0.003033\n",
      "76) maxaasC                        0.003021\n",
      "77) ETA_Shape_Y                    0.002995\n",
      "78) fragC                          0.002985\n",
      "79) SHother                        0.002969\n",
      "80) FMF                            0.002900\n",
      "81) ETA_EtaP                       0.002885\n",
      "82) maxHBd                         0.002876\n",
      "83) ATSc1                          0.002835\n",
      "84) SaasC                          0.002779\n",
      "85) maxwHBa                        0.002770\n",
      "86) nBondsS2                       0.002763\n",
      "87) MLFER_BO                       0.002708\n",
      "88) maxHaaCH                       0.002706\n",
      "89) XLogP                          0.002686\n",
      "90) ETA_EtaP_F                     0.002684\n",
      "91) ATSc3                          0.002661\n",
      "92) minHaaCH                       0.002646\n",
      "93) TopoPSA                        0.002636\n",
      "94) SHBa                           0.002621\n",
      "95) ETA_Epsilon_4                  0.002593\n",
      "96) maxssCH2                       0.002544\n",
      "97) WTPT-4                         0.002477\n",
      "98) minHBint8                      0.002457\n",
      "99) DELS2                          0.002452\n",
      "100) MAXDN2                         0.002450\n",
      "101) ATSc5                          0.002410\n",
      "102) ETA_Eta_R                      0.002388\n",
      "103) maxsssN                        0.002346\n",
      "104) SdO                            0.002343\n",
      "105) nAtomP                         0.002276\n",
      "106) SssCH2                         0.002265\n",
      "107) ETA_EtaP_B_RC                  0.002259\n",
      "108) CrippenLogP                    0.002251\n",
      "109) MDEC-12                        0.002205\n",
      "110) ETA_EtaP_L                     0.002178\n",
      "111) maxHBint7                      0.002175\n",
      "112) minHother                      0.002162\n",
      "113) ETA_BetaP_ns_d                 0.002154\n",
      "114) BCUTp-1h                       0.002132\n",
      "115) minssCH2                       0.002104\n",
      "116) ETA_dPsi_A                     0.002090\n",
      "117) MLFER_S                        0.002080\n",
      "118) VPC-6                          0.002069\n",
      "119) nHsOH                          0.002055\n",
      "120) ETA_dAlpha_B                   0.002051\n",
      "121) VP-4                           0.002029\n",
      "122) maxsCH3                        0.002019\n",
      "123) ETA_dBetaP                     0.002017\n",
      "124) SHBint6                        0.002009\n",
      "125) ETA_AlphaP                     0.001998\n",
      "126) BCUTp-1l                       0.001996\n",
      "127) VPC-4                          0.001991\n",
      "128) minHCsats                      0.001987\n",
      "129) ETA_Epsilon_1                  0.001983\n",
      "130) SsCH3                          0.001979\n",
      "131) ETA_dEpsilon_A                 0.001941\n",
      "132) ETA_dBeta                      0.001927\n",
      "133) ETA_dEpsilon_C                 0.001923\n",
      "134) VP-6                           0.001917\n",
      "135) MDEC-13                        0.001911\n",
      "136) SCH-6                          0.001901\n",
      "137) SHCsats                        0.001886\n",
      "138) MDEO-12                        0.001878\n",
      "139) SdssC                          0.001869\n",
      "140) nsOH                           0.001867\n",
      "141) ETA_Epsilon_5                  0.001859\n",
      "142) VCH-7                          0.001858\n",
      "143) minsssCH                       0.001855\n",
      "144) ETA_BetaP_s                    0.001851\n",
      "145) BCUTc-1h                       0.001833\n",
      "146) minHssNH                       0.001830\n",
      "147) SP-7                           0.001812\n",
      "148) maxHBint6                      0.001803\n",
      "149) ATSc4                          0.001793\n",
      "150) ATSp5                          0.001784\n",
      "151) ETA_BetaP_ns                   0.001783\n",
      "152) SC-3                           0.001766\n",
      "153) ETA_Psi_1                      0.001760\n",
      "154) MDEC-33                        0.001754\n",
      "155) ALogp2                         0.001753\n",
      "156) hmax                           0.001742\n",
      "157) ETA_Epsilon_2                  0.001726\n",
      "158) ETA_dEpsilon_D                 0.001709\n",
      "159) MAXDP2                         0.001707\n",
      "160) SHCsatu                        0.001660\n",
      "161) SssNH                          0.001645\n",
      "162) ALogP                          0.001640\n",
      "163) gmax                           0.001639\n",
      "164) MAXDN                          0.001637\n",
      "165) WTPT-3                         0.001636\n",
      "166) MLFER_E                        0.001632\n",
      "167) mindssC                        0.001614\n",
      "168) ETA_EtaP_B                     0.001602\n",
      "169) minHBint7                      0.001597\n",
      "170) maxHssNH                       0.001591\n",
      "171) nHBint2                        0.001586\n",
      "172) WTPT-5                         0.001580\n",
      "173) SPC-6                          0.001579\n",
      "174) mindO                          0.001570\n",
      "175) SC-5                           0.001566\n",
      "176) minsCH3                        0.001545\n",
      "177) VCH-6                          0.001544\n",
      "178) SCH-7                          0.001536\n",
      "179) nHother                        0.001527\n",
      "180) SPC-4                          0.001522\n",
      "181) VPC-5                          0.001521\n",
      "182) VP-5                           0.001502\n",
      "183) sumI                           0.001500\n",
      "184) SHBint7                        0.001496\n",
      "185) SHBint10                       0.001490\n",
      "186) SHBint2                        0.001481\n",
      "187) SP-3                           0.001468\n",
      "188) nAtomLC                        0.001465\n",
      "189) SsssCH                         0.001461\n",
      "190) ATSm1                          0.001457\n",
      "191) maxHBa                         0.001444\n",
      "192) VP-3                           0.001428\n",
      "193) maxHBint2                      0.001402\n",
      "194) maxssNH                        0.001384\n",
      "195) minwHBa                        0.001384\n",
      "196) minHBint2                      0.001383\n",
      "197) nHaaCH                         0.001378\n",
      "198) minssO                         0.001378\n",
      "199) SP-6                           0.001369\n",
      "200) gmin                           0.001368\n",
      "201) VC-3                           0.001361\n",
      "202) maxHother                      0.001350\n",
      "203) maxsssCH                       0.001348\n",
      "204) SHssNH                         0.001317\n",
      "205) SaaN                           0.001313\n",
      "206) ATSp4                          0.001309\n",
      "207) SPC-5                          0.001303\n",
      "208) SHaaCH                         0.001271\n",
      "209) WTPT-2                         0.001263\n",
      "210) ETA_Eta_B                      0.001256\n",
      "211) WTPT-1                         0.001251\n",
      "212) maxdssC                        0.001246\n",
      "213) maxHCsatu                      0.001242\n",
      "214) minHBint4                      0.001237\n",
      "215) minssNH                        0.001235\n",
      "216) ATSm4                          0.001225\n",
      "217) MAXDP                          0.001219\n",
      "218) nN                             0.001209\n",
      "219) VCH-5                          0.001200\n",
      "220) minHBint6                      0.001176\n",
      "221) BCUTw-1h                       0.001132\n",
      "222) ETA_Shape_P                    0.001120\n",
      "223) ETA_Eta_F_L                    0.001112\n",
      "224) ETA_Eta_B_RC                   0.001054\n",
      "225) nBondsM                        0.001050\n",
      "226) C3SP2                          0.001048\n",
      "227) SHBint4                        0.001048\n",
      "228) nBondsD                        0.001045\n",
      "229) SCH-5                          0.001042\n",
      "230) ETA_Shape_X                    0.001022\n",
      "231) maxHCsats                      0.000992\n",
      "232) MDEO-22                        0.000976\n",
      "233) maxssO                         0.000976\n",
      "234) naaCH                          0.000968\n",
      "235) ATSm3                          0.000965\n",
      "236) nHCsats                        0.000953\n",
      "237) nwHBa                          0.000932\n",
      "238) Zagreb                         0.000930\n",
      "239) maxdO                          0.000930\n",
      "240) VC-5                           0.000924\n",
      "241) naAromAtom                     0.000919\n",
      "242) minsF                          0.000904\n",
      "243) nF9Ring                        0.000892\n",
      "244) nHssNH                         0.000859\n",
      "245) nBondsS3                       0.000858\n",
      "246) VC-4                           0.000828\n",
      "247) nHBAcc3                        0.000824\n",
      "248) nsCH3                          0.000808\n",
      "249) nBonds                         0.000805\n",
      "250) MLogP                          0.000775\n",
      "251) ETA_Beta_ns                    0.000757\n",
      "252) minHBint10                     0.000757\n",
      "253) SdsCH                          0.000755\n",
      "254) maxHdsCH                       0.000748\n",
      "255) nHBint6                        0.000746\n",
      "256) nHBint7                        0.000743\n",
      "257) nHBAcc                         0.000742\n",
      "258) maxaaO                         0.000742\n",
      "259) SHBint3                        0.000742\n",
      "260) naasC                          0.000737\n",
      "261) minHCsatu                      0.000735\n",
      "262) nO                             0.000733\n",
      "263) maxsF                          0.000716\n",
      "264) SP-5                           0.000714\n",
      "265) MDEC-11                        0.000705\n",
      "266) ETA_Epsilon_3                  0.000695\n",
      "267) nFRing                         0.000692\n",
      "268) minHdsCH                       0.000691\n",
      "269) n6Ring                         0.000656\n",
      "270) minHBint5                      0.000654\n",
      "271) minHAvin                       0.000651\n",
      "272) maxHBint10                     0.000649\n",
      "273) minaaaC                        0.000635\n",
      "274) nHBAcc2                        0.000635\n",
      "275) nHBd                           0.000635\n",
      "276) C2SP3                          0.000634\n",
      "277) nT12Ring                       0.000633\n",
      "278) SssO                           0.000618\n",
      "279) minssssC                       0.000617\n",
      "280) nsssCH                         0.000615\n",
      "281) nssCH2                         0.000611\n",
      "282) nsOm                           0.000609\n",
      "283) maxaaaC                        0.000604\n",
      "284) SC-6                           0.000584\n",
      "285) maxaaN                         0.000583\n",
      "286) SsF                            0.000576\n",
      "287) nAromBond                      0.000572\n",
      "288) nHBAcc_Lipinski                0.000569\n",
      "289) nBondsD2                       0.000558\n",
      "290) nHBint8                        0.000557\n",
      "291) maxHBint5                      0.000551\n",
      "292) minHBint3                      0.000549\n",
      "293) maxHBint3                      0.000548\n",
      "294) minaaS                         0.000535\n",
      "295) nHBint10                       0.000532\n",
      "296) nssNH                          0.000517\n",
      "297) maxHAvin                       0.000506\n",
      "298) maxHBint4                      0.000506\n",
      "299) MDEN-22                        0.000503\n",
      "300) maxdsCH                        0.000503\n",
      "301) SaaaC                          0.000501\n",
      "302) VC-6                           0.000496\n",
      "303) nHBDon                         0.000495\n",
      "304) nAtomLAC                       0.000494\n",
      "305) SssssC                         0.000488\n",
      "306) minaaN                         0.000483\n",
      "307) minHsNH2                       0.000478\n",
      "308) SaaS                           0.000477\n",
      "309) SaasN                          0.000474\n",
      "310) MDEC-34                        0.000473\n",
      "311) nssO                           0.000473\n",
      "312) maxHBint9                      0.000472\n",
      "313) MDEC-14                        0.000467\n",
      "314) nC                             0.000464\n",
      "315) n5Ring                         0.000458\n",
      "316) minsOm                         0.000457\n",
      "317) ndssC                          0.000445\n",
      "318) SaaO                           0.000437\n",
      "319) nHaaNH                         0.000428\n",
      "320) MDEC-24                        0.000426\n",
      "321) SHBint9                        0.000426\n",
      "322) BCUTw-1l                       0.000424\n",
      "323) mindsCH                        0.000422\n",
      "324) SHBint5                        0.000419\n",
      "325) minsCl                         0.000405\n",
      "326) nsssN                          0.000403\n",
      "327) maxaasN                        0.000402\n",
      "328) ndO                            0.000398\n",
      "329) nT9Ring                        0.000395\n",
      "330) nHBint5                        0.000389\n",
      "331) SHAvin                         0.000388\n",
      "332) SHdsCH                         0.000383\n",
      "333) C3SP3                          0.000378\n",
      "334) minaaO                         0.000378\n",
      "335) C1SP2                          0.000377\n",
      "336) MDEN-23                        0.000368\n",
      "337) maxtsC                         0.000353\n",
      "338) nT5Ring                        0.000348\n",
      "339) nHBint4                        0.000347\n",
      "340) PetitjeanNumber                0.000343\n",
      "341) naaaC                          0.000320\n",
      "342) nHBa                           0.000307\n",
      "343) ETA_Beta_ns_d                  0.000303\n",
      "344) SaaNH                          0.000303\n",
      "345) nT6Ring                        0.000303\n",
      "346) SsBr                           0.000296\n",
      "347) minHaaNH                       0.000292\n",
      "348) minHBint9                      0.000285\n",
      "349) maxsOm                         0.000275\n",
      "350) nTRing                         0.000275\n",
      "351) SHsNH2                         0.000271\n",
      "352) maxaaNH                        0.000270\n",
      "353) nsCl                           0.000270\n",
      "354) nHBDon_Lipinski                0.000267\n",
      "355) naaO                           0.000266\n",
      "356) maxsNH2                        0.000265\n",
      "357) SHaaNH                         0.000262\n",
      "358) nssssNp                        0.000252\n",
      "359) minaaNH                        0.000251\n",
      "360) nT11Ring                       0.000249\n",
      "361) ETA_dAlpha_A                   0.000244\n",
      "362) nHBint9                        0.000243\n",
      "363) SsOm                           0.000242\n",
      "364) nF12Ring                       0.000234\n",
      "365) StN                            0.000233\n",
      "366) minaasN                        0.000229\n",
      "367) SdNH                           0.000229\n",
      "368) nAcid                          0.000228\n",
      "369) maxssssC                       0.000226\n",
      "370) SddssS                         0.000221\n",
      "371) nTG12Ring                      0.000217\n",
      "372) nT10Ring                       0.000212\n",
      "373) nsF                            0.000211\n",
      "374) nHCsatu                        0.000207\n",
      "375) maxsCl                         0.000206\n",
      "376) nHBint3                        0.000200\n",
      "377) nX                             0.000194\n",
      "378) C4SP3                          0.000194\n",
      "379) nHdsCH                         0.000194\n",
      "380) SsNH2                          0.000188\n",
      "381) maxHsNH2                       0.000185\n",
      "382) minssssNp                      0.000179\n",
      "383) ndsCH                          0.000178\n",
      "384) naasN                          0.000178\n",
      "385) mindS                          0.000175\n",
      "386) minssS                         0.000174\n",
      "387) maxdS                          0.000173\n",
      "388) nCl                            0.000173\n",
      "389) nT7Ring                        0.000172\n",
      "390) n7Ring                         0.000166\n",
      "391) ndsN                           0.000162\n",
      "392) SdsN                           0.000161\n",
      "393) MDEN-33                        0.000160\n",
      "394) naaS                           0.000159\n",
      "395) nssssC                         0.000159\n",
      "396) nHAvin                         0.000151\n",
      "397) naaN                           0.000150\n",
      "398) LipinskiFailures               0.000148\n",
      "399) SC-4                           0.000148\n",
      "400) mindsN                         0.000143\n",
      "401) minddssS                       0.000137\n",
      "402) SdCH2                          0.000134\n",
      "403) maxdNH                         0.000134\n",
      "404) nHsNH2                         0.000130\n",
      "405) SsCl                           0.000130\n",
      "406) ndNH                           0.000129\n",
      "407) maxtN                          0.000129\n",
      "408) nF10Ring                       0.000128\n",
      "409) SdS                            0.000127\n",
      "410) nsNH2                          0.000126\n",
      "411) SssS                           0.000126\n",
      "412) minsBr                         0.000120\n",
      "413) minsNH2                        0.000115\n",
      "414) nT8Ring                        0.000112\n",
      "415) VCH-4                          0.000111\n",
      "416) nF                             0.000110\n",
      "417) nddssS                         0.000097\n",
      "418) maxHaaNH                       0.000094\n",
      "419) minHdCH2                       0.000093\n",
      "420) maxssssNp                      0.000093\n",
      "421) MDEN-11                        0.000092\n",
      "422) maxHdCH2                       0.000091\n",
      "423) minsI                          0.000089\n",
      "424) nHdCH2                         0.000089\n",
      "425) nRing                          0.000087\n",
      "426) nBr                            0.000083\n",
      "427) C1SP1                          0.000083\n",
      "428) mindCH2                        0.000071\n",
      "429) ndS                            0.000071\n",
      "430) nBondsT                        0.000069\n",
      "431) nwHBd                          0.000068\n",
      "432) nssS                           0.000063\n",
      "433) maxsBr                         0.000061\n",
      "434) maxdsN                         0.000060\n",
      "435) mintsC                         0.000059\n",
      "436) nF11Ring                       0.000058\n",
      "437) StsC                           0.000057\n",
      "438) ETA_dPsi_B                     0.000055\n",
      "439) naaNH                          0.000055\n",
      "440) nHCHnX                         0.000052\n",
      "441) ntsC                           0.000052\n",
      "442) nHsSH                          0.000051\n",
      "443) nS                             0.000047\n",
      "444) MDEN-12                        0.000044\n",
      "445) n12Ring                        0.000042\n",
      "446) SHdNH                          0.000040\n",
      "447) C2SP1                          0.000039\n",
      "448) nFG12Ring                      0.000039\n",
      "449) mintN                          0.000039\n",
      "450) nF8Ring                        0.000039\n",
      "451) minHtCH                        0.000038\n",
      "452) minsSH                         0.000038\n",
      "453) SHdCH2                         0.000038\n",
      "454) SCH-4                          0.000037\n",
      "455) maxHsSH                        0.000037\n",
      "456) nBase                          0.000031\n",
      "457) maxdCH2                        0.000020\n",
      "458) maxsSH                         0.000020\n",
      "459) ntN                            0.000020\n",
      "460) mindNH                         0.000020\n",
      "461) SssssNp                        0.000019\n",
      "462) nI                             0.000019\n",
      "463) nsBr                           0.000018\n",
      "464) maxHCHnX                       0.000017\n",
      "465) StCH                           0.000015\n",
      "466) ntCH                           0.000014\n",
      "467) nF6Ring                        0.000010\n",
      "468) nF7Ring                        0.000010\n",
      "469) maxHtCH                        0.000010\n",
      "470) maxtCH                         0.000000\n",
      "471) SwHBd                          0.000000\n",
      "472) SdsssP                         0.000000\n",
      "473) SHCHnX                         0.000000\n",
      "474) nP                             0.000000\n",
      "475) SHtCH                          0.000000\n",
      "476) SHsSH                          0.000000\n",
      "477) nsI                            0.000000\n",
      "478) ndssS                          0.000000\n",
      "479) nT4Ring                        0.000000\n",
      "480) nsSH                           0.000000\n",
      "481) ndsssP                         0.000000\n",
      "482) nHdNH                          0.000000\n",
      "483) nHtCH                          0.000000\n",
      "484) ndCH2                          0.000000\n",
      "485) SsSH                           0.000000\n",
      "486) SdssS                          0.000000\n",
      "487) SsI                            0.000000\n",
      "488) nG12Ring                       0.000000\n",
      "489) maxHdNH                        0.000000\n",
      "490) maxwHBd                        0.000000\n",
      "491) mindssS                        0.000000\n",
      "492) SCH-3                          0.000000\n",
      "493) MDEC-44                        0.000000\n",
      "494) VCH-3                          0.000000\n",
      "495) mindsssP                       0.000000\n",
      "496) MDEN-13                        0.000000\n",
      "497) mintCH                         0.000000\n",
      "498) minHCHnX                       0.000000\n",
      "499) n3Ring                         0.000000\n",
      "500) n4Ring                         0.000000\n",
      "501) minHdNH                        0.000000\n",
      "502) n8Ring                         0.000000\n",
      "503) minwHBd                        0.000000\n",
      "504) minHsSH                        0.000000\n"
     ]
    }
   ],
   "source": [
    "#变量重要性\n",
    "importances=model.feature_importances_\n",
    "indices = np.argsort(importances)[::-1]\n",
    "for i in range(dataFirst1.shape[1]-1):\n",
    "    print(\"%2d) %-*s %f\" % (i + 1, 30, feat_labels[indices[i]], importances[indices[i]]))"
   ]
  },
  {
   "cell_type": "code",
   "execution_count": 172,
   "metadata": {
    "ExecuteTime": {
     "end_time": "2021-10-16T13:58:05.213419Z",
     "start_time": "2021-10-16T13:58:05.202448Z"
    }
   },
   "outputs": [
    {
     "data": {
      "text/plain": [
       "0.5399855297016459"
      ]
     },
     "execution_count": 172,
     "metadata": {},
     "output_type": "execute_result"
    }
   ],
   "source": [
    "sum(importances[indices[0:50]]) #筛选后前50个贡献度总和"
   ]
  },
  {
   "cell_type": "code",
   "execution_count": 173,
   "metadata": {
    "ExecuteTime": {
     "end_time": "2021-10-16T13:58:06.287357Z",
     "start_time": "2021-10-16T13:58:06.281373Z"
    }
   },
   "outputs": [],
   "source": [
    "dataFirst7=dataFirst1.iloc[:,indices[0:50]+1]\n",
    "data=dataFirst7"
   ]
  },
  {
   "cell_type": "code",
   "execution_count": 174,
   "metadata": {
    "ExecuteTime": {
     "end_time": "2021-10-16T13:58:07.737155Z",
     "start_time": "2021-10-16T13:58:07.717025Z"
    }
   },
   "outputs": [],
   "source": [
    "from sklearn.model_selection import train_test_split\n",
    "X_train,X_test,Y_train,Y_test=train_test_split(data,Y3,train_size=0.8,shuffle=True)#样本数据前80%做为训练集，后20%做为测试集"
   ]
  },
  {
   "cell_type": "code",
   "execution_count": 344,
   "metadata": {
    "ExecuteTime": {
     "end_time": "2021-10-16T12:10:11.318051Z",
     "start_time": "2021-10-16T12:10:11.052063Z"
    }
   },
   "outputs": [],
   "source": [
    "from sklearn import svm\n",
    "model = svm.SVC(C=80,gamma=0.0001)\n",
    "model.fit(X_train,Y_train)\n",
    "\n",
    "# 预测测试集中的因变量值\n",
    "Y_pred=model.predict(X_test)"
   ]
  },
  {
   "cell_type": "code",
   "execution_count": 345,
   "metadata": {
    "ExecuteTime": {
     "end_time": "2021-10-16T12:10:11.942153Z",
     "start_time": "2021-10-16T12:10:11.923179Z"
    },
    "scrolled": true
   },
   "outputs": [
    {
     "name": "stdout",
     "output_type": "stream",
     "text": [
      "准确率Accuracy:0.840506\n",
      "精确率Precision:0.793548\n",
      "召回率Recall:0.798701\n",
      "F1 score:0.796116504854369\n",
      "AUC:0.832961\n"
     ]
    }
   ],
   "source": [
    "print(\"准确率Accuracy:{:3f}\".format(accuracy_score(Y_test,Y_pred)))\n",
    "pre, rec, f1, sup = precision_recall_fscore_support(Y_test,Y_pred)\n",
    "print(\"精确率Precision:{:3f}\".format(pre[0]))\n",
    "print(\"召回率Recall:{:3f}\".format(rec[0]))\n",
    "print(\"F1 score:{}\".format(f1[0]))\n",
    "# 计算auc\n",
    "print(\"AUC:{:3f}\".format(roc_auc_score(Y_test,Y_pred)))"
   ]
  },
  {
   "cell_type": "code",
   "execution_count": 175,
   "metadata": {
    "ExecuteTime": {
     "end_time": "2021-10-16T13:58:11.785718Z",
     "start_time": "2021-10-16T13:58:11.537191Z"
    }
   },
   "outputs": [],
   "source": [
    "import lightgbm as lgb\n",
    "\n",
    "# 创建lightgbm\n",
    "model=lgb.LGBMClassifier(n_estimators=100,random_state=123)\n",
    "\n",
    "# 拟合构造lightbgm\n",
    "model.fit(X_train,Y_train)\n",
    "\n",
    "# 预测测试集中的因变量值\n",
    "Y_pred=model.predict(X_test)"
   ]
  },
  {
   "cell_type": "code",
   "execution_count": 176,
   "metadata": {
    "ExecuteTime": {
     "end_time": "2021-10-16T13:58:12.541754Z",
     "start_time": "2021-10-16T13:58:12.520169Z"
    }
   },
   "outputs": [
    {
     "name": "stdout",
     "output_type": "stream",
     "text": [
      "准确率Accuracy:0.896203\n",
      "精确率Precision:0.873563\n",
      "召回率Recall:0.888889\n",
      "F1 score:0.881159420289855\n",
      "AUC:0.895337\n"
     ]
    }
   ],
   "source": [
    "print(\"准确率Accuracy:{:3f}\".format(accuracy_score(Y_test,Y_pred)))\n",
    "pre, rec, f1, sup = precision_recall_fscore_support(Y_test,Y_pred)\n",
    "print(\"精确率Precision:{:3f}\".format(pre[0]))\n",
    "print(\"召回率Recall:{:3f}\".format(rec[0]))\n",
    "print(\"F1 score:{}\".format(f1[0]))\n",
    "# 计算auc\n",
    "print(\"AUC:{:3f}\".format(roc_auc_score(Y_test,Y_pred)))"
   ]
  },
  {
   "cell_type": "markdown",
   "metadata": {},
   "source": [
    "预测test中的值(选LightGBM)"
   ]
  },
  {
   "cell_type": "code",
   "execution_count": 111,
   "metadata": {
    "ExecuteTime": {
     "end_time": "2021-10-16T13:19:17.984775Z",
     "start_time": "2021-10-16T13:19:17.953868Z"
    }
   },
   "outputs": [
    {
     "data": {
      "text/plain": [
       "array([1, 1, 1, 1, 1, 1, 1, 1, 1, 1, 1, 1, 1, 1, 1, 1, 1, 1, 1, 0, 1, 1,\n",
       "       0, 0, 1, 1, 1, 1, 1, 1, 1, 1, 1, 1, 1, 0, 1, 1, 0, 0, 0, 0, 0, 0,\n",
       "       0, 1, 1, 1, 1, 1], dtype=int64)"
      ]
     },
     "execution_count": 111,
     "metadata": {},
     "output_type": "execute_result"
    }
   ],
   "source": [
    "x_test=data1[feat_labels[indices[0:50]]]  #预测集中的自变量\n",
    "\n",
    "# 预测 预测集中的因变量值\n",
    "y_pred=model.predict(x_test)\n",
    "y_pred #预测值"
   ]
  },
  {
   "cell_type": "markdown",
   "metadata": {},
   "source": [
    "#### 第四个"
   ]
  },
  {
   "cell_type": "code",
   "execution_count": 177,
   "metadata": {
    "ExecuteTime": {
     "end_time": "2021-10-16T13:58:23.788814Z",
     "start_time": "2021-10-16T13:58:23.775848Z"
    }
   },
   "outputs": [],
   "source": [
    "Y4=dataThird1['HOB']"
   ]
  },
  {
   "cell_type": "code",
   "execution_count": 178,
   "metadata": {
    "ExecuteTime": {
     "end_time": "2021-10-16T13:58:25.894594Z",
     "start_time": "2021-10-16T13:58:24.888061Z"
    }
   },
   "outputs": [
    {
     "data": {
      "text/plain": [
       "RandomForestClassifier(bootstrap=True, class_weight=None, criterion='gini',\n",
       "                       max_depth=None, max_features='auto', max_leaf_nodes=None,\n",
       "                       min_impurity_decrease=0.0, min_impurity_split=None,\n",
       "                       min_samples_leaf=1, min_samples_split=2,\n",
       "                       min_weight_fraction_leaf=0.0, n_estimators=100,\n",
       "                       n_jobs=None, oob_score=False, random_state=123,\n",
       "                       verbose=0, warm_start=False)"
      ]
     },
     "execution_count": 178,
     "metadata": {},
     "output_type": "execute_result"
    }
   ],
   "source": [
    "#建立随机森林分类模型\n",
    "feat_labels=dataFirst1.columns[1:]\n",
    "model=RandomForestClassifier(n_estimators=100,random_state=123)\n",
    "model.fit(dataFirst1.iloc[:,1:],Y4)"
   ]
  },
  {
   "cell_type": "code",
   "execution_count": 179,
   "metadata": {
    "ExecuteTime": {
     "end_time": "2021-10-16T13:58:26.581000Z",
     "start_time": "2021-10-16T13:58:26.530159Z"
    }
   },
   "outputs": [
    {
     "name": "stdout",
     "output_type": "stream",
     "text": [
      " 1) BCUTc-1l                       0.036341\n",
      " 2) SHsOH                          0.023942\n",
      " 3) maxHsOH                        0.023221\n",
      " 4) MLFER_A                        0.015725\n",
      " 5) SsOH                           0.015295\n",
      " 6) minHsOH                        0.014827\n",
      " 7) minsOH                         0.013952\n",
      " 8) nHsOH                          0.013907\n",
      " 9) nsOH                           0.012511\n",
      "10) maxsOH                         0.011432\n",
      "11) minaasC                        0.009021\n",
      "12) maxHBd                         0.008654\n",
      "13) SHBd                           0.008337\n",
      "14) SdO                            0.006999\n",
      "15) MDEC-23                        0.006990\n",
      "16) VP-5                           0.006942\n",
      "17) BCUTp-1l                       0.006277\n",
      "18) WTPT-5                         0.006166\n",
      "19) VP-3                           0.006107\n",
      "20) nHBAcc                         0.005927\n",
      "21) minssO                         0.005871\n",
      "22) maxdO                          0.005793\n",
      "23) hmin                           0.005620\n",
      "24) MDEN-22                        0.005613\n",
      "25) ATSc3                          0.005521\n",
      "26) ATSc2                          0.005068\n",
      "27) minaaCH                        0.005049\n",
      "28) minHother                      0.004947\n",
      "29) SaasC                          0.004938\n",
      "30) nBondsS                        0.004938\n",
      "31) ETA_dEpsilon_D                 0.004911\n",
      "32) ETA_Shape_P                    0.004882\n",
      "33) gmin                           0.004733\n",
      "34) ETA_EtaP_L                     0.004632\n",
      "35) BCUTc-1h                       0.004615\n",
      "36) VP-2                           0.004566\n",
      "37) ETA_BetaP_s                    0.004564\n",
      "38) WTPT-2                         0.004539\n",
      "39) maxHBint6                      0.004508\n",
      "40) VP-6                           0.004432\n",
      "41) VP-4                           0.004431\n",
      "42) MLFER_BH                       0.004403\n",
      "43) MAXDP                          0.004398\n",
      "44) maxHCsats                      0.004365\n",
      "45) VPC-5                          0.004332\n",
      "46) minHBa                         0.004278\n",
      "47) MDEC-22                        0.004178\n",
      "48) gmax                           0.004155\n",
      "49) MLFER_BO                       0.004106\n",
      "50) maxssO                         0.004089\n",
      "51) SCH-6                          0.004065\n",
      "52) FMF                            0.004057\n",
      "53) mindO                          0.004020\n",
      "54) nBondsS2                       0.003995\n",
      "55) MLFER_E                        0.003969\n",
      "56) VCH-7                          0.003955\n",
      "57) ATSp1                          0.003901\n",
      "58) MAXDN                          0.003873\n",
      "59) minsssN                        0.003840\n",
      "60) MAXDN2                         0.003819\n",
      "61) fragC                          0.003794\n",
      "62) VP-7                           0.003761\n",
      "63) XLogP                          0.003734\n",
      "64) maxHBint10                     0.003678\n",
      "65) maxHBa                         0.003658\n",
      "66) hmax                           0.003651\n",
      "67) nHBDon_Lipinski                0.003627\n",
      "68) maxHCsatu                      0.003623\n",
      "69) WTPT-4                         0.003617\n",
      "70) BCUTw-1h                       0.003590\n",
      "71) SC-5                           0.003589\n",
      "72) WTPT-3                         0.003571\n",
      "73) DELS                           0.003537\n",
      "74) SHCsatu                        0.003520\n",
      "75) ETA_Shape_Y                    0.003506\n",
      "76) SPC-5                          0.003503\n",
      "77) MLFER_S                        0.003456\n",
      "78) minHBd                         0.003437\n",
      "79) VPC-4                          0.003396\n",
      "80) ATSc5                          0.003375\n",
      "81) nBonds2                        0.003359\n",
      "82) ATSc1                          0.003346\n",
      "83) SPC-4                          0.003342\n",
      "84) SP-6                           0.003317\n",
      "85) maxwHBa                        0.003284\n",
      "86) ALogp2                         0.003278\n",
      "87) ETA_EtaP_B                     0.003277\n",
      "88) VC-5                           0.003249\n",
      "89) SPC-6                          0.003209\n",
      "90) maxsCH3                        0.003173\n",
      "91) TopoPSA                        0.003168\n",
      "92) SCH-7                          0.003166\n",
      "93) SdssC                          0.003136\n",
      "94) ATSm2                          0.003136\n",
      "95) ETA_EtaP_F_L                   0.003132\n",
      "96) VCH-6                          0.003124\n",
      "97) VC-3                           0.003123\n",
      "98) LipoaffinityIndex              0.003106\n",
      "99) SaaCH                          0.003090\n",
      "100) ALogP                          0.003072\n",
      "101) MLFER_L                        0.003027\n",
      "102) minHBint3                      0.003008\n",
      "103) ATSm4                          0.003002\n",
      "104) nC                             0.002991\n",
      "105) ETA_Eta                        0.002989\n",
      "106) C2SP3                          0.002987\n",
      "107) ETA_Epsilon_5                  0.002980\n",
      "108) ndO                            0.002968\n",
      "109) MDEC-12                        0.002966\n",
      "110) ETA_dEpsilon_B                 0.002962\n",
      "111) maxssCH2                       0.002954\n",
      "112) SHother                        0.002939\n",
      "113) mindssC                        0.002931\n",
      "114) MDEC-33                        0.002915\n",
      "115) MAXDP2                         0.002877\n",
      "116) VP-1                           0.002849\n",
      "117) minHBint6                      0.002841\n",
      "118) ATSm1                          0.002834\n",
      "119) nN                             0.002818\n",
      "120) ETA_EtaP_F                     0.002802\n",
      "121) maxHaaCH                       0.002791\n",
      "122) SHBa                           0.002779\n",
      "123) HybRatio                       0.002763\n",
      "124) SHBint6                        0.002759\n",
      "125) ETA_EtaP_B_RC                  0.002749\n",
      "126) MLogP                          0.002745\n",
      "127) minHBint10                     0.002729\n",
      "128) WTPT-1                         0.002729\n",
      "129) ETA_Epsilon_1                  0.002701\n",
      "130) minHaaCH                       0.002692\n",
      "131) ETA_Alpha                      0.002669\n",
      "132) ETA_Eta_L                      0.002665\n",
      "133) MDEC-13                        0.002657\n",
      "134) WPATH                          0.002629\n",
      "135) maxHother                      0.002628\n",
      "136) maxaasC                        0.002622\n",
      "137) C1SP2                          0.002615\n",
      "138) ECCEN                          0.002601\n",
      "139) MDEO-11                        0.002601\n",
      "140) ATSc4                          0.002580\n",
      "141) ETA_BetaP_ns                   0.002578\n",
      "142) ETA_Eta_B                      0.002569\n",
      "143) SsCH3                          0.002568\n",
      "144) ETA_dEpsilon_A                 0.002562\n",
      "145) minwHBa                        0.002554\n",
      "146) SwHBa                          0.002531\n",
      "147) minsCH3                        0.002530\n",
      "148) maxaaCH                        0.002506\n",
      "149) ETA_Epsilon_4                  0.002491\n",
      "150) ETA_BetaP_ns_d                 0.002485\n",
      "151) ETA_AlphaP                     0.002474\n",
      "152) BCUTp-1h                       0.002460\n",
      "153) VPC-6                          0.002427\n",
      "154) ETA_Epsilon_3                  0.002399\n",
      "155) ETA_dPsi_A                     0.002379\n",
      "156) ETA_Epsilon_2                  0.002370\n",
      "157) AMR                            0.002350\n",
      "158) ETA_Eta_B_RC                   0.002309\n",
      "159) nAtomLAC                       0.002297\n",
      "160) ETA_dBetaP                     0.002295\n",
      "161) VABC                           0.002285\n",
      "162) MDEN-33                        0.002276\n",
      "163) SC-3                           0.002264\n",
      "164) nAtomP                         0.002259\n",
      "165) ATSp5                          0.002238\n",
      "166) SP-7                           0.002220\n",
      "167) ETA_BetaP                      0.002210\n",
      "168) Kier3                          0.002179\n",
      "169) minaaaC                        0.002178\n",
      "170) ETA_dEpsilon_C                 0.002171\n",
      "171) ETA_Psi_1                      0.002143\n",
      "172) ETA_Eta_R_L                    0.002130\n",
      "173) VCH-5                          0.002129\n",
      "174) Kier1                          0.002125\n",
      "175) CrippenLogP                    0.002120\n",
      "176) minHBint7                      0.002110\n",
      "177) nHeavyAtom                     0.002109\n",
      "178) MW                             0.002107\n",
      "179) nAtom                          0.002105\n",
      "180) MDEO-12                        0.002079\n",
      "181) naasC                          0.002044\n",
      "182) ETA_Eta_F                      0.002026\n",
      "183) DELS2                          0.002022\n",
      "184) C2SP2                          0.002008\n",
      "185) CrippenMR                      0.001977\n",
      "186) SP-4                           0.001977\n",
      "187) SHCsats                        0.001954\n",
      "188) SHBint7                        0.001949\n",
      "189) Kier2                          0.001927\n",
      "190) SP-2                           0.001916\n",
      "191) ATSp2                          0.001906\n",
      "192) sumI                           0.001894\n",
      "193) SHBint10                       0.001892\n",
      "194) nHBDon                         0.001890\n",
      "195) SHBint5                        0.001885\n",
      "196) SssCH2                         0.001877\n",
      "197) SHaaCH                         0.001876\n",
      "198) ATSp4                          0.001867\n",
      "199) SsssN                          0.001856\n",
      "200) SHBint3                        0.001833\n",
      "201) maxHBint5                      0.001832\n",
      "202) SP-1                           0.001811\n",
      "203) minHCsats                      0.001809\n",
      "204) minHBint4                      0.001791\n",
      "205) minssCH2                       0.001784\n",
      "206) maxaaaC                        0.001781\n",
      "207) maxHBint9                      0.001773\n",
      "208) SHBint2                        0.001763\n",
      "209) ETA_dBeta                      0.001759\n",
      "210) ETA_Beta_ns_d                  0.001721\n",
      "211) ATSp3                          0.001707\n",
      "212) minHBint5                      0.001671\n",
      "213) minHCsatu                      0.001671\n",
      "214) MDEC-14                        0.001639\n",
      "215) SCH-5                          0.001636\n",
      "216) SP-5                           0.001636\n",
      "217) bpol                           0.001630\n",
      "218) ETA_Eta_R                      0.001617\n",
      "219) ETA_EtaP                       0.001617\n",
      "220) SP-3                           0.001613\n",
      "221) SHBint4                        0.001601\n",
      "222) maxHBint2                      0.001598\n",
      "223) nHCsatu                        0.001595\n",
      "224) nH                             0.001594\n",
      "225) maxHssNH                       0.001582\n",
      "226) maxHBint7                      0.001569\n",
      "227) SssO                           0.001561\n",
      "228) maxHBint3                      0.001550\n",
      "229) ATSm5                          0.001531\n",
      "230) SHBint9                        0.001516\n",
      "231) SP-0                           0.001497\n",
      "232) McGowan_Volume                 0.001484\n",
      "233) nTRing                         0.001474\n",
      "234) ETA_dAlpha_B                   0.001465\n",
      "235) ETA_Eta_F_L                    0.001461\n",
      "236) ATSm3                          0.001453\n",
      "237) maxaaN                         0.001399\n",
      "238) maxHBint8                      0.001399\n",
      "239) maxdssC                        0.001393\n",
      "240) maxsssN                        0.001392\n",
      "241) ndssC                          0.001375\n",
      "242) nsCH3                          0.001367\n",
      "243) minHssNH                       0.001367\n",
      "244) VC-4                           0.001360\n",
      "245) ETA_Beta_s                     0.001331\n",
      "246) nHBint10                       0.001330\n",
      "247) C3SP2                          0.001313\n",
      "248) ETA_Beta_ns                    0.001309\n",
      "249) minHBint8                      0.001307\n",
      "250) MDEO-22                        0.001307\n",
      "251) minsssCH                       0.001301\n",
      "252) maxHAvin                       0.001290\n",
      "253) SHssNH                         0.001275\n",
      "254) maxssNH                        0.001225\n",
      "255) SsssCH                         0.001219\n",
      "256) Zagreb                         0.001218\n",
      "257) nHaaCH                         0.001185\n",
      "258) nBonds                         0.001176\n",
      "259) minHBint9                      0.001172\n",
      "260) nHBAcc_Lipinski                0.001152\n",
      "261) VP-0                           0.001152\n",
      "262) nBondsS3                       0.001151\n",
      "263) BCUTw-1l                       0.001150\n",
      "264) MDEN-23                        0.001143\n",
      "265) MDEC-11                        0.001137\n",
      "266) MDEC-24                        0.001112\n",
      "267) minsCl                         0.001103\n",
      "268) SHdsCH                         0.001097\n",
      "269) SHBint8                        0.001087\n",
      "270) mindsCH                        0.001079\n",
      "271) ETA_Shape_X                    0.001074\n",
      "272) nAtomLC                        0.001056\n",
      "273) apol                           0.001046\n",
      "274) maxHBint4                      0.001042\n",
      "275) WPOL                           0.001034\n",
      "276) nHBint5                        0.001026\n",
      "277) nHBd                           0.001004\n",
      "278) ETA_Beta                       0.000992\n",
      "279) nsssN                          0.000990\n",
      "280) SssssC                         0.000988\n",
      "281) nAromBond                      0.000983\n",
      "282) nRotB                          0.000959\n",
      "283) maxaaO                         0.000958\n",
      "284) MDEC-34                        0.000955\n",
      "285) SaaaC                          0.000949\n",
      "286) minssNH                        0.000925\n",
      "287) SC-6                           0.000925\n",
      "288) nBondsM                        0.000904\n",
      "289) nHBint3                        0.000901\n",
      "290) nRing                          0.000898\n",
      "291) SssS                           0.000897\n",
      "292) nssCH2                         0.000892\n",
      "293) SaaN                           0.000888\n",
      "294) PetitjeanNumber                0.000882\n",
      "295) nHBAcc2                        0.000857\n",
      "296) maxsCl                         0.000851\n",
      "297) nssNH                          0.000839\n",
      "298) minssS                         0.000827\n",
      "299) nO                             0.000826\n",
      "300) SsBr                           0.000826\n",
      "301) nT6Ring                        0.000813\n",
      "302) nBondsD                        0.000812\n",
      "303) VAdjMat                        0.000809\n",
      "304) minaaO                         0.000795\n",
      "305) naaN                           0.000794\n",
      "306) minsOm                         0.000788\n",
      "307) minHBint2                      0.000788\n",
      "308) nHother                        0.000783\n",
      "309) nCl                            0.000766\n",
      "310) n6Ring                         0.000761\n",
      "311) maxHdsCH                       0.000760\n",
      "312) nHBAcc3                        0.000760\n",
      "313) naAromAtom                     0.000759\n",
      "314) nwHBa                          0.000756\n",
      "315) SdsCH                          0.000750\n",
      "316) minaaN                         0.000746\n",
      "317) maxaaNH                        0.000740\n",
      "318) C1SP3                          0.000708\n",
      "319) nHBa                           0.000698\n",
      "320) minaasN                        0.000697\n",
      "321) minsF                          0.000697\n",
      "322) nHBint2                        0.000689\n",
      "323) nHBint6                        0.000687\n",
      "324) minssssC                       0.000686\n",
      "325) maxHaaNH                       0.000673\n",
      "326) nF9Ring                        0.000659\n",
      "327) nF10Ring                       0.000652\n",
      "328) SaasN                          0.000650\n",
      "329) maxsssCH                       0.000637\n",
      "330) nHCsats                        0.000627\n",
      "331) minaaNH                        0.000624\n",
      "332) C4SP3                          0.000619\n",
      "333) SaaO                           0.000616\n",
      "334) nHBint7                        0.000616\n",
      "335) minHAvin                       0.000610\n",
      "336) SsCl                           0.000610\n",
      "337) nT9Ring                        0.000606\n",
      "338) nssS                           0.000597\n",
      "339) VC-6                           0.000589\n",
      "340) maxdsCH                        0.000575\n",
      "341) SsF                            0.000568\n",
      "342) minHdsCH                       0.000568\n",
      "343) nFG12Ring                      0.000548\n",
      "344) SdsN                           0.000535\n",
      "345) StN                            0.000534\n",
      "346) nssO                           0.000523\n",
      "347) nHssNH                         0.000519\n",
      "348) nsOm                           0.000518\n",
      "349) nssssC                         0.000509\n",
      "350) nS                             0.000508\n",
      "351) C3SP3                          0.000507\n",
      "352) nFRing                         0.000499\n",
      "353) nX                             0.000486\n",
      "354) nHBint4                        0.000482\n",
      "355) naaaC                          0.000481\n",
      "356) maxaasN                        0.000478\n",
      "357) maxtsC                         0.000471\n",
      "358) naaCH                          0.000463\n",
      "359) MDEC-44                        0.000459\n",
      "360) minddssS                       0.000453\n",
      "361) maxsF                          0.000447\n",
      "362) nT5Ring                        0.000446\n",
      "363) maxsOm                         0.000437\n",
      "364) nBondsD2                       0.000433\n",
      "365) n5Ring                         0.000427\n",
      "366) SHaaNH                         0.000424\n",
      "367) nT10Ring                       0.000418\n",
      "368) nHBint9                        0.000416\n",
      "369) StsC                           0.000412\n",
      "370) SddssS                         0.000400\n",
      "371) ntsC                           0.000396\n",
      "372) SssNH                          0.000378\n",
      "373) maxtN                          0.000372\n",
      "374) SC-4                           0.000372\n",
      "375) minHsNH2                       0.000372\n",
      "376) nsssCH                         0.000355\n",
      "377) MDEN-12                        0.000347\n",
      "378) SaaNH                          0.000346\n",
      "379) SsOm                           0.000346\n",
      "380) nHBint8                        0.000335\n",
      "381) maxdsN                         0.000322\n",
      "382) nddssS                         0.000320\n",
      "383) minHaaNH                       0.000307\n",
      "384) maxssssC                       0.000299\n",
      "385) SHAvin                         0.000296\n",
      "386) SaaS                           0.000286\n",
      "387) maxsBr                         0.000286\n",
      "388) mindsN                         0.000281\n",
      "389) nsNH2                          0.000266\n",
      "390) minaaS                         0.000252\n",
      "391) nAcid                          0.000250\n",
      "392) SdS                            0.000247\n",
      "393) maxHtCH                        0.000229\n",
      "394) LipinskiFailures               0.000225\n",
      "395) nsF                            0.000224\n",
      "396) maxdCH2                        0.000220\n",
      "397) ETA_dAlpha_A                   0.000217\n",
      "398) minsBr                         0.000216\n",
      "399) minHdCH2                       0.000212\n",
      "400) mintsC                         0.000199\n",
      "401) nsCl                           0.000197\n",
      "402) nHdsCH                         0.000193\n",
      "403) SHdCH2                         0.000190\n",
      "404) ndsN                           0.000190\n",
      "405) nsBr                           0.000187\n",
      "406) minsNH2                        0.000169\n",
      "407) nTG12Ring                      0.000166\n",
      "408) nF                             0.000166\n",
      "409) naaO                           0.000163\n",
      "410) ndsCH                          0.000161\n",
      "411) maxtCH                         0.000161\n",
      "412) MDEN-11                        0.000160\n",
      "413) mintCH                         0.000157\n",
      "414) n3Ring                         0.000157\n",
      "415) naaNH                          0.000156\n",
      "416) nHaaNH                         0.000147\n",
      "417) naasN                          0.000146\n",
      "418) SsNH2                          0.000146\n",
      "419) SdCH2                          0.000141\n",
      "420) naaS                           0.000129\n",
      "421) maxdS                          0.000128\n",
      "422) C1SP1                          0.000125\n",
      "423) MDEN-13                        0.000122\n",
      "424) nT7Ring                        0.000116\n",
      "425) maxsNH2                        0.000111\n",
      "426) maxHdCH2                       0.000105\n",
      "427) mindS                          0.000103\n",
      "428) nBondsT                        0.000102\n",
      "429) nP                             0.000099\n",
      "430) VCH-3                          0.000089\n",
      "431) nBr                            0.000084\n",
      "432) ndCH2                          0.000084\n",
      "433) nBase                          0.000077\n",
      "434) ndS                            0.000076\n",
      "435) n7Ring                         0.000072\n",
      "436) mindCH2                        0.000071\n",
      "437) maxHsNH2                       0.000066\n",
      "438) mintN                          0.000064\n",
      "439) nHAvin                         0.000062\n",
      "440) nT12Ring                       0.000058\n",
      "441) minHtCH                        0.000052\n",
      "442) SHsNH2                         0.000049\n",
      "443) nT8Ring                        0.000046\n",
      "444) minwHBd                        0.000046\n",
      "445) maxwHBd                        0.000044\n",
      "446) nF11Ring                       0.000044\n",
      "447) SCH-4                          0.000042\n",
      "448) VCH-4                          0.000038\n",
      "449) nHdCH2                         0.000034\n",
      "450) nT11Ring                       0.000034\n",
      "451) SHCHnX                         0.000034\n",
      "452) nF8Ring                        0.000033\n",
      "453) StCH                           0.000026\n",
      "454) SCH-3                          0.000026\n",
      "455) nHsNH2                         0.000025\n",
      "456) nT4Ring                        0.000025\n",
      "457) ntN                            0.000025\n",
      "458) nF12Ring                       0.000024\n",
      "459) n12Ring                        0.000000\n",
      "460) nI                             0.000000\n",
      "461) maxsSH                         0.000000\n",
      "462) ETA_dPsi_B                     0.000000\n",
      "463) maxssssNp                      0.000000\n",
      "464) n8Ring                         0.000000\n",
      "465) maxdNH                         0.000000\n",
      "466) nG12Ring                       0.000000\n",
      "467) nF6Ring                        0.000000\n",
      "468) nF7Ring                        0.000000\n",
      "469) n4Ring                         0.000000\n",
      "470) nHdNH                          0.000000\n",
      "471) maxHCHnX                       0.000000\n",
      "472) nsSH                           0.000000\n",
      "473) SHtCH                          0.000000\n",
      "474) SHsSH                          0.000000\n",
      "475) SHdNH                          0.000000\n",
      "476) SwHBd                          0.000000\n",
      "477) nsI                            0.000000\n",
      "478) ndssS                          0.000000\n",
      "479) ndsssP                         0.000000\n",
      "480) maxHsSH                        0.000000\n",
      "481) nssssNp                        0.000000\n",
      "482) ndNH                           0.000000\n",
      "483) ntCH                           0.000000\n",
      "484) nHCHnX                         0.000000\n",
      "485) nwHBd                          0.000000\n",
      "486) nHtCH                          0.000000\n",
      "487) SdNH                           0.000000\n",
      "488) SssssNp                        0.000000\n",
      "489) SdsssP                         0.000000\n",
      "490) SsSH                           0.000000\n",
      "491) SdssS                          0.000000\n",
      "492) SsI                            0.000000\n",
      "493) minHdNH                        0.000000\n",
      "494) minHCHnX                       0.000000\n",
      "495) nHsSH                          0.000000\n",
      "496) C2SP1                          0.000000\n",
      "497) mindNH                         0.000000\n",
      "498) minssssNp                      0.000000\n",
      "499) mindsssP                       0.000000\n",
      "500) minsSH                         0.000000\n",
      "501) mindssS                        0.000000\n",
      "502) minsI                          0.000000\n",
      "503) maxHdNH                        0.000000\n",
      "504) minHsSH                        0.000000\n"
     ]
    }
   ],
   "source": [
    "#变量重要性\n",
    "importances=model.feature_importances_\n",
    "indices = np.argsort(importances)[::-1]\n",
    "for i in range(dataFirst1.shape[1]-1):\n",
    "    print(\"%2d) %-*s %f\" % (i + 1, 30, feat_labels[indices[i]], importances[indices[i]]))"
   ]
  },
  {
   "cell_type": "code",
   "execution_count": 180,
   "metadata": {
    "ExecuteTime": {
     "end_time": "2021-10-16T13:58:31.006269Z",
     "start_time": "2021-10-16T13:58:31.001253Z"
    }
   },
   "outputs": [
    {
     "data": {
      "text/plain": [
       "0.39504886652453647"
      ]
     },
     "execution_count": 180,
     "metadata": {},
     "output_type": "execute_result"
    }
   ],
   "source": [
    "sum(importances[indices[0:50]]) #筛选后前50个贡献度总和"
   ]
  },
  {
   "cell_type": "code",
   "execution_count": 181,
   "metadata": {
    "ExecuteTime": {
     "end_time": "2021-10-16T13:58:32.158223Z",
     "start_time": "2021-10-16T13:58:32.153213Z"
    }
   },
   "outputs": [],
   "source": [
    "dataFirst8=dataFirst1.iloc[:,indices[0:50]+1]\n",
    "data=dataFirst8"
   ]
  },
  {
   "cell_type": "code",
   "execution_count": 182,
   "metadata": {
    "ExecuteTime": {
     "end_time": "2021-10-16T13:58:33.059587Z",
     "start_time": "2021-10-16T13:58:33.041156Z"
    }
   },
   "outputs": [],
   "source": [
    "from sklearn.model_selection import train_test_split\n",
    "X_train,X_test,Y_train,Y_test=train_test_split(data,Y4,train_size=0.8,shuffle=True)#样本数据前80%做为训练集，后20%做为测试集"
   ]
  },
  {
   "cell_type": "code",
   "execution_count": 183,
   "metadata": {
    "ExecuteTime": {
     "end_time": "2021-10-16T13:58:34.977028Z",
     "start_time": "2021-10-16T13:58:34.849193Z"
    }
   },
   "outputs": [],
   "source": [
    "from sklearn import svm\n",
    "model = svm.SVC(C=80,gamma=0.0001)\n",
    "model.fit(X_train,Y_train)\n",
    "\n",
    "# 预测测试集中的因变量值\n",
    "Y_pred=model.predict(X_test)"
   ]
  },
  {
   "cell_type": "code",
   "execution_count": 184,
   "metadata": {
    "ExecuteTime": {
     "end_time": "2021-10-16T13:58:37.727242Z",
     "start_time": "2021-10-16T13:58:37.713255Z"
    }
   },
   "outputs": [
    {
     "name": "stdout",
     "output_type": "stream",
     "text": [
      "准确率Accuracy:0.779747\n",
      "精确率Precision:0.823151\n",
      "召回率Recall:0.888889\n",
      "F1 score:0.8547579298831386\n",
      "AUC:0.687435\n"
     ]
    }
   ],
   "source": [
    "print(\"准确率Accuracy:{:3f}\".format(accuracy_score(Y_test,Y_pred)))\n",
    "pre, rec, f1, sup = precision_recall_fscore_support(Y_test,Y_pred)\n",
    "print(\"精确率Precision:{:3f}\".format(pre[0]))\n",
    "print(\"召回率Recall:{:3f}\".format(rec[0]))\n",
    "print(\"F1 score:{}\".format(f1[0]))\n",
    "# 计算auc\n",
    "print(\"AUC:{:3f}\".format(roc_auc_score(Y_test,Y_pred)))"
   ]
  },
  {
   "cell_type": "code",
   "execution_count": 185,
   "metadata": {
    "ExecuteTime": {
     "end_time": "2021-10-16T13:58:40.742539Z",
     "start_time": "2021-10-16T13:58:40.505153Z"
    }
   },
   "outputs": [],
   "source": [
    "import lightgbm as lgb\n",
    "\n",
    "# 创建lightgbm\n",
    "model=lgb.LGBMClassifier(n_estimators=100,random_state=123)\n",
    "\n",
    "# 拟合构造lightbgm\n",
    "model.fit(X_train,Y_train)\n",
    "\n",
    "# 预测测试集中的因变量值\n",
    "Y_pred=model.predict(X_test)"
   ]
  },
  {
   "cell_type": "code",
   "execution_count": 186,
   "metadata": {
    "ExecuteTime": {
     "end_time": "2021-10-16T13:58:41.617739Z",
     "start_time": "2021-10-16T13:58:41.593279Z"
    }
   },
   "outputs": [
    {
     "name": "stdout",
     "output_type": "stream",
     "text": [
      "准确率Accuracy:0.883544\n",
      "精确率Precision:0.923077\n",
      "召回率Recall:0.916667\n",
      "F1 score:0.919861\n",
      "AUC:0.855530\n"
     ]
    }
   ],
   "source": [
    "print(\"准确率Accuracy:{:3f}\".format(accuracy_score(Y_test,Y_pred)))\n",
    "pre, rec, f1, sup = precision_recall_fscore_support(Y_test,Y_pred)\n",
    "print(\"精确率Precision:{:3f}\".format(pre[0]))\n",
    "print(\"召回率Recall:{:3f}\".format(rec[0]))\n",
    "print(\"F1 score:{:3f}\".format(f1[0]))\n",
    "# 计算auc\n",
    "print(\"AUC:{:3f}\".format(roc_auc_score(Y_test,Y_pred)))"
   ]
  },
  {
   "cell_type": "markdown",
   "metadata": {},
   "source": [
    "预测test中的值(选LightGBM)"
   ]
  },
  {
   "cell_type": "code",
   "execution_count": 187,
   "metadata": {
    "ExecuteTime": {
     "end_time": "2021-10-16T13:59:03.637604Z",
     "start_time": "2021-10-16T13:59:03.609152Z"
    }
   },
   "outputs": [
    {
     "data": {
      "text/plain": [
       "array([0, 0, 0, 0, 0, 0, 0, 0, 0, 0, 0, 0, 0, 0, 0, 0, 0, 0, 0, 0, 0, 0,\n",
       "       0, 0, 1, 1, 0, 0, 0, 0, 1, 1, 1, 1, 1, 0, 0, 0, 0, 0, 0, 0, 0, 0,\n",
       "       0, 0, 0, 0, 0, 0], dtype=int64)"
      ]
     },
     "execution_count": 187,
     "metadata": {},
     "output_type": "execute_result"
    }
   ],
   "source": [
    "x_test=data1[feat_labels[indices[0:50]]]  #预测集中的自变量\n",
    "\n",
    "# 预测 预测集中的因变量值\n",
    "y_pred=model.predict(x_test)\n",
    "y_pred #预测值"
   ]
  },
  {
   "cell_type": "markdown",
   "metadata": {},
   "source": [
    "#### 第五个"
   ]
  },
  {
   "cell_type": "code",
   "execution_count": 144,
   "metadata": {
    "ExecuteTime": {
     "end_time": "2021-10-16T13:32:00.625447Z",
     "start_time": "2021-10-16T13:32:00.617927Z"
    }
   },
   "outputs": [],
   "source": [
    "Y5=dataThird1['MN']"
   ]
  },
  {
   "cell_type": "code",
   "execution_count": 145,
   "metadata": {
    "ExecuteTime": {
     "end_time": "2021-10-16T13:32:02.523074Z",
     "start_time": "2021-10-16T13:32:01.562164Z"
    }
   },
   "outputs": [
    {
     "data": {
      "text/plain": [
       "RandomForestClassifier(bootstrap=True, class_weight=None, criterion='gini',\n",
       "                       max_depth=None, max_features='auto', max_leaf_nodes=None,\n",
       "                       min_impurity_decrease=0.0, min_impurity_split=None,\n",
       "                       min_samples_leaf=1, min_samples_split=2,\n",
       "                       min_weight_fraction_leaf=0.0, n_estimators=100,\n",
       "                       n_jobs=None, oob_score=False, random_state=123,\n",
       "                       verbose=0, warm_start=False)"
      ]
     },
     "execution_count": 145,
     "metadata": {},
     "output_type": "execute_result"
    }
   ],
   "source": [
    "#建立随机森林分类模型\n",
    "feat_labels=dataFirst1.columns[1:]\n",
    "model=RandomForestClassifier(n_estimators=100,random_state=123)\n",
    "model.fit(dataFirst1.iloc[:,1:],Y5)"
   ]
  },
  {
   "cell_type": "code",
   "execution_count": 146,
   "metadata": {
    "ExecuteTime": {
     "end_time": "2021-10-16T13:32:03.270885Z",
     "start_time": "2021-10-16T13:32:03.225868Z"
    }
   },
   "outputs": [
    {
     "name": "stdout",
     "output_type": "stream",
     "text": [
      " 1) WTPT-5                         0.042621\n",
      " 2) WTPT-3                         0.032367\n",
      " 3) ETA_BetaP_s                    0.025030\n",
      " 4) nHBAcc_Lipinski                0.023219\n",
      " 5) ETA_Epsilon_1                  0.022659\n",
      " 6) TopoPSA                        0.019848\n",
      " 7) FMF                            0.016475\n",
      " 8) ETA_dEpsilon_A                 0.014578\n",
      " 9) ETA_EtaP_F_L                   0.013322\n",
      "10) nN                             0.013312\n",
      "11) nHBAcc                         0.012409\n",
      "12) MLFER_S                        0.011619\n",
      "13) ETA_BetaP                      0.011456\n",
      "14) ETA_EtaP_L                     0.011160\n",
      "15) minHBa                         0.011092\n",
      "16) MLFER_E                        0.010753\n",
      "17) maxsCH3                        0.010610\n",
      "18) ETA_Epsilon_2                  0.010485\n",
      "19) mindssC                        0.008950\n",
      "20) ETA_Epsilon_4                  0.008631\n",
      "21) hmax                           0.008517\n",
      "22) ETA_Eta_F_L                    0.008466\n",
      "23) MLFER_BO                       0.007922\n",
      "24) maxHother                      0.007775\n",
      "25) ETA_dEpsilon_C                 0.007743\n",
      "26) maxsssCH                       0.007735\n",
      "27) ETA_EtaP_B_RC                  0.007383\n",
      "28) ETA_Epsilon_5                  0.006631\n",
      "29) SCH-7                          0.006627\n",
      "30) ATSc2                          0.006398\n",
      "31) nssCH2                         0.005729\n",
      "32) ETA_Beta                       0.005595\n",
      "33) maxdssC                        0.005517\n",
      "34) VCH-7                          0.005386\n",
      "35) BCUTc-1h                       0.005351\n",
      "36) ETA_Shape_Y                    0.005340\n",
      "37) MAXDN                          0.005297\n",
      "38) SsssN                          0.005127\n",
      "39) minwHBa                        0.004871\n",
      "40) SHCsats                        0.004733\n",
      "41) MLFER_BH                       0.004720\n",
      "42) minsCH3                        0.004684\n",
      "43) maxsssN                        0.004509\n",
      "44) ETA_dEpsilon_B                 0.004483\n",
      "45) SssCH2                         0.004464\n",
      "46) nHBAcc2                        0.004434\n",
      "47) maxHaaCH                       0.004295\n",
      "48) ETA_BetaP_ns                   0.004263\n",
      "49) WTPT-4                         0.004183\n",
      "50) HybRatio                       0.004157\n",
      "51) SssO                           0.004119\n",
      "52) ETA_EtaP_F                     0.004091\n",
      "53) XLogP                          0.003919\n",
      "54) ETA_Epsilon_3                  0.003917\n",
      "55) VC-5                           0.003913\n",
      "56) hmin                           0.003890\n",
      "57) SsCH3                          0.003868\n",
      "58) VCH-6                          0.003855\n",
      "59) gmin                           0.003634\n",
      "60) SPC-5                          0.003626\n",
      "61) ETA_Psi_1                      0.003610\n",
      "62) SdssC                          0.003586\n",
      "63) nHBAcc3                        0.003569\n",
      "64) maxssO                         0.003513\n",
      "65) minHaaCH                       0.003467\n",
      "66) MDEC-11                        0.003466\n",
      "67) ATSc3                          0.003407\n",
      "68) VPC-6                          0.003376\n",
      "69) maxHBa                         0.003279\n",
      "70) WTPT-2                         0.003216\n",
      "71) ETA_Eta_B_RC                   0.003203\n",
      "72) nBondsM                        0.003201\n",
      "73) DELS                           0.003199\n",
      "74) maxssCH2                       0.003180\n",
      "75) maxsOH                         0.003174\n",
      "76) SHaaCH                         0.003164\n",
      "77) SsOH                           0.003157\n",
      "78) SC-3                           0.003130\n",
      "79) minssCH2                       0.003130\n",
      "80) BCUTc-1l                       0.003130\n",
      "81) SsssCH                         0.003130\n",
      "82) ETA_Eta_F                      0.003114\n",
      "83) nAtomP                         0.003089\n",
      "84) SPC-4                          0.002990\n",
      "85) SwHBa                          0.002957\n",
      "86) SaaCH                          0.002921\n",
      "87) nBondsS2                       0.002916\n",
      "88) SPC-6                          0.002821\n",
      "89) minHBint6                      0.002783\n",
      "90) gmax                           0.002782\n",
      "91) minsOH                         0.002764\n",
      "92) ATSc4                          0.002752\n",
      "93) SHother                        0.002750\n",
      "94) ALogp2                         0.002745\n",
      "95) VPC-5                          0.002740\n",
      "96) MDEO-22                        0.002698\n",
      "97) ATSc1                          0.002683\n",
      "98) MAXDN2                         0.002674\n",
      "99) VPC-4                          0.002663\n",
      "100) MDEO-11                        0.002625\n",
      "101) MDEN-33                        0.002600\n",
      "102) SP-7                           0.002592\n",
      "103) Kier2                          0.002585\n",
      "104) MDEC-24                        0.002584\n",
      "105) ETA_Beta_s                     0.002567\n",
      "106) BCUTp-1h                       0.002565\n",
      "107) ETA_EtaP_B                     0.002561\n",
      "108) SaaN                           0.002548\n",
      "109) MLFER_L                        0.002533\n",
      "110) SP-5                           0.002528\n",
      "111) SHCsatu                        0.002505\n",
      "112) ATSc5                          0.002491\n",
      "113) nTRing                         0.002490\n",
      "114) maxaaaC                        0.002467\n",
      "115) minHsOH                        0.002443\n",
      "116) minHother                      0.002442\n",
      "117) ETA_dBetaP                     0.002393\n",
      "118) ETA_Beta_ns                    0.002371\n",
      "119) SCH-6                          0.002358\n",
      "120) maxaasC                        0.002352\n",
      "121) minaasC                        0.002339\n",
      "122) MDEC-22                        0.002297\n",
      "123) maxHCsats                      0.002289\n",
      "124) naaaC                          0.002285\n",
      "125) minaaaC                        0.002266\n",
      "126) maxaaN                         0.002265\n",
      "127) ETA_BetaP_ns_d                 0.002257\n",
      "128) ATSp4                          0.002249\n",
      "129) MDEC-33                        0.002246\n",
      "130) VC-6                           0.002211\n",
      "131) maxHsOH                        0.002180\n",
      "132) nssO                           0.002163\n",
      "133) MAXDP                          0.002154\n",
      "134) ETA_dEpsilon_D                 0.002115\n",
      "135) minsssN                        0.002106\n",
      "136) VP-4                           0.002103\n",
      "137) VP-7                           0.002093\n",
      "138) ETA_Shape_P                    0.002079\n",
      "139) nAtomLC                        0.002062\n",
      "140) VC-3                           0.002050\n",
      "141) ALogP                          0.002028\n",
      "142) maxaaCH                        0.002004\n",
      "143) SHsOH                          0.001994\n",
      "144) SP-4                           0.001993\n",
      "145) C4SP3                          0.001986\n",
      "146) Zagreb                         0.001979\n",
      "147) MDEC-13                        0.001971\n",
      "148) SHBa                           0.001939\n",
      "149) minsssCH                       0.001910\n",
      "150) ETA_EtaP                       0.001907\n",
      "151) minHCsats                      0.001904\n",
      "152) maxHBd                         0.001902\n",
      "153) SHBint6                        0.001883\n",
      "154) C3SP2                          0.001880\n",
      "155) C2SP3                          0.001861\n",
      "156) ETA_Eta_L                      0.001848\n",
      "157) ETA_Eta_R_L                    0.001838\n",
      "158) DELS2                          0.001831\n",
      "159) MDEC-12                        0.001829\n",
      "160) nAtomLAC                       0.001827\n",
      "161) LipoaffinityIndex              0.001826\n",
      "162) maxdO                          0.001821\n",
      "163) MDEO-12                        0.001820\n",
      "164) ETA_dPsi_A                     0.001798\n",
      "165) BCUTw-1h                       0.001792\n",
      "166) maxHCsatu                      0.001786\n",
      "167) nBondsS                        0.001782\n",
      "168) minHBint5                      0.001780\n",
      "169) ATSp1                          0.001771\n",
      "170) MLFER_A                        0.001762\n",
      "171) ATSm3                          0.001755\n",
      "172) C1SP3                          0.001737\n",
      "173) nH                             0.001724\n",
      "174) CrippenLogP                    0.001706\n",
      "175) ECCEN                          0.001685\n",
      "176) SP-3                           0.001684\n",
      "177) ATSp2                          0.001680\n",
      "178) SP-1                           0.001650\n",
      "179) SP-6                           0.001584\n",
      "180) VP-0                           0.001584\n",
      "181) SaaaC                          0.001573\n",
      "182) ETA_dBeta                      0.001570\n",
      "183) VP-3                           0.001570\n",
      "184) SC-5                           0.001568\n",
      "185) ATSm5                          0.001563\n",
      "186) SP-2                           0.001559\n",
      "187) ATSp3                          0.001543\n",
      "188) MDEN-23                        0.001541\n",
      "189) Kier3                          0.001532\n",
      "190) BCUTp-1l                       0.001512\n",
      "191) VC-4                           0.001509\n",
      "192) bpol                           0.001506\n",
      "193) minHBd                         0.001503\n",
      "194) maxwHBa                        0.001498\n",
      "195) nHBa                           0.001480\n",
      "196) nBonds2                        0.001475\n",
      "197) ndssC                          0.001449\n",
      "198) VP-6                           0.001444\n",
      "199) VP-5                           0.001440\n",
      "200) minaaCH                        0.001428\n",
      "201) SP-0                           0.001428\n",
      "202) naAromAtom                     0.001424\n",
      "203) mindO                          0.001424\n",
      "204) ATSm4                          0.001409\n",
      "205) ATSm2                          0.001363\n",
      "206) fragC                          0.001339\n",
      "207) nHaaNH                         0.001337\n",
      "208) ATSm1                          0.001334\n",
      "209) nRotB                          0.001325\n",
      "210) nBondsD                        0.001307\n",
      "211) ndO                            0.001306\n",
      "212) ETA_AlphaP                     0.001305\n",
      "213) SHBint7                        0.001300\n",
      "214) MDEC-23                        0.001296\n",
      "215) nsssCH                         0.001250\n",
      "216) SaasC                          0.001241\n",
      "217) nHBint6                        0.001229\n",
      "218) SHBint4                        0.001224\n",
      "219) maxaaNH                        0.001222\n",
      "220) ETA_dAlpha_B                   0.001219\n",
      "221) nHCsats                        0.001218\n",
      "222) minHdsCH                       0.001218\n",
      "223) minssO                         0.001207\n",
      "224) naaN                           0.001201\n",
      "225) SHdsCH                         0.001195\n",
      "226) ETA_Eta                        0.001193\n",
      "227) AMR                            0.001188\n",
      "228) VP-2                           0.001184\n",
      "229) ATSp5                          0.001174\n",
      "230) ETA_Eta_R                      0.001171\n",
      "231) nAtom                          0.001166\n",
      "232) MAXDP2                         0.001165\n",
      "233) WPOL                           0.001163\n",
      "234) nBondsS3                       0.001159\n",
      "235) ETA_Eta_B                      0.001142\n",
      "236) ETA_Beta_ns_d                  0.001137\n",
      "237) MDEN-22                        0.001135\n",
      "238) nHCsatu                        0.001127\n",
      "239) WTPT-1                         0.001118\n",
      "240) C1SP2                          0.001086\n",
      "241) maxHBint3                      0.001079\n",
      "242) minHBint4                      0.001077\n",
      "243) McGowan_Volume                 0.001051\n",
      "244) nT6Ring                        0.001049\n",
      "245) maxHBint6                      0.001039\n",
      "246) nT11Ring                       0.001032\n",
      "247) nHaaCH                         0.001029\n",
      "248) nTG12Ring                      0.001020\n",
      "249) sumI                           0.001013\n",
      "250) nF11Ring                       0.000998\n",
      "251) minHBint8                      0.000994\n",
      "252) nBase                          0.000994\n",
      "253) minHaaNH                       0.000976\n",
      "254) SaaNH                          0.000973\n",
      "255) nsCH3                          0.000972\n",
      "256) nsOH                           0.000955\n",
      "257) VAdjMat                        0.000947\n",
      "258) maxHBint7                      0.000944\n",
      "259) SHBint10                       0.000933\n",
      "260) SHBint3                        0.000926\n",
      "261) WPATH                          0.000912\n",
      "262) maxHBint2                      0.000910\n",
      "263) VP-1                           0.000906\n",
      "264) nO                             0.000904\n",
      "265) CrippenMR                      0.000893\n",
      "266) apol                           0.000883\n",
      "267) C2SP2                          0.000878\n",
      "268) ETA_Alpha                      0.000878\n",
      "269) maxHBint10                     0.000872\n",
      "270) MW                             0.000872\n",
      "271) nwHBa                          0.000865\n",
      "272) VCH-5                          0.000862\n",
      "273) minHBint9                      0.000851\n",
      "274) SHBint5                        0.000850\n",
      "275) nHsOH                          0.000850\n",
      "276) SHBd                           0.000849\n",
      "277) C3SP3                          0.000836\n",
      "278) nHBDon                         0.000828\n",
      "279) maxHBint8                      0.000821\n",
      "280) n6Ring                         0.000813\n",
      "281) nHBd                           0.000813\n",
      "282) SHssNH                         0.000810\n",
      "283) nHBDon_Lipinski                0.000804\n",
      "284) naaCH                          0.000803\n",
      "285) SdO                            0.000799\n",
      "286) minHBint3                      0.000787\n",
      "287) nRing                          0.000772\n",
      "288) nsssN                          0.000759\n",
      "289) nssNH                          0.000734\n",
      "290) minaaN                         0.000717\n",
      "291) SC-6                           0.000713\n",
      "292) maxdsCH                        0.000709\n",
      "293) nFRing                         0.000709\n",
      "294) maxHBint5                      0.000704\n",
      "295) nT9Ring                        0.000686\n",
      "296) SHBint2                        0.000682\n",
      "297) nAromBond                      0.000677\n",
      "298) naasC                          0.000673\n",
      "299) nHother                        0.000671\n",
      "300) minaaO                         0.000670\n",
      "301) PetitjeanNumber                0.000668\n",
      "302) Kier1                          0.000654\n",
      "303) SssNH                          0.000633\n",
      "304) minHCsatu                      0.000607\n",
      "305) maxHssNH                       0.000599\n",
      "306) nT10Ring                       0.000598\n",
      "307) VABC                           0.000595\n",
      "308) minddssS                       0.000573\n",
      "309) MLogP                          0.000568\n",
      "310) BCUTw-1l                       0.000566\n",
      "311) ETA_Shape_X                    0.000551\n",
      "312) n5Ring                         0.000537\n",
      "313) SHBint9                        0.000532\n",
      "314) nBonds                         0.000532\n",
      "315) maxHdsCH                       0.000528\n",
      "316) MDEC-14                        0.000521\n",
      "317) nF9Ring                        0.000516\n",
      "318) maxHBint9                      0.000509\n",
      "319) minaasN                        0.000507\n",
      "320) SCH-5                          0.000501\n",
      "321) maxaaO                         0.000500\n",
      "322) minHAvin                       0.000500\n",
      "323) SHBint8                        0.000499\n",
      "324) minHssNH                       0.000492\n",
      "325) minHBint2                      0.000491\n",
      "326) maxtN                          0.000488\n",
      "327) maxaasN                        0.000487\n",
      "328) minssssC                       0.000480\n",
      "329) mindsCH                        0.000462\n",
      "330) nHBint4                        0.000454\n",
      "331) SssssC                         0.000452\n",
      "332) nddssS                         0.000444\n",
      "333) minssNH                        0.000442\n",
      "334) maxHBint4                      0.000433\n",
      "335) nF10Ring                       0.000415\n",
      "336) nT5Ring                        0.000409\n",
      "337) maxHAvin                       0.000403\n",
      "338) minHBint10                     0.000403\n",
      "339) nHeavyAtom                     0.000401\n",
      "340) nssssC                         0.000395\n",
      "341) nFG12Ring                      0.000385\n",
      "342) SaasN                          0.000385\n",
      "343) minssS                         0.000376\n",
      "344) minHBint7                      0.000374\n",
      "345) n7Ring                         0.000367\n",
      "346) SsCl                           0.000360\n",
      "347) StN                            0.000353\n",
      "348) ndsN                           0.000348\n",
      "349) MDEC-34                        0.000343\n",
      "350) maxsF                          0.000342\n",
      "351) nHBint7                        0.000332\n",
      "352) nF12Ring                       0.000331\n",
      "353) naaNH                          0.000329\n",
      "354) SaaO                           0.000324\n",
      "355) nHBint9                        0.000322\n",
      "356) SsF                            0.000315\n",
      "357) minaaS                         0.000312\n",
      "358) nC                             0.000307\n",
      "359) nsCl                           0.000296\n",
      "360) nHBint10                       0.000290\n",
      "361) mintN                          0.000290\n",
      "362) minwHBd                        0.000282\n",
      "363) nHssNH                         0.000274\n",
      "364) nsF                            0.000267\n",
      "365) SsNH2                          0.000266\n",
      "366) nBondsT                        0.000257\n",
      "367) SaaS                           0.000256\n",
      "368) SdsCH                          0.000249\n",
      "369) nHBint2                        0.000244\n",
      "370) C2SP1                          0.000234\n",
      "371) nHBint5                        0.000223\n",
      "372) mintsC                         0.000221\n",
      "373) maxdsN                         0.000219\n",
      "374) mindsN                         0.000219\n",
      "375) maxtsC                         0.000211\n",
      "376) nBr                            0.000204\n",
      "377) maxssNH                        0.000199\n",
      "378) maxssssC                       0.000197\n",
      "379) ndsCH                          0.000175\n",
      "380) SCH-4                          0.000167\n",
      "381) ntN                            0.000164\n",
      "382) nsBr                           0.000161\n",
      "383) SwHBd                          0.000157\n",
      "384) nBondsD2                       0.000153\n",
      "385) nHdNH                          0.000150\n",
      "386) minsF                          0.000144\n",
      "387) LipinskiFailures               0.000143\n",
      "388) maxHsNH2                       0.000143\n",
      "389) SssS                           0.000142\n",
      "390) SC-4                           0.000140\n",
      "391) nX                             0.000133\n",
      "392) SdsN                           0.000125\n",
      "393) nHBint3                        0.000123\n",
      "394) minsBr                         0.000119\n",
      "395) nT4Ring                        0.000114\n",
      "396) SHsNH2                         0.000111\n",
      "397) nT12Ring                       0.000110\n",
      "398) minaaNH                        0.000109\n",
      "399) nF                             0.000106\n",
      "400) n12Ring                        0.000106\n",
      "401) VCH-3                          0.000101\n",
      "402) minsCl                         0.000094\n",
      "403) n4Ring                         0.000090\n",
      "404) nsNH2                          0.000086\n",
      "405) MDEN-12                        0.000086\n",
      "406) ETA_dAlpha_A                   0.000084\n",
      "407) StsC                           0.000083\n",
      "408) nHsNH2                         0.000080\n",
      "409) SHAvin                         0.000080\n",
      "410) nHAvin                         0.000079\n",
      "411) maxHdCH2                       0.000078\n",
      "412) naasN                          0.000075\n",
      "413) VCH-4                          0.000074\n",
      "414) nF8Ring                        0.000068\n",
      "415) ntsC                           0.000067\n",
      "416) maxtCH                         0.000066\n",
      "417) minHsNH2                       0.000066\n",
      "418) nHBint8                        0.000063\n",
      "419) SsBr                           0.000057\n",
      "420) minsNH2                        0.000056\n",
      "421) maxsNH2                        0.000056\n",
      "422) maxwHBd                        0.000053\n",
      "423) ETA_dPsi_B                     0.000053\n",
      "424) maxHaaNH                       0.000051\n",
      "425) nHdsCH                         0.000047\n",
      "426) mindS                          0.000047\n",
      "427) maxHtCH                        0.000046\n",
      "428) SdCH2                          0.000039\n",
      "429) maxHCHnX                       0.000035\n",
      "430) SHCHnX                         0.000030\n",
      "431) MDEN-11                        0.000030\n",
      "432) n3Ring                         0.000028\n",
      "433) maxsCl                         0.000028\n",
      "434) SCH-3                          0.000028\n",
      "435) ndCH2                          0.000027\n",
      "436) nT7Ring                        0.000027\n",
      "437) minHdCH2                       0.000027\n",
      "438) MDEN-13                        0.000026\n",
      "439) maxdCH2                        0.000024\n",
      "440) C1SP1                          0.000022\n",
      "441) SHaaNH                         0.000015\n",
      "442) nCl                            0.000014\n",
      "443) nAcid                          0.000013\n",
      "444) nS                             0.000004\n",
      "445) nwHBd                          0.000000\n",
      "446) maxHsSH                        0.000000\n",
      "447) minHCHnX                       0.000000\n",
      "448) mindCH2                        0.000000\n",
      "449) mintCH                         0.000000\n",
      "450) mindNH                         0.000000\n",
      "451) minssssNp                      0.000000\n",
      "452) minsOm                         0.000000\n",
      "453) mindsssP                       0.000000\n",
      "454) minsSH                         0.000000\n",
      "455) mindssS                        0.000000\n",
      "456) nI                             0.000000\n",
      "457) minsI                          0.000000\n",
      "458) maxHdNH                        0.000000\n",
      "459) nP                             0.000000\n",
      "460) minHdNH                        0.000000\n",
      "461) maxdNH                         0.000000\n",
      "462) maxssssNp                      0.000000\n",
      "463) maxsOm                         0.000000\n",
      "464) maxsSH                         0.000000\n",
      "465) maxdS                          0.000000\n",
      "466) maxsBr                         0.000000\n",
      "467) MDEC-44                        0.000000\n",
      "468) n8Ring                         0.000000\n",
      "469) nG12Ring                       0.000000\n",
      "470) nF6Ring                        0.000000\n",
      "471) nF7Ring                        0.000000\n",
      "472) nT8Ring                        0.000000\n",
      "473) minHtCH                        0.000000\n",
      "474) SsI                            0.000000\n",
      "475) nHsSH                          0.000000\n",
      "476) SddssS                         0.000000\n",
      "477) nHtCH                          0.000000\n",
      "478) nHdCH2                         0.000000\n",
      "479) nHCHnX                         0.000000\n",
      "480) ntCH                           0.000000\n",
      "481) ndNH                           0.000000\n",
      "482) nssssNp                        0.000000\n",
      "483) naaO                           0.000000\n",
      "484) nsOm                           0.000000\n",
      "485) ndsssP                         0.000000\n",
      "486) nsSH                           0.000000\n",
      "487) ndS                            0.000000\n",
      "488) nssS                           0.000000\n",
      "489) naaS                           0.000000\n",
      "490) ndssS                          0.000000\n",
      "491) nsI                            0.000000\n",
      "492) SHdNH                          0.000000\n",
      "493) SHsSH                          0.000000\n",
      "494) SHtCH                          0.000000\n",
      "495) SHdCH2                         0.000000\n",
      "496) StCH                           0.000000\n",
      "497) SdNH                           0.000000\n",
      "498) SssssNp                        0.000000\n",
      "499) SsOm                           0.000000\n",
      "500) SdsssP                         0.000000\n",
      "501) SsSH                           0.000000\n",
      "502) SdS                            0.000000\n",
      "503) SdssS                          0.000000\n",
      "504) minHsSH                        0.000000\n"
     ]
    }
   ],
   "source": [
    "#变量重要性\n",
    "importances=model.feature_importances_\n",
    "indices = np.argsort(importances)[::-1]\n",
    "for i in range(dataFirst1.shape[1]-1):\n",
    "    print(\"%2d) %-*s %f\" % (i + 1, 30, feat_labels[indices[i]], importances[indices[i]]))"
   ]
  },
  {
   "cell_type": "code",
   "execution_count": 147,
   "metadata": {
    "ExecuteTime": {
     "end_time": "2021-10-16T13:32:06.747357Z",
     "start_time": "2021-10-16T13:32:06.730431Z"
    }
   },
   "outputs": [
    {
     "data": {
      "text/plain": [
       "0.5029288060933234"
      ]
     },
     "execution_count": 147,
     "metadata": {},
     "output_type": "execute_result"
    }
   ],
   "source": [
    "sum(importances[indices[0:50]]) #筛选后前50个贡献度总和"
   ]
  },
  {
   "cell_type": "code",
   "execution_count": 148,
   "metadata": {
    "ExecuteTime": {
     "end_time": "2021-10-16T13:32:08.509039Z",
     "start_time": "2021-10-16T13:32:08.496965Z"
    }
   },
   "outputs": [],
   "source": [
    "dataFirst9=dataFirst1.iloc[:,indices[0:50]+1]\n",
    "data=dataFirst9"
   ]
  },
  {
   "cell_type": "code",
   "execution_count": 149,
   "metadata": {
    "ExecuteTime": {
     "end_time": "2021-10-16T13:32:09.688377Z",
     "start_time": "2021-10-16T13:32:09.681853Z"
    }
   },
   "outputs": [],
   "source": [
    "from sklearn.model_selection import train_test_split\n",
    "X_train,X_test,Y_train,Y_test=train_test_split(data,Y5,train_size=0.8,shuffle=True)#样本数据前80%做为训练集，后20%做为测试集"
   ]
  },
  {
   "cell_type": "code",
   "execution_count": 321,
   "metadata": {
    "ExecuteTime": {
     "end_time": "2021-10-16T11:48:34.938094Z",
     "start_time": "2021-10-16T11:48:34.836080Z"
    }
   },
   "outputs": [],
   "source": [
    "from sklearn import svm\n",
    "model = svm.SVC(C=80,gamma=0.0001)\n",
    "model.fit(X_train,Y_train)\n",
    "\n",
    "# 预测测试集中的因变量值\n",
    "Y_pred=model.predict(X_test)"
   ]
  },
  {
   "cell_type": "code",
   "execution_count": 322,
   "metadata": {
    "ExecuteTime": {
     "end_time": "2021-10-16T11:48:35.388249Z",
     "start_time": "2021-10-16T11:48:35.371709Z"
    }
   },
   "outputs": [
    {
     "name": "stdout",
     "output_type": "stream",
     "text": [
      "准确率Accuracy:0.886076\n",
      "精确率Precision:0.830769\n",
      "召回率Recall:0.613636\n",
      "F1 score:0.7058823529411765\n",
      "AUC:0.788903\n"
     ]
    }
   ],
   "source": [
    "print(\"准确率Accuracy:{:3f}\".format(accuracy_score(Y_test,Y_pred)))\n",
    "pre, rec, f1, sup = precision_recall_fscore_support(Y_test,Y_pred)\n",
    "print(\"精确率Precision:{:3f}\".format(pre[0]))\n",
    "print(\"召回率Recall:{:3f}\".format(rec[0]))\n",
    "print(\"F1 score:{}\".format(f1[0]))\n",
    "# 计算auc\n",
    "print(\"AUC:{:3f}\".format(roc_auc_score(Y_test,Y_pred)))"
   ]
  },
  {
   "cell_type": "code",
   "execution_count": 150,
   "metadata": {
    "ExecuteTime": {
     "end_time": "2021-10-16T13:32:14.359983Z",
     "start_time": "2021-10-16T13:32:14.107640Z"
    }
   },
   "outputs": [],
   "source": [
    "import lightgbm as lgb\n",
    "\n",
    "# 创建lightgbm\n",
    "model=lgb.LGBMClassifier(n_estimators=100,random_state=123)\n",
    "\n",
    "# 拟合构造lightbgm\n",
    "model.fit(X_train,Y_train)\n",
    "\n",
    "# 预测测试集中的因变量值\n",
    "Y_pred=model.predict(X_test)"
   ]
  },
  {
   "cell_type": "code",
   "execution_count": 151,
   "metadata": {
    "ExecuteTime": {
     "end_time": "2021-10-16T13:32:19.640505Z",
     "start_time": "2021-10-16T13:32:19.616540Z"
    }
   },
   "outputs": [
    {
     "name": "stdout",
     "output_type": "stream",
     "text": [
      "准确率Accuracy:0.962025\n",
      "精确率Precision:0.944444\n",
      "召回率Recall:0.860759\n",
      "F1 score:0.9006622516556292\n",
      "AUC:0.924051\n"
     ]
    }
   ],
   "source": [
    "print(\"准确率Accuracy:{:3f}\".format(accuracy_score(Y_test,Y_pred)))\n",
    "pre, rec, f1, sup = precision_recall_fscore_support(Y_test,Y_pred)\n",
    "print(\"精确率Precision:{:3f}\".format(pre[0]))\n",
    "print(\"召回率Recall:{:3f}\".format(rec[0]))\n",
    "print(\"F1 score:{}\".format(f1[0]))\n",
    "# 计算auc\n",
    "print(\"AUC:{:3f}\".format(roc_auc_score(Y_test,Y_pred)))"
   ]
  },
  {
   "cell_type": "markdown",
   "metadata": {},
   "source": [
    "预测test中的值(选LightGBM)"
   ]
  },
  {
   "cell_type": "code",
   "execution_count": 152,
   "metadata": {
    "ExecuteTime": {
     "end_time": "2021-10-16T13:32:30.293602Z",
     "start_time": "2021-10-16T13:32:30.273636Z"
    }
   },
   "outputs": [
    {
     "data": {
      "text/plain": [
       "array([1, 1, 1, 1, 1, 1, 0, 1, 1, 1, 1, 1, 1, 1, 1, 1, 1, 0, 1, 1, 0, 0,\n",
       "       0, 0, 0, 0, 0, 1, 1, 1, 1, 1, 1, 1, 1, 1, 1, 0, 1, 1, 1, 1, 1, 1,\n",
       "       1, 1, 1, 1, 1, 0], dtype=int64)"
      ]
     },
     "execution_count": 152,
     "metadata": {},
     "output_type": "execute_result"
    }
   ],
   "source": [
    "x_test=data1[feat_labels[indices[0:50]]]  #预测集中的自变量\n",
    "\n",
    "# 预测 预测集中的因变量值\n",
    "y_pred=model.predict(x_test)\n",
    "y_pred #预测值"
   ]
  },
  {
   "cell_type": "markdown",
   "metadata": {},
   "source": [
    "### 第四问"
   ]
  },
  {
   "cell_type": "code",
   "execution_count": 4,
   "metadata": {
    "ExecuteTime": {
     "end_time": "2021-10-17T09:11:42.378485Z",
     "start_time": "2021-10-17T09:11:40.687194Z"
    }
   },
   "outputs": [],
   "source": [
    "dataFourth1=pd.read_excel(\"Molecular_Descriptor 筛选表1.xlsx\")"
   ]
  },
  {
   "cell_type": "code",
   "execution_count": 5,
   "metadata": {
    "ExecuteTime": {
     "end_time": "2021-10-17T09:11:43.531410Z",
     "start_time": "2021-10-17T09:11:43.518339Z"
    }
   },
   "outputs": [],
   "source": [
    "#每次贡献度前4次的变量,共20个\n",
    "names=['SMILES','MDEC-23','LipoaffinityIndex','C1SP2','maxHsOH','nHeavyAtom','ECCEN',\n",
    "'ETA_Eta_R_L','Kier1','ETA_Eta_L','SP-4','VP-3','VP-5','VP-1','BCUTc-1l',\n",
    "'SHsOH','MLFER_A','WTPT-5','WTPT-3','ETA_BetaP_s','nHBAcc_Lipinski']"
   ]
  },
  {
   "cell_type": "code",
   "execution_count": 6,
   "metadata": {
    "ExecuteTime": {
     "end_time": "2021-10-17T09:11:45.234343Z",
     "start_time": "2021-10-17T09:11:45.222203Z"
    }
   },
   "outputs": [],
   "source": [
    "dataResult=dataFourth1.loc[:,names]"
   ]
  },
  {
   "cell_type": "code",
   "execution_count": 33,
   "metadata": {
    "ExecuteTime": {
     "end_time": "2021-10-17T08:38:00.347318Z",
     "start_time": "2021-10-17T08:38:00.230807Z"
    }
   },
   "outputs": [],
   "source": [
    "dataResult.to_excel(\"Molecular_Descriptor 筛选表.xls\",index=False)"
   ]
  },
  {
   "cell_type": "code",
   "execution_count": 7,
   "metadata": {
    "ExecuteTime": {
     "end_time": "2021-10-17T09:11:49.066497Z",
     "start_time": "2021-10-17T09:11:49.062536Z"
    }
   },
   "outputs": [],
   "source": [
    "import matplotlib.mlab as mlab\n",
    "from scipy.stats import norm"
   ]
  },
  {
   "cell_type": "code",
   "execution_count": 119,
   "metadata": {
    "ExecuteTime": {
     "end_time": "2021-10-17T11:37:47.307195Z",
     "start_time": "2021-10-17T11:37:47.088641Z"
    }
   },
   "outputs": [
    {
     "data": {
      "text/plain": [
       "[<matplotlib.lines.Line2D at 0x21109c7d4e0>]"
      ]
     },
     "execution_count": 119,
     "metadata": {},
     "output_type": "execute_result"
    },
    {
     "data": {
      "image/png": "[encoded data removed]",
      "text/plain": [
       "<Figure size 432x288 with 1 Axes>"
      ]
     },
     "metadata": {
      "needs_background": "light"
     },
     "output_type": "display_data"
    }
   ],
   "source": [
    "x=dataResult.iloc[:,1] #提取列变量 \n",
    "mu =np.mean(x) #计算均值 \n",
    "sigma =np.std(x) #计算标准差\n",
    "n, bins, patches = plt.hist(x,bins=30,density=1,facecolor='blue',alpha=0.6)\n",
    "y = norm.pdf(bins, mu, sigma) #拟合一条最佳正态分布曲线y \n",
    "plt.plot(bins, y, 'r') #绘制y的曲线 "
   ]
  },
  {
   "cell_type": "markdown",
   "metadata": {},
   "source": [
    "（μ-2σ，μ+2σ）"
   ]
  },
  {
   "cell_type": "code",
   "execution_count": 118,
   "metadata": {
    "ExecuteTime": {
     "end_time": "2021-10-17T11:22:15.022393Z",
     "start_time": "2021-10-17T11:22:15.008455Z"
    }
   },
   "outputs": [
    {
     "name": "stdout",
     "output_type": "stream",
     "text": [
      "变量MDEC-23的(μ-2σ，μ+2σ）区间: (9.055,38.323)\n",
      "变量LipoaffinityIndex的(μ-2σ，μ+2σ）区间: (3.208,13.421)\n",
      "变量C1SP2的(μ-2σ，μ+2σ）区间: (-0.817,1.524)\n",
      "变量maxHsOH的(μ-2σ，μ+2σ）区间: (0.059,0.893)\n",
      "变量nHeavyAtom的(μ-2σ，μ+2σ）区间: (13.393,36.006)\n",
      "变量ECCEN的(μ-2σ，μ+2σ）区间: (-125.558,1158.737)\n",
      "变量ETA_Eta_R_L的(μ-2σ，μ+2σ）区间: (6.291,17.47)\n",
      "变量Kier1的(μ-2σ，μ+2σ）区间: (9.215,28.398)\n",
      "变量ETA_Eta_L的(μ-2σ，μ+2σ）区间: (2.006,9.657)\n",
      "变量SP-4的(μ-2σ，μ+2σ）区间: (4.257,11.435)\n",
      "变量VP-3的(μ-2σ，μ+2σ）区间: (2.008,8.11)\n",
      "变量VP-5的(μ-2σ，μ+2σ）区间: (0.578,4.899)\n",
      "变量VP-1的(μ-2σ，μ+2σ）区间: (4.142,12.99)\n",
      "变量BCUTc-1l的(μ-2σ，μ+2σ）区间: (-0.406,-0.305)\n",
      "变量SHsOH的(μ-2σ，μ+2σ）区间: (-0.157,1.743)\n",
      "变量MLFER_A的(μ-2σ，μ+2σ）区间: (0.015,1.621)\n",
      "变量WTPT-5的(μ-2σ，μ+2σ）区间: (-4.155,9.424)\n",
      "变量WTPT-3的(μ-2σ，μ+2σ）区间: (0.871,22.519)\n",
      "变量ETA_BetaP_s的(μ-2σ，μ+2σ）区间: (0.55,0.655)\n",
      "变量nHBAcc_Lipinski的(μ-2σ，μ+2σ）区间: (0.445,6.441)\n"
     ]
    }
   ],
   "source": [
    "for i in range(1,21):\n",
    "    x=dataResult.iloc[:,i] #提取列变量 \n",
    "    mu =np.mean(x) #计算均值 \n",
    "    sigma =np.std(x) #计算标准差\n",
    "    print(\"变量\"+names[i]+\"的(μ-2σ，μ+2σ）区间: ({},{})\".format(round(mu-2*sigma,3),round(mu+2*sigma,3)))"
   ]
  }
 ],
 "metadata": {
  "kernelspec": {
   "display_name": "Python 3",
   "language": "python",
   "name": "python3"
  },
  "language_info": {
   "codemirror_mode": {
    "name": "ipython",
    "version": 3
   },
   "file_extension": ".py",
   "mimetype": "text/x-python",
   "name": "python",
   "nbconvert_exporter": "python",
   "pygments_lexer": "ipython3",
   "version": "3.7.0"
  }
 },
 "nbformat": 4,
 "nbformat_minor": 2
}
