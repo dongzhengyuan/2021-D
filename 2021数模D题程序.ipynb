{
 "cells": [
  {
   "cell_type": "markdown",
   "metadata": {},
   "source": [
    "#### Excle表: 分类 ADMET、预测 ERα_activity、选变量 Molecular_Descriptor"
   ]
  },
  {
   "cell_type": "markdown",
   "metadata": {},
   "source": [
    "### 第一问"
   ]
  },
  {
   "cell_type": "markdown",
   "metadata": {},
   "source": [
    "预处理"
   ]
  },
  {
   "cell_type": "code",
   "execution_count": 1,
   "metadata": {
    "ExecuteTime": {
     "end_time": "2021-10-17T11:43:59.117867Z",
     "start_time": "2021-10-17T11:43:59.112068Z"
    }
   },
   "outputs": [],
   "source": [
    "import numpy as np\n",
    "import pandas as pd"
   ]
  },
  {
   "cell_type": "code",
   "execution_count": 2,
   "metadata": {
    "ExecuteTime": {
     "end_time": "2021-10-17T11:44:00.272870Z",
     "start_time": "2021-10-17T11:44:00.257094Z"
    }
   },
   "outputs": [
    {
     "data": {
      "text/plain": [
       "<Figure size 504x360 with 0 Axes>"
      ]
     },
     "metadata": {},
     "output_type": "display_data"
    }
   ],
   "source": [
    "import matplotlib.pyplot as plt#导入作图库\n",
    "plt.rcParams['font.sans-serif']=['SimHei']#用来正常显示中文标签\n",
    "plt.rcParams['axes.unicode_minus']=False#用来正常显示负号\n",
    "plt.figure(figsize=(7,5))#创建图像区域，制定比例\n",
    "import seaborn as sns"
   ]
  },
  {
   "cell_type": "code",
   "execution_count": 3,
   "metadata": {
    "ExecuteTime": {
     "end_time": "2021-10-17T11:44:16.335812Z",
     "start_time": "2021-10-17T11:44:02.879944Z"
    }
   },
   "outputs": [],
   "source": [
    "dataFirst1=pd.read_excel(\"Molecular_Descriptor.xlsx\") #导入分子描述符的training数据集"
   ]
  },
  {
   "cell_type": "code",
   "execution_count": 4,
   "metadata": {
    "ExecuteTime": {
     "end_time": "2021-10-17T11:44:18.440401Z",
     "start_time": "2021-10-17T11:44:18.312307Z"
    }
   },
   "outputs": [],
   "source": [
    "dataSecond1=pd.read_excel(\"ERα_activity.xlsx\")  #导入pIC50的training数据集"
   ]
  },
  {
   "cell_type": "code",
   "execution_count": 5,
   "metadata": {
    "ExecuteTime": {
     "end_time": "2021-10-17T11:44:19.625528Z",
     "start_time": "2021-10-17T11:44:19.608129Z"
    }
   },
   "outputs": [],
   "source": [
    "Y=dataSecond1['pIC50']"
   ]
  },
  {
   "cell_type": "code",
   "execution_count": 6,
   "metadata": {
    "ExecuteTime": {
     "end_time": "2021-10-17T11:44:20.591909Z",
     "start_time": "2021-10-17T11:44:20.423121Z"
    }
   },
   "outputs": [],
   "source": [
    "#查找表格中的全0列\n",
    "names=[]\n",
    "for i in range(1,dataFirst1.shape[1]):\n",
    "    x=sum(dataFirst1.iloc[:,i])\n",
    "    if x==0:\n",
    "        names.append(dataFirst1.columns[i])"
   ]
  },
  {
   "cell_type": "code",
   "execution_count": 7,
   "metadata": {
    "ExecuteTime": {
     "end_time": "2021-10-17T11:44:22.606329Z",
     "start_time": "2021-10-17T11:44:22.584352Z"
    },
    "scrolled": true
   },
   "outputs": [
    {
     "data": {
      "text/plain": [
       "(1974, 505)"
      ]
     },
     "execution_count": 7,
     "metadata": {},
     "output_type": "execute_result"
    }
   ],
   "source": [
    "#删除表格中的全0列\n",
    "dataFirst1=dataFirst1.drop(names,axis=1)\n",
    "dataFirst1.shape"
   ]
  },
  {
   "cell_type": "markdown",
   "metadata": {},
   "source": [
    "模型重要性指标选择"
   ]
  },
  {
   "cell_type": "code",
   "execution_count": 8,
   "metadata": {
    "ExecuteTime": {
     "end_time": "2021-10-17T11:44:26.459834Z",
     "start_time": "2021-10-17T11:44:24.136717Z"
    }
   },
   "outputs": [],
   "source": [
    "from sklearn.ensemble import RandomForestRegressor"
   ]
  },
  {
   "cell_type": "code",
   "execution_count": 9,
   "metadata": {
    "ExecuteTime": {
     "end_time": "2021-10-17T11:44:50.191090Z",
     "start_time": "2021-10-17T11:44:26.461667Z"
    }
   },
   "outputs": [
    {
     "data": {
      "text/plain": [
       "RandomForestRegressor(random_state=123)"
      ]
     },
     "execution_count": 9,
     "metadata": {},
     "output_type": "execute_result"
    }
   ],
   "source": [
    "#建立随机森林模型\n",
    "feat_labels=dataFirst1.columns[1:]\n",
    "model=RandomForestRegressor(n_estimators=100,random_state=123)\n",
    "model.fit(dataFirst1.iloc[:,1:],Y)"
   ]
  },
  {
   "cell_type": "code",
   "execution_count": 11,
   "metadata": {
    "ExecuteTime": {
     "end_time": "2021-10-17T11:44:51.889213Z",
     "start_time": "2021-10-17T11:44:51.823909Z"
    }
   },
   "outputs": [
    {
     "name": "stdout",
     "output_type": "stream",
     "text": [
      " 1) MDEC-23                        0.212783\n",
      " 2) LipoaffinityIndex              0.039312\n",
      " 3) C1SP2                          0.037153\n",
      " 4) maxHsOH                        0.030298\n",
      " 5) maxssO                         0.027357\n",
      " 6) minsssN                        0.027197\n",
      " 7) minHsOH                        0.022560\n",
      " 8) BCUTc-1l                       0.019245\n",
      " 9) minsOH                         0.018107\n",
      "10) minHBint5                      0.017614\n",
      "11) nC                             0.017453\n",
      "12) MLFER_A                        0.016570\n",
      "13) nHBAcc                         0.016507\n",
      "14) SHsOH                          0.013051\n",
      "15) VC-5                           0.011800\n",
      "16) ATSc3                          0.011364\n",
      "17) TopoPSA                        0.009954\n",
      "18) SHBint10                       0.009109\n",
      "19) MDEO-12                        0.008018\n",
      "20) ndssC                          0.007019\n",
      "21) XLogP                          0.006726\n",
      "22) MDEC-33                        0.006650\n",
      "23) ETA_Shape_Y                    0.006420\n",
      "24) SHBint6                        0.005990\n",
      "25) BCUTc-1h                       0.005970\n",
      "26) nHBAcc_Lipinski                0.005759\n",
      "27) mindssC                        0.005197\n",
      "28) ATSc2                          0.005098\n",
      "29) minHBint10                     0.005090\n",
      "30) SsOH                           0.004970\n",
      "31) VCH-5                          0.004808\n",
      "32) minHBa                         0.004766\n",
      "33) VPC-6                          0.004749\n",
      "34) minssO                         0.004689\n",
      "35) CrippenLogP                    0.004596\n",
      "36) MLFER_S                        0.004316\n",
      "37) SPC-6                          0.004253\n",
      "38) ETA_BetaP_s                    0.004162\n",
      "39) ATSc5                          0.004126\n",
      "40) MLogP                          0.004114\n",
      "41) WTPT-4                         0.003955\n",
      "42) BCUTp-1h                       0.003910\n",
      "43) WTPT-5                         0.003879\n",
      "44) hmin                           0.003638\n",
      "45) VCH-7                          0.003628\n",
      "46) maxHBd                         0.003625\n",
      "47) SdssC                          0.003597\n",
      "48) MAXDP                          0.003566\n",
      "49) maxHBint5                      0.003495\n",
      "50) ATSc4                          0.003351\n"
     ]
    }
   ],
   "source": [
    "#变量重要性\n",
    "importances=model.feature_importances_\n",
    "indices = np.argsort(importances)[::-1]\n",
    "for i in range(50):  # 打印前50个重要变量\n",
    "    print(\"%2d) %-*s %f\" % (i + 1, 30, feat_labels[indices[i]], importances[indices[i]]))"
   ]
  },
  {
   "cell_type": "markdown",
   "metadata": {},
   "source": [
    "spearman相关系数分析"
   ]
  },
  {
   "cell_type": "code",
   "execution_count": 12,
   "metadata": {
    "ExecuteTime": {
     "end_time": "2021-10-17T11:45:02.845740Z",
     "start_time": "2021-10-17T11:45:02.831905Z"
    }
   },
   "outputs": [],
   "source": [
    "dataFirst2=dataFirst1.iloc[:,indices[0:50]+1]"
   ]
  },
  {
   "cell_type": "code",
   "execution_count": 13,
   "metadata": {
    "ExecuteTime": {
     "end_time": "2021-10-17T11:45:04.678753Z",
     "start_time": "2021-10-17T11:45:04.215685Z"
    }
   },
   "outputs": [],
   "source": [
    "result1=dataFirst2.corr(\"spearman\")"
   ]
  },
  {
   "cell_type": "code",
   "execution_count": 14,
   "metadata": {
    "ExecuteTime": {
     "end_time": "2021-10-17T11:46:29.180687Z",
     "start_time": "2021-10-17T11:46:27.992051Z"
    }
   },
   "outputs": [
    {
     "data": {
      "text/plain": [
       "<AxesSubplot:>"
      ]
     },
     "execution_count": 14,
     "metadata": {},
     "output_type": "execute_result"
    },
    {
     "data": {
      "image/png": "[encoded data removed]",
      "text/plain": [
       "<Figure size 2016x1440 with 2 Axes>"
      ]
     },
     "metadata": {
      "needs_background": "light"
     },
     "output_type": "display_data"
    }
   ],
   "source": [
    "plt.figure(figsize=(28,20))\n",
    "sns.heatmap(result1,cmap=\"YlGnBu\") #颜色越淡，相关系数越小"
   ]
  },
  {
   "cell_type": "code",
   "execution_count": 15,
   "metadata": {
    "ExecuteTime": {
     "end_time": "2021-10-16T12:27:26.787658Z",
     "start_time": "2021-10-16T12:27:26.771701Z"
    }
   },
   "outputs": [],
   "source": [
    "#删除自相关系数高的变量\n",
    "dataFirst3=dataFirst2.drop(['LipoaffinityIndex','nC','CrippenLogP','MLogP','hmin','minsssN','nHBAcc','BCUTc-1h',\n",
    "'minHsOH','MLFER_A','SHsOH','maxHBd','MDEO-12','minssO','WTPT-4','maxHBint5','WTPT-5','VPC-6','BCUTp-1h',\n",
    "'VCH-7','MLFER_S','minssO','ATSc2','SPC-6'],axis=1)"
   ]
  },
  {
   "cell_type": "code",
   "execution_count": 16,
   "metadata": {
    "ExecuteTime": {
     "end_time": "2021-10-16T12:27:28.582678Z",
     "start_time": "2021-10-16T12:27:28.499697Z"
    }
   },
   "outputs": [],
   "source": [
    "#删除自相关系数高的变量\n",
    "dataFirst4=dataFirst3.drop(['ETA_BetaP_s','nHBAcc_Lipinski','SsOH','minHBint10','SdssC','MAXDP'],axis=1)\n",
    "result=dataFirst4.corr(\"spearman\")"
   ]
  },
  {
   "cell_type": "markdown",
   "metadata": {},
   "source": [
    "相关系数热力图"
   ]
  },
  {
   "cell_type": "code",
   "execution_count": 17,
   "metadata": {
    "ExecuteTime": {
     "end_time": "2021-10-16T12:27:31.385698Z",
     "start_time": "2021-10-16T12:27:31.058991Z"
    }
   },
   "outputs": [
    {
     "data": {
      "text/plain": [
       "<AxesSubplot:>"
      ]
     },
     "execution_count": 17,
     "metadata": {},
     "output_type": "execute_result"
    },
    {
     "data": {
      "image/png": "[encoded data removed]",
      "text/plain": [
       "<Figure size 432x288 with 2 Axes>"
      ]
     },
     "metadata": {
      "needs_background": "light"
     },
     "output_type": "display_data"
    }
   ],
   "source": [
    "sns.heatmap(result,cmap=\"YlGnBu\") #颜色越淡，相关系数越小"
   ]
  },
  {
   "cell_type": "markdown",
   "metadata": {},
   "source": [
    "### 第二问"
   ]
  },
  {
   "cell_type": "markdown",
   "metadata": {},
   "source": [
    "回归模型 评测标准:MSE、MAPE"
   ]
  },
  {
   "cell_type": "code",
   "execution_count": 18,
   "metadata": {
    "ExecuteTime": {
     "end_time": "2021-10-16T12:27:43.682706Z",
     "start_time": "2021-10-16T12:27:43.674697Z"
    }
   },
   "outputs": [],
   "source": [
    "#取前17个变量\n",
    "data=dataFirst4.iloc[:,0:17]"
   ]
  },
  {
   "cell_type": "code",
   "execution_count": 19,
   "metadata": {
    "ExecuteTime": {
     "end_time": "2021-10-16T12:27:45.150169Z",
     "start_time": "2021-10-16T12:27:45.130707Z"
    }
   },
   "outputs": [],
   "source": [
    "from sklearn.model_selection import train_test_split\n",
    "X_train,X_test,Y_train,Y_test=train_test_split(data,Y,train_size=0.8,shuffle=True)#样本数据前80%做为训练集，后20%做为测试集\n",
    "from sklearn import metrics"
   ]
  },
  {
   "cell_type": "markdown",
   "metadata": {},
   "source": [
    "随机森林"
   ]
  },
  {
   "cell_type": "code",
   "execution_count": 20,
   "metadata": {},
   "outputs": [],
   "source": [
    "from sklearn.ensemble import RandomForestRegressor\n",
    "from sklearn.model_selection import GridSearchCV"
   ]
  },
  {
   "cell_type": "code",
   "execution_count": 45,
   "metadata": {},
   "outputs": [],
   "source": [
    "model = RandomForestRegressor(random_state=100)\n",
    "param = {'n_estimators':range(100, 110),\n",
    "         'min_samples_leaf':np.arange(1, 11, 1),\n",
    "         'max_depth':np.arange(1, 20, 1)\n",
    "        }\n",
    "grid_search = GridSearchCV(model, param_grid = param, cv = 5)\n",
    "grid_search.fit(X_train,Y_train)\n",
    "# print(grid_search.best_params_)"
   ]
  },
  {
   "cell_type": "code",
   "execution_count": 21,
   "metadata": {},
   "outputs": [],
   "source": [
    "model = RandomForestRegressor(n_estimators=108, min_samples_leaf=2, max_depth=16, random_state=100)\n",
    "model.fit(X_train,Y_train)\n",
    "Y_pred=model.predict(X_test)"
   ]
  },
  {
   "cell_type": "code",
   "execution_count": 22,
   "metadata": {},
   "outputs": [
    {
     "data": {
      "image/png": "[encoded data removed]",
      "text/plain": [
       "<Figure size 1080x360 with 1 Axes>"
      ]
     },
     "metadata": {
      "needs_background": "light"
     },
     "output_type": "display_data"
    }
   ],
   "source": [
    "plt.figure(figsize=(15,5))#预测曲线与真实曲线做对比\n",
    "plt.plot(range(len(Y_pred)),Y_pred,'b',label=\"预测\")\n",
    "plt.plot(range(len(Y_pred)),Y_test,'r',label=\"实际\")\n",
    "plt.legend(loc=\"upper right\") #显示图中的标签\n",
    "plt.xlabel(\"the number of data\")\n",
    "plt.ylabel('value of numbers')\n",
    "plt.show()"
   ]
  },
  {
   "cell_type": "code",
   "execution_count": 23,
   "metadata": {},
   "outputs": [
    {
     "name": "stdout",
     "output_type": "stream",
     "text": [
      "均方根误差RMSE:0.782\n",
      "平均绝对百分比误差MAPE:8.931%\n"
     ]
    }
   ],
   "source": [
    "#准确率\n",
    "print(\"均方根误差RMSE:{:.3f}\".format(np.sqrt(metrics.mean_squared_error(Y_test, Y_pred))))\n",
    "MAPE=np.mean(np.abs((Y_pred - Y_test) / Y_test)) * 100\n",
    "print(\"平均绝对百分比误差MAPE:{:.3f}%\".format(MAPE))"
   ]
  },
  {
   "cell_type": "markdown",
   "metadata": {},
   "source": [
    "XGBoost"
   ]
  },
  {
   "cell_type": "code",
   "execution_count": 24,
   "metadata": {
    "ExecuteTime": {
     "end_time": "2021-10-16T12:28:11.499604Z",
     "start_time": "2021-10-16T12:28:11.418557Z"
    }
   },
   "outputs": [],
   "source": [
    "import xgboost as xgb"
   ]
  },
  {
   "cell_type": "code",
   "execution_count": 55,
   "metadata": {},
   "outputs": [
    {
     "name": "stdout",
     "output_type": "stream",
     "text": [
      "{'learning_rate': 0.05, 'max_depth': 7, 'min_child_weight': 6, 'n_estimators': 300}\n"
     ]
    }
   ],
   "source": [
    "model = xgb.XGBRegressor(random_state=100)\n",
    "param = {'max_depth':[3,5,7],\n",
    "         'min_child_weight':[1,3,6],\n",
    "         'n_estimators':[100,200,300],\n",
    "         'learning_rate':[0.01,0.05,0.1]\n",
    "        }\n",
    "grid_search = GridSearchCV(model, param_grid = param, cv = 5)\n",
    "grid_search.fit(X_train,Y_train)\n",
    "print(grid_search.best_params_)"
   ]
  },
  {
   "cell_type": "code",
   "execution_count": 25,
   "metadata": {
    "ExecuteTime": {
     "end_time": "2021-10-16T12:29:00.054318Z",
     "start_time": "2021-10-16T12:28:59.755118Z"
    }
   },
   "outputs": [],
   "source": [
    "# 创建xgboost\n",
    "model=xgb.XGBRegressor(n_estimators=300, min_child_weight=6, max_depth=7, learning_rate=0.05, random_state=100)\n",
    "\n",
    "# 拟合构造xgboost\n",
    "model.fit(X_train,Y_train)\n",
    "\n",
    "# 预测测试集中的因变量值\n",
    "Y_pred=model.predict(X_test)"
   ]
  },
  {
   "cell_type": "code",
   "execution_count": 26,
   "metadata": {
    "ExecuteTime": {
     "end_time": "2021-10-16T12:29:01.105555Z",
     "start_time": "2021-10-16T12:29:00.859212Z"
    }
   },
   "outputs": [
    {
     "data": {
      "image/png": "[encoded data removed]",
      "text/plain": [
       "<Figure size 1080x360 with 1 Axes>"
      ]
     },
     "metadata": {
      "needs_background": "light"
     },
     "output_type": "display_data"
    }
   ],
   "source": [
    "plt.figure(figsize=(15,5))#预测曲线与真实曲线做对比\n",
    "plt.plot(range(len(Y_pred)),Y_pred,'b',label=\"预测\")\n",
    "plt.plot(range(len(Y_pred)),Y_test,'r',label=\"实际\")\n",
    "plt.legend(loc=\"upper right\") #显示图中的标签\n",
    "plt.xlabel(\"the number of data\")\n",
    "plt.ylabel('value of numbers')\n",
    "plt.show()"
   ]
  },
  {
   "cell_type": "code",
   "execution_count": 27,
   "metadata": {
    "ExecuteTime": {
     "end_time": "2021-10-16T12:29:04.181278Z",
     "start_time": "2021-10-16T12:29:04.163312Z"
    }
   },
   "outputs": [
    {
     "name": "stdout",
     "output_type": "stream",
     "text": [
      "均方根误差RMSE:0.777\n",
      "平均绝对百分比误差MAPE:8.851%\n"
     ]
    }
   ],
   "source": [
    "#准确率\n",
    "print(\"均方根误差RMSE:{:.3f}\".format(np.sqrt(metrics.mean_squared_error(Y_test, Y_pred))))\n",
    "MAPE=np.mean(np.abs((Y_pred - Y_test) / Y_test)) * 100\n",
    "print(\"平均绝对百分比误差MAPE:{:.3f}%\".format(MAPE))"
   ]
  },
  {
   "cell_type": "markdown",
   "metadata": {},
   "source": [
    "#### 预测test中的值(选随机森林)"
   ]
  },
  {
   "cell_type": "code",
   "execution_count": 28,
   "metadata": {
    "ExecuteTime": {
     "end_time": "2021-10-16T12:35:58.908850Z",
     "start_time": "2021-10-16T12:35:58.738324Z"
    }
   },
   "outputs": [
    {
     "data": {
      "text/plain": [
       "RandomForestRegressor(max_depth=16, min_samples_leaf=2, n_estimators=108,\n",
       "                      random_state=100)"
      ]
     },
     "execution_count": 28,
     "metadata": {},
     "output_type": "execute_result"
    }
   ],
   "source": [
    "model = RandomForestRegressor(n_estimators=108, min_samples_leaf=2, max_depth=16, random_state=100)\n",
    "model.fit(X_train,Y_train)"
   ]
  },
  {
   "cell_type": "code",
   "execution_count": 29,
   "metadata": {
    "ExecuteTime": {
     "end_time": "2021-10-16T12:36:17.626442Z",
     "start_time": "2021-10-16T12:36:04.987361Z"
    }
   },
   "outputs": [],
   "source": [
    "data1=pd.read_excel(\"Molecular_Descriptor.xlsx\",sheet_name=1)"
   ]
  },
  {
   "cell_type": "code",
   "execution_count": 30,
   "metadata": {
    "ExecuteTime": {
     "end_time": "2021-10-16T12:36:18.867269Z",
     "start_time": "2021-10-16T12:36:18.858781Z"
    }
   },
   "outputs": [],
   "source": [
    "#20个筛选变量的列名\n",
    "names=['MDEC-23','C1SP2','maxHsOH','maxssO','BCUTc-1l','minsOH','minHBint5','VC-5',\n",
    "'ATSc3','TopoPSA','SHBint10','ndssC','XLogP','MDEC-33','ETA_Shape_Y','SHBint6','mindssC',\n",
    "'VCH-5','minHBa','ATSc5']                                             "
   ]
  },
  {
   "cell_type": "code",
   "execution_count": 31,
   "metadata": {
    "ExecuteTime": {
     "end_time": "2021-10-16T12:36:21.852995Z",
     "start_time": "2021-10-16T12:36:21.843001Z"
    }
   },
   "outputs": [],
   "source": [
    "data1=data1.loc[:,names]"
   ]
  },
  {
   "cell_type": "code",
   "execution_count": 32,
   "metadata": {
    "ExecuteTime": {
     "end_time": "2021-10-16T12:36:24.235023Z",
     "start_time": "2021-10-16T12:36:24.219427Z"
    }
   },
   "outputs": [],
   "source": [
    "data2=data1.iloc[:,0:17] #取前17个变量"
   ]
  },
  {
   "cell_type": "code",
   "execution_count": 33,
   "metadata": {
    "ExecuteTime": {
     "end_time": "2021-10-16T12:36:25.401118Z",
     "start_time": "2021-10-16T12:36:25.395136Z"
    }
   },
   "outputs": [],
   "source": [
    "x_test=data2 #预测集中的自变量"
   ]
  },
  {
   "cell_type": "code",
   "execution_count": 34,
   "metadata": {
    "ExecuteTime": {
     "end_time": "2021-10-16T12:37:53.565438Z",
     "start_time": "2021-10-16T12:37:53.553979Z"
    }
   },
   "outputs": [],
   "source": [
    "# 预测 预测集中的因变量值\n",
    "y_pred=model.predict(x_test)"
   ]
  },
  {
   "cell_type": "markdown",
   "metadata": {},
   "source": [
    "### 第三问"
   ]
  },
  {
   "cell_type": "markdown",
   "metadata": {},
   "source": [
    "#### 第一个"
   ]
  },
  {
   "cell_type": "markdown",
   "metadata": {},
   "source": [
    "重要性指标筛选"
   ]
  },
  {
   "cell_type": "code",
   "execution_count": 35,
   "metadata": {
    "ExecuteTime": {
     "end_time": "2021-10-16T13:50:29.632016Z",
     "start_time": "2021-10-16T13:50:29.618035Z"
    }
   },
   "outputs": [],
   "source": [
    "from sklearn.ensemble import RandomForestClassifier"
   ]
  },
  {
   "cell_type": "code",
   "execution_count": 36,
   "metadata": {
    "ExecuteTime": {
     "end_time": "2021-10-17T03:26:14.906637Z",
     "start_time": "2021-10-17T03:26:14.706810Z"
    }
   },
   "outputs": [],
   "source": [
    "dataThird1=pd.read_excel(\"ADMET.xlsx\")"
   ]
  },
  {
   "cell_type": "code",
   "execution_count": 37,
   "metadata": {
    "ExecuteTime": {
     "end_time": "2021-10-16T13:50:33.768348Z",
     "start_time": "2021-10-16T13:50:33.759791Z"
    }
   },
   "outputs": [],
   "source": [
    "Y1=dataThird1['Caco-2']"
   ]
  },
  {
   "cell_type": "code",
   "execution_count": 38,
   "metadata": {
    "ExecuteTime": {
     "end_time": "2021-10-16T13:50:36.219949Z",
     "start_time": "2021-10-16T13:50:35.265475Z"
    }
   },
   "outputs": [
    {
     "data": {
      "text/plain": [
       "RandomForestClassifier(max_depth=16, min_samples_leaf=2, n_estimators=108,\n",
       "                       random_state=100)"
      ]
     },
     "execution_count": 38,
     "metadata": {},
     "output_type": "execute_result"
    }
   ],
   "source": [
    "#建立随机森林分类模型\n",
    "feat_labels=dataFirst1.columns[1:]\n",
    "model=RandomForestClassifier(n_estimators=108, min_samples_leaf=2, max_depth=16, random_state=100)\n",
    "model.fit(dataFirst1.iloc[:,1:],Y1)"
   ]
  },
  {
   "cell_type": "code",
   "execution_count": 39,
   "metadata": {
    "ExecuteTime": {
     "end_time": "2021-10-16T13:50:37.046360Z",
     "start_time": "2021-10-16T13:50:36.985465Z"
    }
   },
   "outputs": [
    {
     "name": "stdout",
     "output_type": "stream",
     "text": [
      " 1) ETA_Eta_R_L                    0.034956\n",
      " 2) ETA_Beta_s                     0.031176\n",
      " 3) ETA_Eta_R                      0.026999\n",
      " 4) WPATH                          0.025128\n",
      " 5) WTPT-1                         0.024519\n",
      " 6) nHeavyAtom                     0.024443\n",
      " 7) MW                             0.024333\n",
      " 8) SP-1                           0.023925\n",
      " 9) MLFER_L                        0.021659\n",
      "10) CrippenMR                      0.020506\n",
      "11) ETA_Alpha                      0.017989\n",
      "12) ECCEN                          0.017857\n",
      "13) ETA_Beta                       0.016525\n",
      "14) sumI                           0.014836\n",
      "15) Kier1                          0.014354\n",
      "16) VP-0                           0.014245\n",
      "17) maxaaO                         0.013206\n",
      "18) VABC                           0.011985\n",
      "19) SaaO                           0.011323\n",
      "20) Kier2                          0.011177\n",
      "21) SP-2                           0.011058\n",
      "22) AMR                            0.010846\n",
      "23) VAdjMat                        0.009110\n",
      "24) minaaO                         0.008934\n",
      "25) ATSm1                          0.008882\n",
      "26) ATSm2                          0.008651\n",
      "27) TopoPSA                        0.007850\n",
      "28) VP-1                           0.007159\n",
      "29) ATSm3                          0.007047\n",
      "30) ETA_Eta_F_L                    0.006572\n",
      "31) SP-0                           0.006415\n",
      "32) MLFER_E                        0.006324\n",
      "33) SCH-5                          0.006148\n",
      "34) fragC                          0.006114\n",
      "35) Kier3                          0.006015\n",
      "36) nBondsM                        0.005592\n",
      "37) SP-3                           0.005533\n",
      "38) naAromAtom                     0.005424\n",
      "39) ETA_Eta_F                      0.005238\n",
      "40) FMF                            0.005159\n",
      "41) MLFER_S                        0.005147\n",
      "42) Zagreb                         0.005134\n",
      "43) ATSc1                          0.004765\n",
      "44) SHaaCH                         0.004394\n",
      "45) SP-6                           0.004127\n",
      "46) WPOL                           0.004068\n",
      "47) naaO                           0.004068\n",
      "48) nC                             0.003988\n",
      "49) MDEC-22                        0.003968\n",
      "50) SsCH3                          0.003945\n"
     ]
    }
   ],
   "source": [
    "#变量重要性\n",
    "importances=model.feature_importances_\n",
    "indices = np.argsort(importances)[::-1]\n",
    "for i in range(50):  # 打印前50个重要变量\n",
    "    print(\"%2d) %-*s %f\" % (i + 1, 30, feat_labels[indices[i]], importances[indices[i]]))"
   ]
  },
  {
   "cell_type": "code",
   "execution_count": 40,
   "metadata": {
    "ExecuteTime": {
     "end_time": "2021-10-16T13:50:41.439383Z",
     "start_time": "2021-10-16T13:50:41.425404Z"
    }
   },
   "outputs": [
    {
     "data": {
      "text/plain": [
       "0.5888153719897222"
      ]
     },
     "execution_count": 40,
     "metadata": {},
     "output_type": "execute_result"
    }
   ],
   "source": [
    "sum(importances[indices[0:50]]) #筛选后前50个贡献度总和"
   ]
  },
  {
   "cell_type": "code",
   "execution_count": 41,
   "metadata": {
    "ExecuteTime": {
     "end_time": "2021-10-16T13:50:42.884601Z",
     "start_time": "2021-10-16T13:50:42.865477Z"
    }
   },
   "outputs": [],
   "source": [
    "dataFirst5=dataFirst1.iloc[:,indices[0:50]+1]"
   ]
  },
  {
   "cell_type": "code",
   "execution_count": 42,
   "metadata": {
    "ExecuteTime": {
     "end_time": "2021-10-16T13:50:45.317040Z",
     "start_time": "2021-10-16T13:50:45.305468Z"
    }
   },
   "outputs": [],
   "source": [
    "data=dataFirst5"
   ]
  },
  {
   "cell_type": "markdown",
   "metadata": {},
   "source": [
    "随机森林分类"
   ]
  },
  {
   "cell_type": "code",
   "execution_count": 43,
   "metadata": {
    "ExecuteTime": {
     "end_time": "2021-10-16T13:50:46.396000Z",
     "start_time": "2021-10-16T13:50:46.376477Z"
    }
   },
   "outputs": [],
   "source": [
    "from sklearn.model_selection import train_test_split\n",
    "X_train,X_test,Y_train,Y_test=train_test_split(data,Y1,train_size=0.8,shuffle=True)#样本数据前80%做为训练集，后20%做为测试集"
   ]
  },
  {
   "cell_type": "code",
   "execution_count": 44,
   "metadata": {
    "ExecuteTime": {
     "end_time": "2021-10-16T13:50:46.914234Z",
     "start_time": "2021-10-16T13:50:46.905715Z"
    }
   },
   "outputs": [],
   "source": [
    "from sklearn.metrics import accuracy_score\n",
    "from sklearn.metrics import roc_auc_score,precision_recall_fscore_support"
   ]
  },
  {
   "cell_type": "code",
   "execution_count": 45,
   "metadata": {
    "ExecuteTime": {
     "end_time": "2021-10-16T13:50:48.242932Z",
     "start_time": "2021-10-16T13:50:47.968495Z"
    }
   },
   "outputs": [],
   "source": [
    "from sklearn.ensemble import RandomForestClassifier\n",
    "model=RandomForestClassifier(n_estimators=108, min_samples_leaf=2, max_depth=16, random_state=100)\n",
    "model.fit(X_train,Y_train)\n",
    "\n",
    "# 预测验证集中的因变量值\n",
    "Y_pred=model.predict(X_test)"
   ]
  },
  {
   "cell_type": "markdown",
   "metadata": {
    "ExecuteTime": {
     "end_time": "2021-10-16T08:32:03.831218Z",
     "start_time": "2021-10-16T08:32:03.824272Z"
    }
   },
   "source": [
    "评价指标"
   ]
  },
  {
   "cell_type": "code",
   "execution_count": 46,
   "metadata": {
    "ExecuteTime": {
     "end_time": "2021-10-16T13:50:52.088172Z",
     "start_time": "2021-10-16T13:50:52.072619Z"
    },
    "scrolled": true
   },
   "outputs": [
    {
     "name": "stdout",
     "output_type": "stream",
     "text": [
      "准确率Accuracy:0.898734\n",
      "精确率Precision:0.923077\n",
      "召回率Recall:0.915663\n",
      "F1 score:0.9193548387096774\n",
      "AUC:0.892763\n"
     ]
    }
   ],
   "source": [
    "print(\"准确率Accuracy:{:3f}\".format(accuracy_score(Y_test,Y_pred)))\n",
    "pre, rec, f1, sup = precision_recall_fscore_support(Y_test,Y_pred)\n",
    "print(\"精确率Precision:{:3f}\".format(pre[0]))\n",
    "print(\"召回率Recall:{:3f}\".format(rec[0]))\n",
    "print(\"F1 score:{}\".format(f1[0]))\n",
    "# 计算auc\n",
    "print(\"AUC:{:3f}\".format(roc_auc_score(Y_test,Y_pred)))"
   ]
  },
  {
   "cell_type": "markdown",
   "metadata": {},
   "source": [
    "XGBoost分类"
   ]
  },
  {
   "cell_type": "code",
   "execution_count": 47,
   "metadata": {
    "ExecuteTime": {
     "end_time": "2021-10-16T11:07:50.158709Z",
     "start_time": "2021-10-16T11:07:50.108843Z"
    }
   },
   "outputs": [],
   "source": [
    "import xgboost as xgb\n",
    "\n",
    "model=xgb.XGBClassifier(n_estimators=300, min_child_weight=6, max_depth=7, learning_rate=0.05, random_state=100)\n",
    "model.fit(X_train,Y_train)\n",
    "\n",
    "# 预测验证集中的因变量值\n",
    "Y_pred=model.predict(X_test)"
   ]
  },
  {
   "cell_type": "code",
   "execution_count": 48,
   "metadata": {
    "ExecuteTime": {
     "end_time": "2021-10-16T11:07:50.725344Z",
     "start_time": "2021-10-16T11:07:50.701381Z"
    }
   },
   "outputs": [
    {
     "name": "stdout",
     "output_type": "stream",
     "text": [
      "准确率Accuracy:0.886076\n",
      "精确率Precision:0.908000\n",
      "召回率Recall:0.911647\n",
      "F1 score:0.9098196392785571\n",
      "AUC:0.877056\n"
     ]
    }
   ],
   "source": [
    "print(\"准确率Accuracy:{:3f}\".format(accuracy_score(Y_test,Y_pred)))\n",
    "pre, rec, f1, sup = precision_recall_fscore_support(Y_test,Y_pred)\n",
    "print(\"精确率Precision:{:3f}\".format(pre[0]))\n",
    "print(\"召回率Recall:{:3f}\".format(rec[0]))\n",
    "print(\"F1 score:{}\".format(f1[0]))\n",
    "# 计算auc\n",
    "print(\"AUC:{:3f}\".format(roc_auc_score(Y_test,Y_pred)))"
   ]
  },
  {
   "cell_type": "markdown",
   "metadata": {
    "ExecuteTime": {
     "end_time": "2021-10-16T12:56:57.012783Z",
     "start_time": "2021-10-16T12:56:56.619793Z"
    }
   },
   "source": [
    "预测test中的值(选随机森林)"
   ]
  },
  {
   "cell_type": "code",
   "execution_count": 49,
   "metadata": {
    "ExecuteTime": {
     "end_time": "2021-10-16T13:51:10.346887Z",
     "start_time": "2021-10-16T13:50:57.313287Z"
    }
   },
   "outputs": [],
   "source": [
    "data1=pd.read_excel(\"Molecular_Descriptor.xlsx\",sheet_name=1)"
   ]
  },
  {
   "cell_type": "code",
   "execution_count": 50,
   "metadata": {
    "ExecuteTime": {
     "end_time": "2021-10-16T13:51:12.192977Z",
     "start_time": "2021-10-16T13:51:12.184745Z"
    }
   },
   "outputs": [],
   "source": [
    "x_test=data1[feat_labels[indices[0:50]]]  #测试集中的自变量"
   ]
  },
  {
   "cell_type": "code",
   "execution_count": 51,
   "metadata": {
    "ExecuteTime": {
     "end_time": "2021-10-16T13:51:13.516832Z",
     "start_time": "2021-10-16T13:51:13.497197Z"
    }
   },
   "outputs": [],
   "source": [
    "model=RandomForestClassifier(n_estimators=108, min_samples_leaf=2, max_depth=16, random_state=100)\n",
    "model.fit(X_train,Y_train)\n",
    "# 预测测试集中的因变量值\n",
    "y_pred=model.predict(x_test)"
   ]
  },
  {
   "cell_type": "markdown",
   "metadata": {},
   "source": [
    "#### 第二个"
   ]
  },
  {
   "cell_type": "code",
   "execution_count": 52,
   "metadata": {
    "ExecuteTime": {
     "end_time": "2021-10-16T13:11:06.416161Z",
     "start_time": "2021-10-16T13:11:06.402178Z"
    }
   },
   "outputs": [],
   "source": [
    "Y2=dataThird1['CYP3A4']"
   ]
  },
  {
   "cell_type": "code",
   "execution_count": 53,
   "metadata": {
    "ExecuteTime": {
     "end_time": "2021-10-16T13:11:08.827037Z",
     "start_time": "2021-10-16T13:11:07.954328Z"
    }
   },
   "outputs": [
    {
     "data": {
      "text/plain": [
       "RandomForestClassifier(max_depth=16, min_samples_leaf=2, n_estimators=108,\n",
       "                       random_state=100)"
      ]
     },
     "execution_count": 53,
     "metadata": {},
     "output_type": "execute_result"
    }
   ],
   "source": [
    "#建立随机森林分类模型\n",
    "feat_labels=dataFirst1.columns[1:]\n",
    "model=RandomForestClassifier(n_estimators=108, min_samples_leaf=2, max_depth=16, random_state=100)\n",
    "model.fit(dataFirst1.iloc[:,1:],Y2)"
   ]
  },
  {
   "cell_type": "code",
   "execution_count": 54,
   "metadata": {
    "ExecuteTime": {
     "end_time": "2021-10-16T13:11:10.023821Z",
     "start_time": "2021-10-16T13:11:09.962401Z"
    }
   },
   "outputs": [
    {
     "name": "stdout",
     "output_type": "stream",
     "text": [
      " 1) VP-7                           0.037079\n",
      " 2) Zagreb                         0.026913\n",
      " 3) VP-3                           0.026652\n",
      " 4) VP-2                           0.026359\n",
      " 5) VP-5                           0.021995\n",
      " 6) VP-4                           0.021982\n",
      " 7) ETA_Eta_L                      0.021861\n",
      " 8) SP-4                           0.021661\n",
      " 9) ETA_Beta_s                     0.021617\n",
      "10) ATSp2                          0.020543\n",
      "11) SP-3                           0.020089\n",
      "12) ETA_Eta_R                      0.019809\n",
      "13) WTPT-1                         0.019724\n",
      "14) VP-6                           0.018946\n",
      "15) ETA_Eta_R_L                    0.017901\n",
      "16) SP-7                           0.016451\n",
      "17) VABC                           0.014173\n",
      "18) VP-1                           0.013586\n",
      "19) ATSp3                          0.013290\n",
      "20) ATSp4                          0.012861\n",
      "21) apol                           0.011987\n",
      "22) SP-1                           0.011652\n",
      "23) VP-0                           0.011006\n",
      "24) SP-6                           0.009914\n",
      "25) MW                             0.009116\n",
      "26) ETA_Alpha                      0.008501\n",
      "27) bpol                           0.008406\n",
      "28) ECCEN                          0.008044\n",
      "29) nBondsS2                       0.007275\n",
      "30) nBonds                         0.007161\n",
      "31) minHsOH                        0.007147\n",
      "32) ETA_Eta                        0.007024\n",
      "33) VPC-6                          0.006971\n",
      "34) nBondsS                        0.006655\n",
      "35) ATSp1                          0.006631\n",
      "36) nAtom                          0.006551\n",
      "37) fragC                          0.005847\n",
      "38) minHBa                         0.005654\n",
      "39) McGowan_Volume                 0.005260\n",
      "40) VCH-6                          0.005201\n",
      "41) ATSp5                          0.005181\n",
      "42) WPOL                           0.005142\n",
      "43) nHeavyAtom                     0.004930\n",
      "44) Kier1                          0.004918\n",
      "45) ATSc1                          0.004879\n",
      "46) WPATH                          0.004711\n",
      "47) MLFER_BO                       0.004504\n",
      "48) SCH-6                          0.004438\n",
      "49) ETA_Eta_F_L                    0.004397\n",
      "50) SP-2                           0.004364\n"
     ]
    }
   ],
   "source": [
    "#变量重要性\n",
    "importances=model.feature_importances_\n",
    "indices = np.argsort(importances)[::-1]\n",
    "for i in range(50):  # 打印前50个重要变量\n",
    "    print(\"%2d) %-*s %f\" % (i + 1, 30, feat_labels[indices[i]], importances[indices[i]]))"
   ]
  },
  {
   "cell_type": "code",
   "execution_count": 55,
   "metadata": {
    "ExecuteTime": {
     "end_time": "2021-10-16T13:11:13.466314Z",
     "start_time": "2021-10-16T13:11:13.450180Z"
    }
   },
   "outputs": [
    {
     "data": {
      "text/plain": [
       "0.6169591362709528"
      ]
     },
     "execution_count": 55,
     "metadata": {},
     "output_type": "execute_result"
    }
   ],
   "source": [
    "sum(importances[indices[0:50]]) #筛选后前50个贡献度总和"
   ]
  },
  {
   "cell_type": "code",
   "execution_count": 56,
   "metadata": {
    "ExecuteTime": {
     "end_time": "2021-10-16T13:11:16.845543Z",
     "start_time": "2021-10-16T13:11:16.826028Z"
    }
   },
   "outputs": [],
   "source": [
    "dataFirst6=dataFirst1.iloc[:,indices[0:50]+1]\n",
    "data=dataFirst6"
   ]
  },
  {
   "cell_type": "code",
   "execution_count": 57,
   "metadata": {
    "ExecuteTime": {
     "end_time": "2021-10-16T13:11:19.426672Z",
     "start_time": "2021-10-16T13:11:19.410528Z"
    }
   },
   "outputs": [],
   "source": [
    "from sklearn.model_selection import train_test_split\n",
    "X_train,X_test,Y_train,Y_test=train_test_split(data,Y2,train_size=0.8,shuffle=True)#样本数据前80%做为训练集，后20%做为测试集"
   ]
  },
  {
   "cell_type": "code",
   "execution_count": 58,
   "metadata": {
    "ExecuteTime": {
     "end_time": "2021-10-16T13:08:19.078526Z",
     "start_time": "2021-10-16T13:08:18.753429Z"
    }
   },
   "outputs": [],
   "source": [
    "from sklearn.ensemble import RandomForestClassifier\n",
    "model=RandomForestClassifier(n_estimators=108, min_samples_leaf=2, max_depth=16, random_state=100)\n",
    "model.fit(X_train,Y_train)\n",
    "\n",
    "# 预测验证集中的因变量值\n",
    "Y_pred=model.predict(X_test)"
   ]
  },
  {
   "cell_type": "code",
   "execution_count": 59,
   "metadata": {
    "ExecuteTime": {
     "end_time": "2021-10-16T13:08:22.825413Z",
     "start_time": "2021-10-16T13:08:22.810596Z"
    }
   },
   "outputs": [
    {
     "name": "stdout",
     "output_type": "stream",
     "text": [
      "准确率Accuracy:0.921519\n",
      "精确率Precision:0.872881\n",
      "召回率Recall:0.865546\n",
      "F1 score:0.869198312236287\n",
      "AUC:0.905599\n"
     ]
    }
   ],
   "source": [
    "print(\"准确率Accuracy:{:3f}\".format(accuracy_score(Y_test,Y_pred)))\n",
    "pre, rec, f1, sup = precision_recall_fscore_support(Y_test,Y_pred)\n",
    "print(\"精确率Precision:{:3f}\".format(pre[0]))\n",
    "print(\"召回率Recall:{:3f}\".format(rec[0]))\n",
    "print(\"F1 score:{}\".format(f1[0]))\n",
    "# 计算auc\n",
    "print(\"AUC:{:3f}\".format(roc_auc_score(Y_test,Y_pred)))"
   ]
  },
  {
   "cell_type": "code",
   "execution_count": 60,
   "metadata": {
    "ExecuteTime": {
     "end_time": "2021-10-16T13:11:26.784824Z",
     "start_time": "2021-10-16T13:11:26.571379Z"
    }
   },
   "outputs": [],
   "source": [
    "import xgboost as xgb\n",
    "\n",
    "model=xgb.XGBClassifier(n_estimators=300, min_child_weight=6, max_depth=7, learning_rate=0.05, random_state=100)\n",
    "model.fit(X_train,Y_train)\n",
    "\n",
    "# 预测验证集中的因变量值\n",
    "Y_pred=model.predict(X_test)"
   ]
  },
  {
   "cell_type": "code",
   "execution_count": 61,
   "metadata": {
    "ExecuteTime": {
     "end_time": "2021-10-16T13:11:27.952499Z",
     "start_time": "2021-10-16T13:11:27.930857Z"
    }
   },
   "outputs": [
    {
     "name": "stdout",
     "output_type": "stream",
     "text": [
      "准确率Accuracy:0.936709\n",
      "精确率Precision:0.898305\n",
      "召回率Recall:0.890756\n",
      "F1 score:0.8945147679324895\n",
      "AUC:0.923639\n"
     ]
    }
   ],
   "source": [
    "print(\"准确率Accuracy:{:3f}\".format(accuracy_score(Y_test,Y_pred)))\n",
    "pre, rec, f1, sup = precision_recall_fscore_support(Y_test,Y_pred)\n",
    "print(\"精确率Precision:{:3f}\".format(pre[0]))\n",
    "print(\"召回率Recall:{:3f}\".format(rec[0]))\n",
    "print(\"F1 score:{}\".format(f1[0]))\n",
    "# 计算auc\n",
    "print(\"AUC:{:3f}\".format(roc_auc_score(Y_test,Y_pred)))"
   ]
  },
  {
   "cell_type": "markdown",
   "metadata": {},
   "source": [
    "预测test中的值(选随机森林)"
   ]
  },
  {
   "cell_type": "code",
   "execution_count": 62,
   "metadata": {
    "ExecuteTime": {
     "end_time": "2021-10-16T13:11:35.908054Z",
     "start_time": "2021-10-16T13:11:35.891077Z"
    }
   },
   "outputs": [],
   "source": [
    "x_test=data1[feat_labels[indices[0:50]]]  #预测集中的自变量\n",
    "\n",
    "model=RandomForestClassifier(n_estimators=108, min_samples_leaf=2, max_depth=16, random_state=100)\n",
    "model.fit(X_train,Y_train)\n",
    "\n",
    "# 预测测试集中的因变量值\n",
    "y_pred=model.predict(x_test)"
   ]
  },
  {
   "cell_type": "markdown",
   "metadata": {},
   "source": [
    "#### 第三个"
   ]
  },
  {
   "cell_type": "code",
   "execution_count": 63,
   "metadata": {
    "ExecuteTime": {
     "end_time": "2021-10-16T13:58:00.200060Z",
     "start_time": "2021-10-16T13:58:00.185098Z"
    }
   },
   "outputs": [],
   "source": [
    "Y3=dataThird1['hERG']"
   ]
  },
  {
   "cell_type": "code",
   "execution_count": 64,
   "metadata": {
    "ExecuteTime": {
     "end_time": "2021-10-16T13:58:02.746581Z",
     "start_time": "2021-10-16T13:58:01.753246Z"
    }
   },
   "outputs": [
    {
     "data": {
      "text/plain": [
       "RandomForestClassifier(max_depth=16, min_samples_leaf=2, n_estimators=108,\n",
       "                       random_state=100)"
      ]
     },
     "execution_count": 64,
     "metadata": {},
     "output_type": "execute_result"
    }
   ],
   "source": [
    "#建立随机森林分类模型\n",
    "feat_labels=dataFirst1.columns[1:]\n",
    "model=RandomForestClassifier(n_estimators=108, min_samples_leaf=2, max_depth=16, random_state=100)\n",
    "model.fit(dataFirst1.iloc[:,1:],Y3)"
   ]
  },
  {
   "cell_type": "code",
   "execution_count": 65,
   "metadata": {
    "ExecuteTime": {
     "end_time": "2021-10-16T13:58:02.809385Z",
     "start_time": "2021-10-16T13:58:02.748548Z"
    }
   },
   "outputs": [
    {
     "name": "stdout",
     "output_type": "stream",
     "text": [
      " 1) VP-0                           0.035117\n",
      " 2) CrippenMR                      0.033042\n",
      " 3) Kier1                          0.029636\n",
      " 4) SP-1                           0.024571\n",
      " 5) ETA_Eta_R                      0.023642\n",
      " 6) WPATH                          0.023616\n",
      " 7) ETA_Eta_R_L                    0.022437\n",
      " 8) Kier2                          0.019026\n",
      " 9) nHeavyAtom                     0.018935\n",
      "10) MLFER_L                        0.017653\n",
      "11) ETA_Beta_s                     0.016437\n",
      "12) ETA_Alpha                      0.015064\n",
      "13) ECCEN                          0.014810\n",
      "14) minsssN                        0.013440\n",
      "15) AMR                            0.012734\n",
      "16) bpol                           0.012273\n",
      "17) VABC                           0.012004\n",
      "18) VP-1                           0.011857\n",
      "19) MW                             0.011025\n",
      "20) Kier3                          0.010452\n",
      "21) nBonds2                        0.009936\n",
      "22) fragC                          0.009639\n",
      "23) VP-2                           0.009633\n",
      "24) ETA_Eta_L                      0.008684\n",
      "25) SP-0                           0.008261\n",
      "26) nAtom                          0.007231\n",
      "27) C1SP3                          0.007122\n",
      "28) minHsOH                        0.007084\n",
      "29) maxaaCH                        0.006894\n",
      "30) ETA_Beta                       0.006882\n",
      "31) VP-4                           0.006563\n",
      "32) SsOH                           0.006518\n",
      "33) nRotB                          0.006410\n",
      "34) McGowan_Volume                 0.006160\n",
      "35) WTPT-1                         0.005807\n",
      "36) nH                             0.005744\n",
      "37) SHsOH                          0.005723\n",
      "38) nBondsS                        0.005553\n",
      "39) maxHBd                         0.005198\n",
      "40) maxwHBa                        0.005198\n",
      "41) ATSc2                          0.005121\n",
      "42) minHBd                         0.005115\n",
      "43) BCUTc-1l                       0.004852\n",
      "44) SsssN                          0.004719\n",
      "45) ATSp2                          0.004535\n",
      "46) ETA_EtaP_F                     0.004408\n",
      "47) WPOL                           0.004342\n",
      "48) LipoaffinityIndex              0.004337\n",
      "49) maxsssN                        0.004289\n",
      "50) ETA_dEpsilon_B                 0.004280\n"
     ]
    }
   ],
   "source": [
    "#变量重要性\n",
    "importances=model.feature_importances_\n",
    "indices = np.argsort(importances)[::-1]\n",
    "for i in range(50):  # 打印前50个重要变量\n",
    "    print(\"%2d) %-*s %f\" % (i + 1, 30, feat_labels[indices[i]], importances[indices[i]]))"
   ]
  },
  {
   "cell_type": "code",
   "execution_count": 66,
   "metadata": {
    "ExecuteTime": {
     "end_time": "2021-10-16T13:58:05.213419Z",
     "start_time": "2021-10-16T13:58:05.202448Z"
    }
   },
   "outputs": [
    {
     "data": {
      "text/plain": [
       "0.5640058378620574"
      ]
     },
     "execution_count": 66,
     "metadata": {},
     "output_type": "execute_result"
    }
   ],
   "source": [
    "sum(importances[indices[0:50]]) #筛选后前50个贡献度总和"
   ]
  },
  {
   "cell_type": "code",
   "execution_count": 67,
   "metadata": {
    "ExecuteTime": {
     "end_time": "2021-10-16T13:58:06.287357Z",
     "start_time": "2021-10-16T13:58:06.281373Z"
    }
   },
   "outputs": [],
   "source": [
    "dataFirst7=dataFirst1.iloc[:,indices[0:50]+1]\n",
    "data=dataFirst7"
   ]
  },
  {
   "cell_type": "code",
   "execution_count": 68,
   "metadata": {
    "ExecuteTime": {
     "end_time": "2021-10-16T13:58:07.737155Z",
     "start_time": "2021-10-16T13:58:07.717025Z"
    }
   },
   "outputs": [],
   "source": [
    "from sklearn.model_selection import train_test_split\n",
    "X_train,X_test,Y_train,Y_test=train_test_split(data,Y3,train_size=0.8,shuffle=True)#样本数据前80%做为训练集，后20%做为测试集"
   ]
  },
  {
   "cell_type": "code",
   "execution_count": 69,
   "metadata": {
    "ExecuteTime": {
     "end_time": "2021-10-16T12:10:11.318051Z",
     "start_time": "2021-10-16T12:10:11.052063Z"
    }
   },
   "outputs": [],
   "source": [
    "from sklearn.ensemble import RandomForestClassifier\n",
    "model=RandomForestClassifier(n_estimators=108, min_samples_leaf=2, max_depth=16, random_state=100)\n",
    "model.fit(X_train,Y_train)\n",
    "\n",
    "# 预测验证集中的因变量值\n",
    "Y_pred=model.predict(X_test)"
   ]
  },
  {
   "cell_type": "code",
   "execution_count": 70,
   "metadata": {
    "ExecuteTime": {
     "end_time": "2021-10-16T12:10:11.942153Z",
     "start_time": "2021-10-16T12:10:11.923179Z"
    },
    "scrolled": true
   },
   "outputs": [
    {
     "name": "stdout",
     "output_type": "stream",
     "text": [
      "准确率Accuracy:0.893671\n",
      "精确率Precision:0.892857\n",
      "召回率Recall:0.862069\n",
      "F1 score:0.8771929824561403\n",
      "AUC:0.890311\n"
     ]
    }
   ],
   "source": [
    "print(\"准确率Accuracy:{:3f}\".format(accuracy_score(Y_test,Y_pred)))\n",
    "pre, rec, f1, sup = precision_recall_fscore_support(Y_test,Y_pred)\n",
    "print(\"精确率Precision:{:3f}\".format(pre[0]))\n",
    "print(\"召回率Recall:{:3f}\".format(rec[0]))\n",
    "print(\"F1 score:{}\".format(f1[0]))\n",
    "# 计算auc\n",
    "print(\"AUC:{:3f}\".format(roc_auc_score(Y_test,Y_pred)))"
   ]
  },
  {
   "cell_type": "code",
   "execution_count": 71,
   "metadata": {
    "ExecuteTime": {
     "end_time": "2021-10-16T13:58:11.785718Z",
     "start_time": "2021-10-16T13:58:11.537191Z"
    }
   },
   "outputs": [],
   "source": [
    "import xgboost as xgb\n",
    "\n",
    "model=xgb.XGBClassifier(n_estimators=300, min_child_weight=6, max_depth=7, learning_rate=0.05, random_state=100)\n",
    "model.fit(X_train,Y_train)\n",
    "\n",
    "# 预测验证集中的因变量值\n",
    "Y_pred=model.predict(X_test)"
   ]
  },
  {
   "cell_type": "code",
   "execution_count": 72,
   "metadata": {
    "ExecuteTime": {
     "end_time": "2021-10-16T13:58:12.541754Z",
     "start_time": "2021-10-16T13:58:12.520169Z"
    }
   },
   "outputs": [
    {
     "name": "stdout",
     "output_type": "stream",
     "text": [
      "准确率Accuracy:0.875949\n",
      "精确率Precision:0.861272\n",
      "召回率Recall:0.856322\n",
      "F1 score:0.8587896253602305\n",
      "AUC:0.873862\n"
     ]
    }
   ],
   "source": [
    "print(\"准确率Accuracy:{:3f}\".format(accuracy_score(Y_test,Y_pred)))\n",
    "pre, rec, f1, sup = precision_recall_fscore_support(Y_test,Y_pred)\n",
    "print(\"精确率Precision:{:3f}\".format(pre[0]))\n",
    "print(\"召回率Recall:{:3f}\".format(rec[0]))\n",
    "print(\"F1 score:{}\".format(f1[0]))\n",
    "# 计算auc\n",
    "print(\"AUC:{:3f}\".format(roc_auc_score(Y_test,Y_pred)))"
   ]
  },
  {
   "cell_type": "markdown",
   "metadata": {},
   "source": [
    "预测test中的值(选随机森林)"
   ]
  },
  {
   "cell_type": "code",
   "execution_count": 73,
   "metadata": {
    "ExecuteTime": {
     "end_time": "2021-10-16T13:19:17.984775Z",
     "start_time": "2021-10-16T13:19:17.953868Z"
    }
   },
   "outputs": [],
   "source": [
    "x_test=data1[feat_labels[indices[0:50]]]  #预测集中的自变量\n",
    "\n",
    "model=RandomForestClassifier(n_estimators=108, min_samples_leaf=2, max_depth=16, random_state=100)\n",
    "model.fit(X_train,Y_train)\n",
    "\n",
    "# 预测测试集中的因变量值\n",
    "y_pred=model.predict(x_test)"
   ]
  },
  {
   "cell_type": "markdown",
   "metadata": {},
   "source": [
    "#### 第四个"
   ]
  },
  {
   "cell_type": "code",
   "execution_count": 74,
   "metadata": {
    "ExecuteTime": {
     "end_time": "2021-10-16T13:58:23.788814Z",
     "start_time": "2021-10-16T13:58:23.775848Z"
    }
   },
   "outputs": [],
   "source": [
    "Y4=dataThird1['HOB']"
   ]
  },
  {
   "cell_type": "code",
   "execution_count": 75,
   "metadata": {
    "ExecuteTime": {
     "end_time": "2021-10-16T13:58:25.894594Z",
     "start_time": "2021-10-16T13:58:24.888061Z"
    }
   },
   "outputs": [
    {
     "data": {
      "text/plain": [
       "RandomForestClassifier(max_depth=16, min_samples_leaf=2, n_estimators=108,\n",
       "                       random_state=100)"
      ]
     },
     "execution_count": 75,
     "metadata": {},
     "output_type": "execute_result"
    }
   ],
   "source": [
    "#建立随机森林分类模型\n",
    "feat_labels=dataFirst1.columns[1:]\n",
    "model=RandomForestClassifier(n_estimators=108, min_samples_leaf=2, max_depth=16, random_state=100)\n",
    "model.fit(dataFirst1.iloc[:,1:],Y4)"
   ]
  },
  {
   "cell_type": "code",
   "execution_count": 76,
   "metadata": {
    "ExecuteTime": {
     "end_time": "2021-10-16T13:58:26.581000Z",
     "start_time": "2021-10-16T13:58:26.530159Z"
    }
   },
   "outputs": [
    {
     "name": "stdout",
     "output_type": "stream",
     "text": [
      " 1) BCUTc-1l                       0.042607\n",
      " 2) maxsOH                         0.030092\n",
      " 3) SsOH                           0.021309\n",
      " 4) maxHsOH                        0.021002\n",
      " 5) minsOH                         0.018852\n",
      " 6) SHsOH                          0.017836\n",
      " 7) minHsOH                        0.017459\n",
      " 8) nHsOH                          0.016137\n",
      " 9) MLFER_A                        0.012434\n",
      "10) BCUTp-1l                       0.010219\n",
      "11) hmin                           0.008027\n",
      "12) SHBd                           0.007807\n",
      "13) nsOH                           0.007329\n",
      "14) maxHBd                         0.007030\n",
      "15) VP-6                           0.006610\n",
      "16) MDEN-22                        0.006179\n",
      "17) VP-3                           0.006156\n",
      "18) nHBAcc                         0.005943\n",
      "19) minaasC                        0.005817\n",
      "20) maxdO                          0.005677\n",
      "21) ATSc3                          0.005648\n",
      "22) mindO                          0.005577\n",
      "23) SdO                            0.005494\n",
      "24) WTPT-5                         0.005481\n",
      "25) VP-5                           0.005295\n",
      "26) ETA_Shape_P                    0.005269\n",
      "27) MDEC-23                        0.004844\n",
      "28) ETA_Epsilon_5                  0.004825\n",
      "29) VP-4                           0.004825\n",
      "30) MDEC-33                        0.004797\n",
      "31) VP-7                           0.004695\n",
      "32) MAXDP                          0.004688\n",
      "33) minHBd                         0.004562\n",
      "34) maxHBint10                     0.004554\n",
      "35) WTPT-2                         0.004507\n",
      "36) maxssCH2                       0.004470\n",
      "37) WTPT-4                         0.004458\n",
      "38) ATSc2                          0.004425\n",
      "39) minwHBa                        0.004382\n",
      "40) maxssO                         0.004368\n",
      "41) MAXDN2                         0.004341\n",
      "42) MLFER_BO                       0.004284\n",
      "43) SwHBa                          0.004267\n",
      "44) VP-2                           0.004255\n",
      "45) minaaCH                        0.004229\n",
      "46) SCH-6                          0.004201\n",
      "47) ETA_EtaP_L                     0.004140\n",
      "48) SP-6                           0.004136\n",
      "49) MLFER_BH                       0.004132\n",
      "50) ETA_BetaP_s                    0.004038\n"
     ]
    }
   ],
   "source": [
    "#变量重要性\n",
    "importances=model.feature_importances_\n",
    "indices = np.argsort(importances)[::-1]\n",
    "for i in range(50):  # 打印前50个重要变量\n",
    "    print(\"%2d) %-*s %f\" % (i + 1, 30, feat_labels[indices[i]], importances[indices[i]]))"
   ]
  },
  {
   "cell_type": "code",
   "execution_count": 77,
   "metadata": {
    "ExecuteTime": {
     "end_time": "2021-10-16T13:58:31.006269Z",
     "start_time": "2021-10-16T13:58:31.001253Z"
    }
   },
   "outputs": [
    {
     "data": {
      "text/plain": [
       "0.413711036415215"
      ]
     },
     "execution_count": 77,
     "metadata": {},
     "output_type": "execute_result"
    }
   ],
   "source": [
    "sum(importances[indices[0:50]]) #筛选后前50个贡献度总和"
   ]
  },
  {
   "cell_type": "code",
   "execution_count": 78,
   "metadata": {
    "ExecuteTime": {
     "end_time": "2021-10-16T13:58:32.158223Z",
     "start_time": "2021-10-16T13:58:32.153213Z"
    }
   },
   "outputs": [],
   "source": [
    "dataFirst8=dataFirst1.iloc[:,indices[0:50]+1]\n",
    "data=dataFirst8"
   ]
  },
  {
   "cell_type": "code",
   "execution_count": 79,
   "metadata": {
    "ExecuteTime": {
     "end_time": "2021-10-16T13:58:33.059587Z",
     "start_time": "2021-10-16T13:58:33.041156Z"
    }
   },
   "outputs": [],
   "source": [
    "from sklearn.model_selection import train_test_split\n",
    "X_train,X_test,Y_train,Y_test=train_test_split(data,Y4,train_size=0.8,shuffle=True)#样本数据前80%做为训练集，后20%做为测试集"
   ]
  },
  {
   "cell_type": "code",
   "execution_count": 80,
   "metadata": {
    "ExecuteTime": {
     "end_time": "2021-10-16T13:58:34.977028Z",
     "start_time": "2021-10-16T13:58:34.849193Z"
    }
   },
   "outputs": [],
   "source": [
    "from sklearn.ensemble import RandomForestClassifier\n",
    "model=RandomForestClassifier(n_estimators=108, min_samples_leaf=2, max_depth=16, random_state=100)\n",
    "model.fit(X_train,Y_train)\n",
    "\n",
    "# 预测验证集中的因变量值\n",
    "Y_pred=model.predict(X_test)"
   ]
  },
  {
   "cell_type": "code",
   "execution_count": 81,
   "metadata": {
    "ExecuteTime": {
     "end_time": "2021-10-16T13:58:37.727242Z",
     "start_time": "2021-10-16T13:58:37.713255Z"
    }
   },
   "outputs": [
    {
     "name": "stdout",
     "output_type": "stream",
     "text": [
      "准确率Accuracy:0.883544\n",
      "精确率Precision:0.898734\n",
      "召回率Recall:0.953020\n",
      "F1 score:0.9250814332247557\n",
      "AUC:0.811562\n"
     ]
    }
   ],
   "source": [
    "print(\"准确率Accuracy:{:3f}\".format(accuracy_score(Y_test,Y_pred)))\n",
    "pre, rec, f1, sup = precision_recall_fscore_support(Y_test,Y_pred)\n",
    "print(\"精确率Precision:{:3f}\".format(pre[0]))\n",
    "print(\"召回率Recall:{:3f}\".format(rec[0]))\n",
    "print(\"F1 score:{}\".format(f1[0]))\n",
    "# 计算auc\n",
    "print(\"AUC:{:3f}\".format(roc_auc_score(Y_test,Y_pred)))"
   ]
  },
  {
   "cell_type": "code",
   "execution_count": 82,
   "metadata": {
    "ExecuteTime": {
     "end_time": "2021-10-16T13:58:40.742539Z",
     "start_time": "2021-10-16T13:58:40.505153Z"
    }
   },
   "outputs": [],
   "source": [
    "import xgboost as xgb\n",
    "\n",
    "model=xgb.XGBClassifier(n_estimators=300, min_child_weight=6, max_depth=7, learning_rate=0.05, random_state=100)\n",
    "model.fit(X_train,Y_train)\n",
    "\n",
    "# 预测验证集中的因变量值\n",
    "Y_pred=model.predict(X_test)"
   ]
  },
  {
   "cell_type": "code",
   "execution_count": 83,
   "metadata": {
    "ExecuteTime": {
     "end_time": "2021-10-16T13:58:41.617739Z",
     "start_time": "2021-10-16T13:58:41.593279Z"
    }
   },
   "outputs": [
    {
     "name": "stdout",
     "output_type": "stream",
     "text": [
      "准确率Accuracy:0.891139\n",
      "精确率Precision:0.899687\n",
      "召回率Recall:0.963087\n",
      "F1 score:0.930308\n",
      "AUC:0.816595\n"
     ]
    }
   ],
   "source": [
    "print(\"准确率Accuracy:{:3f}\".format(accuracy_score(Y_test,Y_pred)))\n",
    "pre, rec, f1, sup = precision_recall_fscore_support(Y_test,Y_pred)\n",
    "print(\"精确率Precision:{:3f}\".format(pre[0]))\n",
    "print(\"召回率Recall:{:3f}\".format(rec[0]))\n",
    "print(\"F1 score:{:3f}\".format(f1[0]))\n",
    "# 计算auc\n",
    "print(\"AUC:{:3f}\".format(roc_auc_score(Y_test,Y_pred)))"
   ]
  },
  {
   "cell_type": "markdown",
   "metadata": {},
   "source": [
    "预测test中的值(选XGBoost)"
   ]
  },
  {
   "cell_type": "code",
   "execution_count": 84,
   "metadata": {
    "ExecuteTime": {
     "end_time": "2021-10-16T13:59:03.637604Z",
     "start_time": "2021-10-16T13:59:03.609152Z"
    }
   },
   "outputs": [],
   "source": [
    "x_test=data1[feat_labels[indices[0:50]]]  #预测集中的自变量\n",
    "\n",
    "model=xgb.XGBClassifier(n_estimators=300, min_child_weight=6, max_depth=7, learning_rate=0.05, random_state=100)\n",
    "model.fit(X_train,Y_train)\n",
    "\n",
    "# 预测测试集中的因变量值\n",
    "y_pred=model.predict(x_test)"
   ]
  },
  {
   "cell_type": "markdown",
   "metadata": {},
   "source": [
    "#### 第五个"
   ]
  },
  {
   "cell_type": "code",
   "execution_count": 85,
   "metadata": {
    "ExecuteTime": {
     "end_time": "2021-10-16T13:32:00.625447Z",
     "start_time": "2021-10-16T13:32:00.617927Z"
    }
   },
   "outputs": [],
   "source": [
    "Y5=dataThird1['MN']"
   ]
  },
  {
   "cell_type": "code",
   "execution_count": 86,
   "metadata": {
    "ExecuteTime": {
     "end_time": "2021-10-16T13:32:02.523074Z",
     "start_time": "2021-10-16T13:32:01.562164Z"
    }
   },
   "outputs": [
    {
     "data": {
      "text/plain": [
       "RandomForestClassifier(max_depth=16, min_samples_leaf=2, n_estimators=108,\n",
       "                       random_state=100)"
      ]
     },
     "execution_count": 86,
     "metadata": {},
     "output_type": "execute_result"
    }
   ],
   "source": [
    "#建立随机森林分类模型\n",
    "feat_labels=dataFirst1.columns[1:]\n",
    "model=RandomForestClassifier(n_estimators=108, min_samples_leaf=2, max_depth=16, random_state=100)\n",
    "model.fit(dataFirst1.iloc[:,1:],Y5)"
   ]
  },
  {
   "cell_type": "code",
   "execution_count": 87,
   "metadata": {
    "ExecuteTime": {
     "end_time": "2021-10-16T13:32:03.270885Z",
     "start_time": "2021-10-16T13:32:03.225868Z"
    }
   },
   "outputs": [
    {
     "name": "stdout",
     "output_type": "stream",
     "text": [
      " 1) WTPT-5                         0.035125\n",
      " 2) WTPT-3                         0.028902\n",
      " 3) ETA_BetaP_s                    0.024316\n",
      " 4) ETA_Epsilon_4                  0.023523\n",
      " 5) TopoPSA                        0.022995\n",
      " 6) nHBAcc_Lipinski                0.021940\n",
      " 7) ETA_Epsilon_1                  0.020748\n",
      " 8) nN                             0.017431\n",
      " 9) ETA_dEpsilon_A                 0.014655\n",
      "10) ETA_BetaP                      0.013774\n",
      "11) nHBAcc                         0.013700\n",
      "12) nBondsD                        0.013101\n",
      "13) minHBa                         0.011704\n",
      "14) ETA_dEpsilon_C                 0.011194\n",
      "15) MLFER_E                        0.010984\n",
      "16) ETA_EtaP_L                     0.010945\n",
      "17) ETA_EtaP_F_L                   0.010734\n",
      "18) maxsCH3                        0.010298\n",
      "19) MLFER_S                        0.010005\n",
      "20) nHBAcc2                        0.009746\n",
      "21) ETA_EtaP_F                     0.009551\n",
      "22) maxHother                      0.009186\n",
      "23) mindssC                        0.008832\n",
      "24) FMF                            0.007952\n",
      "25) maxsssCH                       0.007762\n",
      "26) HybRatio                       0.007515\n",
      "27) ETA_dEpsilon_B                 0.007233\n",
      "28) ATSc2                          0.006879\n",
      "29) ETA_Epsilon_2                  0.006063\n",
      "30) VCH-7                          0.005961\n",
      "31) C4SP3                          0.005908\n",
      "32) maxdssC                        0.005814\n",
      "33) SHsOH                          0.005754\n",
      "34) minsCH3                        0.005403\n",
      "35) nssCH2                         0.005363\n",
      "36) ETA_Epsilon_5                  0.005284\n",
      "37) MLFER_BH                       0.005272\n",
      "38) BCUTc-1h                       0.005210\n",
      "39) SHBa                           0.005061\n",
      "40) ETA_Beta                       0.004886\n",
      "41) MDEO-12                        0.004886\n",
      "42) ETA_Beta_ns                    0.004848\n",
      "43) ETA_dPsi_A                     0.004760\n",
      "44) ETA_Eta_F_L                    0.004676\n",
      "45) ETA_BetaP_ns                   0.004630\n",
      "46) ETA_Eta_F                      0.004573\n",
      "47) XLogP                          0.004559\n",
      "48) SdssC                          0.004477\n",
      "49) MDEO-22                        0.004431\n",
      "50) ETA_EtaP_B_RC                  0.004427\n"
     ]
    }
   ],
   "source": [
    "#变量重要性\n",
    "importances=model.feature_importances_\n",
    "indices = np.argsort(importances)[::-1]\n",
    "for i in range(50):  # 打印前50个重要变量\n",
    "    print(\"%2d) %-*s %f\" % (i + 1, 30, feat_labels[indices[i]], importances[indices[i]]))"
   ]
  },
  {
   "cell_type": "code",
   "execution_count": 88,
   "metadata": {
    "ExecuteTime": {
     "end_time": "2021-10-16T13:32:06.747357Z",
     "start_time": "2021-10-16T13:32:06.730431Z"
    }
   },
   "outputs": [
    {
     "data": {
      "text/plain": [
       "0.5129764594450106"
      ]
     },
     "execution_count": 88,
     "metadata": {},
     "output_type": "execute_result"
    }
   ],
   "source": [
    "sum(importances[indices[0:50]]) #筛选后前50个贡献度总和"
   ]
  },
  {
   "cell_type": "code",
   "execution_count": 89,
   "metadata": {
    "ExecuteTime": {
     "end_time": "2021-10-16T13:32:08.509039Z",
     "start_time": "2021-10-16T13:32:08.496965Z"
    }
   },
   "outputs": [],
   "source": [
    "dataFirst9=dataFirst1.iloc[:,indices[0:50]+1]\n",
    "data=dataFirst9"
   ]
  },
  {
   "cell_type": "code",
   "execution_count": 90,
   "metadata": {
    "ExecuteTime": {
     "end_time": "2021-10-16T13:32:09.688377Z",
     "start_time": "2021-10-16T13:32:09.681853Z"
    }
   },
   "outputs": [],
   "source": [
    "from sklearn.model_selection import train_test_split\n",
    "X_train,X_test,Y_train,Y_test=train_test_split(data,Y5,train_size=0.8,shuffle=True)#样本数据前80%做为训练集，后20%做为测试集"
   ]
  },
  {
   "cell_type": "code",
   "execution_count": 91,
   "metadata": {
    "ExecuteTime": {
     "end_time": "2021-10-16T11:48:34.938094Z",
     "start_time": "2021-10-16T11:48:34.836080Z"
    }
   },
   "outputs": [],
   "source": [
    "from sklearn.ensemble import RandomForestClassifier\n",
    "model=RandomForestClassifier(n_estimators=108, min_samples_leaf=2, max_depth=16, random_state=100)\n",
    "model.fit(X_train,Y_train)\n",
    "\n",
    "# 预测验证集中的因变量值\n",
    "Y_pred=model.predict(X_test)"
   ]
  },
  {
   "cell_type": "code",
   "execution_count": 92,
   "metadata": {
    "ExecuteTime": {
     "end_time": "2021-10-16T11:48:35.388249Z",
     "start_time": "2021-10-16T11:48:35.371709Z"
    }
   },
   "outputs": [
    {
     "name": "stdout",
     "output_type": "stream",
     "text": [
      "准确率Accuracy:0.967089\n",
      "精确率Precision:0.977273\n",
      "召回率Recall:0.886598\n",
      "F1 score:0.9297297297297297\n",
      "AUC:0.939943\n"
     ]
    }
   ],
   "source": [
    "print(\"准确率Accuracy:{:3f}\".format(accuracy_score(Y_test,Y_pred)))\n",
    "pre, rec, f1, sup = precision_recall_fscore_support(Y_test,Y_pred)\n",
    "print(\"精确率Precision:{:3f}\".format(pre[0]))\n",
    "print(\"召回率Recall:{:3f}\".format(rec[0]))\n",
    "print(\"F1 score:{}\".format(f1[0]))\n",
    "# 计算auc\n",
    "print(\"AUC:{:3f}\".format(roc_auc_score(Y_test,Y_pred)))"
   ]
  },
  {
   "cell_type": "code",
   "execution_count": 93,
   "metadata": {
    "ExecuteTime": {
     "end_time": "2021-10-16T13:32:14.359983Z",
     "start_time": "2021-10-16T13:32:14.107640Z"
    }
   },
   "outputs": [],
   "source": [
    "import xgboost as xgb\n",
    "\n",
    "model=xgb.XGBClassifier(n_estimators=300, min_child_weight=6, max_depth=7, learning_rate=0.05, random_state=100)\n",
    "model.fit(X_train,Y_train)\n",
    "\n",
    "# 预测验证集中的因变量值\n",
    "Y_pred=model.predict(X_test)"
   ]
  },
  {
   "cell_type": "code",
   "execution_count": 94,
   "metadata": {
    "ExecuteTime": {
     "end_time": "2021-10-16T13:32:19.640505Z",
     "start_time": "2021-10-16T13:32:19.616540Z"
    }
   },
   "outputs": [
    {
     "name": "stdout",
     "output_type": "stream",
     "text": [
      "准确率Accuracy:0.977215\n",
      "精确率Precision:0.968085\n",
      "召回率Recall:0.938144\n",
      "F1 score:0.9528795811518325\n",
      "AUC:0.964039\n"
     ]
    }
   ],
   "source": [
    "print(\"准确率Accuracy:{:3f}\".format(accuracy_score(Y_test,Y_pred)))\n",
    "pre, rec, f1, sup = precision_recall_fscore_support(Y_test,Y_pred)\n",
    "print(\"精确率Precision:{:3f}\".format(pre[0]))\n",
    "print(\"召回率Recall:{:3f}\".format(rec[0]))\n",
    "print(\"F1 score:{}\".format(f1[0]))\n",
    "# 计算auc\n",
    "print(\"AUC:{:3f}\".format(roc_auc_score(Y_test,Y_pred)))"
   ]
  },
  {
   "cell_type": "markdown",
   "metadata": {},
   "source": [
    "预测test中的值(选XGBoost)"
   ]
  },
  {
   "cell_type": "code",
   "execution_count": 95,
   "metadata": {
    "ExecuteTime": {
     "end_time": "2021-10-16T13:32:30.293602Z",
     "start_time": "2021-10-16T13:32:30.273636Z"
    }
   },
   "outputs": [],
   "source": [
    "x_test=data1[feat_labels[indices[0:50]]]  #预测集中的自变量\n",
    "\n",
    "model=xgb.XGBClassifier(n_estimators=300, min_child_weight=6, max_depth=7, learning_rate=0.05, random_state=100)\n",
    "model.fit(X_train,Y_train)\n",
    "\n",
    "# 预测测试集中的因变量值\n",
    "y_pred=model.predict(x_test)"
   ]
  },
  {
   "cell_type": "markdown",
   "metadata": {},
   "source": [
    "### 第四问"
   ]
  },
  {
   "cell_type": "code",
   "execution_count": 96,
   "metadata": {
    "ExecuteTime": {
     "end_time": "2021-10-17T09:11:42.378485Z",
     "start_time": "2021-10-17T09:11:40.687194Z"
    }
   },
   "outputs": [],
   "source": [
    "dataResult=pd.read_excel(\"Molecular_Descriptor 筛选表.xls\")"
   ]
  },
  {
   "cell_type": "code",
   "execution_count": 97,
   "metadata": {
    "ExecuteTime": {
     "end_time": "2021-10-17T09:11:49.066497Z",
     "start_time": "2021-10-17T09:11:49.062536Z"
    }
   },
   "outputs": [],
   "source": [
    "import matplotlib.mlab as mlab\n",
    "from scipy.stats import norm"
   ]
  },
  {
   "cell_type": "code",
   "execution_count": 98,
   "metadata": {
    "ExecuteTime": {
     "end_time": "2021-10-17T11:37:47.307195Z",
     "start_time": "2021-10-17T11:37:47.088641Z"
    }
   },
   "outputs": [
    {
     "data": {
      "text/plain": [
       "[<matplotlib.lines.Line2D at 0x1219efa2160>]"
      ]
     },
     "execution_count": 98,
     "metadata": {},
     "output_type": "execute_result"
    },
    {
     "data": {
      "image/png": "[encoded data removed]",
      "text/plain": [
       "<Figure size 432x288 with 1 Axes>"
      ]
     },
     "metadata": {
      "needs_background": "light"
     },
     "output_type": "display_data"
    }
   ],
   "source": [
    "x=dataResult.iloc[:,1] #提取列变量 \n",
    "mu =np.mean(x) #计算均值 \n",
    "sigma =np.std(x) #计算标准差\n",
    "n, bins, patches = plt.hist(x,bins=30,density=1,facecolor='blue',alpha=0.6)\n",
    "y = norm.pdf(bins, mu, sigma) #拟合一条最佳正态分布曲线y \n",
    "plt.plot(bins, y, 'r') #绘制y的曲线 "
   ]
  },
  {
   "cell_type": "markdown",
   "metadata": {},
   "source": [
    "（μ-2σ，μ+2σ）"
   ]
  },
  {
   "cell_type": "code",
   "execution_count": 99,
   "metadata": {
    "ExecuteTime": {
     "end_time": "2021-10-17T11:22:15.022393Z",
     "start_time": "2021-10-17T11:22:15.008455Z"
    }
   },
   "outputs": [
    {
     "name": "stdout",
     "output_type": "stream",
     "text": [
      "变量C1SP2的(μ-2σ，μ+2σ）区间: (9.055,38.323)\n",
      "变量maxHsOH的(μ-2σ，μ+2σ）区间: (3.208,13.421)\n",
      "变量maxssO的(μ-2σ，μ+2σ）区间: (-0.817,1.524)\n",
      "变量BCUTc-1l的(μ-2σ，μ+2σ）区间: (0.059,0.893)\n",
      "变量minsOH的(μ-2σ，μ+2σ）区间: (13.393,36.006)\n",
      "变量minHBint5的(μ-2σ，μ+2σ）区间: (-125.558,1158.737)\n",
      "变量VC-5的(μ-2σ，μ+2σ）区间: (6.291,17.47)\n",
      "变量ATSc3的(μ-2σ，μ+2σ）区间: (9.215,28.398)\n",
      "变量TopoPSA的(μ-2σ，μ+2σ）区间: (2.006,9.657)\n",
      "变量SHBint10的(μ-2σ，μ+2σ）区间: (4.257,11.435)\n",
      "变量ndssC的(μ-2σ，μ+2σ）区间: (2.008,8.11)\n",
      "变量XLogP的(μ-2σ，μ+2σ）区间: (0.578,4.899)\n",
      "变量MDEC-33的(μ-2σ，μ+2σ）区间: (4.142,12.99)\n",
      "变量ETA_Shape_Y的(μ-2σ，μ+2σ）区间: (-0.406,-0.305)\n",
      "变量SHBint6的(μ-2σ，μ+2σ）区间: (-0.157,1.743)\n",
      "变量mindssC的(μ-2σ，μ+2σ）区间: (0.015,1.621)\n",
      "变量VCH-5的(μ-2σ，μ+2σ）区间: (-4.155,9.424)\n",
      "变量minHBa的(μ-2σ，μ+2σ）区间: (0.871,22.519)\n",
      "变量ATSc5的(μ-2σ，μ+2σ）区间: (0.55,0.655)\n"
     ]
    }
   ],
   "source": [
    "for i in range(1,20):\n",
    "    x=dataResult.iloc[:,i] #提取列变量 \n",
    "    mu =np.mean(x) #计算均值 \n",
    "    sigma =np.std(x) #计算标准差\n",
    "    print(\"变量\"+names[i]+\"的(μ-2σ，μ+2σ）区间: ({},{})\".format(round(mu-2*sigma,3),round(mu+2*sigma,3)))"
   ]
  }
 ],
 "metadata": {
  "kernelspec": {
   "display_name": "Python 3 (ipykernel)",
   "language": "python",
   "name": "python3"
  },
  "language_info": {
   "codemirror_mode": {
    "name": "ipython",
    "version": 3
   },
   "file_extension": ".py",
   "mimetype": "text/x-python",
   "name": "python",
   "nbconvert_exporter": "python",
   "pygments_lexer": "ipython3",
   "version": "3.9.12"
  }
 },
 "nbformat": 4,
 "nbformat_minor": 2
}
