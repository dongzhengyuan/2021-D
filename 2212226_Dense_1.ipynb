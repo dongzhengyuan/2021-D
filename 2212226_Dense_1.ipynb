{
 "cells": [
  {
   "cell_type": "markdown",
   "metadata": {},
   "source": [
    "### 一、用神经网络实现鸢尾花分类"
   ]
  },
  {
   "cell_type": "code",
   "execution_count": 2,
   "metadata": {
    "ExecuteTime": {
     "end_time": "2022-02-27T04:00:01.655482Z",
     "start_time": "2022-02-27T04:00:01.633175Z"
    }
   },
   "outputs": [],
   "source": [
    "#导入Keras模型库，定义模型结构\n",
    "from keras.models import Sequential  #导入顺序式模型\n",
    "model = Sequential()  #构造一个模型对象model"
   ]
  },
  {
   "cell_type": "code",
   "execution_count": 4,
   "metadata": {
    "ExecuteTime": {
     "end_time": "2022-02-27T04:00:05.936925Z",
     "start_time": "2022-02-27T04:00:05.838905Z"
    }
   },
   "outputs": [],
   "source": [
    "from keras.layers import Dense, Dropout  #导入层次库\n",
    "#通过堆叠层次来定义模型结构\n",
    "model.add(Dense(16, activation='relu', input_shape=(4,)))  #隐层1\n",
    "model.add(Dense(16, activation='relu'))  #隐层2\n",
    "model.add(Dropout(0.25))  #隐层2随机失活25%\n",
    "model.add(Dense(3, activation='softmax'))  #输出层"
   ]
  },
  {
   "cell_type": "code",
   "execution_count": 5,
   "metadata": {
    "ExecuteTime": {
     "end_time": "2022-02-27T04:00:43.882538Z",
     "start_time": "2022-02-27T04:00:43.787156Z"
    }
   },
   "outputs": [],
   "source": [
    "#编译网络模型\n",
    "model.compile(loss='categorical_crossentropy', optimizer='adam', metrics=[\"accuracy\"] )\n",
    "#'categorical_crossentropy':多分类交叉熵损失函数   'adam':梯度下降算法   'metrics':监控指标列表，分类问题一般关心精度"
   ]
  },
  {
   "cell_type": "code",
   "execution_count": 6,
   "metadata": {
    "ExecuteTime": {
     "end_time": "2022-02-27T04:00:45.411511Z",
     "start_time": "2022-02-27T04:00:44.917477Z"
    }
   },
   "outputs": [
    {
     "name": "stdout",
     "output_type": "stream",
     "text": [
      "   sepal length  sepal width  petal length  petal width        class\n",
      "0           5.1          3.5           1.4          0.2  Iris-setosa\n",
      "1           4.9          3.0           1.4          0.2  Iris-setosa\n",
      "2           4.7          3.2           1.3          0.2  Iris-setosa\n",
      "3           4.6          3.1           1.5          0.2  Iris-setosa\n",
      "4           5.0          3.6           1.4          0.2  Iris-setosa\n"
     ]
    }
   ],
   "source": [
    "#准备数据\n",
    "import pandas as pd\n",
    "from sklearn.model_selection import train_test_split\n",
    "data = pd.read_csv('D:\\\\2021-2022学年第一、二学期文件汇总\\\\第二学期文件\\\\深度学习与应用实践\\\\数据集\\\\Keras自带数据集\\\\iris.data.txt', header=None)\n",
    "data.columns = ['sepal length', 'sepal width', 'petal length', 'petal width', 'class']\n",
    "print(data.iloc[0:5,:])  #查看前5条数据"
   ]
  },
  {
   "cell_type": "code",
   "execution_count": 7,
   "metadata": {
    "ExecuteTime": {
     "end_time": "2022-02-27T04:00:46.288762Z",
     "start_time": "2022-02-27T04:00:46.263880Z"
    }
   },
   "outputs": [],
   "source": [
    "#数据特征X取值于前4列(数据中无编号列)\n",
    "X = data.iloc[:,0:4].values.astype(float)\n",
    "#将类名转换为整数\n",
    "data.loc[data['class'] == 'Iris-setosa', 'class'] = 0\n",
    "data.loc[data['class'] == 'Iris-versicolor', 'class'] = 1\n",
    "data.loc[data['class'] == 'Iris-virginica', 'class'] = 2\n",
    "#标签y取值于第5列\n",
    "y = data.iloc[:,4].values.astype(int)"
   ]
  },
  {
   "cell_type": "code",
   "execution_count": 8,
   "metadata": {
    "ExecuteTime": {
     "end_time": "2022-02-27T04:00:48.129260Z",
     "start_time": "2022-02-27T04:00:48.121261Z"
    }
   },
   "outputs": [],
   "source": [
    "#分割数据为训练集和测试集\n",
    "train_x, test_x, train_y, test_y = train_test_split(X, y, train_size=0.8, test_size=0.2, random_state=0)"
   ]
  },
  {
   "cell_type": "code",
   "execution_count": 9,
   "metadata": {
    "ExecuteTime": {
     "end_time": "2022-02-27T04:00:48.906449Z",
     "start_time": "2022-02-27T04:00:48.893047Z"
    }
   },
   "outputs": [
    {
     "name": "stdout",
     "output_type": "stream",
     "text": [
      "[[ 0.61303014  0.10850105  0.94751783  0.73603967]\n",
      " [-0.56776627 -0.12400121  0.38491447  0.34808318]\n",
      " [-0.80392556  1.03851009 -1.30289562 -1.3330616 ]\n",
      " [ 0.25879121 -0.12400121  0.60995581  0.73603967]\n",
      " [ 0.61303014 -0.58900572  1.00377816  1.25331499]]\n"
     ]
    }
   ],
   "source": [
    "#特征数据标准化，转换为均值0、标准差为1的分布\n",
    "mean = train_x.mean(axis=0)\n",
    "std = train_x.std(axis=0)\n",
    "train_x = (train_x-mean)/std\n",
    "test_x = (test_x-mean)/std  #测试集和验证中数据标准化，必须使用训练集中数据的均值和标准差\n",
    "print(train_x[0:5,:])"
   ]
  },
  {
   "cell_type": "code",
   "execution_count": 10,
   "metadata": {
    "ExecuteTime": {
     "end_time": "2022-02-27T04:00:51.153713Z",
     "start_time": "2022-02-27T04:00:51.127089Z"
    }
   },
   "outputs": [
    {
     "name": "stdout",
     "output_type": "stream",
     "text": [
      "前5条测试数据标签值: [2 1 0 2 0]\n",
      "前5条测试数据标签的独热码:\n",
      " [[0. 0. 1.]\n",
      " [0. 1. 0.]\n",
      " [1. 0. 0.]\n",
      " [0. 0. 1.]\n",
      " [1. 0. 0.]]\n"
     ]
    }
   ],
   "source": [
    "#将标签的结果类型转化为one-hot独热矩阵(多分类使用损失函数categorical_crossentropy ，标签必须为多类模式，即 one hot 编码的向量)\n",
    "from keras.utils import np_utils\n",
    "train_y_ohe = np_utils.to_categorical(train_y, 3)\n",
    "test_y_ohe = np_utils.to_categorical(test_y, 3)\n",
    "print(\"前5条测试数据标签值:\", test_y[0:5])\n",
    "print(\"前5条测试数据标签的独热码:\\n\", test_y_ohe[0:5])"
   ]
  },
  {
   "cell_type": "code",
   "execution_count": 11,
   "metadata": {
    "ExecuteTime": {
     "end_time": "2022-02-27T04:00:59.295524Z",
     "start_time": "2022-02-27T04:00:54.212472Z"
    }
   },
   "outputs": [
    {
     "name": "stdout",
     "output_type": "stream",
     "text": [
      "WARNING:tensorflow:From D:\\Anaconda3\\lib\\site-packages\\tensorflow\\python\\ops\\math_ops.py:3066: to_int32 (from tensorflow.python.ops.math_ops) is deprecated and will be removed in a future version.\n",
      "Instructions for updating:\n",
      "Use tf.cast instead.\n",
      "Train on 120 samples, validate on 30 samples\n",
      "Epoch 1/20\n",
      " - 1s - loss: 1.1010 - accuracy: 0.3500 - val_loss: 1.0736 - val_accuracy: 0.3667\n",
      "Epoch 2/20\n",
      " - 0s - loss: 1.0564 - accuracy: 0.5000 - val_loss: 1.0186 - val_accuracy: 0.7333\n",
      "Epoch 3/20\n",
      " - 0s - loss: 0.9683 - accuracy: 0.7167 - val_loss: 0.8634 - val_accuracy: 0.8000\n",
      "Epoch 4/20\n",
      " - 0s - loss: 0.7941 - accuracy: 0.7917 - val_loss: 0.6517 - val_accuracy: 0.7333\n",
      "Epoch 5/20\n",
      " - 0s - loss: 0.5670 - accuracy: 0.8500 - val_loss: 0.5359 - val_accuracy: 0.7333\n",
      "Epoch 6/20\n",
      " - 0s - loss: 0.4616 - accuracy: 0.8167 - val_loss: 0.4326 - val_accuracy: 0.8333\n",
      "Epoch 7/20\n",
      " - 0s - loss: 0.3636 - accuracy: 0.8917 - val_loss: 0.4226 - val_accuracy: 0.8000\n",
      "Epoch 8/20\n",
      " - 0s - loss: 0.3324 - accuracy: 0.9000 - val_loss: 0.2795 - val_accuracy: 0.9000\n",
      "Epoch 9/20\n",
      " - 0s - loss: 0.2907 - accuracy: 0.9000 - val_loss: 0.2252 - val_accuracy: 0.9333\n",
      "Epoch 10/20\n",
      " - 0s - loss: 0.2376 - accuracy: 0.9167 - val_loss: 0.1642 - val_accuracy: 1.0000\n",
      "Epoch 11/20\n",
      " - 0s - loss: 0.2398 - accuracy: 0.9250 - val_loss: 0.1311 - val_accuracy: 1.0000\n",
      "Epoch 12/20\n",
      " - 0s - loss: 0.2131 - accuracy: 0.9167 - val_loss: 0.1256 - val_accuracy: 0.9333\n",
      "Epoch 13/20\n",
      " - 0s - loss: 0.2296 - accuracy: 0.9083 - val_loss: 0.0793 - val_accuracy: 1.0000\n",
      "Epoch 14/20\n",
      " - 0s - loss: 0.1563 - accuracy: 0.9500 - val_loss: 0.1021 - val_accuracy: 1.0000\n",
      "Epoch 15/20\n",
      " - 0s - loss: 0.1613 - accuracy: 0.9333 - val_loss: 0.0553 - val_accuracy: 1.0000\n",
      "Epoch 16/20\n",
      " - 0s - loss: 0.1383 - accuracy: 0.9500 - val_loss: 0.0467 - val_accuracy: 1.0000\n",
      "Epoch 17/20\n",
      " - 0s - loss: 0.1465 - accuracy: 0.9583 - val_loss: 0.0452 - val_accuracy: 1.0000\n",
      "Epoch 18/20\n",
      " - 0s - loss: 0.0930 - accuracy: 0.9833 - val_loss: 0.0328 - val_accuracy: 1.0000\n",
      "Epoch 19/20\n",
      " - 0s - loss: 0.1102 - accuracy: 0.9500 - val_loss: 0.0282 - val_accuracy: 1.0000\n",
      "Epoch 20/20\n",
      " - 0s - loss: 0.1052 - accuracy: 0.9500 - val_loss: 0.0215 - val_accuracy: 1.0000\n"
     ]
    },
    {
     "data": {
      "text/plain": [
       "<keras.callbacks.callbacks.History at 0x1bb6e15b8c8>"
      ]
     },
     "execution_count": 11,
     "metadata": {},
     "output_type": "execute_result"
    }
   ],
   "source": [
    "#训练模型\n",
    "model.fit(train_x, train_y_ohe, epochs=20, batch_size=1, verbose=2, validation_data=(test_x,test_y_ohe))\n",
    "#epochs:迭代次数   batch_size:一次训练所抓取的数据样本数量  verbose:显示迭代过程   validation_data:验证集"
   ]
  },
  {
   "cell_type": "code",
   "execution_count": 12,
   "metadata": {
    "ExecuteTime": {
     "end_time": "2022-02-27T04:01:06.320534Z",
     "start_time": "2022-02-27T04:01:06.305176Z"
    }
   },
   "outputs": [
    {
     "name": "stdout",
     "output_type": "stream",
     "text": [
      "loss=0.021549079567193985, accuracy=1.0\n"
     ]
    }
   ],
   "source": [
    "#评估模型\n",
    "loss, accuracy = model.evaluate(test_x, test_y_ohe, verbose=2)\n",
    "print('loss={}, accuracy={}'.format(loss,accuracy))"
   ]
  },
  {
   "cell_type": "code",
   "execution_count": 13,
   "metadata": {
    "ExecuteTime": {
     "end_time": "2022-02-27T04:01:09.451489Z",
     "start_time": "2022-02-27T04:01:09.363278Z"
    }
   },
   "outputs": [
    {
     "name": "stdout",
     "output_type": "stream",
     "text": [
      "测试样本数: 30\n",
      "分类概率:\n",
      " [[1.30108732e-04 1.17401620e-02 9.88129735e-01]\n",
      " [1.96139468e-03 9.83630121e-01 1.44085074e-02]\n",
      " [9.99736845e-01 1.51401808e-04 1.11810376e-04]\n",
      " [1.55222908e-04 1.33581404e-02 9.86486673e-01]\n",
      " [9.99733865e-01 1.53527086e-04 1.12639056e-04]\n",
      " [1.10519053e-04 1.03057837e-02 9.89583671e-01]\n",
      " [9.99735057e-01 1.52698616e-04 1.12316528e-04]\n",
      " [2.31557665e-03 9.65813398e-01 3.18710841e-02]\n",
      " [2.34395056e-03 9.73973393e-01 2.36825775e-02]\n",
      " [2.96352291e-03 9.79488313e-01 1.75482407e-02]\n",
      " [7.63197837e-04 8.42684135e-02 9.14968431e-01]\n",
      " [2.20927433e-03 9.78612423e-01 1.91782843e-02]\n",
      " [2.31752917e-03 9.77661192e-01 2.00212859e-02]\n",
      " [2.39464128e-03 9.58709240e-01 3.88961583e-02]\n",
      " [2.52015283e-03 9.49719906e-01 4.77598906e-02]\n",
      " [9.99730051e-01 1.56250419e-04 1.13694223e-04]\n",
      " [2.92511052e-03 8.93834591e-01 1.03240289e-01]\n",
      " [2.14024261e-03 9.71220374e-01 2.66393293e-02]\n",
      " [9.99724805e-01 1.60037656e-04 1.15149174e-04]\n",
      " [9.99736011e-01 1.51896311e-04 1.12003552e-04]\n",
      " [3.02180415e-04 2.50569060e-02 9.74640965e-01]\n",
      " [2.43403553e-03 9.70538735e-01 2.70272028e-02]\n",
      " [9.99732196e-01 1.54653360e-04 1.13076385e-04]\n",
      " [9.99727070e-01 1.58441355e-04 1.14539049e-04]\n",
      " [5.13742212e-04 4.64149341e-02 9.53071356e-01]\n",
      " [9.99736488e-01 1.51568922e-04 1.11875714e-04]\n",
      " [9.99734581e-01 1.52997076e-04 1.12432645e-04]\n",
      " [2.86364672e-03 9.78943646e-01 1.81926880e-02]\n",
      " [1.82015973e-03 9.84205604e-01 1.39742214e-02]\n",
      " [9.99731362e-01 1.55236616e-04 1.13302114e-04]]\n"
     ]
    }
   ],
   "source": [
    "#查看预测结果，属于各类的概率\n",
    "classes = model.predict(test_x, batch_size=1, verbose=2)\n",
    "print('测试样本数:', len(classes))\n",
    "print('分类概率:\\n', classes)"
   ]
  },
  {
   "cell_type": "markdown",
   "metadata": {},
   "source": [
    "### 用神经网络实现手写数字识别"
   ]
  },
  {
   "cell_type": "markdown",
   "metadata": {},
   "source": [
    "#### 数据准备"
   ]
  },
  {
   "cell_type": "code",
   "execution_count": 14,
   "metadata": {
    "ExecuteTime": {
     "end_time": "2022-02-27T04:01:17.368454Z",
     "start_time": "2022-02-27T04:01:17.361184Z"
    }
   },
   "outputs": [],
   "source": [
    "from keras.datasets import mnist"
   ]
  },
  {
   "cell_type": "code",
   "execution_count": 15,
   "metadata": {
    "ExecuteTime": {
     "end_time": "2022-02-27T04:01:18.466424Z",
     "start_time": "2022-02-27T04:01:18.153269Z"
    }
   },
   "outputs": [],
   "source": [
    "(train_images, train_labels), (test_images, test_labels) = mnist.load_data() #导入数据"
   ]
  },
  {
   "cell_type": "code",
   "execution_count": 16,
   "metadata": {
    "ExecuteTime": {
     "end_time": "2022-02-27T04:01:19.226441Z",
     "start_time": "2022-02-27T04:01:19.217197Z"
    }
   },
   "outputs": [
    {
     "name": "stdout",
     "output_type": "stream",
     "text": [
      "训练集数据形状: (60000, 28, 28)\n",
      "测试集数据形状: (10000, 28, 28)\n",
      "训练集标签长度: 60000 训练集标签(前5个): [5 0 4 1 9]\n",
      "测试集标签长度: 10000 测试集标签(前5个): [7 2 1 0 4]\n"
     ]
    }
   ],
   "source": [
    "print('训练集数据形状:', train_images.shape)\n",
    "print('测试集数据形状:', test_images.shape)\n",
    "print('训练集标签长度:', len(train_labels), '训练集标签(前5个):', train_labels[0:5])\n",
    "print('测试集标签长度:', len(test_labels), '测试集标签(前5个):', test_labels[0:5])"
   ]
  },
  {
   "cell_type": "code",
   "execution_count": 17,
   "metadata": {
    "ExecuteTime": {
     "end_time": "2022-02-27T04:01:21.626677Z",
     "start_time": "2022-02-27T04:01:21.371198Z"
    }
   },
   "outputs": [],
   "source": [
    "#数据预处理\n",
    "train_images = train_images.reshape(60000, 28 * 28)  #训练集数据形状重置\n",
    "train_images = train_images.astype(float)/255  #归一化\n",
    "\n",
    "test_images = test_images.reshape(10000, 28 * 28)  #测试集数据形状重置\n",
    "test_images = test_images.astype(float)/255   #归一化"
   ]
  },
  {
   "cell_type": "code",
   "execution_count": 18,
   "metadata": {
    "ExecuteTime": {
     "end_time": "2022-02-27T04:01:22.490693Z",
     "start_time": "2022-02-27T04:01:22.469822Z"
    }
   },
   "outputs": [],
   "source": [
    "#独热编码\n",
    "from keras.utils import to_categorical\n",
    "\n",
    "train_labels = to_categorical(train_labels)\n",
    "test_labels = to_categorical(test_labels)"
   ]
  },
  {
   "cell_type": "markdown",
   "metadata": {},
   "source": [
    "#### 构建神经网络并预测"
   ]
  },
  {
   "cell_type": "code",
   "execution_count": 19,
   "metadata": {
    "ExecuteTime": {
     "end_time": "2022-02-27T04:01:24.875549Z",
     "start_time": "2022-02-27T04:01:24.867690Z"
    }
   },
   "outputs": [],
   "source": [
    "#导入Keras模型库，定义模型结构\n",
    "from keras.models import Sequential  #导入顺序式模型\n",
    "model = Sequential()  #构造一个模型对象model"
   ]
  },
  {
   "cell_type": "code",
   "execution_count": 20,
   "metadata": {
    "ExecuteTime": {
     "end_time": "2022-02-27T04:01:25.790151Z",
     "start_time": "2022-02-27T04:01:25.715292Z"
    }
   },
   "outputs": [],
   "source": [
    "from keras.layers import Dense, Dropout  #导入层次库\n",
    "#通过堆叠层次来定义模型结构\n",
    "model.add(Dense(512, activation='relu', input_shape=(28 * 28,)))  #隐层\n",
    "model.add(Dropout(0.25))  #隐层随机失活25%\n",
    "model.add(Dense(10, activation='softmax'))  #输出层"
   ]
  },
  {
   "cell_type": "code",
   "execution_count": 21,
   "metadata": {
    "ExecuteTime": {
     "end_time": "2022-02-27T04:01:26.775836Z",
     "start_time": "2022-02-27T04:01:26.688279Z"
    }
   },
   "outputs": [],
   "source": [
    "#编译网络模型\n",
    "model.compile(loss='categorical_crossentropy', optimizer='adam', metrics=[\"accuracy\"] )"
   ]
  },
  {
   "cell_type": "code",
   "execution_count": 22,
   "metadata": {
    "ExecuteTime": {
     "end_time": "2022-02-27T04:02:13.391686Z",
     "start_time": "2022-02-27T04:01:30.217223Z"
    }
   },
   "outputs": [
    {
     "name": "stdout",
     "output_type": "stream",
     "text": [
      "Epoch 1/10\n",
      " - 4s - loss: 0.2792 - accuracy: 0.9190\n",
      "Epoch 2/10\n",
      " - 4s - loss: 0.1202 - accuracy: 0.9645\n",
      "Epoch 3/10\n",
      " - 4s - loss: 0.0848 - accuracy: 0.9743\n",
      "Epoch 4/10\n",
      " - 4s - loss: 0.0656 - accuracy: 0.9795\n",
      "Epoch 5/10\n",
      " - 4s - loss: 0.0524 - accuracy: 0.9840\n",
      "Epoch 6/10\n",
      " - 4s - loss: 0.0423 - accuracy: 0.9865\n",
      "Epoch 7/10\n",
      " - 4s - loss: 0.0359 - accuracy: 0.9889\n",
      "Epoch 8/10\n",
      " - 4s - loss: 0.0322 - accuracy: 0.9898\n",
      "Epoch 9/10\n",
      " - 4s - loss: 0.0284 - accuracy: 0.9908\n",
      "Epoch 10/10\n",
      " - 4s - loss: 0.0242 - accuracy: 0.9922\n"
     ]
    },
    {
     "data": {
      "text/plain": [
       "<keras.callbacks.callbacks.History at 0x1bb003666c8>"
      ]
     },
     "execution_count": 22,
     "metadata": {},
     "output_type": "execute_result"
    }
   ],
   "source": [
    "#训练模型\n",
    "model.fit(train_images, train_labels, epochs=10, batch_size=100, verbose=2)"
   ]
  },
  {
   "cell_type": "code",
   "execution_count": 23,
   "metadata": {
    "ExecuteTime": {
     "end_time": "2022-02-27T04:02:21.647042Z",
     "start_time": "2022-02-27T04:02:21.245332Z"
    }
   },
   "outputs": [
    {
     "name": "stdout",
     "output_type": "stream",
     "text": [
      "loss=0.05924447892890312, accuracy=0.9818000197410583\n"
     ]
    }
   ],
   "source": [
    "#评估模型\n",
    "loss, accuracy = model.evaluate(test_images, test_labels, verbose=2)\n",
    "print('loss={}, accuracy={}'.format(loss,accuracy))"
   ]
  },
  {
   "cell_type": "code",
   "execution_count": 24,
   "metadata": {
    "ExecuteTime": {
     "end_time": "2022-02-27T04:02:26.839414Z",
     "start_time": "2022-02-27T04:02:26.455405Z"
    }
   },
   "outputs": [
    {
     "name": "stdout",
     "output_type": "stream",
     "text": [
      "测试样本数: 10000\n",
      "分类概率:\n",
      " [[9.76836168e-10 9.45367340e-10 1.70532473e-07 ... 9.99984741e-01\n",
      "  4.54643967e-09 1.81535199e-07]\n",
      " [5.28110444e-10 6.06754520e-06 9.99993920e-01 ... 4.90916420e-16\n",
      "  8.35108604e-09 1.48418129e-14]\n",
      " [6.89076032e-08 9.99727428e-01 1.38642345e-05 ... 9.76964511e-05\n",
      "  7.66004523e-05 8.99667896e-08]\n",
      " ...\n",
      " [5.04747516e-16 8.06594239e-14 1.96016892e-15 ... 2.20869381e-07\n",
      "  1.18813029e-10 4.65554386e-08]\n",
      " [5.63234570e-10 4.29574128e-12 2.48469339e-14 ... 1.07705962e-10\n",
      "  3.70525618e-06 3.15080392e-11]\n",
      " [4.50090676e-09 1.21598830e-13 3.13055359e-08 ... 4.08666868e-14\n",
      "  3.21960094e-08 1.72497953e-11]]\n"
     ]
    }
   ],
   "source": [
    "#查看预测结果，属于各类的概率\n",
    "classes = model.predict(test_images, batch_size=50, verbose=2)\n",
    "print('测试样本数:', len(classes))\n",
    "print('分类概率:\\n', classes)"
   ]
  }
 ],
 "metadata": {
  "kernelspec": {
   "display_name": "Python 3",
   "language": "python",
   "name": "python3"
  },
  "language_info": {
   "codemirror_mode": {
    "name": "ipython",
    "version": 3
   },
   "file_extension": ".py",
   "mimetype": "text/x-python",
   "name": "python",
   "nbconvert_exporter": "python",
   "pygments_lexer": "ipython3",
   "version": "3.7.0"
  }
 },
 "nbformat": 4,
 "nbformat_minor": 5
}
